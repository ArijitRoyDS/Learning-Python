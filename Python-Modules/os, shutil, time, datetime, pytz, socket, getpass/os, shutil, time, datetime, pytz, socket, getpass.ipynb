{
 "cells": [
  {
   "cell_type": "markdown",
   "id": "f46aeb92",
   "metadata": {},
   "source": [
    "# Python Modules: os, shutil, time, datetime, pytz, socket, getpass"
   ]
  },
  {
   "cell_type": "markdown",
   "id": "6664e610",
   "metadata": {},
   "source": [
    "# Time, Datetime, Pytz"
   ]
  },
  {
   "cell_type": "code",
   "execution_count": 1,
   "id": "8ca17c91",
   "metadata": {},
   "outputs": [
    {
     "name": "stdout",
     "output_type": "stream",
     "text": [
      "13   Jul   2022\n"
     ]
    }
   ],
   "source": [
    "# Get current date and time of current Timezone (Operating System Timezone)\n",
    "\n",
    "from datetime import datetime\n",
    "\n",
    "day = datetime.now().strftime('%d')\n",
    "month = datetime.now().strftime('%h')\n",
    "year = datetime.now().strftime('%Y')\n",
    "print(day, \" \", month, \" \", year)"
   ]
  },
  {
   "cell_type": "code",
   "execution_count": 2,
   "id": "88485155",
   "metadata": {},
   "outputs": [],
   "source": [
    "# Datetime Formats and their representation:\n",
    "\n",
    "# code       Meaning                                                 Example\n",
    "# %a\t     Abbreviated weekday name                                Sun, Mon\n",
    "# %A\t     Full weekday name                                       Sunday, Monday\n",
    "# %w\t     Weekday as decimal number                               0…6\n",
    "# %d\t     Day of the month as a zero-padded decimal               01, 02\n",
    "# %-d\t     day of the month as decimal number                      1, 2..\n",
    "# %b \t     Abbreviated month name                                  Jan, Feb\n",
    "# %m\t     month as a zero padded decimal number                   01, 02\n",
    "# %-m\t     month as a decimal number                               1, 2\n",
    "# %B \t     Full month name                                         January, February\n",
    "# %y\t     year without century as a zero padded decimal number    99, 00 \n",
    "# %-y\t     year without century as a decimal number                0, 99\n",
    "# %Y\t     year with century as a decimal number                   2000, 1999\n",
    "# %H\t     hour(24 hour clock) as a zero padded decimal number     01, 23\n",
    "# %-H\t     hour(24 hour clock) as a decimal number                 1, 23\n",
    "# %I\t     hour(12 hour clock) as a zero padded decimal number     01, 12\n",
    "# %-I\t     hour(12 hour clock) as a decimal number                 1, 12\n",
    "# %p\t     locale’s AM or PM                                       AM, PM\n",
    "# %M\t     Minute as a zero padded decimal number                  01, 59\n",
    "# %-M\t     Minute as a decimal number                              1, 59\n",
    "# %S\t     Second as a zero padded decimal number                  01, 59\n",
    "# %-S\t     Second as a decimal number                              1, 59\n",
    "# %f\t     microsecond as a zero padded decimal number             000000, 999999\n",
    "# %z\t     UTC offset in the form +HHMM or -HHMM \n",
    "# %Z\t     Time zone name\n",
    "# %j\t     day of the year as a zero padded decimal number         001, 365\n",
    "# %-j\t     day of the year as a decimal number                     1, 365\n",
    "# %U\t     Week number of the year (Sunday being the first)        0, 6\n",
    "# %W\t     Week number of the year                                 00, 53\n",
    "# %c\t     locale’s appropriate date and time representation       Mon Sep 30 07:06:05 2013\n",
    "# %x\t     locale’s appropriate date representation                11/30/98\n",
    "# %X\t     locale’s appropriate time representation                10:03:43\n",
    "# %%\t     A literal ‘%’ character                                 %\n",
    "\n",
    "# https://www.geeksforgeeks.org/python-datetime-strptime-function/"
   ]
  },
  {
   "cell_type": "code",
   "execution_count": 3,
   "id": "bdf7c563",
   "metadata": {},
   "outputs": [
    {
     "name": "stdout",
     "output_type": "stream",
     "text": [
      "['Africa/Abidjan', 'Africa/Accra', 'Africa/Addis_Ababa', 'Africa/Algiers', 'Africa/Asmara', 'Africa/Asmera', 'Africa/Bamako', 'Africa/Bangui', 'Africa/Banjul', 'Africa/Bissau', 'Africa/Blantyre', 'Africa/Brazzaville', 'Africa/Bujumbura', 'Africa/Cairo', 'Africa/Casablanca', 'Africa/Ceuta', 'Africa/Conakry', 'Africa/Dakar', 'Africa/Dar_es_Salaam', 'Africa/Djibouti', 'Africa/Douala', 'Africa/El_Aaiun', 'Africa/Freetown', 'Africa/Gaborone', 'Africa/Harare', 'Africa/Johannesburg', 'Africa/Juba', 'Africa/Kampala', 'Africa/Khartoum', 'Africa/Kigali', 'Africa/Kinshasa', 'Africa/Lagos', 'Africa/Libreville', 'Africa/Lome', 'Africa/Luanda', 'Africa/Lubumbashi', 'Africa/Lusaka', 'Africa/Malabo', 'Africa/Maputo', 'Africa/Maseru', 'Africa/Mbabane', 'Africa/Mogadishu', 'Africa/Monrovia', 'Africa/Nairobi', 'Africa/Ndjamena', 'Africa/Niamey', 'Africa/Nouakchott', 'Africa/Ouagadougou', 'Africa/Porto-Novo', 'Africa/Sao_Tome', 'Africa/Timbuktu', 'Africa/Tripoli', 'Africa/Tunis', 'Africa/Windhoek', 'America/Adak', 'America/Anchorage', 'America/Anguilla', 'America/Antigua', 'America/Araguaina', 'America/Argentina/Buenos_Aires', 'America/Argentina/Catamarca', 'America/Argentina/ComodRivadavia', 'America/Argentina/Cordoba', 'America/Argentina/Jujuy', 'America/Argentina/La_Rioja', 'America/Argentina/Mendoza', 'America/Argentina/Rio_Gallegos', 'America/Argentina/Salta', 'America/Argentina/San_Juan', 'America/Argentina/San_Luis', 'America/Argentina/Tucuman', 'America/Argentina/Ushuaia', 'America/Aruba', 'America/Asuncion', 'America/Atikokan', 'America/Atka', 'America/Bahia', 'America/Bahia_Banderas', 'America/Barbados', 'America/Belem', 'America/Belize', 'America/Blanc-Sablon', 'America/Boa_Vista', 'America/Bogota', 'America/Boise', 'America/Buenos_Aires', 'America/Cambridge_Bay', 'America/Campo_Grande', 'America/Cancun', 'America/Caracas', 'America/Catamarca', 'America/Cayenne', 'America/Cayman', 'America/Chicago', 'America/Chihuahua', 'America/Coral_Harbour', 'America/Cordoba', 'America/Costa_Rica', 'America/Creston', 'America/Cuiaba', 'America/Curacao', 'America/Danmarkshavn', 'America/Dawson', 'America/Dawson_Creek', 'America/Denver', 'America/Detroit', 'America/Dominica', 'America/Edmonton', 'America/Eirunepe', 'America/El_Salvador', 'America/Ensenada', 'America/Fort_Nelson', 'America/Fort_Wayne', 'America/Fortaleza', 'America/Glace_Bay', 'America/Godthab', 'America/Goose_Bay', 'America/Grand_Turk', 'America/Grenada', 'America/Guadeloupe', 'America/Guatemala', 'America/Guayaquil', 'America/Guyana', 'America/Halifax', 'America/Havana', 'America/Hermosillo', 'America/Indiana/Indianapolis', 'America/Indiana/Knox', 'America/Indiana/Marengo', 'America/Indiana/Petersburg', 'America/Indiana/Tell_City', 'America/Indiana/Vevay', 'America/Indiana/Vincennes', 'America/Indiana/Winamac', 'America/Indianapolis', 'America/Inuvik', 'America/Iqaluit', 'America/Jamaica', 'America/Jujuy', 'America/Juneau', 'America/Kentucky/Louisville', 'America/Kentucky/Monticello', 'America/Knox_IN', 'America/Kralendijk', 'America/La_Paz', 'America/Lima', 'America/Los_Angeles', 'America/Louisville', 'America/Lower_Princes', 'America/Maceio', 'America/Managua', 'America/Manaus', 'America/Marigot', 'America/Martinique', 'America/Matamoros', 'America/Mazatlan', 'America/Mendoza', 'America/Menominee', 'America/Merida', 'America/Metlakatla', 'America/Mexico_City', 'America/Miquelon', 'America/Moncton', 'America/Monterrey', 'America/Montevideo', 'America/Montreal', 'America/Montserrat', 'America/Nassau', 'America/New_York', 'America/Nipigon', 'America/Nome', 'America/Noronha', 'America/North_Dakota/Beulah', 'America/North_Dakota/Center', 'America/North_Dakota/New_Salem', 'America/Nuuk', 'America/Ojinaga', 'America/Panama', 'America/Pangnirtung', 'America/Paramaribo', 'America/Phoenix', 'America/Port-au-Prince', 'America/Port_of_Spain', 'America/Porto_Acre', 'America/Porto_Velho', 'America/Puerto_Rico', 'America/Punta_Arenas', 'America/Rainy_River', 'America/Rankin_Inlet', 'America/Recife', 'America/Regina', 'America/Resolute', 'America/Rio_Branco', 'America/Rosario', 'America/Santa_Isabel', 'America/Santarem', 'America/Santiago', 'America/Santo_Domingo', 'America/Sao_Paulo', 'America/Scoresbysund', 'America/Shiprock', 'America/Sitka', 'America/St_Barthelemy', 'America/St_Johns', 'America/St_Kitts', 'America/St_Lucia', 'America/St_Thomas', 'America/St_Vincent', 'America/Swift_Current', 'America/Tegucigalpa', 'America/Thule', 'America/Thunder_Bay', 'America/Tijuana', 'America/Toronto', 'America/Tortola', 'America/Vancouver', 'America/Virgin', 'America/Whitehorse', 'America/Winnipeg', 'America/Yakutat', 'America/Yellowknife', 'Antarctica/Casey', 'Antarctica/Davis', 'Antarctica/DumontDUrville', 'Antarctica/Macquarie', 'Antarctica/Mawson', 'Antarctica/McMurdo', 'Antarctica/Palmer', 'Antarctica/Rothera', 'Antarctica/South_Pole', 'Antarctica/Syowa', 'Antarctica/Troll', 'Antarctica/Vostok', 'Arctic/Longyearbyen', 'Asia/Aden', 'Asia/Almaty', 'Asia/Amman', 'Asia/Anadyr', 'Asia/Aqtau', 'Asia/Aqtobe', 'Asia/Ashgabat', 'Asia/Ashkhabad', 'Asia/Atyrau', 'Asia/Baghdad', 'Asia/Bahrain', 'Asia/Baku', 'Asia/Bangkok', 'Asia/Barnaul', 'Asia/Beirut', 'Asia/Bishkek', 'Asia/Brunei', 'Asia/Calcutta', 'Asia/Chita', 'Asia/Choibalsan', 'Asia/Chongqing', 'Asia/Chungking', 'Asia/Colombo', 'Asia/Dacca', 'Asia/Damascus', 'Asia/Dhaka', 'Asia/Dili', 'Asia/Dubai', 'Asia/Dushanbe', 'Asia/Famagusta', 'Asia/Gaza', 'Asia/Harbin', 'Asia/Hebron', 'Asia/Ho_Chi_Minh', 'Asia/Hong_Kong', 'Asia/Hovd', 'Asia/Irkutsk', 'Asia/Istanbul', 'Asia/Jakarta', 'Asia/Jayapura', 'Asia/Jerusalem', 'Asia/Kabul', 'Asia/Kamchatka', 'Asia/Karachi', 'Asia/Kashgar', 'Asia/Kathmandu', 'Asia/Katmandu', 'Asia/Khandyga', 'Asia/Kolkata', 'Asia/Krasnoyarsk', 'Asia/Kuala_Lumpur', 'Asia/Kuching', 'Asia/Kuwait', 'Asia/Macao', 'Asia/Macau', 'Asia/Magadan', 'Asia/Makassar', 'Asia/Manila', 'Asia/Muscat', 'Asia/Nicosia', 'Asia/Novokuznetsk', 'Asia/Novosibirsk', 'Asia/Omsk', 'Asia/Oral', 'Asia/Phnom_Penh', 'Asia/Pontianak', 'Asia/Pyongyang', 'Asia/Qatar', 'Asia/Qostanay', 'Asia/Qyzylorda', 'Asia/Rangoon', 'Asia/Riyadh', 'Asia/Saigon', 'Asia/Sakhalin', 'Asia/Samarkand', 'Asia/Seoul', 'Asia/Shanghai', 'Asia/Singapore', 'Asia/Srednekolymsk', 'Asia/Taipei', 'Asia/Tashkent', 'Asia/Tbilisi', 'Asia/Tehran', 'Asia/Tel_Aviv', 'Asia/Thimbu', 'Asia/Thimphu', 'Asia/Tokyo', 'Asia/Tomsk', 'Asia/Ujung_Pandang', 'Asia/Ulaanbaatar', 'Asia/Ulan_Bator', 'Asia/Urumqi', 'Asia/Ust-Nera', 'Asia/Vientiane', 'Asia/Vladivostok', 'Asia/Yakutsk', 'Asia/Yangon', 'Asia/Yekaterinburg', 'Asia/Yerevan', 'Atlantic/Azores', 'Atlantic/Bermuda', 'Atlantic/Canary', 'Atlantic/Cape_Verde', 'Atlantic/Faeroe', 'Atlantic/Faroe', 'Atlantic/Jan_Mayen', 'Atlantic/Madeira', 'Atlantic/Reykjavik', 'Atlantic/South_Georgia', 'Atlantic/St_Helena', 'Atlantic/Stanley', 'Australia/ACT', 'Australia/Adelaide', 'Australia/Brisbane', 'Australia/Broken_Hill', 'Australia/Canberra', 'Australia/Currie', 'Australia/Darwin', 'Australia/Eucla', 'Australia/Hobart', 'Australia/LHI', 'Australia/Lindeman', 'Australia/Lord_Howe', 'Australia/Melbourne', 'Australia/NSW', 'Australia/North', 'Australia/Perth', 'Australia/Queensland', 'Australia/South', 'Australia/Sydney', 'Australia/Tasmania', 'Australia/Victoria', 'Australia/West', 'Australia/Yancowinna', 'Brazil/Acre', 'Brazil/DeNoronha', 'Brazil/East', 'Brazil/West', 'CET', 'CST6CDT', 'Canada/Atlantic', 'Canada/Central', 'Canada/Eastern', 'Canada/Mountain', 'Canada/Newfoundland', 'Canada/Pacific', 'Canada/Saskatchewan', 'Canada/Yukon', 'Chile/Continental', 'Chile/EasterIsland', 'Cuba', 'EET', 'EST', 'EST5EDT', 'Egypt', 'Eire', 'Etc/GMT', 'Etc/GMT+0', 'Etc/GMT+1', 'Etc/GMT+10', 'Etc/GMT+11', 'Etc/GMT+12', 'Etc/GMT+2', 'Etc/GMT+3', 'Etc/GMT+4', 'Etc/GMT+5', 'Etc/GMT+6', 'Etc/GMT+7', 'Etc/GMT+8', 'Etc/GMT+9', 'Etc/GMT-0', 'Etc/GMT-1', 'Etc/GMT-10', 'Etc/GMT-11', 'Etc/GMT-12', 'Etc/GMT-13', 'Etc/GMT-14', 'Etc/GMT-2', 'Etc/GMT-3', 'Etc/GMT-4', 'Etc/GMT-5', 'Etc/GMT-6', 'Etc/GMT-7', 'Etc/GMT-8', 'Etc/GMT-9', 'Etc/GMT0', 'Etc/Greenwich', 'Etc/UCT', 'Etc/UTC', 'Etc/Universal', 'Etc/Zulu', 'Europe/Amsterdam', 'Europe/Andorra', 'Europe/Astrakhan', 'Europe/Athens', 'Europe/Belfast', 'Europe/Belgrade', 'Europe/Berlin', 'Europe/Bratislava', 'Europe/Brussels', 'Europe/Bucharest', 'Europe/Budapest', 'Europe/Busingen', 'Europe/Chisinau', 'Europe/Copenhagen', 'Europe/Dublin', 'Europe/Gibraltar', 'Europe/Guernsey', 'Europe/Helsinki', 'Europe/Isle_of_Man', 'Europe/Istanbul', 'Europe/Jersey', 'Europe/Kaliningrad', 'Europe/Kiev', 'Europe/Kirov', 'Europe/Lisbon', 'Europe/Ljubljana', 'Europe/London', 'Europe/Luxembourg', 'Europe/Madrid', 'Europe/Malta', 'Europe/Mariehamn', 'Europe/Minsk', 'Europe/Monaco', 'Europe/Moscow', 'Europe/Nicosia', 'Europe/Oslo', 'Europe/Paris', 'Europe/Podgorica', 'Europe/Prague', 'Europe/Riga', 'Europe/Rome', 'Europe/Samara', 'Europe/San_Marino', 'Europe/Sarajevo', 'Europe/Saratov', 'Europe/Simferopol', 'Europe/Skopje', 'Europe/Sofia', 'Europe/Stockholm', 'Europe/Tallinn', 'Europe/Tirane', 'Europe/Tiraspol', 'Europe/Ulyanovsk', 'Europe/Uzhgorod', 'Europe/Vaduz', 'Europe/Vatican', 'Europe/Vienna', 'Europe/Vilnius', 'Europe/Volgograd', 'Europe/Warsaw', 'Europe/Zagreb', 'Europe/Zaporozhye', 'Europe/Zurich', 'GB', 'GB-Eire', 'GMT', 'GMT+0', 'GMT-0', 'GMT0', 'Greenwich', 'HST', 'Hongkong', 'Iceland', 'Indian/Antananarivo', 'Indian/Chagos', 'Indian/Christmas', 'Indian/Cocos', 'Indian/Comoro', 'Indian/Kerguelen', 'Indian/Mahe', 'Indian/Maldives', 'Indian/Mauritius', 'Indian/Mayotte', 'Indian/Reunion', 'Iran', 'Israel', 'Jamaica', 'Japan', 'Kwajalein', 'Libya', 'MET', 'MST', 'MST7MDT', 'Mexico/BajaNorte', 'Mexico/BajaSur', 'Mexico/General', 'NZ', 'NZ-CHAT', 'Navajo', 'PRC', 'PST8PDT', 'Pacific/Apia', 'Pacific/Auckland', 'Pacific/Bougainville', 'Pacific/Chatham', 'Pacific/Chuuk', 'Pacific/Easter', 'Pacific/Efate', 'Pacific/Enderbury', 'Pacific/Fakaofo', 'Pacific/Fiji', 'Pacific/Funafuti', 'Pacific/Galapagos', 'Pacific/Gambier', 'Pacific/Guadalcanal', 'Pacific/Guam', 'Pacific/Honolulu', 'Pacific/Johnston', 'Pacific/Kanton', 'Pacific/Kiritimati', 'Pacific/Kosrae', 'Pacific/Kwajalein', 'Pacific/Majuro', 'Pacific/Marquesas', 'Pacific/Midway', 'Pacific/Nauru', 'Pacific/Niue', 'Pacific/Norfolk', 'Pacific/Noumea', 'Pacific/Pago_Pago', 'Pacific/Palau', 'Pacific/Pitcairn', 'Pacific/Pohnpei', 'Pacific/Ponape', 'Pacific/Port_Moresby', 'Pacific/Rarotonga', 'Pacific/Saipan', 'Pacific/Samoa', 'Pacific/Tahiti', 'Pacific/Tarawa', 'Pacific/Tongatapu', 'Pacific/Truk', 'Pacific/Wake', 'Pacific/Wallis', 'Pacific/Yap', 'Poland', 'Portugal', 'ROC', 'ROK', 'Singapore', 'Turkey', 'UCT', 'US/Alaska', 'US/Aleutian', 'US/Arizona', 'US/Central', 'US/East-Indiana', 'US/Eastern', 'US/Hawaii', 'US/Indiana-Starke', 'US/Michigan', 'US/Mountain', 'US/Pacific', 'US/Samoa', 'UTC', 'Universal', 'W-SU', 'WET', 'Zulu']\n"
     ]
    }
   ],
   "source": [
    "# Get a list of all time zones globally\n",
    "\n",
    "import pytz\n",
    "print(pytz.all_timezones)"
   ]
  },
  {
   "cell_type": "code",
   "execution_count": 4,
   "id": "ebcadc74",
   "metadata": {},
   "outputs": [
    {
     "name": "stdout",
     "output_type": "stream",
     "text": [
      "Wed Jul 13 09:35:37 2022\n"
     ]
    }
   ],
   "source": [
    "# Get current date and time of a particular timezone\n",
    "\n",
    "from datetime import datetime, timezone\n",
    "import pytz\n",
    "\n",
    "tz = pytz.timezone('Europe/Berlin')\n",
    "t = datetime.now(tz).strftime('%c')\n",
    "\n",
    "print(t)"
   ]
  },
  {
   "cell_type": "code",
   "execution_count": 5,
   "id": "555a546d",
   "metadata": {},
   "outputs": [
    {
     "data": {
      "text/plain": [
       "['_STRUCT_TM_ITEMS',\n",
       " '__doc__',\n",
       " '__loader__',\n",
       " '__name__',\n",
       " '__package__',\n",
       " '__spec__',\n",
       " 'altzone',\n",
       " 'asctime',\n",
       " 'ctime',\n",
       " 'daylight',\n",
       " 'get_clock_info',\n",
       " 'gmtime',\n",
       " 'localtime',\n",
       " 'mktime',\n",
       " 'monotonic',\n",
       " 'monotonic_ns',\n",
       " 'perf_counter',\n",
       " 'perf_counter_ns',\n",
       " 'process_time',\n",
       " 'process_time_ns',\n",
       " 'sleep',\n",
       " 'strftime',\n",
       " 'strptime',\n",
       " 'struct_time',\n",
       " 'thread_time',\n",
       " 'thread_time_ns',\n",
       " 'time',\n",
       " 'time_ns',\n",
       " 'timezone',\n",
       " 'tzname']"
      ]
     },
     "execution_count": 5,
     "metadata": {},
     "output_type": "execute_result"
    }
   ],
   "source": [
    "import time\n",
    "dir(time)"
   ]
  },
  {
   "cell_type": "code",
   "execution_count": 6,
   "id": "4915f142",
   "metadata": {},
   "outputs": [
    {
     "name": "stdout",
     "output_type": "stream",
     "text": [
      "Current Timezone:  ('India Standard Time', 'India Daylight Time')\n",
      "13:05:37\n"
     ]
    }
   ],
   "source": [
    "import time\n",
    "\n",
    "print(\"Current Timezone: \", time.tzname)\n",
    "\n",
    "current_time = time.strftime(\"%H:%M:%S\", time.localtime())\n",
    "print(current_time)"
   ]
  },
  {
   "cell_type": "code",
   "execution_count": 7,
   "id": "a6038fc1",
   "metadata": {},
   "outputs": [
    {
     "name": "stdout",
     "output_type": "stream",
     "text": [
      "Start Time =  13:05:37\n",
      "Stop Time =  13:05:42\n"
     ]
    }
   ],
   "source": [
    "import time\n",
    "current_time = time.strftime(\"%H:%M:%S\", time.localtime())\n",
    "print(\"Start Time = \", current_time)\n",
    "\n",
    "time.sleep(5)       # Adds a delay or sleep time of 5 seconds\n",
    "\n",
    "current_time = time.strftime(\"%H:%M:%S\", time.localtime())\n",
    "print(\"Stop Time = \", current_time)"
   ]
  },
  {
   "cell_type": "markdown",
   "id": "898977f6",
   "metadata": {},
   "source": [
    "# Socket and Getpass"
   ]
  },
  {
   "cell_type": "code",
   "execution_count": 8,
   "id": "0aaf5245",
   "metadata": {},
   "outputs": [
    {
     "name": "stdout",
     "output_type": "stream",
     "text": [
      "Your Local Hostname:  INBLRGTT2021067\n",
      "Your VCN ID:  a031828\n"
     ]
    }
   ],
   "source": [
    "import socket\n",
    "import getpass\n",
    "\n",
    "# Get your local Hostname and VCN ID\n",
    "print(\"Your Local Hostname: \", socket.gethostname())\n",
    "print(\"Your VCN ID: \", getpass.getuser())"
   ]
  },
  {
   "cell_type": "code",
   "execution_count": 10,
   "id": "2fcd411f",
   "metadata": {},
   "outputs": [
    {
     "name": "stdout",
     "output_type": "stream",
     "text": [
      "Password: ········\n",
      "123456\n"
     ]
    }
   ],
   "source": [
    "# Get password from the user as input without echoing it:\n",
    "import getpass\n",
    "pwd = getpass.getpass(prompt='Password: ')\n",
    "print(pwd)"
   ]
  },
  {
   "cell_type": "markdown",
   "id": "a5382d61",
   "metadata": {},
   "source": [
    "# OS"
   ]
  },
  {
   "cell_type": "code",
   "execution_count": 11,
   "id": "c623cef1",
   "metadata": {},
   "outputs": [
    {
     "name": "stdout",
     "output_type": "stream",
     "text": [
      "\n",
      "Current Working Directory Is:  C:\\Users\\A031828\\Desktop\\Github\\Python-Learning\\Python-Modules\\os, shutil, time, datetime, pytz, socket, getpass\n"
     ]
    }
   ],
   "source": [
    "import os\n",
    "\n",
    "# Get Current Working Directory Path\n",
    "d = os.getcwd()\n",
    "print(\"\\nCurrent Working Directory Is: \", d)"
   ]
  },
  {
   "cell_type": "code",
   "execution_count": 13,
   "id": "0a1d399f",
   "metadata": {},
   "outputs": [
    {
     "name": "stdout",
     "output_type": "stream",
     "text": [
      "\n",
      "List of contents in a specific Directory:  ['Acceleration_0-45', 'Others1', 'Others2', 'Time_To_Torque']\n"
     ]
    }
   ],
   "source": [
    "import os\n",
    "\n",
    "# List the contents of a directory\n",
    "path = \"temp/Alpha_Test\"\n",
    "dir_list = os.listdir(path)\n",
    "print(\"\\nList of contents in a specific Directory: \", dir_list)"
   ]
  },
  {
   "cell_type": "code",
   "execution_count": 16,
   "id": "52d5c9d6",
   "metadata": {},
   "outputs": [],
   "source": [
    "# Rename a file: os.rename(from, to)\n",
    "\n",
    "import os\n",
    "os.rename('temp\\\\File_Handling\\\\xyz.pdf', 'temp\\\\File_Handling\\\\xyz1.pdf')"
   ]
  },
  {
   "cell_type": "code",
   "execution_count": 17,
   "id": "d6b3a125",
   "metadata": {},
   "outputs": [],
   "source": [
    "# Remove/Delete a file\n",
    "\n",
    "import os\n",
    "os.remove('temp\\\\File_Handling\\\\abc1.pdf')"
   ]
  },
  {
   "cell_type": "code",
   "execution_count": 18,
   "id": "8263bcf4",
   "metadata": {},
   "outputs": [
    {
     "name": "stdout",
     "output_type": "stream",
     "text": [
      "Size of the file is:  1046191  Bytes\n"
     ]
    }
   ],
   "source": [
    "# Get size of a file\n",
    "\n",
    "import os\n",
    "size = os.path.getsize('temp\\\\File_Handling\\\\xyz1.pdf')\n",
    "print(\"Size of the file is: \", size, \" Bytes\")"
   ]
  },
  {
   "cell_type": "code",
   "execution_count": 19,
   "id": "495911cf",
   "metadata": {},
   "outputs": [
    {
     "name": "stdout",
     "output_type": "stream",
     "text": [
      "<class 'str'> \n",
      "\n",
      "\n",
      " Volume in drive C is OSDisk\n",
      " Volume Serial Number is 9E77-AE4D\n",
      "\n",
      " Directory of C:\\Users\\A031828\\Desktop\\Github\\Python-Learning\\Python-Modules\\os, shutil, time, datetime, pytz, socket, getpass\n",
      "\n",
      "13-07-2022  13:11    <DIR>          .\n",
      "13-07-2022  13:11    <DIR>          ..\n",
      "13-07-2022  13:07    <DIR>          .ipynb_checkpoints\n",
      "13-07-2022  13:11            29,930 os, shutil, time, datetime, pytz, socket, getpass.ipynb\n",
      "13-07-2022  13:08    <DIR>          temp\n",
      "               1 File(s)         29,930 bytes\n",
      "               4 Dir(s)  105,961,390,080 bytes free\n",
      "\n"
     ]
    }
   ],
   "source": [
    "import os\n",
    "\n",
    "# Save response from CMD command execution in a variable for further processing\n",
    "response = os.popen(\"dir\").read()    # \"dir\" is a common CMD command to list contents of a directory. \n",
    "                                     # In this case current working directory\n",
    "print(type(response), '\\n\\n')\n",
    "print(response)"
   ]
  },
  {
   "cell_type": "code",
   "execution_count": 20,
   "id": "ae68ae86",
   "metadata": {},
   "outputs": [
    {
     "name": "stdout",
     "output_type": "stream",
     "text": [
      "File launched successfully\n"
     ]
    }
   ],
   "source": [
    "# Launch a file\n",
    "\n",
    "import os\n",
    "\n",
    "if os.path.isfile(\"temp\\\\File_Handling\\\\Graph_Headers.xlsx\"):              # Check if a file exists in a given path\n",
    "    os.startfile(\"temp\\\\File_Handling\\\\Graph_Headers.xlsx\")                # Launch a file by specifying it's path \n",
    "    print(\"File launched successfully\")\n",
    "    \n",
    "else:\n",
    "    print(\"File does not exist in the specified path\")"
   ]
  },
  {
   "cell_type": "code",
   "execution_count": null,
   "id": "4d429441",
   "metadata": {},
   "outputs": [],
   "source": [
    "# Execute any Command Prompt Commands eg. Copy - Paste command\n",
    "\n",
    "import os\n",
    "copy = 'cmd /k \"copy C:\\\\temp\\\\File_Handling\\\\emob.pdf C:\\\\temp\\\\File_Handling\\\\New_Folder\\\\\"'   # Replace path with a valid path\n",
    "print(copy)\n",
    "os.system(copy)"
   ]
  },
  {
   "cell_type": "code",
   "execution_count": 21,
   "id": "f55bb318",
   "metadata": {},
   "outputs": [
    {
     "name": "stdout",
     "output_type": "stream",
     "text": [
      "temp\\File_Handling\\13-07-2022  13h 13m 06s\n",
      "temp\\File_Handling\\13-07-2022  13h 13m 06s Created successfully\n"
     ]
    }
   ],
   "source": [
    "# Create Directory with timestamp as directory name to save output files\n",
    "\n",
    "import time\n",
    "ts = time.strftime(\"%d-%m-%Y  %Hh %Mm %Ss\")               # Generate timestamp in user specified format\n",
    "path = \"temp\\\\File_Handling\\\\\" + ts                   # Specify the path where the directory should be created\n",
    "print(path)\n",
    "\n",
    "try:    \n",
    "    os.makedirs(path)\n",
    "    print(path, \"Created successfully\")\n",
    "except OSError:    \n",
    "    print(\"\\nFailed to create directory as it may already exist or you do not have required access rights\")"
   ]
  },
  {
   "cell_type": "code",
   "execution_count": 22,
   "id": "6e62e36e",
   "metadata": {},
   "outputs": [
    {
     "name": "stdout",
     "output_type": "stream",
     "text": [
      "Directory deleted successfully\n"
     ]
    }
   ],
   "source": [
    "# Delete an Empty Diectory\n",
    "\n",
    "import os\n",
    "\n",
    "try:    \n",
    "    os.rmdir(\"temp\\\\File_Handling\\\\Empty_Folder\")\n",
    "except OSError as e: \n",
    "    print(\"Error Code: \", e)\n",
    "    pass\n",
    "else:\n",
    "    print(\"Directory deleted successfully\")"
   ]
  },
  {
   "cell_type": "markdown",
   "id": "869d9c9c",
   "metadata": {},
   "source": [
    "# Shutil"
   ]
  },
  {
   "cell_type": "code",
   "execution_count": 23,
   "id": "b5be4b7c",
   "metadata": {},
   "outputs": [
    {
     "name": "stdout",
     "output_type": "stream",
     "text": [
      "Destination path: temp\\File_Handling\\copy_to\\emob.pdf\n"
     ]
    }
   ],
   "source": [
    "import shutil\n",
    "\n",
    "# Copy Files from one directory to another using shutil.copy\n",
    "source = \"temp\\\\File_Handling\\\\copy_from\\\\emob.pdf\"\n",
    "destination = \"temp\\\\File_Handling\\\\copy_to\\\\\"\n",
    "dest = shutil.copy(source, destination) \n",
    "print(\"Destination path:\", dest) "
   ]
  },
  {
   "cell_type": "code",
   "execution_count": 24,
   "id": "1e657c00",
   "metadata": {},
   "outputs": [
    {
     "name": "stdout",
     "output_type": "stream",
     "text": [
      "Directory and it's contents deleted successfully\n"
     ]
    }
   ],
   "source": [
    "import shutil\n",
    "\n",
    "# Delete Directory along with it's contents (Empty or Non-Empty)\n",
    "try:    \n",
    "    shutil.rmtree(\"temp\\\\File_Handling\\\\Non_Empty_Folder\")\n",
    "except OSError as e: \n",
    "    print(\"Error Code: \", e)\n",
    "else:\n",
    "    print(\"Directory and it's contents deleted successfully\")    "
   ]
  },
  {
   "cell_type": "code",
   "execution_count": 25,
   "id": "8cf3fa9b",
   "metadata": {},
   "outputs": [
    {
     "name": "stdout",
     "output_type": "stream",
     "text": [
      "File can be read only by owner.\n",
      "File access changed, can be read by others now.\n",
      "File can be written only by owner.\n"
     ]
    }
   ],
   "source": [
    "import os\n",
    "import stat\n",
    "\n",
    "# Change the state or Attributes of a file. \n",
    "# Here is a complete list of modes supported by Python\n",
    "\n",
    "# stat.S_IREAD : Read by owner.\n",
    "# stat.S_IWRITE : Write by owner.\n",
    "# stat.S_IEXEC : Execute by owner.\n",
    "# stat.S_IRWXU : Read, write, and execute by owner\n",
    "# stat.S_IRUSR : Read by owner\n",
    "# stat.S_IWUSR : Write by owner.\n",
    "# stat.S_IXUSR : Execute by owner.\n",
    "# stat.S_IRWXG : Read, write, and execute by group\n",
    "# stat.S_IRGRP : Read by group\n",
    "# stat.S_IWGRP : Write by group\n",
    "# stat.S_IXGRP : Execute by group\n",
    "# stat.S_IRWXO : Read, write, and execute by others.\n",
    "# stat.S_IROTH : Read by others\n",
    "# stat.S_IWOTH : Write by others\n",
    "# stat.S_IXOTH : Execute by others\n",
    "\n",
    "# Set given file mode as 'read by the owner'.\n",
    "os.chmod(\"temp\\\\File_Handling\\\\Test_File.xlsx\", stat.S_IREAD)\n",
    "print(\"File can be read only by owner.\")\n",
    "  \n",
    "# Set given file mode as 'read by others'.\n",
    "os.chmod(\"temp\\\\File_Handling\\\\Test_File.xlsx\", stat.S_IROTH)\n",
    "print(\"File access changed, can be read by others now.\")\n",
    "\n",
    "# Set given file mode as 'write by the owner'.\n",
    "os.chmod(\"temp\\\\File_Handling\\\\Test_File.xlsx\", stat.S_IWRITE)\n",
    "print(\"File can be written only by owner.\")"
   ]
  },
  {
   "cell_type": "code",
   "execution_count": 26,
   "id": "c16f06c1",
   "metadata": {},
   "outputs": [
    {
     "name": "stdout",
     "output_type": "stream",
     "text": [
      "Write access permitted on selected file\n"
     ]
    }
   ],
   "source": [
    "# Check if you have write access to a file\n",
    "\n",
    "import os\n",
    "filename = \"temp\\\\File_Handling\\\\Test_File.xlsx\"\n",
    "if os.access(filename, os.W_OK) == False:\n",
    "    print(\"Write access not permitted on this file as it is Read Only\")\n",
    "    \n",
    "else:\n",
    "    print(\"Write access permitted on selected file\")"
   ]
  },
  {
   "cell_type": "code",
   "execution_count": 27,
   "id": "766eca75",
   "metadata": {},
   "outputs": [
    {
     "name": "stdout",
     "output_type": "stream",
     "text": [
      "List of files in the directory:  ['02-06-2022  13h 18m 27s', '13-07-2022  13h 13m 06s', 'abc.pdf', 'copy_from', 'copy_to', 'emob.pdf', 'Graph_Headers.xlsx', 'New_Folder', 'Test_File.xlsx', 'xyz1.pdf']\n"
     ]
    }
   ],
   "source": [
    "import os\n",
    "\n",
    "#List all files and folders in a directory\n",
    "dir_name = \"temp\\\\File_Handling\"\n",
    "if os.path.isdir(dir_name):                                   # Check if a directory with the given path exists\n",
    "  files = os.listdir(dir_name)                                # Lists all file and folder names in a given directory \n",
    "                                                              # and save it as a Python list\n",
    "  print(\"List of files in the directory: \", files)"
   ]
  },
  {
   "cell_type": "code",
   "execution_count": 28,
   "id": "12a8c4ad",
   "metadata": {},
   "outputs": [
    {
     "name": "stdout",
     "output_type": "stream",
     "text": [
      "Excel File in Folder:  Graph_Headers.xlsx\n",
      "Excel File in Folder:  Test_File.xlsx\n"
     ]
    }
   ],
   "source": [
    "# Delete / Read files of a particular type in a directory\n",
    "\n",
    "for item in files:\n",
    "    if item.endswith(\".xlsx\"):\n",
    "        print(\"Excel File in Folder: \" , item)\n",
    "        #os.remove(os.path.join(dir_name, item))\n",
    "        \n",
    "    if item.endswith(\".png\"):\n",
    "        print(\"PNG File in Folder: \" , item)\n",
    "        #os.remove(os.path.join(dir_name, item))\n",
    "        \n",
    "    if item.endswith(\".TXT\"):\n",
    "        print(\"TEXT File in Folder: \" , item)\n",
    "        #os.remove(os.path.join(dir_name, item))  "
   ]
  },
  {
   "cell_type": "code",
   "execution_count": 29,
   "id": "0d02acb9",
   "metadata": {},
   "outputs": [
    {
     "name": "stdout",
     "output_type": "stream",
     "text": [
      "temp\\File_Handling\n",
      "\t ['02-06-2022  13h 18m 27s', '13-07-2022  13h 13m 06s', 'copy_from', 'copy_to', 'New_Folder']\n",
      "\t\t ['abc.pdf', 'emob.pdf', 'Graph_Headers.xlsx', 'Test_File.xlsx', 'xyz1.pdf']\n",
      "temp\\File_Handling\\02-06-2022  13h 18m 27s\n",
      "\t []\n",
      "\t\t []\n",
      "temp\\File_Handling\\13-07-2022  13h 13m 06s\n",
      "\t []\n",
      "\t\t []\n",
      "temp\\File_Handling\\copy_from\n",
      "\t []\n",
      "\t\t ['emob.pdf']\n",
      "temp\\File_Handling\\copy_to\n",
      "\t []\n",
      "\t\t ['emob.pdf']\n",
      "temp\\File_Handling\\New_Folder\n",
      "\t []\n",
      "\t\t ['emob.pdf']\n"
     ]
    }
   ],
   "source": [
    "# Traverse through a directory tree and return all the files and sub-directories within it\n",
    "\n",
    "import os\n",
    "for subdir, dirs, files in os.walk(\"temp\\\\File_Handling\"):\n",
    "    print(subdir)                                               # Prints the name of the main/sub directory\n",
    "    print('\\t', dirs)                                           # Prints the diectories inside the sub directory\n",
    "    print('\\t\\t', files)                                        # Prints the files inside the sub directory"
   ]
  },
  {
   "cell_type": "code",
   "execution_count": null,
   "id": "bfbf2a5e",
   "metadata": {},
   "outputs": [],
   "source": []
  },
  {
   "cell_type": "code",
   "execution_count": null,
   "id": "836e0545",
   "metadata": {},
   "outputs": [],
   "source": []
  }
 ],
 "metadata": {
  "kernelspec": {
   "display_name": "Python 3 (ipykernel)",
   "language": "python",
   "name": "python3"
  },
  "language_info": {
   "codemirror_mode": {
    "name": "ipython",
    "version": 3
   },
   "file_extension": ".py",
   "mimetype": "text/x-python",
   "name": "python",
   "nbconvert_exporter": "python",
   "pygments_lexer": "ipython3",
   "version": "3.9.7"
  }
 },
 "nbformat": 4,
 "nbformat_minor": 5
}
