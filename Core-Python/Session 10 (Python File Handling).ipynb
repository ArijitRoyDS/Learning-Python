{
 "cells": [
  {
   "cell_type": "markdown",
   "id": "3e21213d",
   "metadata": {},
   "source": [
    "# Python File Handling"
   ]
  },
  {
   "cell_type": "code",
   "execution_count": 1,
   "id": "99437a1d",
   "metadata": {
    "ExecuteTime": {
     "end_time": "2021-09-11T03:09:09.730113Z",
     "start_time": "2021-09-11T03:09:09.724661Z"
    },
    "id": "99437a1d"
   },
   "outputs": [],
   "source": [
    "# File Handling in Python\n",
    "# Types of files in Python\n",
    "# open() & close() function\n",
    "# Different modes in File Handling\n",
    "# seek() and tell() methods\n",
    "# 'with' method\n",
    "# Functions to read and write files"
   ]
  },
  {
   "cell_type": "code",
   "execution_count": 2,
   "id": "8be625f3",
   "metadata": {
    "id": "8be625f3"
   },
   "outputs": [],
   "source": [
    "# Text File - .py, .txt etc..\n",
    "# Binary file - image, video etc.."
   ]
  },
  {
   "cell_type": "code",
   "execution_count": 3,
   "id": "7069ffca",
   "metadata": {
    "ExecuteTime": {
     "end_time": "2021-09-11T03:16:09.134929Z",
     "start_time": "2021-09-11T03:16:09.130312Z"
    },
    "id": "7069ffca"
   },
   "outputs": [],
   "source": [
    "# To open the file - \n",
    "# f = open('file_path\\file_name.ext', 'mode') - returns a file pointer object\n",
    "# f.read()\n",
    "# f.write()\n",
    "# f.close()"
   ]
  },
  {
   "cell_type": "code",
   "execution_count": 4,
   "id": "0d069eea",
   "metadata": {
    "id": "0d069eea"
   },
   "outputs": [],
   "source": [
    "# Mode of operation on text file\n",
    "# Read mode - 'r' (default)\n",
    "# Write Mode - 'w'\n",
    "# Append mode - 'a'\n",
    "# Read and write mode - 'r+'\n",
    "# Write and read mode - 'w+'\n",
    "# Append and read mode - 'a+'\n",
    "\n",
    "# Mode of operation on binary file\n",
    "# Read mode - 'rb' (default)\n",
    "# Write Mode - 'wb'\n",
    "# Append mode - 'ab'\n",
    "# Read and write mode - 'r+b'\n",
    "# Write and read mode - 'w+b'\n",
    "# Append and read mode - 'a+b'"
   ]
  },
  {
   "cell_type": "code",
   "execution_count": 5,
   "id": "773268b4",
   "metadata": {
    "ExecuteTime": {
     "end_time": "2021-09-11T03:49:38.261194Z",
     "start_time": "2021-09-11T03:49:38.242628Z"
    },
    "id": "773268b4",
    "outputId": "22afaaf2-f34f-48b5-fa54-f4ea8133b6c4"
   },
   "outputs": [
    {
     "name": "stdout",
     "output_type": "stream",
     "text": [
      "File Attributes:  <_io.TextIOWrapper name='Sample_Files/my_file.txt' mode='r' encoding='cp1252'>\n",
      "<class '_io.TextIOWrapper'>\n"
     ]
    }
   ],
   "source": [
    "# Read mode - 'r'\n",
    "# If the file exist then it will open the file in read mode and places the cursor in the begining of the file.\n",
    "# If the file does not exist then it gives FileNotFoundError.\n",
    "# In this mode, we are allowed only to read from the file but not allowed to write into the file.\n",
    "\n",
    "#If the file exist\n",
    "f = open('Sample_Files/my_file.txt', 'r')\n",
    "print(\"File Attributes: \", f)\n",
    "print(type(f))"
   ]
  },
  {
   "cell_type": "code",
   "execution_count": 6,
   "id": "1d588d8b",
   "metadata": {},
   "outputs": [
    {
     "name": "stdout",
     "output_type": "stream",
     "text": [
      "Current Cursor Position:  0\n",
      "Moved to Cursor Position:  50\n",
      "Current Cursor Position:  50\n"
     ]
    }
   ],
   "source": [
    "# f.tell() method returns current position of file object. \n",
    "# This method takes no parameters and returns an integer value. \n",
    "# Initially file pointer points to the beginning of the file (if not opened in append mode)\n",
    "print(\"Current Cursor Position: \", f.tell()) \n",
    "\n",
    "# f.seek(index) - is used to move the cursor to specified position.\n",
    "print(\"Moved to Cursor Position: \", f.seek(50))\n",
    "print(\"Current Cursor Position: \", f.tell()) \n",
    "\n",
    "#f.write('Hello')         # UnsupportedOperation: not writable as file is open in read mode\n",
    "\n",
    "f.close()"
   ]
  },
  {
   "cell_type": "code",
   "execution_count": 7,
   "id": "5c04d762",
   "metadata": {},
   "outputs": [
    {
     "name": "stdout",
     "output_type": "stream",
     "text": [
      "Length of file contents:  100\n",
      "Contents of File:  Python is an easy to learn, powerful programming language. It has efficient high-level data structur\n",
      "Datatype of file contents:  <class 'str'>\n"
     ]
    }
   ],
   "source": [
    "# read() method - Reads the content of the entire file (by default) or the number of bytes specified\n",
    "\n",
    "f = open('Sample_Files/my_file.txt', 'r')\n",
    "\n",
    "# Read the contents of the entire file and returns it as 'str'\n",
    "# Size is Optional. The number of bytes to return. Default -1, which means the whole file.\n",
    "content = f.read(100)        \n",
    "print(\"Length of file contents: \", len(content))       \n",
    "print(\"Contents of File: \", content)\n",
    "print(\"Datatype of file contents: \", type(content))   "
   ]
  },
  {
   "cell_type": "code",
   "execution_count": 8,
   "id": "ee297d3d",
   "metadata": {},
   "outputs": [
    {
     "name": "stdout",
     "output_type": "stream",
     "text": [
      "Datatype of file contents:  <class 'str'>\n",
      "Length of first line:  172\n",
      "Contents of First Line:  Python is an easy to learn, powerful programming language. It has efficient high-level data structures and a simple but effective approach to object-oriented programming. \n",
      "\n"
     ]
    }
   ],
   "source": [
    "# readline() method - Returns one line at a time from the file\n",
    "# You can also specify how many bytes from the line to return, by using the size parameter.\n",
    "\n",
    "f = open('Sample_Files/my_file.txt', 'r')\n",
    "\n",
    "# reads the current line from current cursor position and returns a string object\n",
    "\n",
    "content = f.readline()\n",
    "print(\"Datatype of file contents: \", type(content))  \n",
    "print(\"Length of first line: \", len(content))       \n",
    "print(\"Contents of First Line: \", content)"
   ]
  },
  {
   "cell_type": "code",
   "execution_count": 9,
   "id": "1b8972ba",
   "metadata": {},
   "outputs": [
    {
     "name": "stdout",
     "output_type": "stream",
     "text": [
      "Length of second line:  50\n",
      "Contents of Second File:  Pythons elegant syntax and dynamic typing, togethe\n"
     ]
    }
   ],
   "source": [
    "# Read the first 50 bytes of the next line and returns it as 'str'\n",
    "content = f.readline(50)\n",
    "print(\"Length of second line: \", len(content))       \n",
    "print(\"Contents of Second File: \", content)"
   ]
  },
  {
   "cell_type": "code",
   "execution_count": 10,
   "id": "8699946a",
   "metadata": {},
   "outputs": [
    {
     "name": "stdout",
     "output_type": "stream",
     "text": [
      "Datatype of file contents:  <class 'list'>\n",
      "\n",
      "Number of elements in list / Number of lines in file:  8\n",
      "\n",
      "Contents of entire List:  ['Python is an easy to learn, powerful programming language. It has efficient high-level data structures and a simple but effective approach to object-oriented programming. \\n', 'Pythons elegant syntax and dynamic typing, together with its interpreted nature, make it an ideal language for scripting and rapid application development in many areas on most platforms.\\n', '\\n', 'The Python interpreter and the extensive standard library are freely available in source or binary form for all major platforms from the Python web site, https://www.python.org/, and may be freely distributed. \\n', 'The same site also contains distributions of and pointers to many free third party Python modules, programs and tools, and additional documentation.\\n', '\\n', 'The Python interpreter is easily extended with new functions and data types implemented in C or C++ (or other languages callable from C). \\n', 'Python is also suitable as an extension language for customizable applications.']\n",
      "\n"
     ]
    }
   ],
   "source": [
    "# readlines() method - Returns a list containing each line in the file as a list item\n",
    "\n",
    "f = open('Sample_Files/my_file.txt', 'r')\n",
    "\n",
    "# reads the whole content of the file from current cursor position and returns a list of strings \n",
    "# where each string represent a line.\n",
    "\n",
    "content = f.readlines()\n",
    "print(\"Datatype of file contents: \", type(content), end = '\\n\\n')  \n",
    "print(\"Number of elements in list / Number of lines in file: \", len(content), end = '\\n\\n')       \n",
    "print(\"Contents of entire List: \", content, end = '\\n\\n')"
   ]
  },
  {
   "cell_type": "code",
   "execution_count": 11,
   "id": "1a7df83e",
   "metadata": {},
   "outputs": [
    {
     "name": "stdout",
     "output_type": "stream",
     "text": [
      "Python is an easy to\n",
      "Pythons elegant syntax and dynamic\n",
      "\n",
      "The Python interpreter and the\n",
      "The same site also contains\n",
      "\n",
      "The Python interpreter is easily\n",
      "Python is also suitable as\n"
     ]
    }
   ],
   "source": [
    "# Print the first 5 words in each line:\n",
    "\n",
    "for i in content:\n",
    "    print(\" \".join(i.split()[0:5]))"
   ]
  },
  {
   "cell_type": "code",
   "execution_count": 12,
   "id": "a06bedd5",
   "metadata": {},
   "outputs": [
    {
     "ename": "FileNotFoundError",
     "evalue": "[Errno 2] No such file or directory: 'Sample_Files/my_mod.txt'",
     "output_type": "error",
     "traceback": [
      "\u001b[1;31m---------------------------------------------------------------------------\u001b[0m",
      "\u001b[1;31mFileNotFoundError\u001b[0m                         Traceback (most recent call last)",
      "\u001b[1;32m~\\AppData\\Local\\Temp/ipykernel_22068/296170707.py\u001b[0m in \u001b[0;36m<module>\u001b[1;34m\u001b[0m\n\u001b[0;32m      1\u001b[0m \u001b[1;31m# For 'r' and 'r+'', If the file does not exist: FileNotFoundError\u001b[0m\u001b[1;33m\u001b[0m\u001b[1;33m\u001b[0m\u001b[0m\n\u001b[1;32m----> 2\u001b[1;33m \u001b[0mf\u001b[0m \u001b[1;33m=\u001b[0m \u001b[0mopen\u001b[0m\u001b[1;33m(\u001b[0m\u001b[1;34m'Sample_Files/my_mod.txt'\u001b[0m\u001b[1;33m,\u001b[0m \u001b[1;34m'r'\u001b[0m\u001b[1;33m)\u001b[0m\u001b[1;33m\u001b[0m\u001b[1;33m\u001b[0m\u001b[0m\n\u001b[0m\u001b[0;32m      3\u001b[0m \u001b[0mf\u001b[0m\u001b[1;33m.\u001b[0m\u001b[0mclose\u001b[0m\u001b[1;33m(\u001b[0m\u001b[1;33m)\u001b[0m\u001b[1;33m\u001b[0m\u001b[1;33m\u001b[0m\u001b[0m\n",
      "\u001b[1;31mFileNotFoundError\u001b[0m: [Errno 2] No such file or directory: 'Sample_Files/my_mod.txt'"
     ]
    }
   ],
   "source": [
    "# For 'r' and 'r+'', If the file does not exist: FileNotFoundError\n",
    "f = open('Sample_Files/my_mod.txt', 'r')\n",
    "f.close()"
   ]
  },
  {
   "cell_type": "code",
   "execution_count": 13,
   "id": "18a8ded8",
   "metadata": {},
   "outputs": [
    {
     "name": "stdout",
     "output_type": "stream",
     "text": [
      "0\n",
      "Hellon is an easy to learn, powerful programming language. It has efficient high-level data structur\n"
     ]
    }
   ],
   "source": [
    "# Read and write mode - 'r+'\n",
    "# If the file exist then it will open the file in read mode and place the cursor in the begining of the file.\n",
    "# If the file does not exist then it gives FileNotFoundError.\n",
    "# In this mode, we are allowed to both read and write.\n",
    "\n",
    "f = open('Sample_Files/my_file_2.txt', 'r+')\n",
    "print(f.tell())\n",
    "f.write('Hello')\n",
    "f.seek(0)\n",
    "print(f.read(100))\n",
    "f.close()\n",
    "\n",
    "# In r+ mode, when we try to write some content to the file, \n",
    "# it over writes the content (Replaces the content from current cursor position).\n",
    "# It does not add/append the content."
   ]
  },
  {
   "cell_type": "code",
   "execution_count": 14,
   "id": "a0e611b4",
   "metadata": {
    "ExecuteTime": {
     "end_time": "2021-09-11T04:00:43.854876Z",
     "start_time": "2021-09-11T04:00:43.842789Z"
    },
    "id": "a0e611b4"
   },
   "outputs": [
    {
     "name": "stdout",
     "output_type": "stream",
     "text": [
      "0\n",
      "177\n",
      "354\n"
     ]
    }
   ],
   "source": [
    "# Write mode - 'w'\n",
    "# If the file exist then it will open the file in write mode and deletes the content of the file.\n",
    "# If the file does not exist then it will create a file with the given name.\n",
    "# In this mode, we are allowed only to write into the file but not allowed to read from the file.\n",
    "\n",
    "f = open('Sample_Files/my_file_3.txt', 'w')\n",
    "print(f.tell())\n",
    "# print(f.read())                                         # Unsupported operation\n",
    "\n",
    "f.write('''If the file exist then it \n",
    "will open the file in write mode and \n",
    "deletes the content of the file.\n",
    "If the file does not exist then it \n",
    "will create a file with the given name.''')\n",
    "\n",
    "print(f.tell())\n",
    "\n",
    "f.write('''If the file exist then it \n",
    "will open the file in write mode and \n",
    "deletes the content of the file.\n",
    "If the file does not exist then it \n",
    "will create a file with the given name.''')\n",
    "\n",
    "print(f.tell())\n",
    "\n",
    "f.close()"
   ]
  },
  {
   "cell_type": "code",
   "execution_count": 15,
   "id": "e8048af8",
   "metadata": {},
   "outputs": [
    {
     "name": "stdout",
     "output_type": "stream",
     "text": [
      "0\n",
      "\n",
      "177\n",
      "\n",
      "If the file exist then it \n",
      "will open the file in write mode and \n",
      "deletes the content of the file.\n",
      "If the file does not exist then it \n",
      "will create a file with the given name.\n"
     ]
    }
   ],
   "source": [
    "# Write and read mode - 'w+'\n",
    "# If the file exist then it will open the file in write mode and deletes the content of the file.\n",
    "# If the file does not exist then it will create a file with the given name.\n",
    "# In this mode, we are allowed to read and write both.\n",
    "\n",
    "f = open('Sample_Files/my_file_4.txt', 'w+')\n",
    "print(f.tell())     # Prints current cursor position\n",
    "print(f.read())     # Prints an empty line as the file is empty\n",
    "\n",
    "f.write('''If the file exist then it \n",
    "will open the file in write mode and \n",
    "deletes the content of the file.\n",
    "If the file does not exist then it \n",
    "will create a file with the given name.''')\n",
    "\n",
    "print(f.tell())     # Prints the current cursor position after writing the above text to the file\n",
    "print(f.read())     # Prints the file from the current cursor position i.e. 177.\n",
    "f.seek(0)           # Resets the cursor to position 0\n",
    "print(f.read())     # Prints the file from the beginning\n",
    "f.close()"
   ]
  },
  {
   "cell_type": "code",
   "execution_count": 16,
   "id": "4e988e47",
   "metadata": {
    "ExecuteTime": {
     "end_time": "2021-09-11T04:15:13.022589Z",
     "start_time": "2021-09-11T04:15:13.017117Z"
    },
    "id": "4e988e47"
   },
   "outputs": [
    {
     "name": "stdout",
     "output_type": "stream",
     "text": [
      "Cursor position Before appending:  549\n",
      "Cursor position after appending:  610\n"
     ]
    }
   ],
   "source": [
    "# Append mode - 'a'\n",
    "# If the file exist then it will open the file in append mode and places the cursor at the end of the file.\n",
    "# If the file does not exist then it will create a file with the given name.\n",
    "# In this mode, we are allowed only to append into the file but not allowed to read from the file.\n",
    "\n",
    "f = open('Sample_Files/my_file_5.txt', 'a')\n",
    "\n",
    "print(\"Cursor position Before appending: \", f.tell())\n",
    "\n",
    "# f.read()                                        # UnsupportedOperation: not readable\n",
    "\n",
    "f.write('\\nHello World, Welcome to Volvo!!!')     # Appends a line of text\n",
    "   \n",
    "f.write('\\nGTT Python class at Volvo')            # Appends another line of text\n",
    "\n",
    "print(\"Cursor position after appending: \", f.tell())\n",
    "\n",
    "f.close()"
   ]
  },
  {
   "cell_type": "code",
   "execution_count": 17,
   "id": "3cb0d8a6",
   "metadata": {},
   "outputs": [
    {
     "name": "stdout",
     "output_type": "stream",
     "text": [
      "610\n",
      "\n",
      "Hello World, Welcome to Volvo!!!\n",
      "GTT Python class at Volvo\n",
      "Hello World, Welcome to Volvo!!!\n",
      "GTT Python class at Volvo\n",
      "Hello World, Welcome to Volvo!!!\n",
      "GTT Python class at Volvo\n",
      "Hello World, Welcome to Volvo!!!\n",
      "GTT Python class at Volvo\n",
      "Hello World, Welcome to Volvo!!!\n",
      "GTT Python class at Volvo\n",
      "Hello World, Welcome to Volvo!!!\n",
      "GTT Python class at Volvo\n",
      "Hello World, Welcome to Volvo!!!\n",
      "GTT Python class at Volvo\n",
      "Hello World, Welcome to Volvo!!!\n",
      "GTT Python class at Volvo\n",
      "Hello World, Welcome to Volvo!!!\n",
      "GTT Python class at Volvo\n",
      "Hello World, Welcome to Volvo!!!\n",
      "GTT Python class at Volvo\n"
     ]
    }
   ],
   "source": [
    "# Append and read mode - 'a+'\n",
    "# If the file exist then it will open the file in append mode and places the cursor at the end of the file.\n",
    "# If the file does not exist then it will create a file with the given name.\n",
    "# In this mode, we are allowed to read and write both.\n",
    "\n",
    "f = open('Sample_Files/my_file_5.txt', 'a+')\n",
    "print(f.tell())\n",
    "f.seek(0)\n",
    "print(f.read())\n",
    "f.close()"
   ]
  },
  {
   "cell_type": "code",
   "execution_count": 18,
   "id": "9b819c0e",
   "metadata": {
    "ExecuteTime": {
     "end_time": "2021-09-11T04:17:09.548154Z",
     "start_time": "2021-09-11T04:17:09.538910Z"
    },
    "id": "9b819c0e",
    "outputId": "696c8d73-b304-4434-ba99-5eabb2b7f9b9"
   },
   "outputs": [
    {
     "name": "stdout",
     "output_type": "stream",
     "text": [
      "Python is an easy to learn, powerful programming language. It has efficient high-level data structur\n",
      "\n",
      "\n",
      "File Closed\n"
     ]
    }
   ],
   "source": [
    "# Opening the file using with statement. Automatically closes the file at the end of the indent\n",
    "\n",
    "with open('Sample_Files/my_file.txt', 'r') as f:\n",
    "    print(f.read(100))\n",
    "#     code\n",
    "#     code\n",
    "#     code\n",
    "\n",
    "print(\"\\n\\nFile Closed\")"
   ]
  },
  {
   "cell_type": "code",
   "execution_count": 19,
   "id": "fe8e1e0e",
   "metadata": {
    "id": "fe8e1e0e"
   },
   "outputs": [
    {
     "name": "stdout",
     "output_type": "stream",
     "text": [
      "str1\n",
      "str2\n",
      "str3\n",
      "str4\n"
     ]
    }
   ],
   "source": [
    "# writelines(['str1', '\\nstr2', '\\nstr3', '\\nstr4']) - writes each string as new line in the file.\n",
    "with open('Sample_Files/my_file_7.txt', 'w+') as f:\n",
    "    f.writelines(['str1', '\\nstr2', '\\nstr3', '\\nstr4'])\n",
    "    f.seek(0)\n",
    "    print(f.read())"
   ]
  },
  {
   "cell_type": "code",
   "execution_count": 20,
   "id": "26f75c35",
   "metadata": {
    "ExecuteTime": {
     "end_time": "2021-09-11T04:44:43.937638Z",
     "start_time": "2021-09-11T04:44:43.928032Z"
    },
    "id": "26f75c35",
    "outputId": "92fc55ca-b0bf-4650-fad6-c457411a6640"
   },
   "outputs": [
    {
     "name": "stdout",
     "output_type": "stream",
     "text": [
      "Total no of characters is 1195\n",
      "Total no of words is 195\n",
      "Total no of lines is 8\n"
     ]
    }
   ],
   "source": [
    "# Count total no of words, characters and lines from the file\n",
    "\n",
    "with open('Sample_Files/my_file_6.txt', 'r') as f:\n",
    "    content = f.read()\n",
    "    print('Total no of characters is', f.tell())\n",
    "    print('Total no of words is', len(content.split()))\n",
    "    f.seek(0)\n",
    "    print('Total no of lines is', len(f.readlines()))"
   ]
  },
  {
   "cell_type": "code",
   "execution_count": 21,
   "id": "e15332c1",
   "metadata": {
    "ExecuteTime": {
     "end_time": "2021-09-11T04:46:18.927432Z",
     "start_time": "2021-09-11T04:46:18.912091Z"
    },
    "id": "e15332c1"
   },
   "outputs": [],
   "source": [
    "# Copy the content of python.jpeg to new.png\n",
    "with open('Sample_Files/Python.jpg', 'rb') as f1:\n",
    "    with open('Sample_Files/Python_new.jpg', 'wb') as f2:\n",
    "        f2.write(f1.read())"
   ]
  },
  {
   "cell_type": "code",
   "execution_count": 22,
   "id": "b3dd8eca",
   "metadata": {
    "ExecuteTime": {
     "end_time": "2021-09-11T04:48:12.706969Z",
     "start_time": "2021-09-11T04:48:12.692591Z"
    },
    "id": "b3dd8eca",
    "outputId": "38baf5e5-fcf6-407b-bfe2-faa5db5167b2"
   },
   "outputs": [
    {
     "name": "stdout",
     "output_type": "stream",
     "text": [
      "5\n"
     ]
    }
   ],
   "source": [
    "# Write a program to read lines from a text file \"notes.txt\". \n",
    "# Your function should find and display the occurrence of the word \"the\".\n",
    "\n",
    "# For example: If the content of the file is:\n",
    "# \"\"\"India is the fastest-growing economy. \n",
    "# India is looking for more investments around the globe. \n",
    "# The whole world is looking at India as a great market. \n",
    "# Most of the Indians can foresee the heights that India is capable of reaching.\"\"\"\n",
    "\n",
    "# The output should be 5\n",
    "\n",
    "with open('Sample_Files/notes.txt', 'r') as f1:\n",
    "    content = f1.read()\n",
    "    print(content.lower().count('the '))"
   ]
  },
  {
   "cell_type": "markdown",
   "id": "7f8bd134",
   "metadata": {
    "id": "c1dd6832"
   },
   "source": [
    "# Sample Use Case"
   ]
  },
  {
   "cell_type": "code",
   "execution_count": 23,
   "id": "ac9fb672",
   "metadata": {},
   "outputs": [],
   "source": [
    "# WAP to read Matlab License Usage log (a text file) and extract required data in a tabular format \n",
    "# that is easy to read and looks clean"
   ]
  },
  {
   "cell_type": "code",
   "execution_count": 29,
   "id": "0e3631bf",
   "metadata": {},
   "outputs": [
    {
     "data": {
      "text/html": [
       "<div>\n",
       "<style scoped>\n",
       "    .dataframe tbody tr th:only-of-type {\n",
       "        vertical-align: middle;\n",
       "    }\n",
       "\n",
       "    .dataframe tbody tr th {\n",
       "        vertical-align: top;\n",
       "    }\n",
       "\n",
       "    .dataframe thead th {\n",
       "        text-align: right;\n",
       "    }\n",
       "</style>\n",
       "<table border=\"1\" class=\"dataframe\">\n",
       "  <thead>\n",
       "    <tr style=\"text-align: right;\">\n",
       "      <th></th>\n",
       "      <th>Toolbox</th>\n",
       "      <th>Licenses Issued</th>\n",
       "      <th>Licenses in Use</th>\n",
       "    </tr>\n",
       "  </thead>\n",
       "  <tbody>\n",
       "    <tr>\n",
       "      <th>0</th>\n",
       "      <td>MATLAB</td>\n",
       "      <td>10000</td>\n",
       "      <td>31\\n</td>\n",
       "    </tr>\n",
       "    <tr>\n",
       "      <th>1</th>\n",
       "      <td>SIMULINK</td>\n",
       "      <td>10000</td>\n",
       "      <td>23\\n</td>\n",
       "    </tr>\n",
       "    <tr>\n",
       "      <th>2</th>\n",
       "      <td>Video_and_Image_Blockset</td>\n",
       "      <td>10000</td>\n",
       "      <td>0\\n</td>\n",
       "    </tr>\n",
       "    <tr>\n",
       "      <th>3</th>\n",
       "      <td>Control_Toolbox</td>\n",
       "      <td>10000</td>\n",
       "      <td>0\\n</td>\n",
       "    </tr>\n",
       "    <tr>\n",
       "      <th>4</th>\n",
       "      <td>Curve_Fitting_Toolbox</td>\n",
       "      <td>10000</td>\n",
       "      <td>0\\n</td>\n",
       "    </tr>\n",
       "    <tr>\n",
       "      <th>...</th>\n",
       "      <td>...</td>\n",
       "      <td>...</td>\n",
       "      <td>...</td>\n",
       "    </tr>\n",
       "    <tr>\n",
       "      <th>60</th>\n",
       "      <td>Embedded_IDE_Link</td>\n",
       "      <td>10000</td>\n",
       "      <td>0\\n</td>\n",
       "    </tr>\n",
       "    <tr>\n",
       "      <th>61</th>\n",
       "      <td>Stateflow_Coder</td>\n",
       "      <td>10000</td>\n",
       "      <td>0\\n</td>\n",
       "    </tr>\n",
       "    <tr>\n",
       "      <th>62</th>\n",
       "      <td>Target_Support_Package</td>\n",
       "      <td>10000</td>\n",
       "      <td>0\\n</td>\n",
       "    </tr>\n",
       "    <tr>\n",
       "      <th>63</th>\n",
       "      <td>Embedded_Target_MPC555</td>\n",
       "      <td>10000</td>\n",
       "      <td>0\\n</td>\n",
       "    </tr>\n",
       "    <tr>\n",
       "      <th>64</th>\n",
       "      <td>MATLAB_Distrib_Comp_Engine</td>\n",
       "      <td>64</td>\n",
       "      <td>0\\n</td>\n",
       "    </tr>\n",
       "  </tbody>\n",
       "</table>\n",
       "<p>65 rows × 3 columns</p>\n",
       "</div>"
      ],
      "text/plain": [
       "                       Toolbox Licenses Issued Licenses in Use\n",
       "0                       MATLAB          10000             31\\n\n",
       "1                     SIMULINK          10000             23\\n\n",
       "2     Video_and_Image_Blockset          10000              0\\n\n",
       "3              Control_Toolbox          10000              0\\n\n",
       "4        Curve_Fitting_Toolbox          10000              0\\n\n",
       "..                         ...             ...             ...\n",
       "60           Embedded_IDE_Link          10000              0\\n\n",
       "61             Stateflow_Coder          10000              0\\n\n",
       "62      Target_Support_Package          10000              0\\n\n",
       "63      Embedded_Target_MPC555          10000              0\\n\n",
       "64  MATLAB_Distrib_Comp_Engine             64              0\\n\n",
       "\n",
       "[65 rows x 3 columns]"
      ]
     },
     "execution_count": 29,
     "metadata": {},
     "output_type": "execute_result"
    }
   ],
   "source": [
    "import pandas as pd\n",
    "\n",
    "with open('Sample_Files/licence.txt', 'r') as lic:\n",
    "    lines = lic.readlines()\n",
    "    \n",
    "final_field = []    \n",
    "with open('Sample_Files/licence_out.txt', 'w+') as lic_out:\n",
    "    for line in lines:\n",
    "        if line != \"\\n\": \n",
    "            line=line.replace('; ', ': ')\n",
    "            line=line.replace('Users of ', '')\n",
    "            line=line.replace('Total of ', '')\n",
    "            line=line.replace('licenses issued', '')\n",
    "            line=line.replace('licenses in use', '')\n",
    "            line=line.replace('license issued', '')\n",
    "            line=line.replace('license in use', '')\n",
    "            line=line.replace('(', '')\n",
    "            line=line.replace(')', '')\n",
    "            line=line.rstrip()\n",
    "            line=line + \"\\n\"\n",
    "            field = line.split(\": \", 2)\n",
    "            #print(field)\n",
    "\n",
    "            final = [field[0], field[1], field[2]]\n",
    "            final_field.append(list(final))\n",
    "\n",
    "            # Save the output as a text file\n",
    "            lic_out.writelines(final)\n",
    "           \n",
    "    # Create a Pandas Dataframe with the cleaned up text    \n",
    "    df = pd.DataFrame(final_field,\n",
    "                   index=None,\n",
    "                   columns=['Toolbox', 'Licenses Issued', 'Licenses in Use'])\n",
    "    \n",
    "    # Save the output as an excel file\n",
    "    df.to_excel(\"Sample_Files/licence_final.xlsx\", index=False)\n",
    "df"
   ]
  },
  {
   "cell_type": "code",
   "execution_count": null,
   "id": "d2bd1ab6",
   "metadata": {},
   "outputs": [],
   "source": []
  },
  {
   "cell_type": "code",
   "execution_count": null,
   "id": "5c59e003",
   "metadata": {},
   "outputs": [],
   "source": []
  }
 ],
 "metadata": {
  "colab": {
   "name": "Class_12_File_Handling_Exception_Handling.ipynb",
   "provenance": []
  },
  "kernelspec": {
   "display_name": "Python 3 (ipykernel)",
   "language": "python",
   "name": "python3"
  },
  "language_info": {
   "codemirror_mode": {
    "name": "ipython",
    "version": 3
   },
   "file_extension": ".py",
   "mimetype": "text/x-python",
   "name": "python",
   "nbconvert_exporter": "python",
   "pygments_lexer": "ipython3",
   "version": "3.9.7"
  }
 },
 "nbformat": 4,
 "nbformat_minor": 5
}
