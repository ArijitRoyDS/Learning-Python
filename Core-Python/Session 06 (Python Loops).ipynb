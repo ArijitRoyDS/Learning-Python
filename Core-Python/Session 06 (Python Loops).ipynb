{
 "cells": [
  {
   "cell_type": "markdown",
   "id": "66fc80ab",
   "metadata": {},
   "source": [
    "# Loops in Python (For & While)"
   ]
  },
  {
   "cell_type": "code",
   "execution_count": null,
   "id": "fdda5d81",
   "metadata": {
    "ExecuteTime": {
     "end_time": "2021-08-14T03:26:51.215073Z",
     "start_time": "2021-08-14T03:26:51.209966Z"
    },
    "id": "fdda5d81"
   },
   "outputs": [],
   "source": [
    "# For Loop - No of iterations are known in advance\n",
    "# Using for loop, we can run the loop on iterable directly\n",
    "\n",
    "# Syntax of for loop\n",
    "# for var in iterable:\n",
    "#     print(var)\n"
   ]
  },
  {
   "cell_type": "code",
   "execution_count": 1,
   "id": "6f9f32d4",
   "metadata": {
    "ExecuteTime": {
     "end_time": "2021-08-14T03:50:02.331422Z",
     "start_time": "2021-08-14T03:50:02.324923Z"
    },
    "id": "6f9f32d4"
   },
   "outputs": [
    {
     "name": "stdout",
     "output_type": "stream",
     "text": [
      "P\n",
      "y\n",
      "t\n",
      "h\n",
      "o\n",
      "n\n"
     ]
    }
   ],
   "source": [
    "# Extracting individual elements of a string without for loop:\n",
    "\n",
    "my_str = 'Python'\n",
    "print(my_str[0])\n",
    "print(my_str[1])\n",
    "print(my_str[2])\n",
    "print(my_str[3])\n",
    "print(my_str[4])\n",
    "print(my_str[5])"
   ]
  },
  {
   "cell_type": "code",
   "execution_count": 1,
   "id": "0b44cc39",
   "metadata": {},
   "outputs": [
    {
     "name": "stdout",
     "output_type": "stream",
     "text": [
      "P\n",
      "y\n",
      "t\n",
      "h\n",
      "o\n",
      "n\n"
     ]
    }
   ],
   "source": [
    "# Extracting individual elments of a string using for loop:\n",
    "\n",
    "my_str = 'Python'\n",
    "for i in range (len(my_str)):\n",
    "    print(my_str[i])\n",
    "    "
   ]
  },
  {
   "cell_type": "code",
   "execution_count": 4,
   "id": "c66ebb06",
   "metadata": {},
   "outputs": [
    {
     "name": "stdout",
     "output_type": "stream",
     "text": [
      "P\n",
      "y\n",
      "t\n",
      "h\n",
      "o\n",
      "n\n"
     ]
    }
   ],
   "source": [
    "# Directly using the iterable object instead of range in for loop:\n",
    "\n",
    "my_str = 'Python'\n",
    "for element in my_str:\n",
    "    print(element)"
   ]
  },
  {
   "cell_type": "code",
   "execution_count": 1,
   "id": "37fde35a",
   "metadata": {},
   "outputs": [
    {
     "name": "stdout",
     "output_type": "stream",
     "text": [
      "0\n",
      "1\n",
      "2\n",
      "3\n",
      "4\n",
      "5\n",
      "6\n",
      "7\n",
      "8\n",
      "9\n",
      "Loop completed\n"
     ]
    }
   ],
   "source": [
    "# Simple for loop\n",
    "# Using Default Start and Step Size:\n",
    "# for i in range(start <default = 0>, end <user specified>, step_size <default = 1>)\n",
    "\n",
    "for i in range(10):\n",
    "    print(i)\n",
    "print('Loop completed')"
   ]
  },
  {
   "cell_type": "code",
   "execution_count": 2,
   "id": "63d008ae",
   "metadata": {},
   "outputs": [
    {
     "name": "stdout",
     "output_type": "stream",
     "text": [
      "0\n",
      "1\n",
      "2\n",
      "3\n",
      "4\n",
      "5\n",
      "6\n",
      "7\n",
      "8\n",
      "9\n",
      "Loop completed\n"
     ]
    }
   ],
   "source": [
    "# Using user specified Start, End and Step Size:\n",
    "\n",
    "for i in range(0, 10, 1):\n",
    "    print(i)\n",
    "print('Loop completed')"
   ]
  },
  {
   "cell_type": "code",
   "execution_count": 6,
   "id": "ded23cd1",
   "metadata": {},
   "outputs": [
    {
     "name": "stdout",
     "output_type": "stream",
     "text": [
      "10\n",
      "9\n",
      "8\n",
      "7\n",
      "6\n",
      "5\n",
      "4\n",
      "3\n",
      "2\n",
      "1\n",
      "Loop completed\n"
     ]
    }
   ],
   "source": [
    "# Using Negative Step Size:\n",
    "\n",
    "for i in range(10, 0, -1):\n",
    "    print(i)\n",
    "print('Loop completed')"
   ]
  },
  {
   "cell_type": "code",
   "execution_count": 9,
   "id": "b73d9b1b",
   "metadata": {},
   "outputs": [
    {
     "name": "stdout",
     "output_type": "stream",
     "text": [
      "P\n",
      "yy\n",
      "ttt\n",
      "hhhh\n",
      "ooooo\n",
      "nnnnnn\n"
     ]
    }
   ],
   "source": [
    "# Input:\n",
    "my_str = 'Python'\n",
    "\n",
    "# Expected Output:\n",
    "# P\n",
    "# yy\n",
    "# ttt\n",
    "# hhhh\n",
    "# ooooo\n",
    "# nnnnnn\n",
    "\n",
    "for i in range(len(my_str)):\n",
    "    print(my_str[i]*(i+1))"
   ]
  },
  {
   "cell_type": "code",
   "execution_count": 3,
   "id": "cd8a1550",
   "metadata": {},
   "outputs": [
    {
     "name": "stdout",
     "output_type": "stream",
     "text": [
      "10\n",
      "20\n",
      "\n",
      "20\n",
      "40\n",
      "\n",
      "30\n",
      "60\n",
      "\n",
      "40\n",
      "80\n",
      "\n"
     ]
    }
   ],
   "source": [
    "# For Loop in List:\n",
    "\n",
    "for item in [10,20,30,40]:\n",
    "    print(item)\n",
    "    print(item*2, end = '\\n\\n')"
   ]
  },
  {
   "cell_type": "code",
   "execution_count": 4,
   "id": "f329d0a6",
   "metadata": {},
   "outputs": [
    {
     "name": "stdout",
     "output_type": "stream",
     "text": [
      "10\n",
      "20\n",
      "\n",
      "20\n",
      "40\n",
      "\n",
      "30\n",
      "60\n",
      "\n",
      "40\n",
      "80\n",
      "\n"
     ]
    }
   ],
   "source": [
    "# For Loop in Tuple:\n",
    "\n",
    "for item in (10,20,30,40):\n",
    "    print(item)\n",
    "    print(item*2, end = '\\n\\n')"
   ]
  },
  {
   "cell_type": "code",
   "execution_count": 6,
   "id": "060fd004",
   "metadata": {},
   "outputs": [
    {
     "name": "stdout",
     "output_type": "stream",
     "text": [
      "name  -->  Abhishek\n",
      "Std  -->  X\n",
      "Marks  -->  100\n"
     ]
    }
   ],
   "source": [
    "# For Loop in Dictionary:\n",
    "\n",
    "my_dict = {'name':'Abhishek', 'Std':'X', 'Marks':100}\n",
    "for key, value in my_dict.items():\n",
    "    print(key, \" --> \", value)"
   ]
  },
  {
   "cell_type": "code",
   "execution_count": 16,
   "id": "8d24fee9",
   "metadata": {},
   "outputs": [],
   "source": [
    "# Question:\n",
    "# For the below input, print the following output:\n",
    "\n",
    "# Input:\n",
    "my_str = 'Python'\n",
    "\n",
    "# Output:\n",
    "# n\n",
    "# oo\n",
    "# hhh\n",
    "# tttt\n",
    "# yyyyy\n",
    "# PPPPPP"
   ]
  },
  {
   "cell_type": "code",
   "execution_count": 7,
   "id": "026bc634",
   "metadata": {},
   "outputs": [
    {
     "name": "stdout",
     "output_type": "stream",
     "text": [
      "n\n",
      "oo\n",
      "hhh\n",
      "tttt\n",
      "yyyyy\n",
      "PPPPPP\n"
     ]
    }
   ],
   "source": [
    "# Answer:\n",
    "\n",
    "my_str = 'Python'\n",
    "\n",
    "for i in range(-1, -len(my_str)-1, -1):\n",
    "    print(my_str[i]*(-i))"
   ]
  },
  {
   "cell_type": "code",
   "execution_count": 10,
   "id": "06d00722",
   "metadata": {
    "ExecuteTime": {
     "end_time": "2021-08-14T03:25:26.894125Z",
     "start_time": "2021-08-14T03:25:26.871145Z"
    },
    "id": "06d00722",
    "outputId": "08f304b2-24bb-419a-af55-6c540aacb380"
   },
   "outputs": [
    {
     "name": "stdout",
     "output_type": "stream",
     "text": [
      "[0, 1, 2, 3, 4, 5, 6, 7, 8, 9, 10]\n",
      "[]\n",
      "[11, 10, 9, 8, 7, 6, 5, 4, 3, 2, 1]\n",
      "[-10, -8, -6, -4, -2, 0, 2, 4, 6, 8, 10]\n",
      "\n",
      "\n",
      "\n",
      "[10, 9, 8, 7, 6, 5, 4, 3, 2, 1, 0, -1, -2, -3, -4, -5, -6, -7, -8, -9, -10]\n",
      "[]\n",
      "[10, 8, 6, 4, 2, 0, -2, -4, -6, -8, -10]\n"
     ]
    }
   ],
   "source": [
    "# range(start, stop, step) - Generates a seq of integers\n",
    "\n",
    "# +ve -> L to R\n",
    "# -ve -> R To L\n",
    "\n",
    "#     ------------------------------------------------------------------------------> Step = +ve\n",
    "# -inf---------------------------------------0---------------------------------------+inf \n",
    "#     <------------------------------------------------------------------------------ Step = -ve\n",
    "\n",
    "# Generate a seq of numbers from 0 to 10\n",
    "print(list(range(0, 11, 1)))      # For positive step, start should be less than end\n",
    "print(list(range(0, 11, -1)))     # For negative step, start should be greater than end\n",
    "print(list(range(11, 0, -1)))\n",
    "print(list(range(-10, 11, 2)))\n",
    "\n",
    "print('\\n\\n')\n",
    "\n",
    "print(list(range(10, -11, -1)))\n",
    "print(list(range(10, -11, 1)))\n",
    "print(list(range(10, -11, -2)))"
   ]
  },
  {
   "cell_type": "code",
   "execution_count": 22,
   "id": "8ed39d3f",
   "metadata": {
    "ExecuteTime": {
     "end_time": "2021-08-14T04:10:51.235563Z",
     "start_time": "2021-08-14T04:10:46.582466Z"
    },
    "id": "8ed39d3f",
    "outputId": "30b39401-d2ab-475e-95a6-bb00e6576096"
   },
   "outputs": [],
   "source": [
    "# while loop - no of iterations are not known\n",
    "# it executes the piece of code until a condition is evaluated False\n",
    "\n",
    "# Syntax of while loop\n",
    "# Initialization\n",
    "# Condition checking\n",
    "# Increment/Decrement"
   ]
  },
  {
   "cell_type": "code",
   "execution_count": 10,
   "id": "294bd705",
   "metadata": {},
   "outputs": [
    {
     "name": "stdout",
     "output_type": "stream",
     "text": [
      "P\n",
      "y\n",
      "t\n",
      "h\n",
      "o\n",
      "n\n",
      "While Loop Completed\n"
     ]
    }
   ],
   "source": [
    "# Finite while loop execution\n",
    "\n",
    "my_str = 'Python'\n",
    "ind = 0\n",
    "while ind < len(my_str):\n",
    "    print(my_str[ind])\n",
    "    ind += 1\n",
    "print('While Loop Completed')"
   ]
  },
  {
   "cell_type": "code",
   "execution_count": 1,
   "id": "74986412",
   "metadata": {},
   "outputs": [],
   "source": [
    "# # Infinite while loop execution (Uncomment to execute and see the result)\n",
    "\n",
    "# my_str = 'Python'\n",
    "# ind = 7\n",
    "# i = 0\n",
    "# while ind > len(my_str):\n",
    "#     print(my_str[i])\n",
    "#     ind += 1\n",
    "# print('Hello')"
   ]
  },
  {
   "cell_type": "code",
   "execution_count": 1,
   "id": "ae2d7637",
   "metadata": {},
   "outputs": [
    {
     "name": "stdout",
     "output_type": "stream",
     "text": [
      "P\n",
      "yy\n",
      "ttt\n",
      "hhhh\n",
      "ooooo\n",
      "nnnnnn\n"
     ]
    }
   ],
   "source": [
    "# Print the following output using while loop\n",
    "# Output:\n",
    "# P\n",
    "# yy\n",
    "# ttt\n",
    "# hhhh\n",
    "# ooooo\n",
    "# nnnnnn\n",
    "\n",
    "my_str = 'Python'\n",
    "ind = 0\n",
    "while ind < len(my_str):\n",
    "    print(my_str[ind] * (ind+1))\n",
    "    ind += 1"
   ]
  },
  {
   "cell_type": "code",
   "execution_count": 12,
   "id": "6dc7ecec",
   "metadata": {},
   "outputs": [
    {
     "name": "stdout",
     "output_type": "stream",
     "text": [
      "n\n",
      "oo\n",
      "hhh\n",
      "tttt\n",
      "yyyyy\n",
      "PPPPPP\n"
     ]
    }
   ],
   "source": [
    "# Print the following output using while loop\n",
    "# Output:\n",
    "# n\n",
    "# oo\n",
    "# hhh\n",
    "# tttt\n",
    "# yyyyy\n",
    "# PPPPPP\n",
    "\n",
    "ind = -1\n",
    "while ind >= -len(my_str):\n",
    "    print(my_str[ind] * (-ind))\n",
    "    ind -= 1"
   ]
  },
  {
   "cell_type": "code",
   "execution_count": 6,
   "id": "1e64bdbb",
   "metadata": {
    "id": "1e64bdbb"
   },
   "outputs": [],
   "source": [
    "# Transfer Statements\n",
    "# break - to exit the loop immediately\n",
    "# continue - to skip the current iteration"
   ]
  },
  {
   "cell_type": "code",
   "execution_count": 24,
   "id": "7d080374",
   "metadata": {},
   "outputs": [
    {
     "name": "stdout",
     "output_type": "stream",
     "text": [
      "Guess a number: 3\n",
      "Wrong input!!!\n",
      "Re-enter the number\n",
      "5\n",
      "Wrong input!!!\n",
      "Re-enter the number\n",
      "6\n",
      "You Won!!!\n",
      "Break executed and exited the loop\n"
     ]
    }
   ],
   "source": [
    "# break statement\n",
    "# Guess a number and if number matches a specified number then user wins else user has to retry\n",
    "\n",
    "org_num = 6\n",
    "user_inp = int(input('Guess a number: '))\n",
    "while True:\n",
    "    if user_inp == org_num:\n",
    "        print('You Won!!!')\n",
    "        break\n",
    "    else:\n",
    "        print('Wrong input!!!')\n",
    "        print('Re-enter the number')\n",
    "        user_inp = int(input())\n",
    "print('Break executed and exited the loop')"
   ]
  },
  {
   "cell_type": "code",
   "execution_count": 9,
   "id": "ac8e1b41",
   "metadata": {
    "ExecuteTime": {
     "end_time": "2021-08-14T04:09:03.861088Z",
     "start_time": "2021-08-14T04:09:03.853722Z"
    },
    "id": "ac8e1b41",
    "outputId": "2f263736-7261-4490-eb8f-deeee26c0771"
   },
   "outputs": [
    {
     "name": "stdout",
     "output_type": "stream",
     "text": [
      "0\n",
      "1\n",
      "2\n",
      "3\n",
      "4\n",
      "5\n",
      "Exited the loop\n"
     ]
    }
   ],
   "source": [
    "for i in range(10):\n",
    "    if i == 6:\n",
    "        break\n",
    "    else:\n",
    "        print(i)\n",
    "print('Exited the loop')"
   ]
  },
  {
   "cell_type": "code",
   "execution_count": null,
   "id": "19066bd4",
   "metadata": {
    "ExecuteTime": {
     "end_time": "2021-08-14T04:13:02.953973Z",
     "start_time": "2021-08-14T04:13:02.940198Z"
    },
    "id": "19066bd4",
    "outputId": "1d6316e1-bb69-4a3a-f4bb-7e530d494145"
   },
   "outputs": [
    {
     "name": "stdout",
     "output_type": "stream",
     "text": [
      "10\n",
      "200\n",
      "1\n",
      "2\n",
      "10\n",
      "200\n",
      "3\n"
     ]
    }
   ],
   "source": [
    "for i in [1, 2, 3]:\n",
    "    for j in [10,200]:\n",
    "        if i == 2:\n",
    "            break\n",
    "        print(j)\n",
    "    print(i)"
   ]
  },
  {
   "cell_type": "code",
   "execution_count": 8,
   "id": "e775d336",
   "metadata": {
    "ExecuteTime": {
     "end_time": "2021-08-14T04:08:05.193618Z",
     "start_time": "2021-08-14T04:08:05.175325Z"
    },
    "id": "e775d336",
    "outputId": "28f03b5f-8ba7-4255-ba66-4d1f8108cbed"
   },
   "outputs": [
    {
     "name": "stdout",
     "output_type": "stream",
     "text": [
      "0\n",
      "1\n",
      "2\n",
      "3\n",
      "4\n",
      "5\n",
      "7\n",
      "8\n",
      "9\n"
     ]
    }
   ],
   "source": [
    "# continue statement\n",
    "\n",
    "for i in range(10):\n",
    "    if i == 6:\n",
    "        continue\n",
    "    else:\n",
    "        print(i)"
   ]
  },
  {
   "cell_type": "code",
   "execution_count": 10,
   "id": "c24859bd",
   "metadata": {
    "ExecuteTime": {
     "end_time": "2021-08-14T04:25:38.539450Z",
     "start_time": "2021-08-14T04:25:38.531264Z"
    },
    "id": "c24859bd",
    "outputId": "4854ec55-65d7-458c-89a1-3b55c01eee1b"
   },
   "outputs": [
    {
     "name": "stdout",
     "output_type": "stream",
     "text": [
      "length of the string = 55\n"
     ]
    }
   ],
   "source": [
    "# Write a Python program to find the length of the my_str using loop:-\n",
    "# Input:- 'Write a Python program to find the length of the my_str'\n",
    "# Output:- 55\n",
    "\n",
    "my_str = 'Write a Python program to find the length of the my_str'\n",
    "length = 0\n",
    "for ele in my_str:\n",
    "    length += 1\n",
    "print('length of the string = ', length)"
   ]
  },
  {
   "cell_type": "code",
   "execution_count": 14,
   "id": "3a3145e2",
   "metadata": {
    "ExecuteTime": {
     "end_time": "2021-08-14T04:27:13.731859Z",
     "start_time": "2021-08-14T04:27:13.721224Z"
    },
    "id": "3a3145e2",
    "outputId": "de852fee-3ac7-41fc-f738-19bbb01e92f3"
   },
   "outputs": [
    {
     "name": "stdout",
     "output_type": "stream",
     "text": [
      "p is repeated  9  times in my_str\n"
     ]
    }
   ],
   "source": [
    "# Q. Write a Python program to find the total number of times letter 'p'\n",
    "# appears in the below string using loop:-\n",
    "# Input:- 'peter piper picked a peck of pickled peppers.'\n",
    "# Output:- 9\n",
    "\n",
    "my_str = 'peter piper picked a peck of pickled peppers.'\n",
    "count_p = 0\n",
    "for i in my_str:\n",
    "    if i == 'p':\n",
    "        count_p += 1\n",
    "print('p is repeated ', count_p, ' times in my_str')\n"
   ]
  },
  {
   "cell_type": "code",
   "execution_count": 28,
   "id": "c95e2d3a",
   "metadata": {
    "ExecuteTime": {
     "end_time": "2021-08-14T04:34:04.552637Z",
     "start_time": "2021-08-14T04:34:04.539978Z"
    },
    "id": "c95e2d3a"
   },
   "outputs": [
    {
     "name": "stdout",
     "output_type": "stream",
     "text": [
      "0\n",
      "6\n",
      "8\n",
      "12\n",
      "21\n",
      "29\n",
      "37\n",
      "39\n",
      "40\n",
      "############################################################\n",
      "0\n",
      "6\n",
      "8\n",
      "12\n",
      "21\n",
      "29\n",
      "37\n",
      "39\n",
      "40\n"
     ]
    }
   ],
   "source": [
    "# Q. Write a Python Program, to print all the indexes of all occurences of\n",
    "# letter 'p' appearing in the string using loop:-\n",
    "# Input:- 'peter piper picked a peck of pickled peppers.'\n",
    "# Output:-\n",
    "# 0\n",
    "# 6\n",
    "# 8\n",
    "# 12\n",
    "# 21\n",
    "# 29\n",
    "# 37\n",
    "# 39\n",
    "# 40\n",
    "\n",
    "# Using for loop\n",
    "my_str = 'peter piper picked a peck of pickled peppers.'\n",
    "for i in range(len(my_str)):\n",
    "    if my_str[i] == 'p':\n",
    "        print(i)\n",
    "        \n",
    "print(\"#\"*60)\n",
    "\n",
    "# Using while loop\n",
    "#\n",
    "ind = -1\n",
    "while True:\n",
    "    ind = my_str.find('p', ind+1)\n",
    "    if ind == -1:\n",
    "        break\n",
    "    else:\n",
    "        print(ind)"
   ]
  },
  {
   "cell_type": "code",
   "execution_count": 27,
   "id": "12254b49",
   "metadata": {
    "ExecuteTime": {
     "end_time": "2021-08-14T05:25:17.635587Z",
     "start_time": "2021-08-14T05:25:17.623053Z"
    },
    "id": "12254b49",
    "outputId": "69a63e22-1258-4de8-c4a0-b43d2ee6a38b"
   },
   "outputs": [
    {
     "name": "stdout",
     "output_type": "stream",
     "text": [
      ".sreppep delkcip fo kcep a dekcip repip retep"
     ]
    }
   ],
   "source": [
    "# Q. Write a python program to find below output using loop:-\n",
    "# Input:- 'peter piper picked a peck of pickled peppers.'\n",
    "# Output:- '.sreppep delkcip fo kcep a dekcip repip retep'\n",
    "\n",
    "my_str = 'peter piper picked a peck of pickled peppers.'\n",
    "res_str = ''\n",
    "for i in range(-1, -len(my_str)-1, -1):\n",
    "    res_str += my_str[i]\n",
    "print(res_str)\n",
    "\n",
    "for i in my_str[::-1]:\n",
    "    print(i, end = '')"
   ]
  },
  {
   "cell_type": "code",
   "execution_count": 22,
   "id": "4326a455",
   "metadata": {
    "ExecuteTime": {
     "end_time": "2021-08-14T05:39:28.006052Z",
     "start_time": "2021-08-14T05:39:27.995886Z"
    },
    "id": "4326a455",
    "outputId": "d6d818af-7dd9-463a-ec2a-3d7309ee291c"
   },
   "outputs": [
    {
     "name": "stdout",
     "output_type": "stream",
     "text": [
      "1\n",
      "10\n",
      "##################################################\n",
      "20\n",
      "2\n",
      "10\n",
      "##################################################\n",
      "3\n",
      "10\n",
      "##################################################\n",
      "40\n",
      "4\n",
      "10\n",
      "##################################################\n",
      "5\n",
      "10\n",
      "##################################################\n",
      "60\n",
      "6\n",
      "10\n",
      "##################################################\n",
      "7\n",
      "10\n",
      "##################################################\n"
     ]
    }
   ],
   "source": [
    "# Nested for loop:\n",
    "\n",
    "lst1 = [1, 2, 3, 4, 5, 6, 7]\n",
    "lst2 = [10, 100, 200, 500]\n",
    "for i in lst1:\n",
    "    for j in lst2:\n",
    "        if i%2 == 0:\n",
    "            print(i*j)\n",
    "        print(i)\n",
    "        break\n",
    "    print(j)\n",
    "    print(\"#\"*50)"
   ]
  },
  {
   "cell_type": "code",
   "execution_count": null,
   "id": "726dbeea",
   "metadata": {
    "id": "726dbeea"
   },
   "outputs": [],
   "source": []
  }
 ],
 "metadata": {
  "colab": {
   "name": "Class_07_Loops_List.ipynb",
   "provenance": []
  },
  "kernelspec": {
   "display_name": "Python 3 (ipykernel)",
   "language": "python",
   "name": "python3"
  },
  "language_info": {
   "codemirror_mode": {
    "name": "ipython",
    "version": 3
   },
   "file_extension": ".py",
   "mimetype": "text/x-python",
   "name": "python",
   "nbconvert_exporter": "python",
   "pygments_lexer": "ipython3",
   "version": "3.9.7"
  }
 },
 "nbformat": 4,
 "nbformat_minor": 5
}
