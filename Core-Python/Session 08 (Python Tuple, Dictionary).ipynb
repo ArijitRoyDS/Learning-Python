{
 "cells": [
  {
   "cell_type": "markdown",
   "id": "3806ef44",
   "metadata": {
    "id": "3806ef44"
   },
   "source": [
    "# TUPLE"
   ]
  },
  {
   "cell_type": "code",
   "execution_count": null,
   "id": "045d392c",
   "metadata": {},
   "outputs": [],
   "source": [
    "# Tuple - any value kept inside () separated by comma\n",
    "# () are optional but comma(,) is mandatory"
   ]
  },
  {
   "cell_type": "code",
   "execution_count": null,
   "id": "1850957f",
   "metadata": {},
   "outputs": [],
   "source": [
    "tpl = (10, 10.20, 10+20j, True, None, 'Python')\n",
    "print(tpl, type(tpl))"
   ]
  },
  {
   "cell_type": "code",
   "execution_count": null,
   "id": "c3937821",
   "metadata": {},
   "outputs": [],
   "source": [
    "# Tuple packing\n",
    "tpl = 10, 10.20, 10+20j, True, None, 'Python'   \n",
    "print(tpl, type(tpl))"
   ]
  },
  {
   "cell_type": "code",
   "execution_count": null,
   "id": "fb0de570",
   "metadata": {},
   "outputs": [],
   "source": [
    "# 1. Data can be of any type inside the tuple and duplicate elements are allowed.\n",
    "# 2. Tuple is immutable object - Item Assignment is Not Allowed\n",
    "\n",
    "tpl = (10, 10.20, 10+20j, True, None, 'Python', 10, 10.20)\n",
    "print(tpl)\n",
    "\n",
    "tpl[0] = 111   # Item Assignment is Not Allowed \n",
    "print(tpl)"
   ]
  },
  {
   "cell_type": "markdown",
   "id": "a713e658",
   "metadata": {},
   "source": [
    "# Creation of Tuple"
   ]
  },
  {
   "cell_type": "code",
   "execution_count": null,
   "id": "ccc9e7d2",
   "metadata": {},
   "outputs": [],
   "source": [
    "# Direct Creation\n",
    "tpl = 10, 10.20, 10+20j, True, None, 'Python', True\n",
    "print(tpl)"
   ]
  },
  {
   "cell_type": "code",
   "execution_count": null,
   "id": "b4160b48",
   "metadata": {},
   "outputs": [],
   "source": [
    "# Creation Using tuple()\n",
    "\n",
    "# String to Tuple\n",
    "my_tpl = tuple('Python')\n",
    "print(\"String to Tuple    : \", my_tpl, type(my_tpl))\n",
    "\n",
    "# List to Tuple\n",
    "my_tpl = tuple(['Python', True, None,10, 10+20j])\n",
    "print(\"List to Tuple      : \",my_tpl, type(my_tpl))\n",
    "\n",
    "# Dictionary to Tuple: Only keys will be saved as tuple, values will be ignored\n",
    "my_tpl = tuple({1:100, 2:200, 3:300})\n",
    "print(\"Dictionary to Tuple: \",my_tpl, type(my_tpl))"
   ]
  },
  {
   "cell_type": "code",
   "execution_count": null,
   "id": "d2bb186f",
   "metadata": {},
   "outputs": [],
   "source": [
    "# Taking a tuple as input from user\n",
    "my_tpl = eval(input('Enter a tuple: '))\n",
    "print(my_tpl, type(my_tpl), id(my_tpl))\n",
    "\n",
    "my_tpl = 111, 222, 333, 444\n",
    "print(my_tpl, type(my_tpl), id(my_tpl))\n",
    "\n",
    "my_tpl[3] = 111"
   ]
  },
  {
   "cell_type": "code",
   "execution_count": null,
   "id": "6eb5d2e3",
   "metadata": {},
   "outputs": [],
   "source": [
    "print(dir(tpl))"
   ]
  },
  {
   "cell_type": "code",
   "execution_count": null,
   "id": "28a0b0a8",
   "metadata": {},
   "outputs": [],
   "source": [
    "# Creating a tuple with single element\n",
    "tpl = (10,)\n",
    "print(tpl, type(tpl))"
   ]
  },
  {
   "cell_type": "code",
   "execution_count": null,
   "id": "f7f322e5",
   "metadata": {},
   "outputs": [],
   "source": [
    "# Creating a tuple with dictionary element. Only keys are considered\n",
    "print(tuple({2:3, 4:5, 7:8}))"
   ]
  },
  {
   "cell_type": "code",
   "execution_count": null,
   "id": "94c8c46c",
   "metadata": {},
   "outputs": [],
   "source": [
    "tpl = (10, 11, 20, 100, 10, 90, 11, 20, 11, 22, 29, 11, 20, 23, 11)\n",
    "print(tpl.count(11))       # Number of occurances of 11\n",
    "print(tpl.index(11))       # Index of first occurance of 11"
   ]
  },
  {
   "cell_type": "code",
   "execution_count": null,
   "id": "ff09ba30",
   "metadata": {},
   "outputs": [],
   "source": [
    "# Tuple packing - assigning multiple values to a single variable\n",
    "tpl = 10, 20, 30, 40, 50, 60\n",
    "print(tpl, type(tpl))"
   ]
  },
  {
   "cell_type": "code",
   "execution_count": null,
   "id": "47c6160d",
   "metadata": {},
   "outputs": [],
   "source": [
    "# Tuple unpacking - Assigning a tuple to multiple variables\n",
    "# No of variable and no of elements should match\n",
    "\n",
    "emp_name, emp_id, emp_sal, emp_loc = 'Krishna', 101, 90000, 'Bengaluru'\n",
    "print(emp_name)\n",
    "print(emp_id)\n",
    "print(emp_sal)\n",
    "print(emp_loc)"
   ]
  },
  {
   "cell_type": "code",
   "execution_count": null,
   "id": "f3eea252",
   "metadata": {},
   "outputs": [],
   "source": []
  },
  {
   "cell_type": "code",
   "execution_count": null,
   "id": "eb39a33c",
   "metadata": {},
   "outputs": [],
   "source": []
  },
  {
   "cell_type": "markdown",
   "id": "ee34b3cf",
   "metadata": {},
   "source": [
    "# DICTIONARY"
   ]
  },
  {
   "cell_type": "code",
   "execution_count": 1,
   "id": "4a883d60",
   "metadata": {},
   "outputs": [],
   "source": [
    "# Dictionary is a collection of key value pair enclosed inside {}\n",
    "# Key and value are searated by colon(:)\n",
    "# Key and value pair is called an item or element of the dictionary\n",
    "# Key can not be duplicated whereas value can be duplicated\n",
    "# Key can be only immutable element whereas values can be of any type\n",
    "# Dictionary is not a seq so indexing, slicing, concatenation and repetiton are not allowed\n",
    "# Dictionary is a mutable element"
   ]
  },
  {
   "cell_type": "code",
   "execution_count": 2,
   "id": "ee3edbaf",
   "metadata": {},
   "outputs": [
    {
     "name": "stdout",
     "output_type": "stream",
     "text": [
      "dict_keys(['Emp_Name', 'emp_id', 'emp_sal', 'emp_loc'])\n",
      "dict_values(['Krishna', 101, 90000.0, 'Bangalore'])\n",
      "dict_items([('Emp_Name', 'Krishna'), ('emp_id', 101), ('emp_sal', 90000.0), ('emp_loc', 'Bangalore')])\n"
     ]
    }
   ],
   "source": [
    "emp_info = {'Emp_Name':'Krishna', 'emp_id':101, 'emp_sal': 90000.00, 'emp_loc' : 'Bangalore'}\n",
    "print (emp_info.keys())       # Returns a list of keys\n",
    "print (emp_info.values())     # Returns a list of values\n",
    "print (emp_info.items())      # Returns a list of tuples where each tuple is a key - value pair"
   ]
  },
  {
   "cell_type": "code",
   "execution_count": 3,
   "id": "192e302b",
   "metadata": {},
   "outputs": [
    {
     "name": "stdout",
     "output_type": "stream",
     "text": [
      "{'A': 100, 2: 200, 3.5: 'Python', True: 'Boolean Type', 'Complex': (3+4j), (4+6j): 'Complex', None: 'None Type'}\n"
     ]
    }
   ],
   "source": [
    "# Keys and Values can be of Heterogeneous Data Types:\n",
    "my_dict = {'A':100, 2:200, 3.5:'Python', True:'Boolean Type', 'Complex':3+4j, 4+6j:'Complex', None:\"None Type\"}\n",
    "print(my_dict)"
   ]
  },
  {
   "cell_type": "markdown",
   "id": "74716c60",
   "metadata": {},
   "source": [
    "# Creation of Dictionary"
   ]
  },
  {
   "cell_type": "code",
   "execution_count": 4,
   "id": "6ca33615",
   "metadata": {
    "ExecuteTime": {
     "end_time": "2021-08-29T05:30:10.491489Z",
     "start_time": "2021-08-29T05:30:10.483984Z"
    },
    "id": "6ca33615"
   },
   "outputs": [
    {
     "name": "stdout",
     "output_type": "stream",
     "text": [
      "{'emp_name': 'Krishna', 'emp_id': 101, 'emp_sal': 85000} <class 'dict'>\n"
     ]
    }
   ],
   "source": [
    "# Direct Creation\n",
    "\n",
    "my_dict = {'emp_name':'Krishna', 'emp_id':101, 'emp_sal':85000}\n",
    "\n",
    "print(my_dict, type(my_dict))"
   ]
  },
  {
   "cell_type": "code",
   "execution_count": 41,
   "id": "7420ead9",
   "metadata": {},
   "outputs": [
    {
     "name": "stdout",
     "output_type": "stream",
     "text": [
      "{'Krishna': 90000, 'Rahul': 80000, 'Abhishek': 70000, 'Apoorva': 40000}\n"
     ]
    }
   ],
   "source": [
    "# Using dict() with a list of tuples:\n",
    "\n",
    "emp_name_sal = [['Krishna', 90000],['Rahul', 80000],['Abhishek', 70000],['Apoorva', 40000]]\n",
    "\n",
    "emp_name_sal_dict = dict(emp_name_sal)\n",
    "print(emp_name_sal_dict)"
   ]
  },
  {
   "cell_type": "code",
   "execution_count": 42,
   "id": "b420a09e",
   "metadata": {},
   "outputs": [
    {
     "name": "stdout",
     "output_type": "stream",
     "text": [
      "Enter a dictionary: {'emp_name': 'Krishna', 'emp_id': 101, 'emp_sal': 85000}\n",
      "{'emp_name': 'Krishna', 'emp_id': 101, 'emp_sal': 85000} <class 'dict'>\n"
     ]
    }
   ],
   "source": [
    "# Taking dictionary as input from the user:\n",
    "\n",
    "my_dict = eval(input('Enter a dictionary: '))\n",
    "print(my_dict, type(my_dict))"
   ]
  },
  {
   "cell_type": "code",
   "execution_count": 7,
   "id": "4d431519",
   "metadata": {
    "ExecuteTime": {
     "end_time": "2021-08-29T05:22:10.788278Z",
     "start_time": "2021-08-29T05:22:10.773080Z"
    },
    "id": "4d431519",
    "outputId": "257b01ed-c28b-4d04-8061-6051687daf94"
   },
   "outputs": [
    {
     "name": "stdout",
     "output_type": "stream",
     "text": [
      "[('Krishna', 50000, 35), ('Rahul', 60000, 42), ('Abhishek', 70000, 23), ('Apoorva', 80000, 40)]\n",
      "{'Krishna': 50000, 'Rahul': 60000, 'Abhishek': 70000, 'Apoorva': 80000}\n"
     ]
    }
   ],
   "source": [
    "# zip combines the iterables together index wise. Improper indexes / mismatch in number of values in each list will be ignored\n",
    "# Returns a zip object which has a list of tuples where each tuple will be having the index wise elements from iterables\n",
    "\n",
    "emp_name = 'Krishna', 'Rahul', 'Abhishek', 'Apoorva', 'Kishore'    # String (Tuple Packing)\n",
    "emp_sal = (50000, 60000, 70000, 80000)                             # Tuple\n",
    "emp_age = [35, 42, 23, 40, 50]                                     # List\n",
    "\n",
    "print(list(zip(emp_name, emp_sal, emp_age)))     # Returns a list of tuples\n",
    "print(dict(zip(emp_name, emp_sal)))              # Returns a dictionary that is constructed using the list of tuples"
   ]
  },
  {
   "cell_type": "code",
   "execution_count": 43,
   "id": "b6608c4e",
   "metadata": {
    "ExecuteTime": {
     "end_time": "2021-08-29T06:03:42.902134Z",
     "start_time": "2021-08-29T06:03:42.739902Z"
    },
    "id": "b6608c4e",
    "outputId": "5294d290-8b4e-4f2f-eddc-8acd05c1d97f"
   },
   "outputs": [
    {
     "data": {
      "text/html": [
       "<div>\n",
       "<style scoped>\n",
       "    .dataframe tbody tr th:only-of-type {\n",
       "        vertical-align: middle;\n",
       "    }\n",
       "\n",
       "    .dataframe tbody tr th {\n",
       "        vertical-align: top;\n",
       "    }\n",
       "\n",
       "    .dataframe thead th {\n",
       "        text-align: right;\n",
       "    }\n",
       "</style>\n",
       "<table border=\"1\" class=\"dataframe\">\n",
       "  <thead>\n",
       "    <tr style=\"text-align: right;\">\n",
       "      <th></th>\n",
       "      <th>tripduration</th>\n",
       "      <th>starttime</th>\n",
       "      <th>stoptime</th>\n",
       "      <th>start station id</th>\n",
       "      <th>start station name</th>\n",
       "      <th>start station latitude</th>\n",
       "      <th>start station longitude</th>\n",
       "      <th>end station id</th>\n",
       "      <th>end station name</th>\n",
       "      <th>end station latitude</th>\n",
       "      <th>end station longitude</th>\n",
       "      <th>bikeid</th>\n",
       "      <th>name_localizedValue0</th>\n",
       "      <th>usertype</th>\n",
       "      <th>birth year</th>\n",
       "      <th>gender</th>\n",
       "    </tr>\n",
       "  </thead>\n",
       "  <tbody>\n",
       "    <tr>\n",
       "      <th>0</th>\n",
       "      <td>338</td>\n",
       "      <td>5/1/18 0:04</td>\n",
       "      <td>5/1/18 0:10</td>\n",
       "      <td>3639</td>\n",
       "      <td>Harborside</td>\n",
       "      <td>40.719252</td>\n",
       "      <td>-74.034234</td>\n",
       "      <td>3199</td>\n",
       "      <td>Newport Pkwy</td>\n",
       "      <td>40.728745</td>\n",
       "      <td>-74.032108</td>\n",
       "      <td>33558</td>\n",
       "      <td>Annual Membership</td>\n",
       "      <td>Subscriber</td>\n",
       "      <td>1988.0</td>\n",
       "      <td>1</td>\n",
       "    </tr>\n",
       "    <tr>\n",
       "      <th>1</th>\n",
       "      <td>1482</td>\n",
       "      <td>5/1/18 1:31</td>\n",
       "      <td>5/1/18 1:55</td>\n",
       "      <td>3681</td>\n",
       "      <td>Grand St</td>\n",
       "      <td>40.715178</td>\n",
       "      <td>-74.037683</td>\n",
       "      <td>3185</td>\n",
       "      <td>City Hall</td>\n",
       "      <td>40.717732</td>\n",
       "      <td>-74.043845</td>\n",
       "      <td>33593</td>\n",
       "      <td>24 Hour</td>\n",
       "      <td>Customer</td>\n",
       "      <td>NaN</td>\n",
       "      <td>0</td>\n",
       "    </tr>\n",
       "    <tr>\n",
       "      <th>2</th>\n",
       "      <td>232</td>\n",
       "      <td>5/1/18 1:31</td>\n",
       "      <td>5/1/18 1:35</td>\n",
       "      <td>3194</td>\n",
       "      <td>McGinley Square</td>\n",
       "      <td>40.725340</td>\n",
       "      <td>-74.067622</td>\n",
       "      <td>3193</td>\n",
       "      <td>Lincoln Park</td>\n",
       "      <td>40.724605</td>\n",
       "      <td>-74.078406</td>\n",
       "      <td>29217</td>\n",
       "      <td>FREE Bonus Month with Annual Membership</td>\n",
       "      <td>Subscriber</td>\n",
       "      <td>1985.0</td>\n",
       "      <td>1</td>\n",
       "    </tr>\n",
       "    <tr>\n",
       "      <th>3</th>\n",
       "      <td>190</td>\n",
       "      <td>5/1/18 2:03</td>\n",
       "      <td>5/1/18 2:06</td>\n",
       "      <td>3185</td>\n",
       "      <td>City Hall</td>\n",
       "      <td>40.717732</td>\n",
       "      <td>-74.043845</td>\n",
       "      <td>3186</td>\n",
       "      <td>Grove St PATH</td>\n",
       "      <td>40.719586</td>\n",
       "      <td>-74.043117</td>\n",
       "      <td>29662</td>\n",
       "      <td>24 Hour</td>\n",
       "      <td>Customer</td>\n",
       "      <td>NaN</td>\n",
       "      <td>0</td>\n",
       "    </tr>\n",
       "    <tr>\n",
       "      <th>4</th>\n",
       "      <td>303</td>\n",
       "      <td>5/1/18 4:27</td>\n",
       "      <td>5/1/18 4:32</td>\n",
       "      <td>3207</td>\n",
       "      <td>Oakland Ave</td>\n",
       "      <td>40.737604</td>\n",
       "      <td>-74.052478</td>\n",
       "      <td>3195</td>\n",
       "      <td>Sip Ave</td>\n",
       "      <td>40.730743</td>\n",
       "      <td>-74.063784</td>\n",
       "      <td>15271</td>\n",
       "      <td>Annual Membership</td>\n",
       "      <td>Subscriber</td>\n",
       "      <td>1984.0</td>\n",
       "      <td>2</td>\n",
       "    </tr>\n",
       "    <tr>\n",
       "      <th>5</th>\n",
       "      <td>176</td>\n",
       "      <td>5/1/18 4:37</td>\n",
       "      <td>5/1/18 4:40</td>\n",
       "      <td>3194</td>\n",
       "      <td>McGinley Square</td>\n",
       "      <td>40.725340</td>\n",
       "      <td>-74.067622</td>\n",
       "      <td>3195</td>\n",
       "      <td>Sip Ave</td>\n",
       "      <td>40.730743</td>\n",
       "      <td>-74.063784</td>\n",
       "      <td>29298</td>\n",
       "      <td>Annual Membership</td>\n",
       "      <td>Subscriber</td>\n",
       "      <td>1989.0</td>\n",
       "      <td>2</td>\n",
       "    </tr>\n",
       "    <tr>\n",
       "      <th>6</th>\n",
       "      <td>577</td>\n",
       "      <td>5/1/18 5:05</td>\n",
       "      <td>5/1/18 5:15</td>\n",
       "      <td>3225</td>\n",
       "      <td>Baldwin at Montgomery</td>\n",
       "      <td>40.723659</td>\n",
       "      <td>-74.064194</td>\n",
       "      <td>3186</td>\n",
       "      <td>Grove St PATH</td>\n",
       "      <td>40.719586</td>\n",
       "      <td>-74.043117</td>\n",
       "      <td>33619</td>\n",
       "      <td>Annual Membership from Citi Bike App</td>\n",
       "      <td>Subscriber</td>\n",
       "      <td>1964.0</td>\n",
       "      <td>1</td>\n",
       "    </tr>\n",
       "    <tr>\n",
       "      <th>7</th>\n",
       "      <td>830</td>\n",
       "      <td>5/1/18 5:11</td>\n",
       "      <td>5/1/18 5:25</td>\n",
       "      <td>3207</td>\n",
       "      <td>Oakland Ave</td>\n",
       "      <td>40.737604</td>\n",
       "      <td>-74.052478</td>\n",
       "      <td>3185</td>\n",
       "      <td>City Hall</td>\n",
       "      <td>40.717732</td>\n",
       "      <td>-74.043845</td>\n",
       "      <td>33624</td>\n",
       "      <td>Annual Membership</td>\n",
       "      <td>Subscriber</td>\n",
       "      <td>1984.0</td>\n",
       "      <td>2</td>\n",
       "    </tr>\n",
       "    <tr>\n",
       "      <th>8</th>\n",
       "      <td>395</td>\n",
       "      <td>5/1/18 5:12</td>\n",
       "      <td>5/1/18 5:18</td>\n",
       "      <td>3225</td>\n",
       "      <td>Baldwin at Montgomery</td>\n",
       "      <td>40.723659</td>\n",
       "      <td>-74.064194</td>\n",
       "      <td>3186</td>\n",
       "      <td>Grove St PATH</td>\n",
       "      <td>40.719586</td>\n",
       "      <td>-74.043117</td>\n",
       "      <td>26300</td>\n",
       "      <td>Annual Membership</td>\n",
       "      <td>Subscriber</td>\n",
       "      <td>1993.0</td>\n",
       "      <td>1</td>\n",
       "    </tr>\n",
       "    <tr>\n",
       "      <th>9</th>\n",
       "      <td>170</td>\n",
       "      <td>5/1/18 5:13</td>\n",
       "      <td>5/1/18 5:16</td>\n",
       "      <td>3206</td>\n",
       "      <td>Hilltop</td>\n",
       "      <td>40.731169</td>\n",
       "      <td>-74.057574</td>\n",
       "      <td>3195</td>\n",
       "      <td>Sip Ave</td>\n",
       "      <td>40.730743</td>\n",
       "      <td>-74.063784</td>\n",
       "      <td>33555</td>\n",
       "      <td>$25 Off Annual Membership</td>\n",
       "      <td>Subscriber</td>\n",
       "      <td>1992.0</td>\n",
       "      <td>1</td>\n",
       "    </tr>\n",
       "  </tbody>\n",
       "</table>\n",
       "</div>"
      ],
      "text/plain": [
       "   tripduration    starttime     stoptime  start station id  \\\n",
       "0           338  5/1/18 0:04  5/1/18 0:10              3639   \n",
       "1          1482  5/1/18 1:31  5/1/18 1:55              3681   \n",
       "2           232  5/1/18 1:31  5/1/18 1:35              3194   \n",
       "3           190  5/1/18 2:03  5/1/18 2:06              3185   \n",
       "4           303  5/1/18 4:27  5/1/18 4:32              3207   \n",
       "5           176  5/1/18 4:37  5/1/18 4:40              3194   \n",
       "6           577  5/1/18 5:05  5/1/18 5:15              3225   \n",
       "7           830  5/1/18 5:11  5/1/18 5:25              3207   \n",
       "8           395  5/1/18 5:12  5/1/18 5:18              3225   \n",
       "9           170  5/1/18 5:13  5/1/18 5:16              3206   \n",
       "\n",
       "      start station name  start station latitude  start station longitude  \\\n",
       "0             Harborside               40.719252               -74.034234   \n",
       "1               Grand St               40.715178               -74.037683   \n",
       "2        McGinley Square               40.725340               -74.067622   \n",
       "3              City Hall               40.717732               -74.043845   \n",
       "4            Oakland Ave               40.737604               -74.052478   \n",
       "5        McGinley Square               40.725340               -74.067622   \n",
       "6  Baldwin at Montgomery               40.723659               -74.064194   \n",
       "7            Oakland Ave               40.737604               -74.052478   \n",
       "8  Baldwin at Montgomery               40.723659               -74.064194   \n",
       "9                Hilltop               40.731169               -74.057574   \n",
       "\n",
       "   end station id end station name  end station latitude  \\\n",
       "0            3199     Newport Pkwy             40.728745   \n",
       "1            3185        City Hall             40.717732   \n",
       "2            3193     Lincoln Park             40.724605   \n",
       "3            3186    Grove St PATH             40.719586   \n",
       "4            3195          Sip Ave             40.730743   \n",
       "5            3195          Sip Ave             40.730743   \n",
       "6            3186    Grove St PATH             40.719586   \n",
       "7            3185        City Hall             40.717732   \n",
       "8            3186    Grove St PATH             40.719586   \n",
       "9            3195          Sip Ave             40.730743   \n",
       "\n",
       "   end station longitude  bikeid                     name_localizedValue0  \\\n",
       "0             -74.032108   33558                        Annual Membership   \n",
       "1             -74.043845   33593                                  24 Hour   \n",
       "2             -74.078406   29217  FREE Bonus Month with Annual Membership   \n",
       "3             -74.043117   29662                                  24 Hour   \n",
       "4             -74.063784   15271                        Annual Membership   \n",
       "5             -74.063784   29298                        Annual Membership   \n",
       "6             -74.043117   33619     Annual Membership from Citi Bike App   \n",
       "7             -74.043845   33624                        Annual Membership   \n",
       "8             -74.043117   26300                        Annual Membership   \n",
       "9             -74.063784   33555                $25 Off Annual Membership   \n",
       "\n",
       "     usertype  birth year  gender  \n",
       "0  Subscriber      1988.0       1  \n",
       "1    Customer         NaN       0  \n",
       "2  Subscriber      1985.0       1  \n",
       "3    Customer         NaN       0  \n",
       "4  Subscriber      1984.0       2  \n",
       "5  Subscriber      1989.0       2  \n",
       "6  Subscriber      1964.0       1  \n",
       "7  Subscriber      1984.0       2  \n",
       "8  Subscriber      1993.0       1  \n",
       "9  Subscriber      1992.0       1  "
      ]
     },
     "execution_count": 43,
     "metadata": {},
     "output_type": "execute_result"
    }
   ],
   "source": [
    "# Import a csv file, read it and save it as a dictionary \n",
    "\n",
    "import pandas as pd      # pandas module will be covered later in detail\n",
    "\n",
    "bike_data = pd.read_csv('https://raw.githubusercontent.com/dcohriner/Citi-Bike-Analytics/master/citibike_tripdata.csv')\n",
    "bike_data.head()"
   ]
  },
  {
   "cell_type": "code",
   "execution_count": 45,
   "id": "2e7e9748",
   "metadata": {},
   "outputs": [
    {
     "name": "stdout",
     "output_type": "stream",
     "text": [
      "[3621, 1961, 1827, 1726, 1511, 1123, 1093, 1055, 949, 938, 934, 929, 923, 826, 799, 798, 797, 775, 751, 750, 737, 722, 605, 589, 530, 529, 510, 504, 485, 426, 420, 412, 332, 298, 294, 290, 281, 279, 249, 240, 238, 235, 220, 216, 195, 162, 127, 119, 104, 21]\n"
     ]
    }
   ],
   "source": [
    "# Create a list of the number of occurances of each Station Name\n",
    "v = list(bike_data['start station name'].value_counts())\n",
    "print(v)"
   ]
  },
  {
   "cell_type": "code",
   "execution_count": 46,
   "id": "892fe0cd",
   "metadata": {},
   "outputs": [
    {
     "name": "stdout",
     "output_type": "stream",
     "text": [
      "['Grove St PATH', 'Hamilton Park', 'Sip Ave', 'Exchange Place', 'Newport PATH', 'Harborside', 'Morris Canal', 'Newport Pkwy', 'City Hall', 'Marin Light Rail', 'Newark Ave', 'Warren St', 'Van Vorst Park', 'Paulus Hook', 'Liberty Light Rail', 'Jersey & 6th St', 'Jersey & 3rd', 'Brunswick & 6th', 'Brunswick St', 'Columbus Drive', 'Washington St', 'Essex Light Rail', 'Manila & 1st', 'Oakland Ave', 'Monmouth and 6th', 'JC Medical Center', 'Dixon Mills', 'Journal Square', 'McGinley Square', 'Pershing Field', 'Grand St', 'Baldwin at Montgomery', 'Hilltop', 'Leonard Gordon Park', 'Bergen Ave', 'Heights Elevator', 'York St', 'Fairmount Ave', 'Astor Place', 'Lincoln Park', 'Riverview Park', 'Christ Hospital', 'Montgomery St', '5 Corners Library', 'Lafayette Park', 'Communipaw & Berry Lane', 'Glenwood Ave', 'Dey St', 'Union St', 'JCBS Depot']\n"
     ]
    }
   ],
   "source": [
    "# Create a list of unique Start Station Names\n",
    "k = list(bike_data['start station name'].value_counts().index)\n",
    "print(k)"
   ]
  },
  {
   "cell_type": "code",
   "execution_count": 51,
   "id": "f6f4e7d2",
   "metadata": {},
   "outputs": [
    {
     "data": {
      "text/plain": [
       "{'Grove St PATH': 3621,\n",
       " 'Hamilton Park': 1961,\n",
       " 'Sip Ave': 1827,\n",
       " 'Exchange Place': 1726,\n",
       " 'Newport PATH': 1511,\n",
       " 'Harborside': 1123,\n",
       " 'Morris Canal': 1093,\n",
       " 'Newport Pkwy': 1055,\n",
       " 'City Hall': 949,\n",
       " 'Marin Light Rail': 938,\n",
       " 'Newark Ave': 934,\n",
       " 'Warren St': 929,\n",
       " 'Van Vorst Park': 923,\n",
       " 'Paulus Hook': 826,\n",
       " 'Liberty Light Rail': 799,\n",
       " 'Jersey & 6th St': 798,\n",
       " 'Jersey & 3rd': 797,\n",
       " 'Brunswick & 6th': 775,\n",
       " 'Brunswick St': 751,\n",
       " 'Columbus Drive': 750,\n",
       " 'Washington St': 737,\n",
       " 'Essex Light Rail': 722,\n",
       " 'Manila & 1st': 605,\n",
       " 'Oakland Ave': 589,\n",
       " 'Monmouth and 6th': 530,\n",
       " 'JC Medical Center': 529,\n",
       " 'Dixon Mills': 510,\n",
       " 'Journal Square': 504,\n",
       " 'McGinley Square': 485,\n",
       " 'Pershing Field': 426,\n",
       " 'Grand St': 420,\n",
       " 'Baldwin at Montgomery': 412,\n",
       " 'Hilltop': 332,\n",
       " 'Leonard Gordon Park': 298,\n",
       " 'Bergen Ave': 294,\n",
       " 'Heights Elevator': 290,\n",
       " 'York St': 281,\n",
       " 'Fairmount Ave': 279,\n",
       " 'Astor Place': 249,\n",
       " 'Lincoln Park': 240,\n",
       " 'Riverview Park': 238,\n",
       " 'Christ Hospital': 235,\n",
       " 'Montgomery St': 220,\n",
       " '5 Corners Library': 216,\n",
       " 'Lafayette Park': 195,\n",
       " 'Communipaw & Berry Lane': 162,\n",
       " 'Glenwood Ave': 127,\n",
       " 'Dey St': 119,\n",
       " 'Union St': 104,\n",
       " 'JCBS Depot': 21}"
      ]
     },
     "execution_count": 51,
     "metadata": {},
     "output_type": "execute_result"
    }
   ],
   "source": [
    "# Zip the 2 lists into a Dictionary:\n",
    "\n",
    "# item = list(zip(k, v))\n",
    "item = dict(zip(k, v))\n",
    "item"
   ]
  },
  {
   "cell_type": "code",
   "execution_count": 12,
   "id": "012d71ae",
   "metadata": {},
   "outputs": [
    {
     "name": "stdout",
     "output_type": "stream",
     "text": [
      "['__class__', '__class_getitem__', '__contains__', '__delattr__', '__delitem__', '__dir__', '__doc__', '__eq__', '__format__', '__ge__', '__getattribute__', '__getitem__', '__gt__', '__hash__', '__init__', '__init_subclass__', '__ior__', '__iter__', '__le__', '__len__', '__lt__', '__ne__', '__new__', '__or__', '__reduce__', '__reduce_ex__', '__repr__', '__reversed__', '__ror__', '__setattr__', '__setitem__', '__sizeof__', '__str__', '__subclasshook__', 'clear', 'copy', 'fromkeys', 'get', 'items', 'keys', 'pop', 'popitem', 'setdefault', 'update', 'values']\n"
     ]
    }
   ],
   "source": [
    "# Inbuilt Functions / Methods on Dict:\n",
    "\n",
    "print(dir(dict))\n",
    "# ['clear', 'copy', 'fromkeys', 'get', 'items', 'keys', 'pop', 'popitem', 'setdefault', 'update', 'values']"
   ]
  },
  {
   "cell_type": "code",
   "execution_count": 55,
   "id": "6c69a5db",
   "metadata": {},
   "outputs": [
    {
     "name": "stdout",
     "output_type": "stream",
     "text": [
      "Bronco\n",
      "{'brand': 'Ford', 'model': 'Mustang', 'year': 1964, 'model1': 'Bronco'}\n"
     ]
    }
   ],
   "source": [
    "# The setdefault() method returns the value of the item with the specified key.\n",
    "# If the key does not exist, it inserts or appends the key into the dictionary, with the specified value:\n",
    "\n",
    "car = {\"brand\": \"Ford\",  \n",
    "       \"model\": \"Mustang\",  \n",
    "       \"year\": 1964}\n",
    "\n",
    "x = car.setdefault(\"model1\", 'Bronco')\n",
    "\n",
    "print(x)\n",
    "print(car)"
   ]
  },
  {
   "cell_type": "code",
   "execution_count": null,
   "id": "b0411317",
   "metadata": {},
   "outputs": [],
   "source": []
  },
  {
   "cell_type": "code",
   "execution_count": 16,
   "id": "490fdae4",
   "metadata": {},
   "outputs": [
    {
     "data": {
      "text/plain": [
       "{'Grove St PATH': 3621,\n",
       " 'Hamilton Park': 1961,\n",
       " 'Sip Ave': 1827,\n",
       " 'Exchange Place': 1726,\n",
       " 'Newport PATH': 1511,\n",
       " 'Harborside': 1123,\n",
       " 'Morris Canal': 1093,\n",
       " 'Newport Pkwy': 1055,\n",
       " 'City Hall': 949,\n",
       " 'Marin Light Rail': 938,\n",
       " 'Newark Ave': 934,\n",
       " 'Warren St': 929,\n",
       " 'Van Vorst Park': 923,\n",
       " 'Paulus Hook': 826,\n",
       " 'Liberty Light Rail': 799,\n",
       " 'Jersey & 6th St': 798,\n",
       " 'Jersey & 3rd': 797,\n",
       " 'Brunswick & 6th': 775,\n",
       " 'Brunswick St': 751,\n",
       " 'Columbus Drive': 750,\n",
       " 'Washington St': 737,\n",
       " 'Essex Light Rail': 722,\n",
       " 'Manila & 1st': 605,\n",
       " 'Oakland Ave': 589,\n",
       " 'Monmouth and 6th': 530,\n",
       " 'JC Medical Center': 529,\n",
       " 'Dixon Mills': 510,\n",
       " 'Journal Square': 504,\n",
       " 'McGinley Square': 485,\n",
       " 'Pershing Field': 426,\n",
       " 'Grand St': 420,\n",
       " 'Baldwin at Montgomery': 412,\n",
       " 'Hilltop': 332,\n",
       " 'Leonard Gordon Park': 298,\n",
       " 'Bergen Ave': 294,\n",
       " 'Heights Elevator': 290,\n",
       " 'York St': 281,\n",
       " 'Fairmount Ave': 279,\n",
       " 'Astor Place': 249,\n",
       " 'Lincoln Park': 240,\n",
       " 'Riverview Park': 238,\n",
       " 'Christ Hospital': 235,\n",
       " 'Montgomery St': 220,\n",
       " '5 Corners Library': 216,\n",
       " 'Lafayette Park': 195,\n",
       " 'Communipaw & Berry Lane': 162,\n",
       " 'Glenwood Ave': 127,\n",
       " 'Dey St': 119,\n",
       " 'Union St': 104,\n",
       " 'JCBS Depot': 21,\n",
       " 'JF Kennedy St.': 23,\n",
       " 'Lincoln St.': 18}"
      ]
     },
     "execution_count": 16,
     "metadata": {},
     "output_type": "execute_result"
    }
   ],
   "source": [
    "# Concatenating 2 dictionaries:\n",
    "# All methods will concatenate only if the second dict key is not already present in the first dict key.\n",
    "# update method is similar to extend method in list\n",
    "# It updates a dictionary in another dictonary\n",
    "\n",
    "# Method 1:\n",
    "st_name_count = {}\n",
    "item2 = {\"JF Kennedy St.\":23, \"Lincoln St.\":18}\n",
    "\n",
    "st_name_count.update(item)\n",
    "st_name_count.update(item2)\n",
    "\n",
    "st_name_count"
   ]
  },
  {
   "cell_type": "code",
   "execution_count": 18,
   "id": "096d8c90",
   "metadata": {},
   "outputs": [
    {
     "data": {
      "text/plain": [
       "{'Grove St PATH': 3621,\n",
       " 'Hamilton Park': 1961,\n",
       " 'Sip Ave': 1827,\n",
       " 'Exchange Place': 1726,\n",
       " 'Newport PATH': 1511,\n",
       " 'Harborside': 1123,\n",
       " 'Morris Canal': 1093,\n",
       " 'Newport Pkwy': 1055,\n",
       " 'City Hall': 949,\n",
       " 'Marin Light Rail': 938,\n",
       " 'Newark Ave': 934,\n",
       " 'Warren St': 929,\n",
       " 'Van Vorst Park': 923,\n",
       " 'Paulus Hook': 826,\n",
       " 'Liberty Light Rail': 799,\n",
       " 'Jersey & 6th St': 798,\n",
       " 'Jersey & 3rd': 797,\n",
       " 'Brunswick & 6th': 775,\n",
       " 'Brunswick St': 751,\n",
       " 'Columbus Drive': 750,\n",
       " 'Washington St': 737,\n",
       " 'Essex Light Rail': 722,\n",
       " 'Manila & 1st': 605,\n",
       " 'Oakland Ave': 589,\n",
       " 'Monmouth and 6th': 530,\n",
       " 'JC Medical Center': 529,\n",
       " 'Dixon Mills': 510,\n",
       " 'Journal Square': 504,\n",
       " 'McGinley Square': 485,\n",
       " 'Pershing Field': 426,\n",
       " 'Grand St': 420,\n",
       " 'Baldwin at Montgomery': 412,\n",
       " 'Hilltop': 332,\n",
       " 'Leonard Gordon Park': 298,\n",
       " 'Bergen Ave': 294,\n",
       " 'Heights Elevator': 290,\n",
       " 'York St': 281,\n",
       " 'Fairmount Ave': 279,\n",
       " 'Astor Place': 249,\n",
       " 'Lincoln Park': 240,\n",
       " 'Riverview Park': 238,\n",
       " 'Christ Hospital': 235,\n",
       " 'Montgomery St': 220,\n",
       " '5 Corners Library': 216,\n",
       " 'Lafayette Park': 195,\n",
       " 'Communipaw & Berry Lane': 162,\n",
       " 'Glenwood Ave': 127,\n",
       " 'Dey St': 119,\n",
       " 'Union St': 104,\n",
       " 'JCBS Depot': 21,\n",
       " 'JF Kennedy St.': 23,\n",
       " 'Lincoln St.': 18}"
      ]
     },
     "execution_count": 18,
     "metadata": {},
     "output_type": "execute_result"
    }
   ],
   "source": [
    "# Method 2:\n",
    "st_name_count_2 = {}\n",
    "\n",
    "for d in [item, item2]:\n",
    "  st_name_count_2.update(d)\n",
    "\n",
    "st_name_count_2"
   ]
  },
  {
   "cell_type": "code",
   "execution_count": 19,
   "id": "7742a3c6",
   "metadata": {},
   "outputs": [
    {
     "name": "stdout",
     "output_type": "stream",
     "text": [
      "{'Grove St PATH': 3621, 'Hamilton Park': 1961, 'Sip Ave': 1827, 'Exchange Place': 1726, 'Newport PATH': 1511, 'Harborside': 1123, 'Morris Canal': 1093, 'Newport Pkwy': 1055, 'City Hall': 949, 'Marin Light Rail': 938, 'Newark Ave': 934, 'Warren St': 929, 'Van Vorst Park': 923, 'Paulus Hook': 826, 'Liberty Light Rail': 799, 'Jersey & 6th St': 798, 'Jersey & 3rd': 797, 'Brunswick & 6th': 775, 'Brunswick St': 751, 'Columbus Drive': 750, 'Washington St': 737, 'Essex Light Rail': 722, 'Manila & 1st': 605, 'Oakland Ave': 589, 'Monmouth and 6th': 530, 'JC Medical Center': 529, 'Dixon Mills': 510, 'Journal Square': 504, 'McGinley Square': 485, 'Pershing Field': 426, 'Grand St': 420, 'Baldwin at Montgomery': 412, 'Hilltop': 332, 'Leonard Gordon Park': 298, 'Bergen Ave': 294, 'Heights Elevator': 290, 'York St': 281, 'Fairmount Ave': 279, 'Astor Place': 249, 'Lincoln Park': 240, 'Riverview Park': 238, 'Christ Hospital': 235, 'Montgomery St': 220, '5 Corners Library': 216, 'Lafayette Park': 195, 'Communipaw & Berry Lane': 162, 'Glenwood Ave': 127, 'Dey St': 119, 'Union St': 104, 'JCBS Depot': 21}\n",
      "\n",
      "{'Grove St PATH': 3621, 'Hamilton Park': 1961, 'Sip Ave': 1827, 'Exchange Place': 1726, 'Newport PATH': 1511, 'Harborside': 1123, 'Morris Canal': 1093, 'Newport Pkwy': 1055, 'City Hall': 949, 'Marin Light Rail': 938, 'Newark Ave': 934, 'Warren St': 929, 'Van Vorst Park': 923, 'Paulus Hook': 826, 'Liberty Light Rail': 799, 'Jersey & 6th St': 798, 'Jersey & 3rd': 797, 'Brunswick & 6th': 775, 'Brunswick St': 751, 'Columbus Drive': 750, 'Washington St': 737, 'Essex Light Rail': 722, 'Manila & 1st': 605, 'Oakland Ave': 589, 'Monmouth and 6th': 530, 'JC Medical Center': 529, 'Dixon Mills': 510, 'Journal Square': 504, 'McGinley Square': 485, 'Pershing Field': 426, 'Grand St': 420, 'Baldwin at Montgomery': 412, 'Hilltop': 332, 'Leonard Gordon Park': 298, 'Bergen Ave': 294, 'Heights Elevator': 290, 'York St': 281, 'Fairmount Ave': 279, 'Astor Place': 249, 'Lincoln Park': 240, 'Riverview Park': 238, 'Christ Hospital': 235, 'Montgomery St': 220, '5 Corners Library': 216, 'Lafayette Park': 195, 'Communipaw & Berry Lane': 162, 'Glenwood Ave': 127, 'Dey St': 119, 'Union St': 104, 'JCBS Depot': 21}\n",
      "\n"
     ]
    }
   ],
   "source": [
    "# If we try to concatenate the same dict keys, the resultant dict will be same as the original \n",
    "# as we cannot have duplicate keys in a dict. However values can be duplicated\n",
    "\n",
    "# Method 1:\n",
    "st_name_count_1 = {}\n",
    "st_name_count_1.update(item)\n",
    "st_name_count_1.update(item)\n",
    "print(st_name_count_1, end = '\\n\\n')\n",
    "\n",
    "# Method 2:\n",
    "st_name_count_2 = {}\n",
    "for d in [item, item]:\n",
    "  st_name_count_2.update(d)\n",
    "print(st_name_count_2, end = '\\n\\n')"
   ]
  },
  {
   "cell_type": "code",
   "execution_count": 56,
   "id": "60a73a69",
   "metadata": {
    "ExecuteTime": {
     "end_time": "2021-08-29T05:35:50.168620Z",
     "start_time": "2021-08-29T05:35:50.163063Z"
    },
    "id": "60a73a69",
    "outputId": "745c7f88-b855-4a1b-9a19-6fc92dc44b87"
   },
   "outputs": [
    {
     "name": "stdout",
     "output_type": "stream",
     "text": [
      "{'Grove St PATH': 3621, 'Hamilton Park': 1961, 'Sip Ave': 1827, 'Exchange Place': 1726, 'Newport PATH': 1511, 'Harborside': 1123, 'Morris Canal': 1093, 'Newport Pkwy': 1055, 'City Hall': 949, 'Marin Light Rail': 938, 'Newark Ave': 934, 'Warren St': 929, 'Van Vorst Park': 923, 'Paulus Hook': 826, 'Liberty Light Rail': 799, 'Jersey & 6th St': 798, 'Jersey & 3rd': 797, 'Brunswick & 6th': 775, 'Brunswick St': 751, 'Columbus Drive': 750, 'Washington St': 737, 'Essex Light Rail': 722, 'Manila & 1st': 605, 'Oakland Ave': 589, 'Monmouth and 6th': 530, 'JC Medical Center': 529, 'Dixon Mills': 510, 'Journal Square': 504, 'McGinley Square': 485, 'Pershing Field': 426, 'Grand St': 420, 'Baldwin at Montgomery': 412, 'Hilltop': 332, 'Leonard Gordon Park': 298, 'Bergen Ave': 294, 'Heights Elevator': 290, 'York St': 281, 'Fairmount Ave': 279, 'Astor Place': 249, 'Lincoln Park': 240, 'Riverview Park': 238, 'Christ Hospital': 235, 'Montgomery St': 220, '5 Corners Library': 216, 'Lafayette Park': 195, 'Communipaw & Berry Lane': 162, 'Glenwood Ave': 127, 'Dey St': 119, 'Union St': 104, 'JCBS Depot': 21}\n",
      "\n",
      "332\n"
     ]
    }
   ],
   "source": [
    "# Accessing the value from the dictionary\n",
    "\n",
    "# Content of Entire Dictionary:\n",
    "print(item, end = '\\n\\n')\n",
    "\n",
    "# Value of a particular Key:\n",
    "print(item['Hilltop'])\n",
    "\n",
    "# We can access the value from keys, but vice-versa is not possible because keys are unique but values may not be unique"
   ]
  },
  {
   "cell_type": "code",
   "execution_count": 24,
   "id": "4611654a",
   "metadata": {
    "ExecuteTime": {
     "end_time": "2021-08-29T05:34:14.151307Z",
     "start_time": "2021-08-29T05:34:14.146101Z"
    },
    "id": "4611654a"
   },
   "outputs": [
    {
     "name": "stdout",
     "output_type": "stream",
     "text": [
      "[('Grove St PATH', 3621), ('Hamilton Park', 1961), ('Sip Ave', 1827), ('Exchange Place', 1726), ('Newport PATH', 1511), ('Harborside', 1123), ('Morris Canal', 1093), ('Newport Pkwy', 1055), ('City Hall', 949), ('Marin Light Rail', 938), ('Newark Ave', 934), ('Warren St', 929), ('Van Vorst Park', 923), ('Paulus Hook', 826), ('Liberty Light Rail', 799), ('Jersey & 6th St', 798), ('Jersey & 3rd', 797), ('Brunswick & 6th', 775), ('Brunswick St', 751), ('Columbus Drive', 750), ('Washington St', 737), ('Essex Light Rail', 722), ('Manila & 1st', 605), ('Oakland Ave', 589), ('Monmouth and 6th', 530), ('JC Medical Center', 529), ('Dixon Mills', 510), ('Journal Square', 504), ('McGinley Square', 485), ('Pershing Field', 426), ('Grand St', 420), ('Baldwin at Montgomery', 412), ('Hilltop', 332), ('Leonard Gordon Park', 298), ('Bergen Ave', 294), ('Heights Elevator', 290), ('York St', 281), ('Fairmount Ave', 279), ('Astor Place', 249), ('Lincoln Park', 240), ('Riverview Park', 238), ('Christ Hospital', 235), ('Montgomery St', 220), ('5 Corners Library', 216), ('Lafayette Park', 195), ('Communipaw & Berry Lane', 162), ('Glenwood Ave', 127), ('Dey St', 119), ('Union St', 104), ('JCBS Depot', 21)]\n",
      "\n",
      "['Grove St PATH', 'Hamilton Park', 'Sip Ave', 'Exchange Place', 'Newport PATH', 'Harborside', 'Morris Canal', 'Newport Pkwy', 'City Hall', 'Marin Light Rail', 'Newark Ave', 'Warren St', 'Van Vorst Park', 'Paulus Hook', 'Liberty Light Rail', 'Jersey & 6th St', 'Jersey & 3rd', 'Brunswick & 6th', 'Brunswick St', 'Columbus Drive', 'Washington St', 'Essex Light Rail', 'Manila & 1st', 'Oakland Ave', 'Monmouth and 6th', 'JC Medical Center', 'Dixon Mills', 'Journal Square', 'McGinley Square', 'Pershing Field', 'Grand St', 'Baldwin at Montgomery', 'Hilltop', 'Leonard Gordon Park', 'Bergen Ave', 'Heights Elevator', 'York St', 'Fairmount Ave', 'Astor Place', 'Lincoln Park', 'Riverview Park', 'Christ Hospital', 'Montgomery St', '5 Corners Library', 'Lafayette Park', 'Communipaw & Berry Lane', 'Glenwood Ave', 'Dey St', 'Union St', 'JCBS Depot']\n",
      "\n",
      "[3621, 1961, 1827, 1726, 1511, 1123, 1093, 1055, 949, 938, 934, 929, 923, 826, 799, 798, 797, 775, 751, 750, 737, 722, 605, 589, 530, 529, 510, 504, 485, 426, 420, 412, 332, 298, 294, 290, 281, 279, 249, 240, 238, 235, 220, 216, 195, 162, 127, 119, 104, 21]\n",
      "\n"
     ]
    }
   ],
   "source": [
    "# items(), keys(), values():\n",
    "\n",
    "print(list(item.items()), end = '\\n\\n')       # items() - Returns a list of tuples with key value pair\n",
    "print(list(item.keys()), end = '\\n\\n')        # keys() - Returns a tuple of keys\n",
    "print(list(item.values()), end = '\\n\\n')      # values() - Returns a list of values"
   ]
  },
  {
   "cell_type": "code",
   "execution_count": 26,
   "id": "4727a54e",
   "metadata": {},
   "outputs": [
    {
     "name": "stdout",
     "output_type": "stream",
     "text": [
      "1511\n",
      "This key is not present\n"
     ]
    },
    {
     "ename": "KeyError",
     "evalue": "'Mumbai'",
     "output_type": "error",
     "traceback": [
      "\u001b[1;31m---------------------------------------------------------------------------\u001b[0m",
      "\u001b[1;31mKeyError\u001b[0m                                  Traceback (most recent call last)",
      "\u001b[1;32m~\\AppData\\Local\\Temp/ipykernel_32808/410888852.py\u001b[0m in \u001b[0;36m<module>\u001b[1;34m\u001b[0m\n\u001b[0;32m     18\u001b[0m \u001b[1;33m\u001b[0m\u001b[0m\n\u001b[0;32m     19\u001b[0m \u001b[1;31m# If key is not present then returns value error if second arg is not passed\u001b[0m\u001b[1;33m\u001b[0m\u001b[1;33m\u001b[0m\u001b[0m\n\u001b[1;32m---> 20\u001b[1;33m \u001b[0mprint\u001b[0m\u001b[1;33m(\u001b[0m\u001b[0mitem\u001b[0m\u001b[1;33m.\u001b[0m\u001b[0mpop\u001b[0m\u001b[1;33m(\u001b[0m\u001b[1;34m'Mumbai'\u001b[0m\u001b[1;33m)\u001b[0m\u001b[1;33m)\u001b[0m\u001b[1;33m\u001b[0m\u001b[1;33m\u001b[0m\u001b[0m\n\u001b[0m",
      "\u001b[1;31mKeyError\u001b[0m: 'Mumbai'"
     ]
    }
   ],
   "source": [
    "# 'pop'\n",
    "\n",
    "# pop(key, value)\n",
    "# If key is present then removes the key value pair and returns the value only\n",
    "# If key is not present then returns value error if second arg is not passed\n",
    "# else return the second arg as output if key is not present\n",
    "\n",
    "# Lets re-create the dictionary\n",
    "k = list(bike_data['start station name'].value_counts().index)\n",
    "v = list(bike_data['start station name'].value_counts())\n",
    "item = dict(zip(k, v))\n",
    "\n",
    "# If key is present then removes the key value pair and returns the value only\n",
    "print(item.pop('Newport PATH'))   \n",
    "\n",
    "# else return the second arg as output if key is not present\n",
    "print(item.pop('Gothenburg', 'This key is not present'))   \n",
    "\n",
    "# If key is not present then returns value error if second arg is not passed\n",
    "print(item.pop('Mumbai'))   \n"
   ]
  },
  {
   "cell_type": "code",
   "execution_count": 27,
   "id": "3dd4d46c",
   "metadata": {
    "ExecuteTime": {
     "end_time": "2021-08-29T05:58:39.990882Z",
     "start_time": "2021-08-29T05:58:39.983567Z"
    },
    "id": "3dd4d46c",
    "outputId": "292891ba-48e6-4911-cca6-658b02e2aade"
   },
   "outputs": [
    {
     "name": "stdout",
     "output_type": "stream",
     "text": [
      "Dictionary before popitem(): {'Grove St PATH': 3621, 'Hamilton Park': 1961, 'Sip Ave': 1827, 'Exchange Place': 1726, 'Newport PATH': 1511, 'Harborside': 1123, 'Morris Canal': 1093, 'Newport Pkwy': 1055, 'City Hall': 949, 'Marin Light Rail': 938, 'Newark Ave': 934, 'Warren St': 929, 'Van Vorst Park': 923, 'Paulus Hook': 826, 'Liberty Light Rail': 799, 'Jersey & 6th St': 798, 'Jersey & 3rd': 797, 'Brunswick & 6th': 775, 'Brunswick St': 751, 'Columbus Drive': 750, 'Washington St': 737, 'Essex Light Rail': 722, 'Manila & 1st': 605, 'Oakland Ave': 589, 'Monmouth and 6th': 530, 'JC Medical Center': 529, 'Dixon Mills': 510, 'Journal Square': 504, 'McGinley Square': 485, 'Pershing Field': 426, 'Grand St': 420, 'Baldwin at Montgomery': 412, 'Hilltop': 332, 'Leonard Gordon Park': 298, 'Bergen Ave': 294, 'Heights Elevator': 290, 'York St': 281, 'Fairmount Ave': 279, 'Astor Place': 249, 'Lincoln Park': 240, 'Riverview Park': 238, 'Christ Hospital': 235, 'Montgomery St': 220, '5 Corners Library': 216, 'Lafayette Park': 195, 'Communipaw & Berry Lane': 162, 'Glenwood Ave': 127, 'Dey St': 119, 'Union St': 104, 'JCBS Depot': 21}\n",
      "\n",
      "Popped item:  ('JCBS Depot', 21)\n",
      "\n",
      "Dictionary after popitem(): {'Grove St PATH': 3621, 'Hamilton Park': 1961, 'Sip Ave': 1827, 'Exchange Place': 1726, 'Newport PATH': 1511, 'Harborside': 1123, 'Morris Canal': 1093, 'Newport Pkwy': 1055, 'City Hall': 949, 'Marin Light Rail': 938, 'Newark Ave': 934, 'Warren St': 929, 'Van Vorst Park': 923, 'Paulus Hook': 826, 'Liberty Light Rail': 799, 'Jersey & 6th St': 798, 'Jersey & 3rd': 797, 'Brunswick & 6th': 775, 'Brunswick St': 751, 'Columbus Drive': 750, 'Washington St': 737, 'Essex Light Rail': 722, 'Manila & 1st': 605, 'Oakland Ave': 589, 'Monmouth and 6th': 530, 'JC Medical Center': 529, 'Dixon Mills': 510, 'Journal Square': 504, 'McGinley Square': 485, 'Pershing Field': 426, 'Grand St': 420, 'Baldwin at Montgomery': 412, 'Hilltop': 332, 'Leonard Gordon Park': 298, 'Bergen Ave': 294, 'Heights Elevator': 290, 'York St': 281, 'Fairmount Ave': 279, 'Astor Place': 249, 'Lincoln Park': 240, 'Riverview Park': 238, 'Christ Hospital': 235, 'Montgomery St': 220, '5 Corners Library': 216, 'Lafayette Park': 195, 'Communipaw & Berry Lane': 162, 'Glenwood Ave': 127, 'Dey St': 119, 'Union St': 104}\n",
      "\n"
     ]
    }
   ],
   "source": [
    "# popitem() \n",
    "\n",
    "# Return a tuple with the popped key and value pair\n",
    "# Removes last entry\n",
    "\n",
    "# Lets re-create the dictionary\n",
    "k = list(bike_data['start station name'].value_counts().index)\n",
    "v = list(bike_data['start station name'].value_counts())\n",
    "item = dict(zip(k, v))\n",
    "\n",
    "print(\"Dictionary before popitem():\", item, end = '\\n\\n')\n",
    "print(\"Popped item: \", item.popitem(), end = '\\n\\n')\n",
    "print(\"Dictionary after popitem():\", item, end = '\\n\\n')"
   ]
  },
  {
   "cell_type": "code",
   "execution_count": 28,
   "id": "1971db88",
   "metadata": {},
   "outputs": [
    {
     "name": "stdout",
     "output_type": "stream",
     "text": [
      "Before Clearing:  {'Grove St PATH': 3621, 'Hamilton Park': 1961, 'Sip Ave': 1827, 'Exchange Place': 1726, 'Newport PATH': 1511, 'Harborside': 1123, 'Morris Canal': 1093, 'Newport Pkwy': 1055, 'City Hall': 949, 'Marin Light Rail': 938, 'Newark Ave': 934, 'Warren St': 929, 'Van Vorst Park': 923, 'Paulus Hook': 826, 'Liberty Light Rail': 799, 'Jersey & 6th St': 798, 'Jersey & 3rd': 797, 'Brunswick & 6th': 775, 'Brunswick St': 751, 'Columbus Drive': 750, 'Washington St': 737, 'Essex Light Rail': 722, 'Manila & 1st': 605, 'Oakland Ave': 589, 'Monmouth and 6th': 530, 'JC Medical Center': 529, 'Dixon Mills': 510, 'Journal Square': 504, 'McGinley Square': 485, 'Pershing Field': 426, 'Grand St': 420, 'Baldwin at Montgomery': 412, 'Hilltop': 332, 'Leonard Gordon Park': 298, 'Bergen Ave': 294, 'Heights Elevator': 290, 'York St': 281, 'Fairmount Ave': 279, 'Astor Place': 249, 'Lincoln Park': 240, 'Riverview Park': 238, 'Christ Hospital': 235, 'Montgomery St': 220, '5 Corners Library': 216, 'Lafayette Park': 195, 'Communipaw & Berry Lane': 162, 'Glenwood Ave': 127, 'Dey St': 119, 'Union St': 104, 'JCBS Depot': 21}\n",
      "\n",
      "After Clearing:  {}\n"
     ]
    }
   ],
   "source": [
    "# clear() \n",
    "# Deletes all the elements from the dictionary and leaves the empty dictionary behind\n",
    "\n",
    "# Lets re-create the dictionary\n",
    "k = list(bike_data['start station name'].value_counts().index)\n",
    "v = list(bike_data['start station name'].value_counts())\n",
    "item = dict(zip(k, v))\n",
    "\n",
    "print(\"Before Clearing: \", item, end = '\\n\\n')\n",
    "item.clear()   \n",
    "print(\"After Clearing: \", item)"
   ]
  },
  {
   "cell_type": "code",
   "execution_count": 29,
   "id": "c6f13dde",
   "metadata": {
    "ExecuteTime": {
     "end_time": "2021-08-29T06:10:34.381736Z",
     "start_time": "2021-08-29T06:10:34.371996Z"
    },
    "id": "c6f13dde",
    "outputId": "e92fe2b1-28ce-4f90-8684-bb92e485aaa3"
   },
   "outputs": [
    {
     "name": "stdout",
     "output_type": "stream",
     "text": [
      "{'A': [1, 2.5, True, None, (5+6j), 'Python'], 'B': [1, 2.5, True, None, (5+6j), 'Python'], 'C': [1, 2.5, True, None, (5+6j), 'Python'], 'D': [1, 2.5, True, None, (5+6j), 'Python'], 'E': [1, 2.5, True, None, (5+6j), 'Python'], 'F': [1, 2.5, True, None, (5+6j), 'Python']}\n"
     ]
    }
   ],
   "source": [
    "# fromkeys(iterable, default = None)\n",
    "# used to initialize keys in an empty dictionary with a default value\n",
    "\n",
    "# Example with pre-defined values\n",
    "d = {}\n",
    "d = d.fromkeys((('A'), ('B'), ('C'), ('D'), ('E'), ('F')), [1, 2.5, True, None, 5+6j, 'Python'])\n",
    "print(d)"
   ]
  },
  {
   "cell_type": "code",
   "execution_count": 30,
   "id": "ebe14dc4",
   "metadata": {},
   "outputs": [
    {
     "name": "stdout",
     "output_type": "stream",
     "text": [
      "{'A': None, 'B': None, 'C': None, 'D': None, 'E': None, 'F': None}\n"
     ]
    }
   ],
   "source": [
    "# Example with Default Values\n",
    "d = {}\n",
    "d = d.fromkeys((('A'), ('B'), ('C'), ('D'), ('E'), ('F')))\n",
    "print(d)"
   ]
  },
  {
   "cell_type": "code",
   "execution_count": 31,
   "id": "e9ed48e0",
   "metadata": {
    "ExecuteTime": {
     "end_time": "2021-08-29T06:04:29.179635Z",
     "start_time": "2021-08-29T06:04:29.172392Z"
    },
    "id": "e9ed48e0",
    "outputId": "ea38085b-4ca0-4736-eda8-abc5927995be"
   },
   "outputs": [
    {
     "name": "stdout",
     "output_type": "stream",
     "text": [
      "{'Grove St PATH': 3621, 'Hamilton Park': 1961, 'Sip Ave': 1827, 'Exchange Place': 1726, 'Newport PATH': 1511, 'Harborside': 1123, 'Morris Canal': 1093, 'Newport Pkwy': 1055, 'City Hall': 949, 'Marin Light Rail': 938, 'Newark Ave': 934, 'Warren St': 929, 'Van Vorst Park': 923, 'Paulus Hook': 826, 'Liberty Light Rail': 799, 'Jersey & 6th St': 798, 'Jersey & 3rd': 797, 'Brunswick & 6th': 775, 'Brunswick St': 751, 'Columbus Drive': 750, 'Washington St': 737, 'Essex Light Rail': 722, 'Manila & 1st': 605, 'Oakland Ave': 589, 'Monmouth and 6th': 530, 'JC Medical Center': 529, 'Dixon Mills': 510, 'Journal Square': 504, 'McGinley Square': 485, 'Pershing Field': 426, 'Grand St': 420, 'Baldwin at Montgomery': 412, 'Hilltop': 332, 'Leonard Gordon Park': 298, 'Bergen Ave': 294, 'Heights Elevator': 290, 'York St': 281, 'Fairmount Ave': 279, 'Astor Place': 249, 'Lincoln Park': 240, 'Riverview Park': 238, 'Christ Hospital': 235, 'Montgomery St': 220, '5 Corners Library': 216, 'Lafayette Park': 195, 'Communipaw & Berry Lane': 162, 'Glenwood Ave': 127, 'Dey St': 119, 'Union St': 104, 'JCBS Depot': 21} 2239340736192\n",
      "\n",
      "{'Grove St PATH': 3621, 'Hamilton Park': 1961, 'Sip Ave': 1827, 'Exchange Place': 1726, 'Newport PATH': 1511, 'Harborside': 1123, 'Morris Canal': 1093, 'Newport Pkwy': 1055, 'City Hall': 949, 'Marin Light Rail': 938, 'Newark Ave': 934, 'Warren St': 929, 'Van Vorst Park': 923, 'Paulus Hook': 826, 'Liberty Light Rail': 799, 'Jersey & 6th St': 798, 'Jersey & 3rd': 797, 'Brunswick & 6th': 775, 'Brunswick St': 751, 'Columbus Drive': 750, 'Washington St': 737, 'Essex Light Rail': 722, 'Manila & 1st': 605, 'Oakland Ave': 589, 'Monmouth and 6th': 530, 'JC Medical Center': 529, 'Dixon Mills': 510, 'Journal Square': 504, 'McGinley Square': 485, 'Pershing Field': 426, 'Grand St': 420, 'Baldwin at Montgomery': 412, 'Hilltop': 332, 'Leonard Gordon Park': 298, 'Bergen Ave': 294, 'Heights Elevator': 290, 'York St': 281, 'Fairmount Ave': 279, 'Astor Place': 249, 'Lincoln Park': 240, 'Riverview Park': 238, 'Christ Hospital': 235, 'Montgomery St': 220, '5 Corners Library': 216, 'Lafayette Park': 195, 'Communipaw & Berry Lane': 162, 'Glenwood Ave': 127, 'Dey St': 119, 'Union St': 104, 'JCBS Depot': 21} 2239340733824\n",
      "\n",
      "{'Grove St PATH': 3621, 'Hamilton Park': 1961, 'Sip Ave': 1827, 'Exchange Place': 1726, 'Newport PATH': 1511, 'Harborside': 1123, 'Morris Canal': 1093, 'Newport Pkwy': 1055, 'City Hall': 949, 'Marin Light Rail': 938, 'Newark Ave': 934, 'Warren St': 929, 'Van Vorst Park': 923, 'Paulus Hook': 826, 'Liberty Light Rail': 799, 'Jersey & 6th St': 798, 'Jersey & 3rd': 797, 'Brunswick & 6th': 775, 'Brunswick St': 751, 'Columbus Drive': 750, 'Washington St': 737, 'Essex Light Rail': 722, 'Manila & 1st': 605, 'Oakland Ave': 589, 'Monmouth and 6th': 530, 'JC Medical Center': 529, 'Dixon Mills': 510, 'Journal Square': 504, 'McGinley Square': 485, 'Pershing Field': 426, 'Grand St': 420, 'Baldwin at Montgomery': 412, 'Hilltop': 332, 'Leonard Gordon Park': 298, 'Bergen Ave': 294, 'Heights Elevator': 290, 'York St': 281, 'Fairmount Ave': 279, 'Astor Place': 249, 'Lincoln Park': 240, 'Riverview Park': 238, 'Christ Hospital': 235, 'Montgomery St': 220, '5 Corners Library': 216, 'Lafayette Park': 195, 'Communipaw & Berry Lane': 162, 'Glenwood Ave': 127, 'Dey St': 119, 'Union St': 104, 'JCBS Depot': 21} 2239340736192\n",
      "\n",
      "{} 2239340733824\n"
     ]
    }
   ],
   "source": [
    "# Copying a dictionary to another - A New object will be created:\n",
    "\n",
    "# Lets re-create the dictionary\n",
    "k = list(bike_data['start station name'].value_counts().index)\n",
    "v = list(bike_data['start station name'].value_counts())\n",
    "item = dict(zip(k, v))\n",
    "\n",
    "my_dict = item.copy()\n",
    "print(my_dict, id(my_dict), end = '\\n\\n')\n",
    "print(item, id(item), end = '\\n\\n')\n",
    "\n",
    "item.clear()\n",
    "\n",
    "print(my_dict, id(my_dict), end = '\\n\\n')\n",
    "print(item, id(item))"
   ]
  },
  {
   "cell_type": "code",
   "execution_count": 32,
   "id": "c5ea1e2e",
   "metadata": {
    "ExecuteTime": {
     "end_time": "2021-08-29T06:07:13.541097Z",
     "start_time": "2021-08-29T06:07:13.522477Z"
    },
    "id": "c5ea1e2e"
   },
   "outputs": [
    {
     "name": "stdout",
     "output_type": "stream",
     "text": [
      "\n",
      " emp1\n",
      "\t emp_name \t Krishna\n",
      "\t emp_id \t 101\n",
      "\t emp_sal \t 10000\n",
      "\t emp_email \n",
      "\t\t\t official \t krishna@volvo.com\n",
      "\t\t\t personal \t krishna@gmail.com\n",
      "\n",
      " emp2\n",
      "\t emp_name \t Rahul\n",
      "\t emp_id \t 102\n",
      "\t emp_sal \t 20000\n",
      "\t emp_email \n",
      "\t\t\t official \t rahul@volvo.com\n",
      "\t\t\t personal \t rahul@gmail.com\n",
      "\n",
      " emp3\n",
      "\t emp_name \t Abhishek\n",
      "\t emp_id \t 103\n",
      "\t emp_sal \t 30000\n",
      "\t emp_email \n",
      "\t\t\t official \t abhishek@volvo.com\n",
      "\t\t\t personal \t abhishek@gmail.com\n",
      "\n",
      "\n",
      " krishna@volvo.com\n"
     ]
    }
   ],
   "source": [
    "# Extracting values from nested dictionary:\n",
    "\n",
    "emp_info_dict = {'emp1':{'emp_name':'Krishna', \n",
    "                         'emp_id':101,\n",
    "                         'emp_sal':10000,\n",
    "                         'emp_email':{'official':'krishna@volvo.com',\n",
    "                                      'personal':'krishna@gmail.com'}}, \n",
    "                 'emp2':{'emp_name':'Rahul', \n",
    "                         'emp_id':102,\n",
    "                         'emp_sal':20000,\n",
    "                         'emp_email':{'official':'rahul@volvo.com',\n",
    "                                      'personal':'rahul@gmail.com'}},\n",
    "                 'emp3':{'emp_name':'Abhishek', \n",
    "                         'emp_id':103,\n",
    "                         'emp_sal':30000,\n",
    "                         'emp_email':{'official':'abhishek@volvo.com',\n",
    "                                      'personal':'abhishek@gmail.com'}}}\n",
    "\n",
    "# Extracting using for loop if keys are unknown:\n",
    "for k1, v1 in emp_info_dict.items():\n",
    "    print('\\n', k1)\n",
    "    \n",
    "    for k2, v2 in v1.items():\n",
    "        if k2 != 'emp_email':\n",
    "            print('\\t', k2, '\\t', v2 )\n",
    "        \n",
    "    print('\\t', 'emp_email', '\\n\\t\\t\\t', 'official', '\\t', v1['emp_email']['official'])    \n",
    "    print('\\t\\t\\t', 'personal', '\\t', v1['emp_email']['personal'])\n",
    "        \n",
    "      \n",
    "        \n",
    "# Extracting using keys if keys are known:        \n",
    "print('\\n\\n', emp_info_dict['emp1']['emp_email']['official'])\n"
   ]
  },
  {
   "cell_type": "code",
   "execution_count": 33,
   "id": "fbc04ed6",
   "metadata": {
    "ExecuteTime": {
     "end_time": "2021-08-29T06:07:16.835318Z",
     "start_time": "2021-08-29T06:07:16.824798Z"
    },
    "id": "fbc04ed6",
    "outputId": "e61a6a29-5a3d-4738-ebc4-b0c98a6476e8"
   },
   "outputs": [
    {
     "name": "stdout",
     "output_type": "stream",
     "text": [
      "{'emp1': {'emp_name': 'Krishna', 'emp_id': 101, 'emp_sal': 10000}, 'emp2': {'emp_name': 'Rahul', 'emp_id': 102, 'emp_sal': 20000}, 'emp3': {'emp_name': 'Abhishek', 'emp_id': 103, 'emp_sal': 30000}}\n",
      "\n",
      "{'emp1': {'emp_name': 'Krishna', 'emp_id': 101, 'emp_sal': 10000}, 'emp2': {'emp_name': 'Rahul', 'emp_id': 1001, 'emp_sal': 20000}, 'emp3': {'emp_name': 'Abhishek', 'emp_id': 103, 'emp_sal': 30000}}\n"
     ]
    }
   ],
   "source": [
    "# Modifying values in nested dictionary:\n",
    "\n",
    "emp_info_dict = {'emp1':{'emp_name':'Krishna', \n",
    "                         'emp_id':101,\n",
    "                         'emp_sal':10000}, \n",
    "                 'emp2':{'emp_name':'Rahul', \n",
    "                         'emp_id':102,\n",
    "                         'emp_sal':20000},\n",
    "                 'emp3':{'emp_name':'Abhishek', \n",
    "                         'emp_id':103,\n",
    "                         'emp_sal':30000}}\n",
    "print(emp_info_dict, end = '\\n\\n')\n",
    "\n",
    "# Example: Modify emp_id of Rahul from 102 to 1001:\n",
    "for key, val in emp_info_dict.items():\n",
    "    for k, v in val.items():\n",
    "        if v == \"Rahul\":\n",
    "            emp_info_dict[key]['emp_id'] = 1001        \n",
    "        \n",
    "print(emp_info_dict)"
   ]
  },
  {
   "cell_type": "code",
   "execution_count": 34,
   "id": "e2f5e591",
   "metadata": {
    "id": "e2f5e591"
   },
   "outputs": [
    {
     "name": "stdout",
     "output_type": "stream",
     "text": [
      "Old dictionary- {1: 'January', 2: 'Febuary', 3: 'March'}\n",
      "New dictionary- {1: 'January', 3: 'March', 2.1: 'Febuary'}\n"
     ]
    }
   ],
   "source": [
    "# Dictionary keys cannot be modified directly. However a work around is to delete the required key and create a new one:\n",
    "\n",
    "dict1 = { 1: 'January', 2:'Febuary', 3:'March' }\n",
    "print(\"Old dictionary-\",dict1)\n",
    "\n",
    "dict1[2.1] = dict1[2]\n",
    "del dict1[2]\n",
    "print(\"New dictionary-\",dict1)"
   ]
  },
  {
   "cell_type": "code",
   "execution_count": 35,
   "id": "ef2fa9ca",
   "metadata": {},
   "outputs": [],
   "source": [
    "# https://data.covid19india.org/v4/min/data.min.json"
   ]
  },
  {
   "cell_type": "code",
   "execution_count": 2,
   "id": "c8996192",
   "metadata": {},
   "outputs": [
    {
     "data": {
      "text/plain": [
       "{'delta': {'confirmed': 137,\n",
       "  'deceased': 7,\n",
       "  'recovered': 204,\n",
       "  'vaccinated1': 2109,\n",
       "  'vaccinated2': 11462},\n",
       " 'delta21_14': {'confirmed': 1105},\n",
       " 'delta7': {'confirmed': 1165,\n",
       "  'deceased': 37,\n",
       "  'recovered': 1093,\n",
       "  'vaccinated1': 48836,\n",
       "  'vaccinated2': 247281},\n",
       " 'meta': {'population': 9588910, 'tested': {'date': '2021-01-31'}},\n",
       " 'total': {'confirmed': 1251872,\n",
       "  'deceased': 16281,\n",
       "  'other': 1,\n",
       "  'recovered': 1229059,\n",
       "  'tested': 6883888,\n",
       "  'vaccinated1': 9219875,\n",
       "  'vaccinated2': 5903791}}"
      ]
     },
     "execution_count": 2,
     "metadata": {},
     "output_type": "execute_result"
    }
   ],
   "source": [
    "# Lets see another example of parsing json data into a multi level nested dictionary and extract required values\n",
    "# We will use the requests module to read the json data and parse it\n",
    "import warnings\n",
    "warnings.filterwarnings('ignore')\n",
    "\n",
    "import requests\n",
    "\n",
    "response = requests.get(\"https://api.covid19india.org/v4/min/data.min.json\", verify=False)\n",
    "data = response.json()\n",
    "data\n",
    "data[\"KA\"]\n",
    "data[\"KA\"][\"districts\"]\n",
    "data[\"KA\"][\"districts\"]['Bengaluru Urban']"
   ]
  },
  {
   "cell_type": "code",
   "execution_count": 61,
   "id": "e4bf3954",
   "metadata": {},
   "outputs": [
    {
     "data": {
      "text/plain": [
       "{'confirmed': 1251872,\n",
       " 'deceased': 16281,\n",
       " 'other': 1,\n",
       " 'recovered': 1229059,\n",
       " 'tested': 6883888,\n",
       " 'vaccinated1': 9219875,\n",
       " 'vaccinated2': 5903791}"
      ]
     },
     "execution_count": 61,
     "metadata": {},
     "output_type": "execute_result"
    }
   ],
   "source": [
    "#data[\"KA\"][\"districts\"][\"Bengaluru Urban\"]\n",
    "data[\"KA\"][\"districts\"][\"Bengaluru Urban\"][\"total\"]"
   ]
  },
  {
   "cell_type": "code",
   "execution_count": 62,
   "id": "bd58dd95",
   "metadata": {},
   "outputs": [
    {
     "data": {
      "text/plain": [
       "1251872"
      ]
     },
     "execution_count": 62,
     "metadata": {},
     "output_type": "execute_result"
    }
   ],
   "source": [
    "data[\"KA\"][\"districts\"][\"Bengaluru Urban\"][\"total\"][\"confirmed\"]"
   ]
  },
  {
   "cell_type": "code",
   "execution_count": null,
   "id": "12a9107a",
   "metadata": {},
   "outputs": [],
   "source": []
  }
 ],
 "metadata": {
  "colab": {
   "name": "Class_09_Dictionary_Functions.ipynb",
   "provenance": []
  },
  "kernelspec": {
   "display_name": "Python 3 (ipykernel)",
   "language": "python",
   "name": "python3"
  },
  "language_info": {
   "codemirror_mode": {
    "name": "ipython",
    "version": 3
   },
   "file_extension": ".py",
   "mimetype": "text/x-python",
   "name": "python",
   "nbconvert_exporter": "python",
   "pygments_lexer": "ipython3",
   "version": "3.9.7"
  }
 },
 "nbformat": 4,
 "nbformat_minor": 5
}
