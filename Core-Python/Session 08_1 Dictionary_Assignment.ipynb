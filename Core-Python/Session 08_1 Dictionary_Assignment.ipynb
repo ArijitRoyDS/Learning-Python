{
 "cells": [
  {
   "cell_type": "code",
   "execution_count": 1,
   "id": "db2a5ef0",
   "metadata": {},
   "outputs": [
    {
     "name": "stdout",
     "output_type": "stream",
     "text": [
      "Enter Name: Tom\n",
      "{'email': 'tom_latham019@gmail.com', 'Phone': 1987654321, 'City': 'California'}\n"
     ]
    }
   ],
   "source": [
    "######################################################################################################################################\n",
    "# Initialize a dictionary \"emp_info\" with below details\n",
    "# In - emp_info['Tom']\n",
    "# Out - {'email':'tom_latham019@gmail.com', 'Phone': +1987654321, 'City': 'California'}\n",
    "\n",
    "# In - emp_info['Kathy']\n",
    "# Out - {'email':'kathy_abram897@gmail.com', 'Phone': +1887654321, 'City': 'New York'}\n",
    "######################################################################################################################################\n",
    "\n",
    "emp_info = {\"Tom\":{\"email\": 'tom_latham019@gmail.com', 'Phone': +1987654321, 'City': 'California'}, \"Kathy\":{'email':'kathy_abram897@gmail.com', 'Phone': +1887654321, 'City': 'New York'}}\n",
    "name = str(input(\"Enter Name: \"))\n",
    "for nm in emp_info.keys():\n",
    "    if name in nm:\n",
    "        print(emp_info.get(name))"
   ]
  },
  {
   "cell_type": "code",
   "execution_count": 2,
   "id": "064d6134",
   "metadata": {},
   "outputs": [
    {
     "name": "stdout",
     "output_type": "stream",
     "text": [
      "{'emp1': {'e_name': 'John', 'e_id': 'SG101', 'e_sal': '$10,000'}, 'emp2': {'e_name': 'Smith', 'e_id': 'SG102', 'e_sal': '$9,000'}, 'emp3': {'e_name': 'Peter', 'e_id': 'SG103', 'e_sal': '$9,500'}}\n"
     ]
    }
   ],
   "source": [
    "######################################################################################################################################\n",
    "# Create a dictionary out of below inputs\n",
    "# lst1 = ['emp1', 'emp2', 'emp3']\n",
    "# emp_key = ['e_name', 'e_id', 'e_sal']\n",
    "# emp1_val = ['John', 'SG101', '$10,000']\n",
    "# emp2_val = ['Smith', 'SG102', '$9,000']\n",
    "# emp3_val = ['Peter', 'SG103', '$9,500']\n",
    "\n",
    "# Expected Output:- {'emp1':{'e_name':'John', 'e_id':'SG101', 'e_sal':$10,000}, \n",
    "#                    'emp2':{'e_name':'Smith', 'e_id':'SG102', 'e_sal':$9,000}, \n",
    "#                    'emp3':{'e_name':'Peter', 'e_id':'SG103', 'e_sal':$9,500}}\n",
    "######################################################################################################################################\n",
    "\n",
    "lst1 = ['emp1', 'emp2', 'emp3']\n",
    "emp_key = ['e_name', 'e_id', 'e_sal']\n",
    "emp1_val = ['John', 'SG101', '$10,000']\n",
    "emp2_val = ['Smith', 'SG102', '$9,000']\n",
    "emp3_val = ['Peter', 'SG103', '$9,500']\n",
    "val = [emp1_val, emp2_val, emp3_val]\n",
    "res = {}\n",
    "c = 0\n",
    "for key in lst1:    \n",
    "    res[key] = {}\n",
    "    res[key][emp_key[0]] = val[c][0]\n",
    "    res[key][emp_key[1]] = val[c][1]\n",
    "    res[key][emp_key[2]] = val[c][2]\n",
    "    c = c + 1       \n",
    "print(res)"
   ]
  },
  {
   "cell_type": "code",
   "execution_count": 3,
   "id": "476fd787",
   "metadata": {},
   "outputs": [
    {
     "name": "stdout",
     "output_type": "stream",
     "text": [
      "80\n"
     ]
    }
   ],
   "source": [
    "######################################################################################################################################\n",
    "# Acess the value of key 'history'\n",
    "######################################################################################################################################\n",
    "\n",
    "sampleDict = {\"class\":{\"student\":{\"name\":\"Mike\", \"marks\":{\"physics\":70, \"history\":80}}}}\n",
    "print(sampleDict[\"class\"][\"student\"][\"marks\"][\"history\"])"
   ]
  },
  {
   "cell_type": "code",
   "execution_count": 4,
   "id": "facc3647",
   "metadata": {},
   "outputs": [
    {
     "name": "stdout",
     "output_type": "stream",
     "text": [
      "{'Kelly': {'designation': 'Application Developer', 'salary': 8000}, 'Emma': {'designation': 'Application Developer', 'salary': 8000}, 'John': {'designation': 'Application Developer', 'salary': 8000}}\n"
     ]
    }
   ],
   "source": [
    "######################################################################################################################################\n",
    "# Initialize dictionary with default values. Inputs are:-\n",
    "# employees = ['Kelly', 'Emma', 'John']\n",
    "# defaults = {\"designation\": 'Application Developer', \"salary\": 8000}\n",
    "\n",
    "#Expected output:- {'Kelly': {'designation': 'Application Developer', 'salary': 8000}, \n",
    "#                   'Emma': {'designation': 'Application Developer', 'salary': 8000}, \n",
    "#                   'John': {'designation': 'Application Developer', 'salary': 8000}}\n",
    "######################################################################################################################################\n",
    "\n",
    "employees = ['Kelly', 'Emma', 'John']\n",
    "defaults = {\"designation\": 'Application Developer', \"salary\": 8000}\n",
    "res = {}\n",
    "for key in employees:    \n",
    "    res[key] = defaults    \n",
    "print(res)"
   ]
  },
  {
   "cell_type": "code",
   "execution_count": null,
   "id": "cd8542c5",
   "metadata": {},
   "outputs": [],
   "source": [
    "######################################################################################################################################\n",
    "# In gene expression, mRNA is transcribed from a DNA template. \n",
    "# The 4 nucleotide bases of A, T, C, G corresponds to the U, A, G, C bases of the mRNA. \n",
    "# Write a function that returns the mRNA transcript given the sequence of a DNA strand.\n",
    "\n",
    "# Use a dictionary to provide the mapping of DNA to RNA bases.\n",
    "######################################################################################################################################"
   ]
  },
  {
   "cell_type": "code",
   "execution_count": 5,
   "id": "f37aee65",
   "metadata": {},
   "outputs": [
    {
     "name": "stdout",
     "output_type": "stream",
     "text": [
      "Enter a word: google.com\n",
      "{'g': 2, 'o': 3, 'l': 1, 'e': 1, '.': 1, 'c': 1, 'm': 1}\n"
     ]
    }
   ],
   "source": [
    "######################################################################################################################################\n",
    "# Write a function which takes a word as input and returns a dictionary with letters as key and no of time letters are repeated as value.\n",
    "# In - count_letter('google.com')\n",
    "# Out - {'g': 2, 'o': 3, 'l': 1, 'e': 1, '.': 1, 'c': 1, 'm': 1}\n",
    "######################################################################################################################################\n",
    "\n",
    "def count_letter(word):\n",
    "    dct = {}\n",
    "    lst = list(word)    \n",
    "    for letter in lst:        \n",
    "        c = word.count(letter)\n",
    "        dct[letter] = c        \n",
    "    print(dct) \n",
    "    \n",
    "word = str(input(\"Enter a word: \"))\n",
    "count_letter(word)"
   ]
  },
  {
   "cell_type": "code",
   "execution_count": 6,
   "id": "db141d33",
   "metadata": {},
   "outputs": [
    {
     "name": "stdout",
     "output_type": "stream",
     "text": [
      "Enter Base Composition: CTATCGGCACCCTTTCAGCA\n",
      "{'A': 4, 'C': 8, 'T': 5, 'G': 3}\n"
     ]
    }
   ],
   "source": [
    "######################################################################################################################################\n",
    "# A DNA strand consisting of the 4 nucleotide bases is usually represented with a string of letters: A,T, C, G. \n",
    "# Write a function that computes the base composition of a given DNA sequence.\n",
    "\n",
    "# In - baseComposition(\"CTATCGGCACCCTTTCAGCA\")\n",
    "# Out - {'A': 4, 'C': 8, 'T': 5,  'G': 3 }\n",
    "    \n",
    "# In - baseComposition(\"AGT\")\n",
    "# Out - {'A': 1, 'C': 0, 'T': 1,  'G': 1 }\n",
    "######################################################################################################################################\n",
    "    \n",
    "def baseComposition(dna):\n",
    "    dct = {'A': 0, 'C': 0, 'T': 0,  'G': 0 }\n",
    "    lst = list(dna)    \n",
    "    for letter in lst:        \n",
    "        c = dna.count(letter)\n",
    "        dct[letter] = c        \n",
    "    print(dct) \n",
    "    \n",
    "dna = str(input(\"Enter Base Composition: \"))\n",
    "baseComposition(dna)"
   ]
  },
  {
   "cell_type": "code",
   "execution_count": null,
   "id": "27acc369",
   "metadata": {},
   "outputs": [],
   "source": [
    "######################################################################################################################################\n",
    "# [MCQ] Suppose \"d\" is an empty dictionary, which statement does not assign \"d\" with {\"Name\":\"Tom\"}? \n",
    "# 1. d = {\"Name\": \"Tom\" }\n",
    "# 2. d[\"Name\"] = \"Tom\"\n",
    "# 3. d.update({\"Name\": \"Tom\" })\n",
    "# 4. d.setdefault(\"Name\", \"Tom\")\n",
    "# 5. None of the above.\n",
    "######################################################################################################################################\n",
    "\n",
    "\n",
    "# Answer: None of the Above"
   ]
  },
  {
   "cell_type": "code",
   "execution_count": 7,
   "id": "74b89a9a",
   "metadata": {},
   "outputs": [
    {
     "name": "stdout",
     "output_type": "stream",
     "text": [
      "dict_keys(['a', 'b'])\n",
      "dict_values([1, 2])\n",
      "dict_items([('a', 1), ('b', 2)])\n",
      "('b', 2)\n"
     ]
    }
   ],
   "source": [
    "######################################################################################################################################\n",
    "# [MCQ] d = {\"a\":1, \"b\":2}. Which of the statements returns [1,2]? \n",
    "# 1. d.keys()\n",
    "# 2. d.values()\n",
    "# 3. d.items()\n",
    "# 4. d.popitem()\n",
    "# 5. None of the above.\n",
    "######################################################################################################################################\n",
    "\n",
    "d = {\"a\":1, \"b\":2}\n",
    "\n",
    "print(d.keys())                       # Returns: dict_keys(['a', 'b'])\n",
    "print(d.values())                     # Returns: dict_values([1, 2])\n",
    "print(d.items())                      # Returns: dict_items([('a', 1), ('b', 2)])\n",
    "print(d.popitem())                    # Returns: ('b', 2)\n",
    "\n",
    "#Hence Answer is: None of the Above"
   ]
  },
  {
   "cell_type": "code",
   "execution_count": 8,
   "id": "03225478",
   "metadata": {},
   "outputs": [
    {
     "name": "stdout",
     "output_type": "stream",
     "text": [
      "{'Name': 'Tom'}\n",
      "{(1, 3, 4): 4.5}\n"
     ]
    },
    {
     "ename": "TypeError",
     "evalue": "unhashable type: 'list'",
     "output_type": "error",
     "traceback": [
      "\u001b[1;31m---------------------------------------------------------------------------\u001b[0m",
      "\u001b[1;31mTypeError\u001b[0m                                 Traceback (most recent call last)",
      "\u001b[1;32m<ipython-input-8-9ae522e0d869>\u001b[0m in \u001b[0;36m<module>\u001b[1;34m\u001b[0m\n\u001b[0;32m     12\u001b[0m \u001b[0md\u001b[0m \u001b[1;33m=\u001b[0m \u001b[1;33m{\u001b[0m \u001b[1;33m(\u001b[0m\u001b[1;36m1\u001b[0m\u001b[1;33m,\u001b[0m\u001b[1;36m3\u001b[0m\u001b[1;33m,\u001b[0m\u001b[1;36m4\u001b[0m\u001b[1;33m)\u001b[0m\u001b[1;33m:\u001b[0m \u001b[1;36m4.5\u001b[0m \u001b[1;33m}\u001b[0m\u001b[1;33m\u001b[0m\u001b[1;33m\u001b[0m\u001b[0m\n\u001b[0;32m     13\u001b[0m \u001b[0mprint\u001b[0m\u001b[1;33m(\u001b[0m\u001b[0md\u001b[0m\u001b[1;33m)\u001b[0m\u001b[1;33m\u001b[0m\u001b[1;33m\u001b[0m\u001b[0m\n\u001b[1;32m---> 14\u001b[1;33m \u001b[0md\u001b[0m \u001b[1;33m=\u001b[0m \u001b[1;33m{\u001b[0m \u001b[1;33m[\u001b[0m\u001b[1;34m\"First\"\u001b[0m\u001b[1;33m,\u001b[0m \u001b[1;34m\"Last\"\u001b[0m\u001b[1;33m]\u001b[0m\u001b[1;33m:\u001b[0m \u001b[1;33m(\u001b[0m\u001b[1;36m1\u001b[0m\u001b[1;33m,\u001b[0m\u001b[1;36m3\u001b[0m\u001b[1;33m)\u001b[0m \u001b[1;33m}\u001b[0m\u001b[1;33m\u001b[0m\u001b[1;33m\u001b[0m\u001b[0m\n\u001b[0m\u001b[0;32m     15\u001b[0m \u001b[0mprint\u001b[0m\u001b[1;33m(\u001b[0m\u001b[0md\u001b[0m\u001b[1;33m)\u001b[0m\u001b[1;33m\u001b[0m\u001b[1;33m\u001b[0m\u001b[0m\n\u001b[0;32m     16\u001b[0m \u001b[0md\u001b[0m \u001b[1;33m=\u001b[0m \u001b[1;33m{\u001b[0m \u001b[1;36m1\u001b[0m\u001b[1;33m:\u001b[0m \u001b[1;36m0.4\u001b[0m \u001b[1;33m}\u001b[0m\u001b[1;33m\u001b[0m\u001b[1;33m\u001b[0m\u001b[0m\n",
      "\u001b[1;31mTypeError\u001b[0m: unhashable type: 'list'"
     ]
    }
   ],
   "source": [
    "######################################################################################################################################\n",
    "# [MCQ] Which of the following declarations is not valid for 'dict' type?\n",
    "# 1. d = {\"Name\": \"Tom\" }\n",
    "# 2. d = { (1,3,4): 4.5 }\n",
    "# 3. d = { [\"First\", \"Last\"]: (1,3) }\n",
    "# 4. d = { 1: 0.4 }\n",
    "# 5. None of the above\n",
    "######################################################################################################################################\n",
    "\n",
    "d = {\"Name\": \"Tom\" }\n",
    "print(d)\n",
    "d = { (1,3,4): 4.5 }\n",
    "print(d)\n",
    "d = { [\"First\", \"Last\"]: (1,3) }\n",
    "print(d)\n",
    "d = { 1: 0.4 }\n",
    "print(d)\n",
    "\n",
    "# Answer: d = { [\"First\", \"Last\"]: (1,3) } is not valid due to TypeError"
   ]
  },
  {
   "cell_type": "code",
   "execution_count": 9,
   "id": "6b6cc19b",
   "metadata": {},
   "outputs": [
    {
     "name": "stdout",
     "output_type": "stream",
     "text": [
      "Enter a Dictionary: {'a':1, 'b':2, 'c':2}\n",
      "Enter a Value: 1\n",
      "['a']\n"
     ]
    }
   ],
   "source": [
    "######################################################################################################################################\n",
    "# Write a function reverseLookup(dictionary, value) that takes in a dictionary \n",
    "# and a value as arguments and returns a sorted list of all keys that contains the value. \n",
    "# The function will return an empty list if no match is found.\n",
    "\n",
    "# In - reverseLookup({'a':1, 'b':2, 'c':2}, 1)\n",
    "# Out - ['a']\n",
    "# In - reverseLookup({'a':1, 'b':2, 'c':2}, 2)\n",
    "# Out - ['b', 'c']\n",
    "# In - reverseLookup({'a':1, 'b':2, 'c':2}, 3)\n",
    "# Out - []\n",
    "######################################################################################################################################\n",
    "\n",
    "\n",
    "def reverseLookup(dictionary, value):\n",
    "    lst = []\n",
    "    for key, val in dictionary.items():\n",
    "        if int(val) == int(value):\n",
    "            lst.append(key)\n",
    "    print(lst)  \n",
    "                  \n",
    "dct = dict(eval(input(\"Enter a Dictionary: \")))\n",
    "val = int(input(\"Enter a Value: \"))\n",
    "reverseLookup(dct, val)\n"
   ]
  },
  {
   "cell_type": "code",
   "execution_count": 10,
   "id": "e782c6a6",
   "metadata": {},
   "outputs": [
    {
     "name": "stdout",
     "output_type": "stream",
     "text": [
      "Enter a Dictionary: {'a':1, 'b':2, 'c':3, 'd':2}\n",
      "{1: ['a'], 2: ['b', 'd'], 3: ['c']}\n"
     ]
    }
   ],
   "source": [
    "######################################################################################################################################\n",
    "# Write a function invertDictionary(d) that takes in a dictionary as argument and return a dictionary that inverts the keys and the values of the original dictionary.\n",
    "# In - invertDictionary({'a':1, 'b':2, 'c':3, 'd':2})\n",
    "# Out - {1: ['a'], 2: ['b', 'd'], 3: ['c']}\n",
    "# In - invertDictionary({'a':3, 'b':3, 'c':3})\n",
    "# Out - {3: ['a', 'c', 'b']}\n",
    "# In - invertDictionary({'a':2, 'b':1, 'c':2, 'd':1})\n",
    "# Out - {1: ['b', 'd'], 2: ['a', 'c']}\n",
    "######################################################################################################################################\n",
    "\n",
    "def invertDictionary(d):\n",
    "    inv = {}\n",
    "    for k, v in d.items():\n",
    "        inv[v] = inv.get(v, []) + [k]\n",
    "    print(inv)\n",
    "    \n",
    "dct = dict(eval(input(\"Enter a Dictionary: \")))\n",
    "invertDictionary(dct)"
   ]
  },
  {
   "cell_type": "code",
   "execution_count": 11,
   "id": "0038af4a",
   "metadata": {},
   "outputs": [
    {
     "name": "stdout",
     "output_type": "stream",
     "text": [
      "Enter a Vector: [1, 0, 0, 2, 0, 0, 0, 3, 0, 0, 0, 0, 4]\n",
      "{0: 1, 3: 2, 7: 3, 12: 4}\n"
     ]
    }
   ],
   "source": [
    "######################################################################################################################################\n",
    "# Write a function that converts a sparse vector into a dictionary as described above.\n",
    "# In - convertVector([1, 0, 0, 2, 0, 0, 0, 3, 0, 0, 0, 0, 4])\n",
    "# Out - {0: 1, 3: 2, 7: 3, 12: 4}\n",
    "# In - convertVector([1, 0, 1 , 0, 2, 0, 1, 0, 0, 1, 0])\n",
    "# Out - {0: 1, 2: 1, 4: 2, 6: 1, 9: 1}\n",
    "# In - convertVector([0, 0, 0, 0, 0])\n",
    "# Out - {}\n",
    "######################################################################################################################################\n",
    "\n",
    "def convertVector(l):\n",
    "    en = dict(enumerate(l))    \n",
    "    en = {k:v for k, v in en.items() if v!=0}            \n",
    "    print(en)\n",
    "\n",
    "lst = list(eval(input(\"Enter a Vector: \")))\n",
    "convertVector(lst)"
   ]
  },
  {
   "cell_type": "code",
   "execution_count": 12,
   "id": "584b5c96",
   "metadata": {},
   "outputs": [
    {
     "name": "stdout",
     "output_type": "stream",
     "text": [
      "Enter a Dictionary: {0: 1, 3: 2, 7: 3, 12: 4}\n",
      "[1, 0, 0, 2, 0, 0, 0, 3, 0, 0, 0, 0, 4]\n"
     ]
    }
   ],
   "source": [
    "######################################################################################################################################\n",
    "# Write a function that converts a dictionary back to its sparse vector representation.\n",
    "# In - convertDictionary({0: 1, 3: 2, 7: 3, 12: 4})\n",
    "# Out - [1, 0, 0, 2, 0, 0, 0, 3, 0, 0, 0, 0, 4]\n",
    "# In - convertDictionary({0: 1, 2: 1, 4: 2, 6: 1, 9: 1})\n",
    "# Out - [1, 0, 1, 0, 2, 0, 1, 0, 0, 1]\n",
    "# In - convertDictionary({})\n",
    "# Out - []\n",
    "######################################################################################################################################\n",
    "\n",
    "def convertDictionary(d):   \n",
    "    try: size = max(d.keys())\n",
    "    except: vec = []\n",
    "    else: \n",
    "        vec = [0]*(size+1)   \n",
    "        c = 0\n",
    "        for i in range(size+1):           \n",
    "            for k, v in d.items():            \n",
    "                if int(k) == i:\n",
    "                    vec[c] = v                \n",
    "            c=c+1                \n",
    "    print(vec)  \n",
    "    \n",
    "dct = dict(eval(input(\"Enter a Dictionary: \")))\n",
    "convertDictionary(dct)"
   ]
  },
  {
   "cell_type": "code",
   "execution_count": 13,
   "id": "d1437307",
   "metadata": {},
   "outputs": [
    {
     "name": "stdout",
     "output_type": "stream",
     "text": [
      "{'emp1': {'name': 'Jhon', 'salary': 7500}, 'emp2': {'name': 'Emma', 'salary': 8000}, 'emp3': {'name': 'Brad', 'salary': 8500}}\n"
     ]
    }
   ],
   "source": [
    "######################################################################################################################################\n",
    "# Given a Python dictionary, Change Brad’s salary to 8500\n",
    "# sampleDict = {\n",
    "#      'emp1': {'name': 'Jhon', 'salary': 7500},\n",
    "#      'emp2': {'name': 'Emma', 'salary': 8000},\n",
    "#      'emp3': {'name': 'Brad', 'salary': 6500}\n",
    "# }\n",
    "\n",
    "# Expected Output\n",
    "# sampleDict = {\n",
    "#      'emp1': {'name': 'Jhon', 'salary': 7500},\n",
    "#      'emp2': {'name': 'Emma', 'salary': 8000},\n",
    "#      'emp3': {'name': 'Brad', 'salary': 8500}\n",
    "# }\n",
    "######################################################################################################################################\n",
    "\n",
    "sampleDict = {\n",
    "              'emp1': {'name': 'Jhon', 'salary': 7500},\n",
    "              'emp2': {'name': 'Emma', 'salary': 8000},\n",
    "              'emp3': {'name': 'Brad', 'salary': 6500}\n",
    "              }\n",
    "for k, v in sampleDict.items():    \n",
    "    for k1, v1 in v.items():  \n",
    "        if v1 == \"Brad\":\n",
    "            sampleDict[k]['salary'] = 8500            \n",
    "print(sampleDict)"
   ]
  },
  {
   "cell_type": "code",
   "execution_count": 14,
   "id": "bf572530",
   "metadata": {},
   "outputs": [
    {
     "name": "stdout",
     "output_type": "stream",
     "text": [
      "Math\n"
     ]
    }
   ],
   "source": [
    "######################################################################################################################################\n",
    "# Get the key corresponding to the minimum value from the following dictionary\n",
    "# sampleDict = {\n",
    "#   'Physics': 82,\n",
    "#   'Math': 65,\n",
    "#   'history': 75\n",
    "# }\n",
    "\n",
    "# Expected Output\n",
    "# Math\n",
    "######################################################################################################################################\n",
    "\n",
    "sampleDict = {\n",
    "              'Physics': 82,\n",
    "              'Math': 65,\n",
    "              'history': 75\n",
    "              }\n",
    "min_val = min(sampleDict.values())\n",
    "for k, v in sampleDict.items():\n",
    "    if v == min_val:\n",
    "        print(k)"
   ]
  },
  {
   "cell_type": "code",
   "execution_count": 15,
   "id": "81319f97",
   "metadata": {},
   "outputs": [
    {
     "name": "stdout",
     "output_type": "stream",
     "text": [
      "{'name': 'Kelly', 'age': 25, 'salary': 8000, 'location': 'New york'}\n"
     ]
    }
   ],
   "source": [
    "######################################################################################################################################\n",
    "# Rename key city to location in the following dictionary\n",
    "# sampleDict = {\n",
    "#   \"name\": \"Kelly\",\n",
    "#   \"age\":25,\n",
    "#   \"salary\": 8000,\n",
    "#   \"city\": \"New york\"\n",
    "# }\n",
    "\n",
    "# Expected Output\n",
    "# {\n",
    "#   \"name\": \"Kelly\",\n",
    "#   \"age\":25,\n",
    "#   \"salary\": 8000,\n",
    "#   \"location\": \"New york\"\n",
    "# }\n",
    "######################################################################################################################################\n",
    "    \n",
    "sampleDict = {\n",
    "              \"name\": \"Kelly\",\n",
    "              \"age\":25,\n",
    "              \"salary\": 8000,\n",
    "              \"city\": \"New york\"\n",
    "              }\n",
    "\n",
    "temp = sampleDict.pop(\"city\")\n",
    "sampleDict.update({\"location\": temp})\n",
    "print(sampleDict)"
   ]
  },
  {
   "cell_type": "code",
   "execution_count": 16,
   "id": "c1433b55",
   "metadata": {},
   "outputs": [
    {
     "name": "stdout",
     "output_type": "stream",
     "text": [
      "True\n"
     ]
    }
   ],
   "source": [
    "######################################################################################################################################\n",
    "# Check if a value 200 exists in a dictionary\n",
    "# sampleDict = {'a': 100, 'b': 200, 'c': 300}\n",
    "\n",
    "# Expected Output: True\n",
    "######################################################################################################################################\n",
    "\n",
    "sampleDict = {'a': 100, 'b': 200, 'c': 300}\n",
    "print(200 in sampleDict.values())"
   ]
  },
  {
   "cell_type": "code",
   "execution_count": 17,
   "id": "5058fd3e",
   "metadata": {},
   "outputs": [
    {
     "name": "stdout",
     "output_type": "stream",
     "text": [
      "{'age': 25, 'city': 'New york'}\n"
     ]
    }
   ],
   "source": [
    "######################################################################################################################################\n",
    "# Delete set of keys from Python Dictionary\n",
    "# sampleDict = {\n",
    "#   \"name\": \"Kelly\",\n",
    "#   \"age\":25,\n",
    "#   \"salary\": 8000,\n",
    "#   \"city\": \"New york\"\n",
    "  \n",
    "# }\n",
    "# keysToRemove = [\"name\", \"salary\"]\n",
    "\n",
    "# Expected Output:\n",
    "# {'city': 'New york', 'age': 25}\n",
    "######################################################################################################################################\n",
    "\n",
    "sampleDict = {\n",
    "              \"name\": \"Kelly\",\n",
    "              \"age\":25,\n",
    "              \"salary\": 8000,\n",
    "              \"city\": \"New york\"\n",
    "              }\n",
    "keysToRemove = [\"name\", \"salary\"]\n",
    "\n",
    "for key in keysToRemove:\n",
    "    sampleDict.pop(key)\n",
    "print(sampleDict)"
   ]
  },
  {
   "cell_type": "code",
   "execution_count": null,
   "id": "273ac842",
   "metadata": {},
   "outputs": [],
   "source": [
    "# End of Assignment"
   ]
  }
 ],
 "metadata": {
  "kernelspec": {
   "display_name": "Python 3 (ipykernel)",
   "language": "python",
   "name": "python3"
  },
  "language_info": {
   "codemirror_mode": {
    "name": "ipython",
    "version": 3
   },
   "file_extension": ".py",
   "mimetype": "text/x-python",
   "name": "python",
   "nbconvert_exporter": "python",
   "pygments_lexer": "ipython3",
   "version": "3.9.7"
  }
 },
 "nbformat": 4,
 "nbformat_minor": 5
}
