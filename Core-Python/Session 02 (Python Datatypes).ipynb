{
 "cells": [
  {
   "cell_type": "markdown",
   "id": "a75d4e73",
   "metadata": {},
   "source": [
    "# Data Types in Python"
   ]
  },
  {
   "cell_type": "code",
   "execution_count": null,
   "id": "e6f5a6e6",
   "metadata": {},
   "outputs": [],
   "source": [
    "# Data Types or objects\n",
    "# 1. Fundamental - int, float, complex, boolean, string\n",
    "# 2. Derived - list, tuple, set (List with unique values, mutable), frozenset (Immutable), dictionary, range, bytes, bytearray"
   ]
  },
  {
   "cell_type": "code",
   "execution_count": 4,
   "id": "45d571f4",
   "metadata": {},
   "outputs": [
    {
     "name": "stdout",
     "output_type": "stream",
     "text": [
      "<class 'int'> 2190544821168\n",
      "<class 'int'> 2190544820784\n",
      "################################################################################\n",
      "\n",
      "<class 'float'> 2190544820688\n",
      "<class 'float'> 2190544820400\n",
      "<class 'str'> 2190544938992\n"
     ]
    }
   ],
   "source": [
    "# Integers - any number without decimal point\n",
    "# Numbers - 0-9, + or -, No prefix required\n",
    "\n",
    "# 10, -10, 0\n",
    "# type(), id() \n",
    "# ID of 2 or more integers in the range of -5 to 256 is same and different for numbers outside this range\n",
    "\n",
    "a = 500\n",
    "b = 500\n",
    "print(type(a), id(a))\n",
    "print(type(b), id(b))\n",
    "\n",
    "print('#'*80, end = '\\n\\n')\n",
    "\n",
    "c = 100.23\n",
    "d = 100.23\n",
    "print(type(c), id(c))\n",
    "print(type(d), id(d))\n",
    "\n",
    "e = \"100.23\"\n",
    "print(type(e), id(e))"
   ]
  },
  {
   "cell_type": "code",
   "execution_count": 5,
   "id": "6b0809f2",
   "metadata": {},
   "outputs": [
    {
     "name": "stdout",
     "output_type": "stream",
     "text": [
      "Hello World! from: 2190544959408\n",
      "Hello World! from: 2190544959408\n"
     ]
    }
   ],
   "source": [
    "# When assigning the value of a variable to another variable, it's the ID that is referred to and not the value\n",
    "\n",
    "hello = 'Hello World!'\n",
    "print(f'{hello} from: {id(hello)}')\n",
    "\n",
    "world = hello\n",
    "print(f'{world} from: {id(world)}')"
   ]
  },
  {
   "cell_type": "code",
   "execution_count": 6,
   "id": "beebd159",
   "metadata": {},
   "outputs": [
    {
     "name": "stdout",
     "output_type": "stream",
     "text": [
      "410 from: 2190544821264\n",
      "410 from: 2190544821264\n",
      "300 from: 2190544821200\n",
      "410 from: 2190544821264\n"
     ]
    }
   ],
   "source": [
    "a = 410\n",
    "print(f'{a} from: {id(a)}')\n",
    "\n",
    "b = a\n",
    "print(f'{b} from: {id(b)}')\n",
    "\n",
    "# When the value of a variable change, it's id will also change\n",
    "a = 300\n",
    "print(f'{a} from:', id(a))\n",
    "print(f'{b} from:', id(b))"
   ]
  },
  {
   "cell_type": "code",
   "execution_count": 7,
   "id": "d9ac0695",
   "metadata": {},
   "outputs": [
    {
     "name": "stdout",
     "output_type": "stream",
     "text": [
      "Binary Format ->  0b10011010010100 <class 'str'>\n",
      "Octal Format ->  0o23224 <class 'str'>\n",
      "hexadecimal Format ->  0x2694 <class 'str'>\n",
      "##################################################################################\n",
      "\n"
     ]
    }
   ],
   "source": [
    "# Binary, Octal and Hexadecimal\n",
    "# Binary Representation - 0-1, prefix - 0b, bin(dec/bin/oct/hex)\n",
    "# Octal Representation - 0-7, prefix - 0o, oct(dec/bin/oct/hex)\n",
    "# Hexadecimal Representation - 0-9 & a/A-f/F, prefix - 0x, hex(dec/bin/oct/hex)\n",
    "\n",
    "a = 9876   # Decimal\n",
    "\n",
    "print('Binary Format -> ', bin(a), type(bin(a)))\n",
    "print('Octal Format -> ', oct(a), type(oct(a)))\n",
    "print('hexadecimal Format -> ', hex(a), type(oct(a)))\n",
    "print('##################################################################################', end = '\\n\\n')"
   ]
  },
  {
   "cell_type": "markdown",
   "id": "006d922a",
   "metadata": {},
   "source": [
    "# Examples of Datatype Conversion"
   ]
  },
  {
   "cell_type": "code",
   "execution_count": 9,
   "id": "50c31b06",
   "metadata": {},
   "outputs": [
    {
     "name": "stdout",
     "output_type": "stream",
     "text": [
      "Integer Equivalent of 0b1101001 is 105\n",
      "\n",
      "Integer Equivalent of 0o232243 is 79011\n",
      "\n",
      "Integer Equivalent of 0xfc2694 is:  16524948\n",
      "\n"
     ]
    }
   ],
   "source": [
    "bin_num = 0b1101001                 \n",
    "print(f'Integer Equivalent of 0b1101001 is {bin_num}', end = '\\n\\n')\n",
    "\n",
    "oct_num = 0o232243\n",
    "print(f'Integer Equivalent of 0o232243 is {oct_num}', end = '\\n\\n')\n",
    "\n",
    "hex_num = 0xfc2694\n",
    "print('Integer Equivalent of 0xfc2694 is: ', hex_num, end = '\\n\\n')"
   ]
  },
  {
   "cell_type": "code",
   "execution_count": null,
   "id": "5780cf6b",
   "metadata": {},
   "outputs": [],
   "source": [
    "# Python doesn’t provide any inbuilt method to easily convert floating point decimal numbers to binary number.\n",
    "# Refer the code snippet at the end for a code snipper to perform this operation"
   ]
  },
  {
   "cell_type": "markdown",
   "id": "cb4f24d2",
   "metadata": {},
   "source": [
    "# EVAL Method"
   ]
  },
  {
   "cell_type": "code",
   "execution_count": 10,
   "id": "2e81b6d4",
   "metadata": {},
   "outputs": [
    {
     "name": "stdout",
     "output_type": "stream",
     "text": [
      "PythonClass\n",
      "PythonClass\n",
      "30.25\n",
      "30.25\n"
     ]
    }
   ],
   "source": [
    "# eval() is a built-in- function used in python. It parses the expression argument and evaluates it as a python expression, \n",
    "# assigning a datatype automatically by evaluating it in the respective format.\n",
    "\n",
    "# Examples of eval() applications:\n",
    "# eval() accepts strings and evaluates the expression in the string to return the value in the respective datatype\n",
    "\n",
    "# Regular string concatenation\n",
    "print(\"Python\"+\"Class\")\n",
    "\n",
    "# String Concatenation using eval()\n",
    "print(eval('\"Python\"+\"Class\"'))\n",
    "\n",
    "# Addition of 2 numbers:\n",
    "print(10.25 + 20)\n",
    "\n",
    "# Addition of 2 numbers using eval():\n",
    "print(eval('10.25 + 20'))"
   ]
  },
  {
   "cell_type": "markdown",
   "id": "d0a1f2aa",
   "metadata": {},
   "source": [
    "# Multiple Conversions"
   ]
  },
  {
   "cell_type": "code",
   "execution_count": 11,
   "id": "f87220d3",
   "metadata": {
    "ExecuteTime": {
     "end_time": "2021-08-01T03:16:54.957920Z",
     "start_time": "2021-08-01T03:16:54.947119Z"
    },
    "id": "f87220d3",
    "outputId": "33e9ad9c-3f3e-448e-dca9-280f4f847ce5"
   },
   "outputs": [
    {
     "name": "stdout",
     "output_type": "stream",
     "text": [
      "0b1111110010011000\n",
      "0b1111110010011000\n",
      "0b1111110010011000\n",
      "##################################################################################\n",
      "\n",
      "0b1111110010011000\n",
      "0b1111110010011000\n",
      "0b1111110010011000\n"
     ]
    }
   ],
   "source": [
    "# 1.1 Get the Hexadecimal equivalent of 'a' and convert the same to 'int' and then to 'binary'\n",
    "# 1.2 Get the Octal equivalent of 'a' and convert the same to 'int' and then to binary\n",
    "# 1.3 Get the Binary equivalent of 'a' and convert the same to 'int' and then again to 'binary'\n",
    "\n",
    "a = 64664\n",
    "\n",
    "# Using eval()\n",
    "print(bin(eval(hex(a))))\n",
    "print(bin(eval(oct(a))))\n",
    "print(bin(eval(bin(a))))\n",
    "print('##################################################################################', end = '\\n\\n')\n",
    "\n",
    "# Using base 16, 8 or 2\n",
    "a = 64664\n",
    "print(bin(int(hex(a), 16)))\n",
    "print(bin(int(oct(a), 8)))\n",
    "print(bin(int(bin(a), 2)))"
   ]
  },
  {
   "cell_type": "code",
   "execution_count": 12,
   "id": "1780ba67",
   "metadata": {
    "scrolled": true
   },
   "outputs": [
    {
     "name": "stdout",
     "output_type": "stream",
     "text": [
      "85\n",
      "##################################################################################\n",
      "\n",
      "85\n"
     ]
    }
   ],
   "source": [
    "# 2. Get the integer equivalent of 'a'\n",
    "\n",
    "a = '0b1010101'               # If 'a' is non numeric, it should be declared as a string inside quotes\n",
    "#a = 0b1010101\n",
    "\n",
    "# Using base 2:\n",
    "print(int(a, 2))\n",
    "print('##################################################################################', end = '\\n\\n')\n",
    "\n",
    "# Using eval:       \n",
    "print(int(eval(a)))"
   ]
  },
  {
   "cell_type": "code",
   "execution_count": 15,
   "id": "807d61b6",
   "metadata": {
    "ExecuteTime": {
     "end_time": "2021-08-01T03:20:02.574430Z",
     "start_time": "2021-08-01T03:20:02.557067Z"
    },
    "id": "807d61b6",
    "outputId": "9336ff81-c18c-425b-ff19-da3febaf1354"
   },
   "outputs": [
    {
     "name": "stdout",
     "output_type": "stream",
     "text": [
      "64664 <class 'int'>\n",
      "361 <class 'int'>\n",
      "24148 <class 'int'>\n"
     ]
    }
   ],
   "source": [
    "# Printing integer equivalent of Hexadecimal\n",
    "a = 0xfc98\n",
    "print(a, type(a))\n",
    "\n",
    "# Printing integer equivalent of Binary\n",
    "b = 0b101101001\n",
    "print(b, type(b))\n",
    "\n",
    "# Printing integer equivalent of Octal\n",
    "c = 0o57124\n",
    "print(c, type(c))"
   ]
  },
  {
   "cell_type": "markdown",
   "id": "f96eea79",
   "metadata": {
    "ExecuteTime": {
     "end_time": "2021-08-01T03:27:56.305946Z",
     "start_time": "2021-08-01T03:27:56.295622Z"
    },
    "id": "e91383ed"
   },
   "source": [
    "# Conversion of Datatypes"
   ]
  },
  {
   "cell_type": "code",
   "execution_count": 16,
   "id": "0226578b",
   "metadata": {},
   "outputs": [
    {
     "name": "stdout",
     "output_type": "stream",
     "text": [
      "99 <class 'int'>\n"
     ]
    }
   ],
   "source": [
    "# String can be converted to int\n",
    "a = int('99')\n",
    "print(a, type(a))"
   ]
  },
  {
   "cell_type": "code",
   "execution_count": 17,
   "id": "f713c008",
   "metadata": {},
   "outputs": [
    {
     "name": "stdout",
     "output_type": "stream",
     "text": [
      "99 <class 'int'>\n"
     ]
    }
   ],
   "source": [
    "# Float can be converted to int but the decimal values will be lost\n",
    "b = int(99.20)\n",
    "print(b, type(b))"
   ]
  },
  {
   "cell_type": "code",
   "execution_count": 18,
   "id": "ba3dc98e",
   "metadata": {},
   "outputs": [
    {
     "name": "stdout",
     "output_type": "stream",
     "text": [
      "99.0 <class 'float'>\n",
      "99.2 <class 'float'>\n"
     ]
    }
   ],
   "source": [
    "# String can be converted to Float\n",
    "c = float('99')\n",
    "print(c, type(c))\n",
    "\n",
    "d = float('99.20')\n",
    "print(d, type(d))"
   ]
  },
  {
   "cell_type": "code",
   "execution_count": 21,
   "id": "c81f13f3",
   "metadata": {},
   "outputs": [
    {
     "name": "stdout",
     "output_type": "stream",
     "text": [
      "99 <class 'str'>\n",
      "99100\n"
     ]
    }
   ],
   "source": [
    "# Int can be converted to String\n",
    "e = str(99)\n",
    "print(e, type(e))\n",
    "\n",
    "print(e + '100')"
   ]
  },
  {
   "cell_type": "code",
   "execution_count": 1,
   "id": "692db457",
   "metadata": {},
   "outputs": [
    {
     "name": "stdout",
     "output_type": "stream",
     "text": [
      "99 <class 'int'>\n"
     ]
    }
   ],
   "source": [
    "# Multiple conversions are not allowed (String --> Float --> Int):\n",
    "\n",
    "# This is allowed\n",
    "f = int(float('99.20'))\n",
    "print(f, type(f))\n",
    "\n",
    "# This is not allowed\n",
    "# f = int('99.20')\n",
    "# print(f, type(f))"
   ]
  },
  {
   "cell_type": "code",
   "execution_count": 25,
   "id": "fb31e5ab",
   "metadata": {},
   "outputs": [
    {
     "name": "stdout",
     "output_type": "stream",
     "text": [
      "21 <class 'int'>\n",
      "21 <class 'int'>\n",
      "##################################################################################\n",
      "\n",
      "4012 <class 'int'>\n",
      "4012 <class 'int'>\n",
      "##################################################################################\n",
      "\n",
      "64664 <class 'int'>\n",
      "64664 <class 'int'>\n",
      "##################################################################################\n",
      "\n",
      "1 <class 'int'>\n"
     ]
    }
   ],
   "source": [
    "# Binary, Octal and Hexadecimal can be converted to Integer\n",
    "\n",
    "# Binary to Integer\n",
    "a = int(0b10101)\n",
    "print(a, type(a))\n",
    "# OR\n",
    "a = int('0b10101', 2)\n",
    "print(a, type(a))\n",
    "print('##################################################################################', end = '\\n\\n')\n",
    "\n",
    "\n",
    "# Octal to Integer\n",
    "a = int(0o7654)\n",
    "print(a, type(a))\n",
    "# OR\n",
    "a = int('0o7654', 8)\n",
    "print(a, type(a))\n",
    "print('##################################################################################', end = '\\n\\n')\n",
    "\n",
    "\n",
    "# Hexadecimal to Integer\n",
    "a = int(0xfc98)\n",
    "print(a, type(a))\n",
    "# OR\n",
    "a = int('0xfc98', 16)\n",
    "print(a, type(a))\n",
    "print('##################################################################################', end = '\\n\\n')\n",
    "\n",
    "\n",
    "# Boolean to Integer\n",
    "a = int(True)\n",
    "print(a, type(a))"
   ]
  },
  {
   "cell_type": "code",
   "execution_count": null,
   "id": "a340d4b1",
   "metadata": {},
   "outputs": [],
   "source": [
    "# INVALID CONVERSIONS\n",
    "\n",
    "# Complex numbers cannot be converted to Integer\n",
    "#int(10+20j)\n",
    "\n",
    "# Alphanumeric Strings (other than bin, oct or hex) cannot be converted to Integer. \n",
    "# int('Python_3.7')\n",
    "\n",
    "# Binary in string format cannot be converted to Integer without specifying base\n",
    "# int('0b10101')\n",
    "# But this works:\n",
    "# int(0b10101)\n",
    "# int(eval('0b10101'))\n",
    "\n",
    "# Boolean in string format cannot be converted to Integer\n",
    "# int('True')\n",
    "# But this works:\n",
    "# int(True)\n",
    "# int(eval('True'))\n",
    "\n",
    "# Float in string format cannot be converted to Integer\n",
    "# int('10.20')\n",
    "# But this works:\n",
    "# int(10.2)\n",
    "# int(eval('10.2'))"
   ]
  },
  {
   "cell_type": "code",
   "execution_count": 1,
   "id": "f664ddc8",
   "metadata": {
    "ExecuteTime": {
     "end_time": "2021-08-01T03:44:22.673843Z",
     "start_time": "2021-08-01T03:44:22.667685Z"
    },
    "id": "f664ddc8"
   },
   "outputs": [
    {
     "name": "stdout",
     "output_type": "stream",
     "text": [
      "10.0 <class 'float'>\n",
      "################################################################################\n",
      "\n",
      "10.2 <class 'float'>\n",
      "################################################################################\n",
      "\n",
      "10.2 <class 'float'>\n",
      "################################################################################\n",
      "\n",
      "21.0 <class 'float'>\n",
      "################################################################################\n",
      "\n",
      "4012.0 <class 'float'>\n",
      "################################################################################\n",
      "\n",
      "64664.0 <class 'float'>\n",
      "################################################################################\n",
      "\n",
      "1.0\n"
     ]
    }
   ],
   "source": [
    "# Valid Assignments for Float\n",
    "\n",
    "a = float(10)\n",
    "print(a, type(a))\n",
    "print('################################################################################', end = '\\n\\n')\n",
    "\n",
    "a = float(10.20)\n",
    "print(a, type(a))\n",
    "print('################################################################################', end = '\\n\\n')\n",
    "\n",
    "a = float('10.20')\n",
    "print(a, type(a))\n",
    "print('################################################################################', end = '\\n\\n')\n",
    "\n",
    "a = float(0b10101)\n",
    "print(a, type(a))\n",
    "print('################################################################################', end = '\\n\\n')\n",
    "\n",
    "a = float(0o7654)\n",
    "print(a, type(a))\n",
    "print('################################################################################', end = '\\n\\n')\n",
    "\n",
    "a = float(0xfc98)\n",
    "print(a, type(a))\n",
    "print('#'*80, end = '\\n\\n')\n",
    "\n",
    "a = float(True)\n",
    "print(a)"
   ]
  },
  {
   "cell_type": "code",
   "execution_count": null,
   "id": "2f259134",
   "metadata": {},
   "outputs": [],
   "source": [
    "#Error\n",
    "# a = float('0b10101')\n",
    "# print(a, type(a))\n",
    "\n",
    "# a = float('0o7654')\n",
    "# print(a, type(a))\n",
    "\n",
    "# a = float('0xfc98')\n",
    "# print(a, type(a))\n",
    "\n",
    "# a = float(10+20j)\n",
    "# print(a, type(a))\n",
    "\n",
    "# a = float('True')\n",
    "# print(a)\n",
    "\n",
    "# a = float('Python')\n",
    "# print(a)"
   ]
  },
  {
   "cell_type": "code",
   "execution_count": 26,
   "id": "cc9d4e28",
   "metadata": {
    "ExecuteTime": {
     "end_time": "2021-08-01T04:30:38.754976Z",
     "start_time": "2021-08-01T04:30:38.748320Z"
    },
    "id": "cc9d4e28",
    "scrolled": true
   },
   "outputs": [
    {
     "name": "stdout",
     "output_type": "stream",
     "text": [
      "10\n",
      "20\n",
      "################################################################################\n",
      "\n",
      "20.33\n",
      "99.87\n"
     ]
    }
   ],
   "source": [
    "# Complex Numbers\n",
    "# Any number in a+bj format\n",
    "# Where a is real part\n",
    "# b is imaginary part\n",
    "# and j is imaginary value (sqrt(-1))\n",
    "\n",
    "num = 10+20j\n",
    "\n",
    "print(int(num.real))\n",
    "print(int(num.imag))\n",
    "print('#'*80, end = '\\n\\n')\n",
    "\n",
    "num = 20.33+99.87j\n",
    "print(num.real)\n",
    "print(num.imag)"
   ]
  },
  {
   "cell_type": "code",
   "execution_count": 27,
   "id": "1b92c2cb",
   "metadata": {
    "ExecuteTime": {
     "end_time": "2021-08-01T04:40:35.209347Z",
     "start_time": "2021-08-01T04:40:35.204667Z"
    },
    "id": "1b92c2cb"
   },
   "outputs": [
    {
     "name": "stdout",
     "output_type": "stream",
     "text": [
      "2\n",
      "1\n",
      "0\n",
      "0\n"
     ]
    }
   ],
   "source": [
    "# Boolean Types\n",
    "# True and False\n",
    "\n",
    "# True = 1\n",
    "# False = 0\n",
    "print(True+True)\n",
    "print(int(True))\n",
    "print(109*False)\n",
    "print(int(False))"
   ]
  },
  {
   "cell_type": "code",
   "execution_count": 28,
   "id": "e7cfa24c",
   "metadata": {},
   "outputs": [
    {
     "name": "stdout",
     "output_type": "stream",
     "text": [
      "False\n",
      "False\n",
      "False\n",
      "True\n",
      "False\n",
      "False\n",
      "False\n",
      "False\n",
      "True\n"
     ]
    }
   ],
   "source": [
    "# int to Boolean \n",
    "# 0 is always False rest all True\n",
    "# 0.0 is always False rest all True\n",
    "# 0.0+0.0j is always False rest all True\n",
    "# None is Always False\n",
    "# '' is always False rest all True\n",
    "# [],(),set(),{} - is always False rest all True\n",
    "\n",
    "\n",
    "print(bool(''))\n",
    "print(bool(0))\n",
    "print(bool(0.0))\n",
    "print(bool(0.000000000000001))\n",
    "print(bool(()))\n",
    "print(bool([]))\n",
    "print(bool({}))\n",
    "print(bool(set()))\n",
    "print(bool(-10))"
   ]
  },
  {
   "cell_type": "markdown",
   "id": "d66716b7",
   "metadata": {
    "id": "aa919400"
   },
   "source": [
    "# Python Code to convert float type decimal to binary number"
   ]
  },
  {
   "cell_type": "code",
   "execution_count": 29,
   "id": "147ae14b",
   "metadata": {
    "id": "147ae14b"
   },
   "outputs": [
    {
     "name": "stdout",
     "output_type": "stream",
     "text": [
      "Enter your floating point value : 123.45\n",
      "Enter the number of decimal places of the result : 5\n",
      "\n",
      "\n",
      "Binary Equivalent of 123.45 = 1111011.01110\n"
     ]
    }
   ],
   "source": [
    "# Function converts the value passed as parameter to it's decimal representation\n",
    "def decimal_converter(num):\n",
    "    while num > 1:\n",
    "        num = num/10            # num = 0.45, 0.9, 0.8.....\n",
    "    return num\n",
    "\n",
    "# Main Code\n",
    "n = input(\"Enter your floating point value : \")                            # say n = 123.45\n",
    "p = int(input(\"Enter the number of decimal places of the result : \"))      # say p = 3\n",
    "\n",
    "# split() separates whole number and decimal part by \".\" and stores it in two separate variables\n",
    "whole, dec = str(n).split(\".\")                                               # whole = 123,  dec = 45 - Both of String type\n",
    "\n",
    "# Convert both whole number and decimal part from string type to integer type\n",
    "whole = int(whole)              # whole = 123\n",
    "dec = int (dec)                 # dec = 45\n",
    "\n",
    "# Convert the whole number part to it's respective binary form and remove the \"0b\" from it. Add a \".\" at the end\n",
    "res = bin(whole).lstrip(\"0b\") + \".\"                         # bin(whole) = 0b1111011, res = '1111011.', type = string\n",
    "\n",
    "# Iterate the number of times, we want the number of decimal places to be\n",
    "for x in range(p):\n",
    "    d = (decimal_converter(dec)) * 2     # d = 0.9, 1.8, 1.6.....\n",
    "\n",
    "    whole, dec = str(d).split(\".\")  # Multiply the decimal value by 2 & separate the whole number & decimal\n",
    "                                    # whole = '0', '1', '1'....\n",
    "                                    # dec = '9', '8', '6'....\n",
    "    dec = int(dec)         # Convert the decimal part to integer again\n",
    "    res = res + whole      # Keep adding the integer parts received to the result: res = 1111011.0, 1111011.01, 1111011.011\n",
    "\n",
    "print(f\"\\n\\nBinary Equivalent of {n} = {res}\")"
   ]
  },
  {
   "cell_type": "code",
   "execution_count": null,
   "id": "013b8a6f",
   "metadata": {},
   "outputs": [],
   "source": [
    "# Cleaned up Code:\n",
    "\n",
    "def decimal_converter(num):\n",
    "    while num > 1:\n",
    "        num = num/10            \n",
    "    return num\n",
    "\n",
    "\n",
    "n = input(\"Enter your floating point value : \")                            \n",
    "p = int(input(\"Enter the number of decimal places of the result : \"))    \n",
    "\n",
    "whole, dec = str(n).split(\".\") \n",
    "whole = int(whole)              \n",
    "dec = int (dec)  \n",
    "res = bin(whole).lstrip(\"0b\") + \".\"  \n",
    "\n",
    "for x in range(p):\n",
    "    d = (decimal_converter(dec)) * 2  \n",
    "    whole, dec = str(d).split(\".\")                                     \n",
    "    dec = int(dec)         \n",
    "    res = res + whole      \n",
    "\n",
    "print(f\"\\n\\nBinary Equivalent of {n} = {res}\")"
   ]
  },
  {
   "cell_type": "code",
   "execution_count": null,
   "id": "07f0a809",
   "metadata": {},
   "outputs": [],
   "source": []
  }
 ],
 "metadata": {
  "colab": {
   "name": "Class_04_Data_Types_Operators.ipynb",
   "provenance": []
  },
  "kernelspec": {
   "display_name": "Python 3 (ipykernel)",
   "language": "python",
   "name": "python3"
  },
  "language_info": {
   "codemirror_mode": {
    "name": "ipython",
    "version": 3
   },
   "file_extension": ".py",
   "mimetype": "text/x-python",
   "name": "python",
   "nbconvert_exporter": "python",
   "pygments_lexer": "ipython3",
   "version": "3.9.7"
  }
 },
 "nbformat": 4,
 "nbformat_minor": 5
}
