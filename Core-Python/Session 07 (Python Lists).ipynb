{
 "cells": [
  {
   "cell_type": "markdown",
   "id": "a9166566",
   "metadata": {
    "id": "a9166566"
   },
   "source": [
    "# Python Lists"
   ]
  },
  {
   "cell_type": "code",
   "execution_count": 3,
   "id": "ce031650",
   "metadata": {
    "ExecuteTime": {
     "end_time": "2021-08-28T03:25:22.837972Z",
     "start_time": "2021-08-28T03:25:22.826510Z"
    },
    "id": "ce031650",
    "outputId": "de2221d5-a726-46c2-dd7a-1ded7bad68ca"
   },
   "outputs": [
    {
     "name": "stdout",
     "output_type": "stream",
     "text": [
      "[10, 20, 30, 40] <class 'list'>\n"
     ]
    }
   ],
   "source": [
    "# List - Group of values kept inside []\n",
    "\n",
    "lst = [10,20,30,40]\n",
    "print(lst, type(lst))"
   ]
  },
  {
   "cell_type": "code",
   "execution_count": 4,
   "id": "c9b5bb7b",
   "metadata": {},
   "outputs": [
    {
     "name": "stdout",
     "output_type": "stream",
     "text": [
      "[10, 10.2, (10+20j), None, True, 'Python'] <class 'list'>\n",
      "['Krishna', 29, 90000.9] <class 'list'>\n"
     ]
    }
   ],
   "source": [
    "# List can have Heterogeneous data, i.e. data of different types\n",
    "\n",
    "lst = [10, 10.20, 10+20j, None, True, 'Python']\n",
    "print(lst, type(lst))\n",
    "\n",
    "emp_lst = ['Krishna', 29, 90000.90]\n",
    "print(emp_lst, type(emp_lst))"
   ]
  },
  {
   "cell_type": "code",
   "execution_count": 5,
   "id": "e8518ed5",
   "metadata": {},
   "outputs": [
    {
     "name": "stdout",
     "output_type": "stream",
     "text": [
      "[29, 28, 27, 29, 30, 35, 50, 35, 35, 50, 35, 29]\n"
     ]
    }
   ],
   "source": [
    "# List can have duplicate elements\n",
    "emp_age = [29, 28, 27, 29, 30, 35, 50, 35, 35, 50, 35, 29]\n",
    "print(emp_age)"
   ]
  },
  {
   "cell_type": "code",
   "execution_count": 6,
   "id": "03548e39",
   "metadata": {},
   "outputs": [
    {
     "name": "stdout",
     "output_type": "stream",
     "text": [
      "\n",
      "Accessing first element\n",
      "krishna@volvo.com\n",
      "krishna@volvo.com\n",
      "krishna@volvo.com\n",
      "\n",
      "Accessing last element\n",
      "apoorva@volvo.com\n",
      "apoorva@volvo.com\n",
      "apoorva@volvo.com\n"
     ]
    }
   ],
   "source": [
    "# List is a sequence - indexing, slicing, concatenation, repetiton are allowed\n",
    "\n",
    "emp_email_lst = ['krishna@volvo.com', 'abhishek@volvo.com', 'rahul@volvo.com', 'apoorva@volvo.com']\n",
    "print('\\nAccessing first element')\n",
    "print(emp_email_lst[0])\n",
    "print(emp_email_lst[-4])\n",
    "print(emp_email_lst[-len(emp_email_lst)])\n",
    "\n",
    "print('\\nAccessing last element')\n",
    "print(emp_email_lst[-1])\n",
    "print(emp_email_lst[3])\n",
    "print(emp_email_lst[len(emp_email_lst)-1])\n",
    "\n"
   ]
  },
  {
   "cell_type": "code",
   "execution_count": 21,
   "id": "987f0de2",
   "metadata": {},
   "outputs": [
    {
     "name": "stdout",
     "output_type": "stream",
     "text": [
      "['abhishek@volvo.com', 'rahul@volvo.com']\n",
      "['krishna@volvo.com', 'abhishek@volvo.com', 'rahul@volvo.com', 'apoorva@volvo.com']\n",
      "['apoorva@volvo.com', 'rahul@volvo.com', 'abhishek@volvo.com', 'krishna@volvo.com']\n",
      "['apoorva@volvo.com', 'rahul@volvo.com', 'abhishek@volvo.com', 'krishna@volvo.com']\n",
      "[]\n",
      "['apoorva@volvo.com', 'rahul@volvo.com', 'abhishek@volvo.com']\n"
     ]
    }
   ],
   "source": [
    "# Slicing - lst_name[start:stop:step]\n",
    "\n",
    "emp_email_lst = ['krishna@volvo.com', 'abhishek@volvo.com', 'rahul@volvo.com', 'apoorva@volvo.com']\n",
    "\n",
    "print(emp_email_lst[1:3:1])\n",
    "print(emp_email_lst[::])\n",
    "print(emp_email_lst[::-1])\n",
    "print(emp_email_lst[-1:-len(emp_email_lst)-1:-1])\n",
    "\n",
    "print(emp_email_lst[0:len(emp_email_lst):-1])\n",
    "print(emp_email_lst[len(emp_email_lst):0:-1])"
   ]
  },
  {
   "cell_type": "code",
   "execution_count": 9,
   "id": "e30eb473",
   "metadata": {},
   "outputs": [],
   "source": [
    "# When step is +ve -> default start is 0 and default stop is len(lst)\n",
    "# When step is -ve - default start is -1 and default stop is -len(lst)-1\n",
    "# If step is +ve then start should be on left compared to your stop value\n",
    "# If step is -ve then start should be on right compared to your stop value"
   ]
  },
  {
   "cell_type": "code",
   "execution_count": 10,
   "id": "7da2bc82",
   "metadata": {},
   "outputs": [
    {
     "name": "stdout",
     "output_type": "stream",
     "text": [
      "['krishna@volvo.com', 'abhishek@volvo.com', 'rahul@volvo.com', 'apoorva@volvo.com'] 1142163651840\n",
      "[100, 'abhishek@volvo.com', 'rahul@volvo.com', 'apoorva@volvo.com'] 1142163651840\n"
     ]
    }
   ],
   "source": [
    "# List is mutable\n",
    "# 1. Item assignment is possible\n",
    "# 2. Changes will be done in the existing object\n",
    "\n",
    "\n",
    "emp_email_lst = ['krishna@volvo.com', 'abhishek@volvo.com', 'rahul@volvo.com', 'apoorva@volvo.com']\n",
    "print(emp_email_lst, id(emp_email_lst))\n",
    "emp_email_lst[0] = 100\n",
    "print(emp_email_lst, id(emp_email_lst))"
   ]
  },
  {
   "cell_type": "markdown",
   "id": "664079be",
   "metadata": {
    "id": "664079be"
   },
   "source": [
    "# Creation of List objects"
   ]
  },
  {
   "cell_type": "code",
   "execution_count": 23,
   "id": "98f2f83e",
   "metadata": {
    "ExecuteTime": {
     "end_time": "2021-08-28T04:06:18.487418Z",
     "start_time": "2021-08-28T04:06:18.437001Z"
    },
    "id": "98f2f83e",
    "outputId": "4a253352-858c-4009-804c-578406de5bb5"
   },
   "outputs": [
    {
     "name": "stdout",
     "output_type": "stream",
     "text": [
      "['Krishna', 'krishna@volvo.com', 'Volvo', 35, 90000, 'Bengaluru']\n",
      "['K', 'r', 'i', 's', 'h', 'n', 'a']\n",
      "['Krishna', 'Thomas', 'Tommy']\n"
     ]
    }
   ],
   "source": [
    "# If we know the elements in advance\n",
    "emp_info = ['Krishna', 'krishna@volvo.com', 'Volvo', 35, 90000, 'Bengaluru']\n",
    "print(emp_info)\n",
    "\n",
    "# Creating list from other itearble type using the inbuilt list() method\n",
    "print(list('Krishna'))\n",
    "print(list(['Krishna', 'Thomas', 'Tommy']))"
   ]
  },
  {
   "cell_type": "code",
   "execution_count": 24,
   "id": "729959ad",
   "metadata": {},
   "outputs": [
    {
     "name": "stdout",
     "output_type": "stream",
     "text": [
      "['Krishna', 'krishna@volvo.com', 'Volvo', 35, 90000, 'Bengaluru']\n",
      "['Krishna', 'krishna@volvo.com', 'Volvo', 35, 90000, 'Bengaluru']\n",
      "['emp_name', 'emp_id', 'emp_sal']\n"
     ]
    }
   ],
   "source": [
    "# Print list / tuple / dictionary as list\n",
    "\n",
    "print(list(['Krishna', 'krishna@volvo.com', 'Volvo', 35, 90000, 'Bengaluru']))     # List to List\n",
    "print(list(('Krishna', 'krishna@volvo.com', 'Volvo', 35, 90000, 'Bengaluru')))     # Tuple to List\n",
    "print(list({'emp_name':'Krishna', 'emp_id':101, 'emp_sal':80000}))                 # Dictionary to List"
   ]
  },
  {
   "cell_type": "code",
   "execution_count": 26,
   "id": "672d3409",
   "metadata": {},
   "outputs": [
    {
     "name": "stdout",
     "output_type": "stream",
     "text": [
      "[10, 20, 30] 2842885714048\n",
      "[10, 20, 30] 2842885714048\n",
      "[111, 20, 30] 2842885714048\n",
      "[111, 20, 30] 2842885714048\n"
     ]
    }
   ],
   "source": [
    "# Assignment operators on list: Shallow Copy - Copy of an existing object\n",
    "\n",
    "lst1 = [10,20,30]\n",
    "lst2 = lst1                    # Shallow Copy\n",
    "print(lst1, id(lst1))\n",
    "print(lst2, id(lst2))\n",
    "\n",
    "lst2[0] = 111\n",
    "print(lst1, id(lst1))\n",
    "print(lst2, id(lst2))\n",
    "\n",
    "# In Shallow Copy, modifying an element of the original list will modify the duplicate list as well and vice versa"
   ]
  },
  {
   "cell_type": "code",
   "execution_count": 16,
   "id": "9db11cef",
   "metadata": {},
   "outputs": [
    {
     "name": "stdout",
     "output_type": "stream",
     "text": [
      "[10, 20, 30] 1142163721472\n",
      "[10, 20, 30] 1142163742912\n",
      "[10, 20, 30] 1142163721472\n",
      "[111, 20, 30] 1142163742912\n"
     ]
    }
   ],
   "source": [
    "# Assignment operators on list: Deep Copy - New object is created\n",
    "\n",
    "import copy\n",
    "\n",
    "lst1 = [10,20,30]\n",
    "lst2 = copy.deepcopy(lst1)      # Deep Copy\n",
    "print(lst1, id(lst1))\n",
    "print(lst2, id(lst2))\n",
    "\n",
    "lst2[0] = 111\n",
    "print(lst1, id(lst1))\n",
    "print(lst2, id(lst2))\n",
    "\n",
    "# In Deep Copy, modifying an element of the original list will not modify the duplicate list and vice versa"
   ]
  },
  {
   "cell_type": "code",
   "execution_count": 35,
   "id": "cfd010b8",
   "metadata": {},
   "outputs": [
    {
     "name": "stdout",
     "output_type": "stream",
     "text": [
      "Enter a list: ['A031828', 'A378752']\n",
      "['A031828', 'A378752'] <class 'list'>\n",
      "A031828 <class 'list'>\n"
     ]
    }
   ],
   "source": [
    "# Taking list as input from user\n",
    "\n",
    "emp_info = eval(input('Enter a list: '))\n",
    "print(emp_info, type(emp_info))\n",
    "print(emp_info[0], type(emp_info))"
   ]
  },
  {
   "cell_type": "code",
   "execution_count": 7,
   "id": "6d0f2ab8",
   "metadata": {},
   "outputs": [
    {
     "name": "stdout",
     "output_type": "stream",
     "text": [
      "['krishna9', 'abhishek', 'apoorva']\n"
     ]
    }
   ],
   "source": [
    "# List comprehension - A shotcut to combine multiple operations on lists in a single line\n",
    "# [expr for loop if cond]\n",
    "\n",
    "# Use Case: For a given list of email id's, print the user id's if the length of the user id is > 6 characters\n",
    "\n",
    "emp_email_lst = ['krishna9@volvo.com', 'abhishek@volvo.com', 'rahul@volvo.com', 'apoorva@volvo.com', 'tim@volvo.com']\n",
    "emp_user_lst = [i[:i.index('@')] for i in emp_email_lst if len(i[:i.index('@')])>6]\n",
    "\n",
    "print(emp_user_lst)  # Extracts the user id before '@' if length of the user id > 6"
   ]
  },
  {
   "cell_type": "code",
   "execution_count": 8,
   "id": "cb4ccfaf",
   "metadata": {},
   "outputs": [
    {
     "name": "stdout",
     "output_type": "stream",
     "text": [
      "['krishna9', 'abhishek', 'apoorva']\n"
     ]
    }
   ],
   "source": [
    "# The above code can also be written as below but number of lines increases:\n",
    "\n",
    "emp_email_lst = ['krishna9@volvo.com', 'abhishek@volvo.com', 'rahul@volvo.com', 'apoorva@volvo.com', 'tim@volvo.com']\n",
    "emp_user_lst = []\n",
    "for i in emp_email_lst:\n",
    "    if len(i[:i.index('@')])>6:\n",
    "        emp_user_lst.append(i[:i.index('@')])\n",
    "        \n",
    "print(emp_user_lst)"
   ]
  },
  {
   "cell_type": "code",
   "execution_count": 30,
   "id": "52e62c0e",
   "metadata": {},
   "outputs": [
    {
     "data": {
      "text/plain": [
       "[4, 16, 36, 64]"
      ]
     },
     "execution_count": 30,
     "metadata": {},
     "output_type": "execute_result"
    }
   ],
   "source": [
    "# From a given list of integers, print the square of only the even numbers using List Comprehension \n",
    "# [expr for loop if cond]\n",
    "\n",
    "lst = [1, 2, 3, 4, 5, 6, 7, 8, 9]\n",
    "print([i**2 for i in lst if i%2 == 0])"
   ]
  },
  {
   "cell_type": "code",
   "execution_count": 28,
   "id": "7b631e50",
   "metadata": {
    "ExecuteTime": {
     "end_time": "2021-08-28T03:48:03.806890Z",
     "start_time": "2021-08-28T03:48:03.801882Z"
    },
    "id": "7b631e50",
    "outputId": "63a7492c-db17-4c89-b7f8-2ad8661c6aa8"
   },
   "outputs": [
    {
     "name": "stdout",
     "output_type": "stream",
     "text": [
      "['[', \"'\", 'K', 'r', 'i', 's', 'h', 'n', 'a', \"'\", ',', ' ', '1', '0', '1', ',', ' ', '9', '8', '0', '0', '0', ']']\n",
      "['Krishna', 101, 98000]\n"
     ]
    }
   ],
   "source": [
    "# Enclosing a list in quotes will make it behave like a string and return each element as a list object:\n",
    "print(list(\"['Krishna', 101, 98000]\"))\n",
    "print(list(['Krishna', 101, 98000]))"
   ]
  },
  {
   "cell_type": "code",
   "execution_count": 29,
   "id": "aaf6479b",
   "metadata": {
    "ExecuteTime": {
     "end_time": "2021-08-28T04:13:44.568977Z",
     "start_time": "2021-08-28T04:13:44.562089Z"
    },
    "id": "aaf6479b",
    "outputId": "78c804f2-adbe-4b22-e15b-ed4e8600a920"
   },
   "outputs": [
    {
     "name": "stdout",
     "output_type": "stream",
     "text": [
      "g\n",
      "Bengaluru\n"
     ]
    }
   ],
   "source": [
    "# Nested List - list inside a list or multi dimensional list\n",
    "emp_info = [['Krishna', 101, 90000, None], \n",
    "            ['Rahul', 103, 99000, 'Bengaluru'], \n",
    "            ['Apoorva', 104, 55000, None], \n",
    "            ['Abhishek', 109, 76000, None]]\n",
    "print(emp_info[1][-1][3])  \n",
    "print(emp_info[1][-1]) \n",
    "# Extracts the fourth character (3), of the last element (-1), from the second list (1) in the nested list"
   ]
  },
  {
   "cell_type": "markdown",
   "id": "f14db5a6",
   "metadata": {},
   "source": [
    "# Methods on Lists"
   ]
  },
  {
   "cell_type": "code",
   "execution_count": 4,
   "id": "f19d5047",
   "metadata": {
    "ExecuteTime": {
     "end_time": "2021-08-28T04:15:29.043225Z",
     "start_time": "2021-08-28T04:15:29.036832Z"
    },
    "id": "f19d5047",
    "outputId": "9166a749-60ed-4144-9959-73a8841fdb86"
   },
   "outputs": [
    {
     "name": "stdout",
     "output_type": "stream",
     "text": [
      "['__add__', '__class__', '__class_getitem__', '__contains__', '__delattr__', '__delitem__', '__dir__', '__doc__', '__eq__', '__format__', '__ge__', '__getattribute__', '__getitem__', '__gt__', '__hash__', '__iadd__', '__imul__', '__init__', '__init_subclass__', '__iter__', '__le__', '__len__', '__lt__', '__mul__', '__ne__', '__new__', '__reduce__', '__reduce_ex__', '__repr__', '__reversed__', '__rmul__', '__setattr__', '__setitem__', '__sizeof__', '__str__', '__subclasshook__', 'append', 'clear', 'copy', 'count', 'extend', 'index', 'insert', 'pop', 'remove', 'reverse', 'sort']\n"
     ]
    }
   ],
   "source": [
    "# List Methods\n",
    "print(dir(list))\n",
    "\n",
    "# Usable Methods: ['append', 'clear', 'copy', 'count', 'extend', 'index', 'insert', 'pop', 'remove', 'reverse', 'sort']"
   ]
  },
  {
   "cell_type": "code",
   "execution_count": 34,
   "id": "283bd372",
   "metadata": {
    "ExecuteTime": {
     "end_time": "2021-08-28T04:32:23.557651Z",
     "start_time": "2021-08-28T04:32:23.549423Z"
    },
    "id": "283bd372",
    "outputId": "78dcea5a-d0b1-401d-c1ad-96cef03c98f0"
   },
   "outputs": [
    {
     "name": "stdout",
     "output_type": "stream",
     "text": [
      "['krishna9@volvo.com', 'abhishek@volvo.com', 'rahul@volvo.com', 'apoorva@volvo.como', 'Diksha@volvo.com']\n"
     ]
    }
   ],
   "source": [
    "# Inserting the elements inside the list - append, insert, extend\n",
    "# Append - adds the elements at the end of the list\n",
    "\n",
    "emp_email_lst = ['krishna9@volvo.com', 'abhishek@volvo.com', 'rahul@volvo.com', 'apoorva@volvo.como']\n",
    "emp_email_lst.append('Diksha@volvo.com')\n",
    "print(emp_email_lst)"
   ]
  },
  {
   "cell_type": "code",
   "execution_count": 11,
   "id": "d6b32644",
   "metadata": {},
   "outputs": [
    {
     "name": "stdout",
     "output_type": "stream",
     "text": [
      "['krishna9@volvo.com', 'abhishek@volvo.com', 'rahul@volvo.com', 'apoorva@volvo.com']\n",
      "['krishna9@volvo.com', 'abhishek@volvo.com', 'rahul@volvo.com', 'apoorva@volvo.com', 'Diksha@volvo.com']\n",
      "['krishna9@volvo.com', 'Diksha@volvo.com', 'abhishek@volvo.com', 'rahul@volvo.com', 'apoorva@volvo.com', 'Diksha@volvo.com']\n"
     ]
    }
   ],
   "source": [
    "# Inserting the element in the middle of the list\n",
    "\n",
    "emp_email_lst = ['krishna9@volvo.com', 'abhishek@volvo.com', 'rahul@volvo.com', 'apoorva@volvo.com']\n",
    "print(emp_email_lst)\n",
    "\n",
    "emp_email_lst.insert(len(emp_email_lst), 'Diksha@volvo.com')   # Inserts an element at the end of the list\n",
    "print(emp_email_lst)\n",
    "\n",
    "emp_email_lst.insert(1, 'Diksha@volvo.com')                    # Inserts an element at the specified index\n",
    "print(emp_email_lst)"
   ]
  },
  {
   "cell_type": "code",
   "execution_count": 12,
   "id": "a7f203d8",
   "metadata": {},
   "outputs": [
    {
     "name": "stdout",
     "output_type": "stream",
     "text": [
      "['krishna9@volvo.com', 'abhishek@volvo.com', 'rahul@volvo.com', 'apoorva@volvo.com', 'Diksha@volvo.com', 'simran@volvo.com']\n"
     ]
    }
   ],
   "source": [
    "# Inserting the element inside the list using extend. It inserts the second list at the end of the first list\n",
    "\n",
    "emp_email_lst1 = ['krishna9@volvo.com', 'abhishek@volvo.com', 'rahul@volvo.com', 'apoorva@volvo.com']\n",
    "emp_email_lst2 = ['Diksha@volvo.com', 'simran@volvo.com']\n",
    "\n",
    "emp_email_lst1.extend(emp_email_lst2)\n",
    "print(emp_email_lst1)"
   ]
  },
  {
   "cell_type": "code",
   "execution_count": 13,
   "id": "2f3c08cf",
   "metadata": {},
   "outputs": [
    {
     "name": "stdout",
     "output_type": "stream",
     "text": [
      "['krishna9@volvo.com', 'abhishek@volvo.com', 'rahul@volvo.com', 'apoorva@volvo.com', 'Diksha@volvo.com', 'simran@volvo.com']\n"
     ]
    }
   ],
   "source": [
    "# Inserting elements inside a list using '+' or Concatenation. It inserts the second list at the end of the first list\n",
    "\n",
    "emp_email_lst1 = ['krishna9@volvo.com', 'abhishek@volvo.com', 'rahul@volvo.com', 'apoorva@volvo.com']\n",
    "emp_email_lst2 = ['Diksha@volvo.com', 'simran@volvo.com']\n",
    "\n",
    "print(emp_email_lst1 + emp_email_lst2)"
   ]
  },
  {
   "cell_type": "code",
   "execution_count": 14,
   "id": "884ac436",
   "metadata": {
    "ExecuteTime": {
     "end_time": "2021-08-28T05:04:12.755272Z",
     "start_time": "2021-08-28T05:04:12.733095Z"
    },
    "id": "884ac436",
    "outputId": "4137daf3-b9e7-4711-ecb6-c97c87f98fd0"
   },
   "outputs": [
    {
     "name": "stdout",
     "output_type": "stream",
     "text": [
      "[]\n"
     ]
    }
   ],
   "source": [
    "# Removing the elements from the list -  'pop', 'remove', 'clear'\n",
    "\n",
    "# clear\n",
    "\n",
    "emp_email_lst = ['krishna9@volvo.com', 'abhishek@volvo.com', 'rahul@volvo.com', 'apoorva@volvo.com']\n",
    "emp_email_lst.clear()    # Delets all the elements from the list\n",
    "print(emp_email_lst)"
   ]
  },
  {
   "cell_type": "code",
   "execution_count": 18,
   "id": "4debcd7e",
   "metadata": {},
   "outputs": [
    {
     "name": "stdout",
     "output_type": "stream",
     "text": [
      "apoorva@volvo.com\n",
      "['krishna9@volvo.com', 'abhishek@volvo.com', 'rahul@volvo.com']\n",
      "['krishna9@volvo.com', 'rahul@volvo.com']\n"
     ]
    }
   ],
   "source": [
    "# pop() - by default removes the last element from the list\n",
    "# pop(index) - removes the element from the list from specified index\n",
    "\n",
    "emp_email_lst = ['krishna9@volvo.com', 'abhishek@volvo.com', 'rahul@volvo.com', 'apoorva@volvo.com']\n",
    "email = emp_email_lst.pop()       # Removes the last element from the list. removed element is stored in variable 'email'\n",
    "print(email)\n",
    "print(emp_email_lst)\n",
    "\n",
    "emp_email_lst.pop(1)            # Removes the element from specified index\n",
    "print(emp_email_lst)"
   ]
  },
  {
   "cell_type": "code",
   "execution_count": 20,
   "id": "9184b2c7",
   "metadata": {},
   "outputs": [
    {
     "name": "stdout",
     "output_type": "stream",
     "text": [
      "['Krishna', 'Abhishek', 'Rahul', 'Krishna', 'Aditi', 'Afsan', 'Abhishek']\n",
      "['Krishna', 'Abhishek', 'Rahul', 'Krishna', 'Aditi', 'Afsan', 'Abhishek']\n"
     ]
    }
   ],
   "source": [
    "# remove(val) - removes the first occurrence of the value from the list\n",
    "\n",
    "# Using remove:\n",
    "emp_name_lst = ['Krishna', 'Abhishek', 'Rahul', 'Krishna', 'Aditi', 'Afsan', 'Abhishek', 'Krishnan']\n",
    "emp_name_lst.remove('Krishnan')\n",
    "print(emp_name_lst)\n",
    "\n",
    "# Using list comprehension:\n",
    "emp_name_lst = ['Krishna', 'Abhishek', 'Rahul', 'Krishna', 'Aditi', 'Afsan', 'Abhishek', 'Krishnan']\n",
    "print([i for i in emp_name_lst if i != 'Krishnan'])\n"
   ]
  },
  {
   "cell_type": "code",
   "execution_count": 8,
   "id": "926bfe34",
   "metadata": {
    "ExecuteTime": {
     "end_time": "2021-08-28T04:56:20.850819Z",
     "start_time": "2021-08-28T04:56:20.841822Z"
    },
    "id": "926bfe34",
    "outputId": "7feb6318-1987-4ba9-d74c-bc9c1f36f234"
   },
   "outputs": [
    {
     "name": "stdout",
     "output_type": "stream",
     "text": [
      "2\n",
      "0\n",
      "7\n"
     ]
    }
   ],
   "source": [
    "# 'count', 'index'\n",
    "\n",
    "emp_name_lst = ['Krishna', 'Abhishek', 'Rahul', 'Krishna', 'Aditi', 'Afsan', 'Abhishek', 'Krishnan']\n",
    "\n",
    "print(emp_name_lst.count('Krishna'))\n",
    "print(emp_name_lst.index('Krishna'))\n",
    "print(emp_name_lst.index('Krishnan'))"
   ]
  },
  {
   "cell_type": "code",
   "execution_count": 59,
   "id": "badf89e0",
   "metadata": {
    "ExecuteTime": {
     "end_time": "2021-08-28T05:03:09.749079Z",
     "start_time": "2021-08-28T05:03:09.738667Z"
    },
    "id": "badf89e0",
    "outputId": "45919189-ddd7-4275-9bbd-270863e96ac2"
   },
   "outputs": [
    {
     "name": "stdout",
     "output_type": "stream",
     "text": [
      "[29, 35, 50, 35, 35, 50, 35, 30, 29, 27, 28, 29]\n",
      "[27, 28, 29, 29, 29, 30, 35, 35, 35, 35, 50, 50]\n",
      "[50, 50, 35, 35, 35, 35, 30, 29, 29, 29, 28, 27]\n",
      "[['Abhishek', 'Afsan'], ['Abhishek', 'Krishna'], ['Krishna', 'Abhishek'], ['Rahul', 'Krishna']]\n"
     ]
    }
   ],
   "source": [
    "# 'reverse', 'sort'\n",
    "\n",
    "emp_age = [29, 28, 27, 29, 30, 35, 50, 35, 35, 50, 35, 29]\n",
    "emp_age.reverse()\n",
    "print(emp_age)\n",
    "\n",
    "emp_age.sort()   # Be default sorts the list in ascending order\n",
    "print(emp_age)\n",
    "\n",
    "#To sort the list in descending order\n",
    "emp_age.sort(reverse = True)\n",
    "print(emp_age)\n",
    "\n",
    "emp_name_lst = [['Krishna', 'Abhishek'], ['Rahul', 'Krishna'], ['Abhishek', 'Afsan'], ['Abhishek', 'Krishna']]\n",
    "emp_name_lst.sort()\n",
    "print(emp_name_lst)"
   ]
  },
  {
   "cell_type": "code",
   "execution_count": 34,
   "id": "339e469f",
   "metadata": {
    "id": "339e469f"
   },
   "outputs": [
    {
     "name": "stdout",
     "output_type": "stream",
     "text": [
      "0\n",
      "3\n"
     ]
    }
   ],
   "source": [
    "# Index of repetitive values in a list. Prints the index of the name \"Krishna\" for every occurance in a given list of names\n",
    "\n",
    "emp_name_lst = ['Krishna', 'Abhishek', 'Rahul', 'Krishna', 'Aditi', 'Afsan', 'Abhishek', 'Krishnan']\n",
    "c = 0\n",
    "for name in emp_name_lst:    \n",
    "    if name == \"Krishna\":        \n",
    "        print(c)\n",
    "    c+=1   "
   ]
  },
  {
   "cell_type": "code",
   "execution_count": null,
   "id": "d2002cf0",
   "metadata": {},
   "outputs": [],
   "source": []
  }
 ],
 "metadata": {
  "colab": {
   "name": "Class_08_List_Tuple_Dictionary.ipynb",
   "provenance": []
  },
  "kernelspec": {
   "display_name": "Python 3 (ipykernel)",
   "language": "python",
   "name": "python3"
  },
  "language_info": {
   "codemirror_mode": {
    "name": "ipython",
    "version": 3
   },
   "file_extension": ".py",
   "mimetype": "text/x-python",
   "name": "python",
   "nbconvert_exporter": "python",
   "pygments_lexer": "ipython3",
   "version": "3.9.7"
  }
 },
 "nbformat": 4,
 "nbformat_minor": 5
}
