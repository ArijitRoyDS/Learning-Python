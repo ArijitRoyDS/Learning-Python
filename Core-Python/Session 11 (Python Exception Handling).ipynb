{
 "cells": [
  {
   "cell_type": "markdown",
   "id": "3a03f807",
   "metadata": {
    "ExecuteTime": {
     "end_time": "2021-09-11T05:14:22.015613Z",
     "start_time": "2021-09-11T05:14:22.010226Z"
    },
    "id": "3a03f807"
   },
   "source": [
    "# Python Exception Handling\n"
   ]
  },
  {
   "cell_type": "code",
   "execution_count": null,
   "id": "17709726",
   "metadata": {
    "id": "17709726"
   },
   "outputs": [],
   "source": [
    "# Types of Error\n",
    "# 1. Compile Time Error - SyntaxError, IndentationError etc.  -->  Violation of Python Programming Rules. Cannot be handled\n",
    "# 2. Run Time Error - NameError, TypeError, ValueError etc.   -->  Can be handled by proper Exception Handling methods"
   ]
  },
  {
   "cell_type": "code",
   "execution_count": null,
   "id": "a4743d5f",
   "metadata": {},
   "outputs": [],
   "source": [
    "# Try:      This block will test the excepted error to occur\n",
    "# Except:   Here you can handle the error\n",
    "# Else:     If there is no exception then this block will be executed\n",
    "# Finally:  Finally block always gets executed either exception is generated or not"
   ]
  },
  {
   "cell_type": "code",
   "execution_count": null,
   "id": "cb402777",
   "metadata": {
    "ExecuteTime": {
     "end_time": "2021-09-11T05:15:35.927999Z",
     "start_time": "2021-09-11T05:15:34.027900Z"
    },
    "id": "cb402777",
    "outputId": "ab56cca0-9a3f-48ab-9b77-b95a09d95a85"
   },
   "outputs": [],
   "source": [
    "num1 = int(input('Enter 1st number: '))\n",
    "num2 = int(input('Enter 2nd number: '))\n",
    "res = num1/num2\n",
    "\n",
    "print(res)\n",
    "\n",
    "print(num1 + num2)\n",
    "print(num1 * num2)"
   ]
  },
  {
   "cell_type": "code",
   "execution_count": null,
   "id": "875a4e7d",
   "metadata": {},
   "outputs": [],
   "source": [
    "num1 = int(input('Enter 1st number: '))\n",
    "num2 = int(input('Enter 2nd number: '))\n",
    "try:\n",
    "    res = num1/num2\n",
    "except:\n",
    "    print('Denominator can not be zero')\n",
    "else:\n",
    "    print(res)\n",
    "    \n",
    "print(num1 + num2)\n",
    "print(num1 * num2)"
   ]
  },
  {
   "cell_type": "code",
   "execution_count": null,
   "id": "2f06907b",
   "metadata": {
    "ExecuteTime": {
     "end_time": "2021-09-11T05:23:39.109649Z",
     "start_time": "2021-09-11T05:23:35.246937Z"
    },
    "id": "2f06907b",
    "outputId": "3bfd42db-a39f-4227-e18d-7715dcba7867"
   },
   "outputs": [],
   "source": [
    "# Muti-except block\n",
    "try:\n",
    "    num1 = int(input('Enter 1st number: '))\n",
    "    num2 = eval(input('Enter 2nd number: '))\n",
    "    res = num1/num2\n",
    "except ZeroDivisionError:\n",
    "    print('Denominator can not be zero')\n",
    "except ValueError:\n",
    "    print('Please enter only integers')\n",
    "except NameError:\n",
    "    print('Numbers can not be divided by a string')\n",
    "else:\n",
    "    print(res)"
   ]
  },
  {
   "cell_type": "code",
   "execution_count": null,
   "id": "94244d87",
   "metadata": {
    "id": "94244d87"
   },
   "outputs": [],
   "source": [
    "# For a try block there should be at least one except block\n",
    "# one try block may have multiple except blocks"
   ]
  },
  {
   "cell_type": "code",
   "execution_count": null,
   "id": "14c456c4",
   "metadata": {
    "ExecuteTime": {
     "end_time": "2021-09-11T05:28:05.481493Z",
     "start_time": "2021-09-11T05:28:05.469911Z"
    },
    "id": "14c456c4",
    "outputId": "50fb60b5-fa9f-449a-abce-ab899b176e0f"
   },
   "outputs": [],
   "source": [
    "# Except block may either have an exact name of the error or just a default Except block that handles any kind of error\n",
    "# Default except block must always be at last.\n",
    "\n",
    "try:\n",
    "    num1 = int(input('Enter 1st number: '))\n",
    "    num2 = eval(input('Enter 2nd number: '))\n",
    "    res = num1/num2\n",
    "# except:\n",
    "#     print('Some Error')    # SyntaxError: default 'except:' must be last\n",
    "except ZeroDivisionError:\n",
    "    print('Denominator can not be zero')\n",
    "except ValueError:\n",
    "    print('Please enter only integers')\n",
    "except NameError:\n",
    "    print('Numbers can not be divided by a letter')\n",
    "except:\n",
    "    print('Some Error')\n",
    "else:\n",
    "    print(res)"
   ]
  },
  {
   "cell_type": "code",
   "execution_count": null,
   "id": "10c95e4c",
   "metadata": {
    "ExecuteTime": {
     "end_time": "2021-09-11T05:34:02.787451Z",
     "start_time": "2021-09-11T05:34:01.044825Z"
    },
    "id": "10c95e4c",
    "outputId": "40df1e8b-cfa9-47d6-c0d7-4bd584e343de"
   },
   "outputs": [],
   "source": [
    "try:\n",
    "    num1 = int(input('Enter 1st number: '))\n",
    "    num2 = eval(input('Enter 2nd number: '))\n",
    "    res = num1/num2\n",
    "\n",
    "# Club all possible errors in a single line and save it in a variable that can be printed later\n",
    "except (ZeroDivisionError, ValueError, TypeError, FileNotFoundError, NameError) as e:\n",
    "    print(e)\n",
    "else:\n",
    "    print(res)"
   ]
  },
  {
   "cell_type": "code",
   "execution_count": null,
   "id": "511725f9",
   "metadata": {
    "ExecuteTime": {
     "end_time": "2021-09-11T05:38:40.998392Z",
     "start_time": "2021-09-11T05:38:40.992843Z"
    },
    "id": "511725f9"
   },
   "outputs": [],
   "source": [
    "# nested try-except\n",
    "try:\n",
    "    num1 = int(input('Enter 1st number: '))\n",
    "    num2 = int(input('Enter 2nd number: '))\n",
    "    try:\n",
    "        res = num1/num2\n",
    "    except ZeroDivisionError:\n",
    "        print('Denominator can not be 0')\n",
    "except Exception as e:\n",
    "    print(e) \n",
    "    \n",
    "else:\n",
    "    print(res)"
   ]
  },
  {
   "cell_type": "code",
   "execution_count": null,
   "id": "55f1798e",
   "metadata": {
    "ExecuteTime": {
     "end_time": "2021-09-11T05:41:15.879787Z",
     "start_time": "2021-09-11T05:41:13.691560Z"
    },
    "id": "55f1798e",
    "outputId": "1afdeca2-5b11-4bbb-84cb-38a396a36523"
   },
   "outputs": [],
   "source": [
    "# Finally - the code written in finally block is executed by default\n",
    "# Generally we write the clean-up code\n",
    "# object deletion or file closing or database connection closing\n",
    "\n",
    "# Muti-except block\n",
    "try:\n",
    "    num1 = int(input('Enter 1st number: '))\n",
    "    num2 = eval(input('Enter 2nd number: '))\n",
    "    res = num1/num2\n",
    "except ZeroDivisionError:\n",
    "    print('Denominator can not be zero')\n",
    "except ValueError:\n",
    "    print('Please enter only integers')\n",
    "except TypeError:\n",
    "    print('Numbers can not be divided by a characters')\n",
    "else:\n",
    "    print(res)\n",
    "finally:\n",
    "    print('Finally block')\n",
    "    del num1, num2, res"
   ]
  },
  {
   "cell_type": "code",
   "execution_count": 4,
   "id": "c1dd6832",
   "metadata": {
    "id": "c1dd6832"
   },
   "outputs": [
    {
     "name": "stdout",
     "output_type": "stream",
     "text": [
      "First Exception Executed - Error Description:  [WinError 183] Cannot create a file when that file already exists: 'c://temp//test//123'\n",
      "Do you want to delete the folder (Y/N)?y\n",
      "[WinError 5] Access is denied: 'c://temp//test//123'\n"
     ]
    }
   ],
   "source": [
    "# Write a Program to:\n",
    "# - Create a folder if it doesn't exist\n",
    "# - Display a suitable error message if the folder you are trying to create already exists\n",
    "# - Ask the user if the folder should be deleted\n",
    "# - Delete the folder if user says Yes\n",
    "# - Use Exception Handling to handle all possible types of errors\n",
    "\n",
    "import os\n",
    "import shutil\n",
    "\n",
    "try:  \n",
    "    path = 'c://temp//test//123'\n",
    "    os.makedirs(path)\n",
    "    \n",
    "except (OSError, NameError) as e1: \n",
    "    print(\"First Exception Executed - Error Description: \", e1)\n",
    "    \n",
    "except SyntaxError as e2:\n",
    "    print(\"Second Exception Executed - Error Description: \", e2)\n",
    "    \n",
    "else:\n",
    "    print(\"Folder created successfully\")\n",
    "    \n",
    "finally:\n",
    "    inp = str(input(\"Do you want to delete the folder (Y/N)?\"))\n",
    "    if inp.lower() == \"y\":\n",
    "        \n",
    "        try:\n",
    "            os.remove(path)                  # Deletes the folder only if it is empty. Throws PermissionError otherwise\n",
    "            \n",
    "        except PermissionError as e3:\n",
    "            print(e3)\n",
    "            shutil.rmtree(path)              # Deleted the folder with it's contents if it is non empty\n",
    "            \n",
    "        except FileNotFoundError as e4:\n",
    "            print(e4)\n",
    "            print(\"Please check the folder name or path, if it exists\")  \n",
    "            \n",
    "    else:\n",
    "        print(\"Invalid Input\")"
   ]
  },
  {
   "cell_type": "code",
   "execution_count": null,
   "id": "9d94c588",
   "metadata": {},
   "outputs": [],
   "source": []
  }
 ],
 "metadata": {
  "colab": {
   "name": "Class_12_File_Handling_Exception_Handling.ipynb",
   "provenance": []
  },
  "kernelspec": {
   "display_name": "Python 3 (ipykernel)",
   "language": "python",
   "name": "python3"
  },
  "language_info": {
   "codemirror_mode": {
    "name": "ipython",
    "version": 3
   },
   "file_extension": ".py",
   "mimetype": "text/x-python",
   "name": "python",
   "nbconvert_exporter": "python",
   "pygments_lexer": "ipython3",
   "version": "3.9.7"
  }
 },
 "nbformat": 4,
 "nbformat_minor": 5
}
