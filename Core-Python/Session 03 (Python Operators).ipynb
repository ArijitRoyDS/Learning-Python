{
 "cells": [
  {
   "cell_type": "markdown",
   "id": "5f30fb6d",
   "metadata": {},
   "source": [
    "# Operators in Python"
   ]
  },
  {
   "cell_type": "code",
   "execution_count": null,
   "id": "2584670d",
   "metadata": {
    "id": "2584670d"
   },
   "outputs": [],
   "source": [
    "# Operators are used to perform operations on variables and values. We have the following kinds of operators in Python:\n",
    "\n",
    "#     Arithmetic Operators \n",
    "#     Comparison Operator, \n",
    "#     Equality Operator \n",
    "#     Logical Operator, \n",
    "#     Bitwise Operators \n",
    "#     Assignment Operator, \n",
    "#     Compound Assignment  \n",
    "#     Membership Operator\n",
    "#     Identity Operator, \n",
    "#     Ternary Operator,\n",
    "#     Operator Precedence"
   ]
  },
  {
   "cell_type": "markdown",
   "id": "7bad9e12",
   "metadata": {},
   "source": [
    "# Arithmetic Operators"
   ]
  },
  {
   "cell_type": "code",
   "execution_count": 96,
   "id": "45438d0b",
   "metadata": {
    "ExecuteTime": {
     "end_time": "2021-08-01T04:54:41.913496Z",
     "start_time": "2021-08-01T04:54:41.901628Z"
    },
    "id": "45438d0b"
   },
   "outputs": [
    {
     "name": "stdout",
     "output_type": "stream",
     "text": [
      "3.3333333333333335\n",
      "3 1\n",
      "1\n",
      "1000\n",
      "20\n",
      "150\n",
      "150\n",
      "0\n",
      "1\n",
      "2\n",
      "3\n",
      "4\n",
      "5\n",
      "6\n",
      "7\n",
      "8\n",
      "9\n"
     ]
    }
   ],
   "source": [
    "# Arithmetic Operators: +, -, *, /(Float), //(Floor), %(Modulo), **(Exponent)\n",
    "\n",
    "print(10/3)   # Float Division\n",
    "print(10//3, 10%3)  # Return Quotient of float division\n",
    "print(10%3)   # %(Modulo) - Remainder\n",
    "print(10**3)  # Exponent\n",
    "print(10*2)\n",
    "\n",
    "a = 10\n",
    "b = 15\n",
    "c = a*b\n",
    "print(c)\n",
    "print(a*b)\n",
    "\n",
    "for i in range (10):\n",
    "    print(i)\n",
    "\n",
    "# Note:- Floor division and modulo operator does not work with complex numbers"
   ]
  },
  {
   "cell_type": "code",
   "execution_count": 107,
   "id": "765e95e4",
   "metadata": {},
   "outputs": [
    {
     "name": "stdout",
     "output_type": "stream",
     "text": [
      "10.513\n",
      "11\n",
      "10\n",
      "11\n"
     ]
    }
   ],
   "source": [
    "# Rounding Off Float\n",
    "\n",
    "print(round(10.5125365, 3))\n",
    "\n",
    "import math\n",
    "num = 10.71\n",
    "# Ceil = Highest nearest whole number - 11\n",
    "# Floor = Lowest nearest whole number - 10\n",
    "print(math.ceil(num))\n",
    "print(math.floor(num))\n",
    "\n",
    "x = math.ceil(num)\n",
    "print(x)\n",
    "\n"
   ]
  },
  {
   "cell_type": "code",
   "execution_count": 108,
   "id": "570c23ae",
   "metadata": {},
   "outputs": [
    {
     "name": "stdout",
     "output_type": "stream",
     "text": [
      "Pythonclass\n",
      "[10, 20, 30, 1, 2, 3]\n",
      "(10, 20, 30, 1, 2, 3)\n",
      "[10, 20, 30]\n",
      "[1, 2, 3]\n",
      "[10, 20, 30, 1, 2, 3]\n"
     ]
    }
   ],
   "source": [
    "# Concatenation - +\n",
    "# Done on Sequences\n",
    "# Both the operand should be of same sequence type\n",
    "# sequnece - str, list, tuple etc..\n",
    "# It creates a new object and does not make any changes to existing object\n",
    "\n",
    "print('Python'+'class')      # Allowed: str + str\n",
    "print([10,20,30]+[1,2,3])    # Allowed: List + List\n",
    "print((10,20,30)+(1,2,3))    # Allowed: Tuple + Tuple\n",
    "#print((10,20,30)+[1,2,3])   # Not Allowed: Tuple + List\n",
    "#print((10,20,30)+1)         # Not Allowed: Tuple + Int   \n",
    "\n",
    "\n",
    "lst1 = [10,20,30]\n",
    "lst2 = [1,2,3]\n",
    "# lst3 = lst1+lst2\n",
    "print(lst1)\n",
    "print(lst2)\n",
    "print(lst1+lst2)"
   ]
  },
  {
   "cell_type": "code",
   "execution_count": 7,
   "id": "78870976",
   "metadata": {},
   "outputs": [
    {
     "name": "stdout",
     "output_type": "stream",
     "text": [
      "PythonPythonPython\n",
      "[10, 20, 30, 10, 20, 30, 10, 20, 30]\n",
      "(10, 20, 30, 10, 20, 30, 10, 20, 30)\n",
      "['Python', None, True, 'Python', None, True]\n"
     ]
    }
   ],
   "source": [
    "# Concatenation - *\n",
    "# Done on Sequences\n",
    "# One of the operand should be of sequence type and other should be int\n",
    "# sequnece - str, list, tuple, bytes, byteaarray, range\n",
    "# It creayes a new object and does not make any changes to existing object\n",
    "\n",
    "print('Python'*3)\n",
    "print([10,20,30]*3)\n",
    "print((10,20,30)*3)\n",
    "#print((10,20,30)*3.0)   # Not Allowed: Cannot multiply with non int values\n",
    "\n",
    "a = ['Python', None, True]\n",
    "b = a*2\n",
    "print(b)"
   ]
  },
  {
   "cell_type": "markdown",
   "id": "57f172e6",
   "metadata": {},
   "source": [
    "# Comparison Operators: <, >, <=, >="
   ]
  },
  {
   "cell_type": "code",
   "execution_count": 111,
   "id": "bbea37d1",
   "metadata": {
    "ExecuteTime": {
     "end_time": "2021-08-01T05:03:50.773865Z",
     "start_time": "2021-08-01T05:03:50.749305Z"
    },
    "id": "bbea37d1",
    "outputId": "cb66e030-d6fb-4848-fb6c-08c5a4135799"
   },
   "outputs": [
    {
     "name": "stdout",
     "output_type": "stream",
     "text": [
      "True\n",
      "True\n",
      "False\n",
      "True\n",
      "################################################################################\n",
      "\n",
      "False\n",
      "True\n",
      "True\n",
      "True\n",
      "False\n"
     ]
    }
   ],
   "source": [
    "# Always returns Boolean Value\n",
    "# Does not work between different data types except int and float\n",
    "\n",
    "# Allowed\n",
    "print(10<20)\n",
    "print(10<=10)\n",
    "print(20>100)\n",
    "print(10<10.20)\n",
    "\n",
    "print('#'*80, end = '\\n\\n')\n",
    "\n",
    "print('a'<'A')                               # Considers ASCII value. Refer ASCII table at the end of this material\n",
    "print('A'<'a')\n",
    "print('ArijiT'<'Arijit')\n",
    "print(True<0b10101)\n",
    "print([10, 20, 40]<[10, 20, 30, 40])\n",
    "\n",
    "# Not Allowed\n",
    "#print(10<'A')\n",
    "#print([10,20,30]<(10,20, 30))\n",
    "\n"
   ]
  },
  {
   "cell_type": "code",
   "execution_count": 113,
   "id": "e9c116ef",
   "metadata": {
    "ExecuteTime": {
     "end_time": "2021-08-01T05:06:02.574874Z",
     "start_time": "2021-08-01T05:06:02.561470Z"
    },
    "id": "e9c116ef",
    "outputId": "035c9c21-9fd7-4661-89f0-bbef6660c978"
   },
   "outputs": [
    {
     "name": "stdout",
     "output_type": "stream",
     "text": [
      "65\n",
      "61\n",
      "################################################################################\n",
      "\n",
      "A\n",
      "=\n",
      "[\n",
      "116\n"
     ]
    }
   ],
   "source": [
    "# ord() method returns unicode/ASCII value for a given character\n",
    "print(ord('A'))\n",
    "print(ord('='))\n",
    "#print(ord('[]'))   # Not Valid. ord() accepts only one character\n",
    "print('#'*80, end = '\\n\\n')\n",
    "\n",
    "# chr() method returns a character for a given unicode/ASCII value\n",
    "print(chr(65))\n",
    "print(chr(61))\n",
    "print(chr(91))\n",
    "\n",
    "a = \"Python\"\n",
    "# print(ord(a))\n",
    "print(ord(a[2]))"
   ]
  },
  {
   "cell_type": "markdown",
   "id": "e9954fbc",
   "metadata": {},
   "source": [
    "# Equality Operator - ==, !="
   ]
  },
  {
   "cell_type": "code",
   "execution_count": 114,
   "id": "fbb612f1",
   "metadata": {
    "ExecuteTime": {
     "end_time": "2021-08-01T05:09:05.992374Z",
     "start_time": "2021-08-01T05:09:05.978582Z"
    },
    "id": "fbb612f1",
    "outputId": "a448d2f8-ec6a-4397-eb8e-7f928c27df91"
   },
   "outputs": [
    {
     "name": "stdout",
     "output_type": "stream",
     "text": [
      "True\n",
      "False\n",
      "False\n",
      "True\n",
      "False\n",
      "False\n"
     ]
    }
   ],
   "source": [
    "# They are used to compare values\n",
    "# These operators also returns boolean values\n",
    "# These operators works with any data types\n",
    "\n",
    "print(10 == 10)\n",
    "print(10 != 10)\n",
    "\n",
    "print(10 == 100)\n",
    "print(10 != 100)\n",
    "\n",
    "print('Python' == [10,20,30])\n",
    "\n",
    "print('Python' == 'python')"
   ]
  },
  {
   "cell_type": "markdown",
   "id": "0857ee43",
   "metadata": {},
   "source": [
    "# Logical Operator - and, or, not"
   ]
  },
  {
   "cell_type": "code",
   "execution_count": null,
   "id": "230efe73",
   "metadata": {
    "ExecuteTime": {
     "end_time": "2021-08-01T05:58:25.735696Z",
     "start_time": "2021-08-01T05:58:25.725180Z"
    },
    "id": "230efe73"
   },
   "outputs": [],
   "source": [
    "# It works on logic\n",
    "# Logic is always evaluated either as True or False\n",
    "\n",
    "# 'and' Truth Table\n",
    "# True and True = True\n",
    "# True and False = False\n",
    "# False and True = False\n",
    "# False and False = False\n",
    "\n",
    "# 'or' Truth Table\n",
    "# True or True = True\n",
    "# True or False = True\n",
    "# False or True = True\n",
    "# False or False = False\n",
    "\n",
    "# 'not' Truth Table\n",
    "# not True = False\n",
    "# not False = True"
   ]
  },
  {
   "cell_type": "code",
   "execution_count": 71,
   "id": "990a4132",
   "metadata": {},
   "outputs": [
    {
     "name": "stdout",
     "output_type": "stream",
     "text": [
      "Enter your age: 25\n",
      "You are allowed\n"
     ]
    }
   ],
   "source": [
    "# Example 1:\n",
    "age = int(input('Enter your age: '))\n",
    "if (age > 18) and (age < 70):\n",
    "    print('You are allowed')\n",
    "else:\n",
    "    print('You are NOT allowed')"
   ]
  },
  {
   "cell_type": "code",
   "execution_count": 115,
   "id": "243a4410",
   "metadata": {},
   "outputs": [
    {
     "name": "stdout",
     "output_type": "stream",
     "text": [
      "Enter a number: 73\n",
      "Odd\n"
     ]
    }
   ],
   "source": [
    "# Example 2:\n",
    "num = int(input('Enter a number: '))    \n",
    "if num%2 == 0:\n",
    "    print('Even')\n",
    "else:\n",
    "    print('Odd')"
   ]
  },
  {
   "cell_type": "code",
   "execution_count": 20,
   "id": "a6674fc3",
   "metadata": {},
   "outputs": [
    {
     "name": "stdout",
     "output_type": "stream",
     "text": [
      "Enter a year: 2100\n",
      "Year is not a leap year\n"
     ]
    }
   ],
   "source": [
    "# Example 3: Find out if a year is Leap Year\n",
    "# Logic: if (year is divisible by 400) or ((year is divisible by 4 and year is not divisible by 100)) --> It's a leap year\n",
    "    \n",
    "year = int(input('Enter a year: '))\n",
    "if ((year%400 == 0) or ((year%4 == 0 and year%100 != 0))):\n",
    "    print('Year is a leap Year')\n",
    "else:\n",
    "    print('Year is not a leap year')\n",
    "\n",
    "# 1800 => False or (True and False) => False or False = False - not a leap Year\n",
    "# 1600 => True or (True and False) => True or True => True - Leap Year\n",
    "# 1998 => False or (False and True) => False or False => False - Not a leap Year\n",
    "# 2004 => False or (True and True) => False or True => True - Leap Year"
   ]
  },
  {
   "cell_type": "code",
   "execution_count": 21,
   "id": "03b55c19",
   "metadata": {},
   "outputs": [
    {
     "name": "stdout",
     "output_type": "stream",
     "text": [
      "20\n",
      "0\n",
      "0\n",
      "0\n",
      "\n",
      "{}\n",
      "10\n",
      "20\n",
      "20\n",
      "0\n"
     ]
    }
   ],
   "source": [
    "# IF val1 and val2 are two values\n",
    "\n",
    "# val1 and val2 -> Result is val1 if val1 is False else result is val2\n",
    "# val1 or val2 -> Result is val1 if val1 is True else result is val2\n",
    "\n",
    "print(10 and 20)\n",
    "print(0 and 20)\n",
    "print(20 and 0)\n",
    "print(0 and 0.0)\n",
    "print('' and [])\n",
    "print({} and [])\n",
    "\n",
    "print(10 or 20)\n",
    "print(0 or 20)\n",
    "print(20 or 0)\n",
    "print(0.0 or 0)"
   ]
  },
  {
   "cell_type": "markdown",
   "id": "92758123",
   "metadata": {},
   "source": [
    "# Bitwise Operators - &, |, ^, ~, <<, >>"
   ]
  },
  {
   "cell_type": "code",
   "execution_count": null,
   "id": "056e8b29",
   "metadata": {
    "ExecuteTime": {
     "end_time": "2021-08-01T06:15:05.185916Z",
     "start_time": "2021-08-01T06:15:05.161684Z"
    },
    "id": "056e8b29",
    "outputId": "9b45445f-998e-4dd9-81b6-df8fd0443fcc"
   },
   "outputs": [],
   "source": [
    "# It works only on bits i.e on binary values\n",
    "# works only with integers\n",
    "\n",
    "\n",
    "# & (AND) Truth Table\n",
    "# 1 & 1 = 1\n",
    "# 1 & 0 = 0\n",
    "# 0 & 1 = 0\n",
    "# 0 & 0 = 0\n",
    "\n",
    "\n",
    "# | (OR) Truth Table\n",
    "# 1 | 1 = 1\n",
    "# 1 | 0 = 1\n",
    "# 0 | 1 = 1\n",
    "# 0 | 0 = 0\n",
    "\n",
    "# ^ (XOR) Truth Table\n",
    "# 1 ^ 1 = 0\n",
    "# 1 ^ 0 = 1\n",
    "# 0 ^ 1 = 1\n",
    "# 0 ^ 0 = 0"
   ]
  },
  {
   "cell_type": "code",
   "execution_count": 46,
   "id": "600c0683",
   "metadata": {},
   "outputs": [
    {
     "name": "stdout",
     "output_type": "stream",
     "text": [
      "5\n",
      "189\n",
      "184\n",
      "################################################################################\n",
      "\n",
      "################################################################################\n",
      "\n",
      "184\n",
      "################################################################################\n",
      "\n",
      "-11\n",
      "8\n",
      "-2\n"
     ]
    }
   ],
   "source": [
    "# Examples:\n",
    "\n",
    "print(37 & 157)\n",
    "print(37 | 157)\n",
    "print(37 ^ 157)\n",
    "print('#'*80, end = '\\n\\n')\n",
    "\n",
    "# 37 =>  00100101\n",
    "# 157 => 10011101\n",
    "# ================\n",
    "# &  =>  00000101\n",
    "# |  =>  10111101\n",
    "# ^  =>  10111000\n",
    "\n",
    "print('#'*80, end = '\\n\\n')\n",
    "print(0b10111000)\n",
    "\n",
    "\n",
    "# Negation (One's Complement)\n",
    "# ~num = -(num+1)\n",
    "# Ones' complement + original number = -1\n",
    "# Ones' complement + original number = -1 - original number = -(1 + original number)\n",
    "\n",
    "print('#'*80, end = '\\n\\n')\n",
    "print(~10)\n",
    "print(~-9)\n",
    "print(~True)"
   ]
  },
  {
   "cell_type": "code",
   "execution_count": null,
   "id": "a8dc90d5",
   "metadata": {},
   "outputs": [],
   "source": [
    "# Bitwise Left and Right Shift Operators: <<, >>"
   ]
  },
  {
   "cell_type": "code",
   "execution_count": 75,
   "id": "c661bd65",
   "metadata": {},
   "outputs": [
    {
     "name": "stdout",
     "output_type": "stream",
     "text": [
      "628\n",
      "################################################################################\n",
      "\n",
      "628\n"
     ]
    }
   ],
   "source": [
    "# Bitwise left shift operation - <<\n",
    "# num << no_bit_bits\n",
    "\n",
    "\n",
    "print(157 << 2)\n",
    "\n",
    "print('#'*80, end = '\\n\\n')\n",
    "\n",
    "# Step 1\n",
    "# print(bin(157))\n",
    "# 157 => 10011101\n",
    "\n",
    "# Step 2\n",
    "# Represent in 32-bit format\n",
    "# 157 => 00000000000000000000000010011101\n",
    "\n",
    "# Step 3\n",
    "# Remove the specified no of bits from left side\n",
    "# 157 => 000000000000000000000010011101\n",
    "\n",
    "# Step 4\n",
    "# add the specified no of bits(0) on right side\n",
    "\n",
    "# 00000000000000000000001001110100 => 628\n",
    "\n",
    "print(0b1001110100)"
   ]
  },
  {
   "cell_type": "code",
   "execution_count": 27,
   "id": "8cdf4f83",
   "metadata": {},
   "outputs": [
    {
     "name": "stdout",
     "output_type": "stream",
     "text": [
      "19\n",
      "################################################################################\n",
      "\n",
      "19\n"
     ]
    }
   ],
   "source": [
    "# Bitwise right shift operation - >>\n",
    "# num >> no_bit_bits\n",
    "\n",
    "\n",
    "print(157 >> 3)\n",
    "print('#'*80, end = '\\n\\n')\n",
    "\n",
    "# Step 1\n",
    "# print(bin(157))\n",
    "# 157 => 10011101\n",
    "\n",
    "# Step 2\n",
    "# Represent in 32-bit format\n",
    "# 157 => 00000000000000000000000010011101\n",
    "\n",
    "# Step 3\n",
    "# Remove the specified no of bits from right side\n",
    "# 157 => 00000000000000000000000010011\n",
    "\n",
    "print(0b10011)"
   ]
  },
  {
   "cell_type": "markdown",
   "id": "c70faf9f",
   "metadata": {},
   "source": [
    "# Assignment Operator - '='"
   ]
  },
  {
   "cell_type": "code",
   "execution_count": 76,
   "id": "ee828ab9",
   "metadata": {
    "id": "ee828ab9"
   },
   "outputs": [
    {
     "name": "stdout",
     "output_type": "stream",
     "text": [
      "Python\n"
     ]
    }
   ],
   "source": [
    "a = 'Python'\n",
    "print(a)"
   ]
  },
  {
   "cell_type": "code",
   "execution_count": 78,
   "id": "80e221ed",
   "metadata": {},
   "outputs": [
    {
     "name": "stdout",
     "output_type": "stream",
     "text": [
      "OK\n"
     ]
    }
   ],
   "source": [
    "a = 10\n",
    "if a==10:\n",
    "    print(\"OK\")"
   ]
  },
  {
   "cell_type": "markdown",
   "id": "e2b02b45",
   "metadata": {},
   "source": [
    "# Compound assignmet Operators: Shortcuts"
   ]
  },
  {
   "cell_type": "code",
   "execution_count": 38,
   "id": "8411f909",
   "metadata": {
    "ExecuteTime": {
     "end_time": "2021-08-01T06:26:48.438688Z",
     "start_time": "2021-08-01T06:26:48.421345Z"
    },
    "id": "8411f909",
    "outputId": "6a79a06d-05ea-45e9-cd28-d7e3991dd36b"
   },
   "outputs": [
    {
     "name": "stdout",
     "output_type": "stream",
     "text": [
      "2\n",
      "6\n",
      "13\n",
      "45\n"
     ]
    }
   ],
   "source": [
    "# +=, -=, /=, //=, %=, *=, &=, |=, ^=, ~=, <<=, >>+\n",
    "\n",
    "c = 0\n",
    "c+=2                  # (c = c + 2) is same as (c += 2) \n",
    "print(c)\n",
    "\n",
    "d = 105\n",
    "d%=9                  # Same as d = d % 9\n",
    "print(d)\n",
    "\n",
    "e = 105\n",
    "e>>=3                 # Same as e = e >> 3\n",
    "print(e)\n",
    "\n",
    "f = 0\n",
    "for i in range(10):\n",
    "    \n",
    "    f+=i              # Same as f = f + i\n",
    "    \n",
    "    \n",
    "print(f)"
   ]
  },
  {
   "cell_type": "markdown",
   "id": "d3ec6851",
   "metadata": {},
   "source": [
    "# Membership - in, not in"
   ]
  },
  {
   "cell_type": "code",
   "execution_count": 80,
   "id": "b1c71fd2",
   "metadata": {
    "ExecuteTime": {
     "end_time": "2021-08-01T06:22:47.856920Z",
     "start_time": "2021-08-01T06:22:47.847501Z"
    },
    "id": "b1c71fd2"
   },
   "outputs": [
    {
     "name": "stdout",
     "output_type": "stream",
     "text": [
      "True\n",
      "True\n",
      "True\n",
      "True\n",
      "False\n",
      "True\n",
      "False\n",
      "True\n",
      "False\n"
     ]
    }
   ],
   "source": [
    "# Returns Boolean value\n",
    "\n",
    "print(10 in [10,20,30,40])\n",
    "print('P' in 'Python')\n",
    "print('p' not in 'Python')\n",
    "print('Py'  in 'Python')\n",
    "print('Pn'  in 'Python')\n",
    "print('P'  in 'Python' and 'n' in 'Python')\n",
    "print(1 in (10,20,30,40))\n",
    "\n",
    "print(10 in {10:100, 20:200,30:300})          # For dictionary, it will check only the keys and not the values\n",
    "print(100 in {10:100, 20:200,30:300})"
   ]
  },
  {
   "cell_type": "markdown",
   "id": "e995ca8b",
   "metadata": {},
   "source": [
    "# Identity Operator - Checks whether memory address is same or not"
   ]
  },
  {
   "cell_type": "code",
   "execution_count": 41,
   "id": "aa919400",
   "metadata": {
    "id": "aa919400"
   },
   "outputs": [
    {
     "name": "stdout",
     "output_type": "stream",
     "text": [
      "True\n",
      "False\n",
      "################################################################################\n",
      "\n",
      "False\n",
      "True\n",
      "################################################################################\n",
      "\n",
      "False\n",
      "True\n",
      "################################################################################\n",
      "\n",
      "1000 1922577613488\n",
      "1000 1922577613488\n"
     ]
    }
   ],
   "source": [
    "# is - if memory adsress is same then it returns True else False\n",
    "# is not - if memory adsress is same then it returns False else True\n",
    "\n",
    "a = 10  \n",
    "b = 10                    # Note that both a and b falls with the int range of -5 to +256. Hence memory address is same\n",
    "print(a is b)\n",
    "print(a is not b)\n",
    "print('#'*80, end = '\\n\\n')\n",
    "\n",
    "a = 1000\n",
    "b = 1000                  # Note that both a and b falls outside the int range of -5 to +256. Hence memory address is different\n",
    "print(a is b)\n",
    "print(a is not b)\n",
    "print('#'*80, end = '\\n\\n')\n",
    "\n",
    "a = 1000\n",
    "b = 1000\n",
    "print(a is b)\n",
    "c = a     # Aliasing or copying the memory address and not the value directly\n",
    "print(a is c)\n",
    "print('#'*80, end = '\\n\\n')\n",
    "\n",
    "print(a, id(a))\n",
    "print(c, id(c))"
   ]
  },
  {
   "cell_type": "markdown",
   "id": "c421a17d",
   "metadata": {},
   "source": [
    "# Ternary Operator"
   ]
  },
  {
   "cell_type": "code",
   "execution_count": 81,
   "id": "147ae14b",
   "metadata": {
    "id": "147ae14b"
   },
   "outputs": [
    {
     "name": "stdout",
     "output_type": "stream",
     "text": [
      "Enter 1st number: 205\n",
      "Enter 2nd number: 309\n",
      "Largest Number is:  309\n"
     ]
    }
   ],
   "source": [
    "# expr1 if cond1 else expr2 \n",
    "# Nesting - expr1 if cond1 else expr2 if cond2 else expr3 if cond3 else expr4\n",
    "\n",
    "# Example 1:\n",
    "num1 = eval(input('Enter 1st number: '))\n",
    "num2 = eval(input('Enter 2nd number: '))\n",
    "print(\"Largest Number is: \", num1 if num1>num2 else num2)"
   ]
  },
  {
   "cell_type": "code",
   "execution_count": 82,
   "id": "fcf4d32a",
   "metadata": {},
   "outputs": [
    {
     "name": "stdout",
     "output_type": "stream",
     "text": [
      "Enter 1st number: 50\n",
      "Enter 2nd number: 150\n",
      "Enter 3rd number: 10\n",
      "Largest Number is:  150\n"
     ]
    }
   ],
   "source": [
    "# Example 2: Largest of 3 numbers (Traditional Method)\n",
    "    \n",
    "num1 = eval(input('Enter 1st number: '))\n",
    "num2 = eval(input('Enter 2nd number: '))\n",
    "num3 = eval(input('Enter 3rd number: '))\n",
    "\n",
    "# Here is a code to find the largest of the 3 numbers\n",
    "if num1>num2 and num1>num3:\n",
    "    print(\"Largest Number is: \", num1)\n",
    "if num2>num1 and num2>num3:\n",
    "    print(\"Largest Number is: \", num2)\n",
    "if num3>num1 and num3>num2:\n",
    "    print(\"Largest Number is: \", num3)"
   ]
  },
  {
   "cell_type": "code",
   "execution_count": 84,
   "id": "1b8bff66",
   "metadata": {},
   "outputs": [
    {
     "name": "stdout",
     "output_type": "stream",
     "text": [
      "Enter 1st number: 50\n",
      "Enter 2nd number: 150\n",
      "Enter 3rd number: 10\n",
      "Largest Number is:  150\n"
     ]
    }
   ],
   "source": [
    "# The same code can be written in 1 line using Ternary Operator as below:\n",
    "\n",
    "num1 = eval(input('Enter 1st number: '))\n",
    "num2 = eval(input('Enter 2nd number: '))\n",
    "num3 = eval(input('Enter 3rd number: '))\n",
    "\n",
    "print(\"Largest Number is: \", num1 if (num1>num2) and (num1>num3) else num2 if num2>num3 else num3)"
   ]
  },
  {
   "cell_type": "markdown",
   "id": "36a07e92",
   "metadata": {},
   "source": [
    "# Operator Precedence"
   ]
  },
  {
   "cell_type": "code",
   "execution_count": null,
   "id": "3e886607",
   "metadata": {},
   "outputs": [],
   "source": [
    "# Operators                                         Meaning\n",
    "# ()                                                Parentheses\n",
    "# **                                                Exponent\n",
    "# *, /, //, %                                       Multiplication, Division, Floor division, Modulus\n",
    "# +, -                                              Addition, Subtraction\n",
    "# <<, >>                                            Bitwise shift operators\n",
    "# &                                                 Bitwise AND\n",
    "# ^                                                 Bitwise XOR\n",
    "# |                                                 Bitwise OR\n",
    "# ==, !=, >, >=, <, <=, is, is not, in, not in      Comparisons, Identity, Membership operators\n",
    "# not                                               Logical NOT\n",
    "# and                                               Logical AND\n",
    "# or                                                Logical OR"
   ]
  },
  {
   "cell_type": "markdown",
   "id": "a0d7aacd",
   "metadata": {},
   "source": [
    "# ASCII Table"
   ]
  },
  {
   "cell_type": "code",
   "execution_count": null,
   "id": "1148bdda",
   "metadata": {},
   "outputs": [],
   "source": [
    "# Dec  Char                           Dec  Char           Dec  Char           Dec  Char\n",
    "# ---------                           ---------           ---------           ----------\n",
    "#   0  NUL (null)                      32  SPACE           64  @               96  `\n",
    "#   1  SOH (start of heading)          33  !               65  A               97  a\n",
    "#   2  STX (start of text)             34  \"               66  B               98  b\n",
    "#   3  ETX (end of text)               35  #               67  C               99  c\n",
    "#   4  EOT (end of transmission)       36  $               68  D              100  d\n",
    "#   5  ENQ (enquiry)                   37  %               69  E              101  e\n",
    "#   6  ACK (acknowledge)               38  &               70  F              102  f\n",
    "#   7  BEL (bell)                      39  '               71  G              103  g\n",
    "#   8  BS  (backspace)                 40  (               72  H              104  h\n",
    "#   9  TAB (horizontal tab)            41  )               73  I              105  i\n",
    "#  10  LF  (NL line feed, new line)    42  *               74  J              106  j\n",
    "#  11  VT  (vertical tab)              43  +               75  K              107  k\n",
    "#  12  FF  (NP form feed, new page)    44  ,               76  L              108  l\n",
    "#  13  CR  (carriage return)           45  -               77  M              109  m\n",
    "#  14  SO  (shift out)                 46  .               78  N              110  n\n",
    "#  15  SI  (shift in)                  47  /               79  O              111  o\n",
    "#  16  DLE (data link escape)          48  0               80  P              112  p\n",
    "#  17  DC1 (device control 1)          49  1               81  Q              113  q\n",
    "#  18  DC2 (device control 2)          50  2               82  R              114  r\n",
    "#  19  DC3 (device control 3)          51  3               83  S              115  s\n",
    "#  20  DC4 (device control 4)          52  4               84  T              116  t\n",
    "#  21  NAK (negative acknowledge)      53  5               85  U              117  u\n",
    "#  22  SYN (synchronous idle)          54  6               86  V              118  v\n",
    "#  23  ETB (end of trans. block)       55  7               87  W              119  w\n",
    "#  24  CAN (cancel)                    56  8               88  X              120  x\n",
    "#  25  EM  (end of medium)             57  9               89  Y              121  y\n",
    "#  26  SUB (substitute)                58  :               90  Z              122  z\n",
    "#  27  ESC (escape)                    59  ;               91  [              123  {\n",
    "#  28  FS  (file separator)            60  <               92  \\              124  |\n",
    "#  29  GS  (group separator)           61  =               93  ]              125  }\n",
    "#  30  RS  (record separator)          62  >               94  ^              126  ~\n",
    "#  31  US  (unit separator)            63  ?               95  _              127  DEL"
   ]
  }
 ],
 "metadata": {
  "colab": {
   "name": "Class_04_Data_Types_Operators.ipynb",
   "provenance": []
  },
  "kernelspec": {
   "display_name": "Python 3 (ipykernel)",
   "language": "python",
   "name": "python3"
  },
  "language_info": {
   "codemirror_mode": {
    "name": "ipython",
    "version": 3
   },
   "file_extension": ".py",
   "mimetype": "text/x-python",
   "name": "python",
   "nbconvert_exporter": "python",
   "pygments_lexer": "ipython3",
   "version": "3.9.7"
  }
 },
 "nbformat": 4,
 "nbformat_minor": 5
}
