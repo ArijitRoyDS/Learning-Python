{
 "cells": [
  {
   "cell_type": "markdown",
   "metadata": {},
   "source": [
    "# Module Numpy"
   ]
  },
  {
   "cell_type": "markdown",
   "metadata": {},
   "source": [
    "# Session 1"
   ]
  },
  {
   "cell_type": "markdown",
   "metadata": {
    "id": "EXDUNGWW3wcI"
   },
   "source": [
    "In this module we start working towards handling data. We'll discuss package numpy and n dimensional arrays that it lets you create which can evenutally be used to create matrices and data frames.\n",
    "\n",
    "Two dimensional arrays can be understood as list of lists. A bigger list containing multiple lists. Lets create one; that will give you an idea about what are we trying to say.\n",
    "\n",
    "To install: pip install numpy"
   ]
  },
  {
   "cell_type": "code",
   "execution_count": 1,
   "metadata": {
    "id": "bBpGFHNq3wca"
   },
   "outputs": [],
   "source": [
    "# Import the numpy package with the alias name 'np'\n",
    "import numpy as np   \n",
    "import warnings\n",
    "warnings.filterwarnings('ignore')"
   ]
  },
  {
   "cell_type": "markdown",
   "metadata": {
    "id": "GOpSLIOC3wcd"
   },
   "source": [
    "warnings.filterwarnings('ignore'):\n",
    "\n",
    "This is written so that we do not see any package warnings in the material and get confused.\n",
    "\n",
    "Now lets begin. We'll start with creating a simple 2D array, which; as you can see is simply a list of lists. You must be wondering then, why dont we simply keep it that way then; as a list of lists? Because a 2D 'array' and its additional supporting functions/attribute are much needed for data handling and do not come with simple lists."
   ]
  },
  {
   "cell_type": "code",
   "execution_count": 2,
   "metadata": {
    "colab": {
     "base_uri": "https://localhost:8080/"
    },
    "id": "fbY7stFI3wcf",
    "outputId": "38da49c4-c0f7-4662-f8a5-b2ed72c48cc7"
   },
   "outputs": [
    {
     "name": "stdout",
     "output_type": "stream",
     "text": [
      "[[1 2 3]\n",
      " [4 5 6]\n",
      " [5 6 7]]\n",
      "<class 'numpy.ndarray'>\n",
      "(3, 3)\n"
     ]
    }
   ],
   "source": [
    "# Create a 2D array\n",
    "a = [[1,2,3],[4,5,6],[5,6,7]]        # list of a lists\n",
    "\n",
    "b = np.array(a)                      # converts the list of lists into a numpy 2d array\n",
    "\n",
    "print(b)\n",
    "print(type(b))\n",
    "print(b.shape)"
   ]
  },
  {
   "cell_type": "code",
   "execution_count": 3,
   "metadata": {
    "colab": {
     "base_uri": "https://localhost:8080/"
    },
    "id": "BUbOARi03wcj",
    "outputId": "20786bc5-d4a6-4c11-e30f-c7d7ec3b5853"
   },
   "outputs": [
    {
     "name": "stdout",
     "output_type": "stream",
     "text": [
      "[list([1, 2, 3]) list([4, 5, 6, 7, 8])]\n",
      "<class 'numpy.ndarray'>\n",
      "(2,)\n"
     ]
    }
   ],
   "source": [
    "# Question-1 : Can we create a numpy arrays with lists of different sizes \n",
    "# Answer-1   : Not directly, but possible with padding\n",
    "\n",
    "a = [[1,2,3],[4,5,6,7,8]]\n",
    "\n",
    "b = np.array(a)              # no error\n",
    "\n",
    "print(b) \n",
    "print(type(b))\n",
    "print(b.shape)"
   ]
  },
  {
   "cell_type": "code",
   "execution_count": 4,
   "metadata": {
    "colab": {
     "base_uri": "https://localhost:8080/"
    },
    "id": "qCtdAzXK_Ptx",
    "outputId": "3cc1adc0-bca0-47fa-c9f7-c54f7cf4ba20"
   },
   "outputs": [
    {
     "name": "stdout",
     "output_type": "stream",
     "text": [
      "[['1' '2' 'True']\n",
      " ['2.3' '6' '(3+4j)']]\n",
      "(2, 3)\n",
      "<class 'numpy.ndarray'>\n"
     ]
    }
   ],
   "source": [
    "# Question-2 : Can the numpy arrays have mixed datatypes \n",
    "# Amswer-2   : Not by default, everything will be converted to String \n",
    "\n",
    "a = [[1,2,True],[2.3,'6',3+4j]]\n",
    "\n",
    "b = np.array(a)                 # no error, Numpy arrays will hold elements of only one type\n",
    "\n",
    "print(b)  \n",
    "print(b.shape)\n",
    "print(type(b)) # nd array"
   ]
  },
  {
   "cell_type": "code",
   "execution_count": 5,
   "metadata": {},
   "outputs": [
    {
     "name": "stdout",
     "output_type": "stream",
     "text": [
      "[[1 2 True]\n",
      " [2.3 '6' (3+4j)]]\n",
      "(2, 3)\n",
      "<class 'numpy.ndarray'>\n",
      "object\n"
     ]
    }
   ],
   "source": [
    "# However if we specify the datatype as 'o' (object), the array can hold heterogenous datatypes\n",
    "\n",
    "a = [[1,2,True],[2.3,'6',3+4j]]\n",
    "\n",
    "b = np.array(a, dtype='O')                 \n",
    "\n",
    "print(b)  \n",
    "print(b.shape)\n",
    "print(type(b)) # nd array\n",
    "print(b.dtype)"
   ]
  },
  {
   "cell_type": "code",
   "execution_count": 6,
   "metadata": {},
   "outputs": [
    {
     "name": "stdout",
     "output_type": "stream",
     "text": [
      "[3 6 None 'x' 'y' (3+4j) False 2.55]\n",
      "object\n"
     ]
    }
   ],
   "source": [
    "# Concatenating arrays:\n",
    "nparr1 = np.array([3, 6, None, 'x', 'y'], dtype='O') \n",
    " \n",
    "nparr2 = np.array([3+4j, False, 2.55], dtype='O') \n",
    " \n",
    "resarr = np.concatenate([nparr1, nparr2])\n",
    " \n",
    "print(resarr)\n",
    "print(resarr.dtype)"
   ]
  },
  {
   "cell_type": "code",
   "execution_count": 7,
   "metadata": {
    "colab": {
     "base_uri": "https://localhost:8080/"
    },
    "id": "lzITiGd23wck",
    "outputId": "d09ba284-edf0-4b1d-aae8-0f5499efd1cb"
   },
   "outputs": [
    {
     "name": "stdout",
     "output_type": "stream",
     "text": [
      "[[1.    2.001 3.   ]\n",
      " [4.    5.2   6.   ]]\n",
      "(2, 3)\n",
      "<class 'numpy.ndarray'>\n",
      "float64\n"
     ]
    }
   ],
   "source": [
    "# Question-3 : What happens if we give float and int together?\n",
    "# Answer-3   : All integers will be represented as a number followed by a decimal (float) but no value after the decimal.\n",
    "#              If the decimal part is missing or it is 0, it will shown as 6. instead of 6.0\n",
    "\n",
    "a = [[1, 2.001, 3],[4, 5.2, 6.0]]\n",
    "\n",
    "b = np.array(a)\n",
    "\n",
    "print(b)\n",
    "print(b.shape)\n",
    "print(type(b))\n",
    "print(b.dtype)"
   ]
  },
  {
   "cell_type": "code",
   "execution_count": 8,
   "metadata": {
    "colab": {
     "base_uri": "https://localhost:8080/"
    },
    "id": "jXu-2_hq3wcn",
    "outputId": "aaa57c07-b8e9-4456-f086-a66a5389344e"
   },
   "outputs": [
    {
     "data": {
      "text/plain": [
       "(2, 3)"
      ]
     },
     "execution_count": 8,
     "metadata": {},
     "output_type": "execute_result"
    }
   ],
   "source": [
    "# You can determine dimension of array with attribute shape\n",
    "b.shape # returns the shape of the array  (No of Rows, No of Columns)               "
   ]
  },
  {
   "cell_type": "markdown",
   "metadata": {
    "id": "i8dVzJgo3wco"
   },
   "source": [
    "Here the first number represents how many internal lists we have and second number represents how many members these internal lists have. Individual elements of these arrays can be accessed by passing indices in square brackets. First represents, which internal list we want to access [index starts with 0] and which member of the said list we want to access is represented by the second index. Lets see few examples "
   ]
  },
  {
   "cell_type": "code",
   "execution_count": 9,
   "metadata": {
    "colab": {
     "base_uri": "https://localhost:8080/"
    },
    "id": "-y6zzKc1CG8m",
    "outputId": "43aa7bad-ba04-4c7f-e5cc-7884bf4ff604"
   },
   "outputs": [
    {
     "name": "stdout",
     "output_type": "stream",
     "text": [
      "[[1 2 3]\n",
      " [4 5 6]\n",
      " [7 8 9]\n",
      " [2 4 6]\n",
      " [3 6 9]] \n",
      "\n",
      "[1 4 7 2 3] \n",
      "\n",
      "[1 2 3]\n"
     ]
    }
   ],
   "source": [
    "a = [[1,2,3],[4,5,6],[7,8,9],[2,4,6],[3,6,9]]\n",
    "b = np.array(a)\n",
    "print(b, '\\n')\n",
    "print(b[:,0], '\\n')    # Returns all the rows in column index 0 as a 1d array\n",
    "print(b[0,:])          # Returns all columns in row index 0 as a 1d array"
   ]
  },
  {
   "cell_type": "markdown",
   "metadata": {},
   "source": [
    "# Extract elements from a numpy array using indexing"
   ]
  },
  {
   "cell_type": "code",
   "execution_count": 10,
   "metadata": {},
   "outputs": [
    {
     "name": "stdout",
     "output_type": "stream",
     "text": [
      "[4 5 6]\n"
     ]
    }
   ],
   "source": [
    "# the first index indicates the row index, the second indicates the column in that row\n",
    "print(b[1,:]) "
   ]
  },
  {
   "cell_type": "code",
   "execution_count": 11,
   "metadata": {
    "colab": {
     "base_uri": "https://localhost:8080/"
    },
    "id": "Gtse3tGZ3wcp",
    "outputId": "16b60568-0824-475c-bdff-848908ea510a"
   },
   "outputs": [
    {
     "name": "stdout",
     "output_type": "stream",
     "text": [
      "[[1 2 3]\n",
      " [4 5 6]\n",
      " [7 8 9]\n",
      " [2 4 6]\n",
      " [3 6 9]] \n",
      "\n",
      "[8 9]\n"
     ]
    }
   ],
   "source": [
    "# I want the 3rd row and all the elements from index 1 to 3 (including 1 & excluding 3) in that row\n",
    "\n",
    "print(b, '\\n')\n",
    "print(b[2 , 1:3]) "
   ]
  },
  {
   "cell_type": "code",
   "execution_count": 12,
   "metadata": {},
   "outputs": [
    {
     "name": "stdout",
     "output_type": "stream",
     "text": [
      "1\n",
      "4\n"
     ]
    }
   ],
   "source": [
    "# Extract the first element of the first row\n",
    "print(b[0,0])\n",
    "\n",
    "# Extract the Second element of the Fourth row\n",
    "print(b[3,1])"
   ]
  },
  {
   "cell_type": "code",
   "execution_count": 13,
   "metadata": {},
   "outputs": [
    {
     "name": "stdout",
     "output_type": "stream",
     "text": [
      "<class 'numpy.int32'>\n"
     ]
    }
   ],
   "source": [
    "# Return the Datatype of the element\n",
    "print(type(b[2,1]))"
   ]
  },
  {
   "cell_type": "code",
   "execution_count": 14,
   "metadata": {},
   "outputs": [
    {
     "name": "stdout",
     "output_type": "stream",
     "text": [
      "[[1 2 3]\n",
      " [4 5 6]\n",
      " [7 8 9]\n",
      " [2 4 6]\n",
      " [3 6 9]] \n",
      "\n",
      "[[8 9]\n",
      " [4 6]\n",
      " [6 9]]\n"
     ]
    }
   ],
   "source": [
    "print(b, '\\n')     # Original Array\n",
    "print(b[2:5, 1:3]) # Return the 2nd to 3rd columns from 3rd to 5th rows"
   ]
  },
  {
   "cell_type": "code",
   "execution_count": 15,
   "metadata": {
    "colab": {
     "base_uri": "https://localhost:8080/"
    },
    "id": "EZtU0sZ3Qgy8",
    "outputId": "7d1b113e-b7f5-4905-a1e1-f6661200360a"
   },
   "outputs": [
    {
     "name": "stdout",
     "output_type": "stream",
     "text": [
      "(3, 2, 3)\n",
      "(2, 3)\n",
      "(5,)\n",
      "(5, 1)\n"
     ]
    }
   ],
   "source": [
    "# shape will return the number of rows and number of columns for n dimensional arrays\n",
    "# 1d array (n,) \n",
    "# 2d arrays (m,n)\n",
    "# 3d arrays (m,n,k) and so on\n",
    "\n",
    "x = [[[1,2,3],[4,5,6]],\n",
    "     [[2,4,8],[3,6,9]],\n",
    "     [[1,4,7],[2,5,8]]]\n",
    "y = np.array(x)\n",
    "print(y.shape)     # (3, 2, 3)\n",
    "\n",
    "e = [[1,2,3],[4,5,6]]\n",
    "f = np.array(e)\n",
    "print(f.shape)     # (2, 3)\n",
    "\n",
    "p = [1,2,3,4,5]\n",
    "q =  np.array(p)\n",
    "print(q.shape)     # (5,)\n",
    "\n",
    "r = [[1],\n",
    "     [2],\n",
    "     [3],\n",
    "     [4],\n",
    "     [5]]\n",
    "s =  np.array(r)\n",
    "print(s.shape)     # (5, 1)"
   ]
  },
  {
   "cell_type": "markdown",
   "metadata": {
    "id": "akvZ4-Eb3wcr"
   },
   "source": [
    "# Creating Assymetric Arrays from a list of lists"
   ]
  },
  {
   "cell_type": "code",
   "execution_count": 16,
   "metadata": {
    "id": "rIfXMuvh3wcs"
   },
   "outputs": [
    {
     "name": "stdout",
     "output_type": "stream",
     "text": [
      "[[1, 2, 3, None], [4, 5, None, None], [6, 7, 8, 9]] \n",
      "\n",
      "[[1 2 3 None]\n",
      " [4 5 None None]\n",
      " [6 7 8 9]]\n"
     ]
    }
   ],
   "source": [
    "# Create the list of lists\n",
    "lst = [[1, 2, 3], [4, 5], [6, 7, 8, 9]]\n",
    "\n",
    "# Calculate length of maximal list\n",
    "n = len(max(lst, key=len))    # n=4\n",
    "\n",
    "# Make the lists equal in length\n",
    "lst_2 = [x + [None]*(n-len(x)) for x in lst]\n",
    "print(lst_2, '\\n')\n",
    "\n",
    "# Convert it to a NumPy array\n",
    "a = np.array(lst_2)\n",
    "\n",
    "# Print the resulting array\n",
    "print(a)"
   ]
  },
  {
   "cell_type": "markdown",
   "metadata": {},
   "source": [
    "# Functions / Methods that can be used on Numpy nd arrays"
   ]
  },
  {
   "cell_type": "code",
   "execution_count": 17,
   "metadata": {},
   "outputs": [
    {
     "name": "stdout",
     "output_type": "stream",
     "text": [
      "['T', 'all', 'any', 'argmax', 'argmin', 'argpartition', 'argsort', 'astype', 'base', 'byteswap', 'choose', 'clip', 'compress', 'conj', 'conjugate', 'copy', 'ctypes', 'cumprod', 'cumsum', 'data', 'diagonal', 'dot', 'dtype', 'dump', 'dumps', 'fill', 'flags', 'flat', 'flatten', 'getfield', 'imag', 'item', 'itemset', 'itemsize', 'max', 'mean', 'min', 'nbytes', 'ndim', 'newbyteorder', 'nonzero', 'partition', 'prod', 'ptp', 'put', 'ravel', 'real', 'repeat', 'reshape', 'resize', 'round', 'searchsorted', 'setfield', 'setflags', 'shape', 'size', 'sort', 'squeeze', 'std', 'strides', 'sum', 'swapaxes', 'take', 'tobytes', 'tofile', 'tolist', 'tostring', 'trace', 'transpose', 'var', 'view']\n"
     ]
    }
   ],
   "source": [
    "a = dir(b) # lists all the methods that are defined for a nd-array\n",
    "print([i for i in a if not i.startswith('__')])   \n",
    "# Gives a list of methods that does not start with double underscore as methods starting with '__' are for Python Internal Use"
   ]
  },
  {
   "cell_type": "markdown",
   "metadata": {},
   "source": [
    "# Some numpy functions"
   ]
  },
  {
   "cell_type": "code",
   "execution_count": 18,
   "metadata": {
    "colab": {
     "base_uri": "https://localhost:8080/"
    },
    "id": "FKiFhrTtJLjV",
    "outputId": "092a2296-3ba4-4327-a279-e3082dab0f51"
   },
   "outputs": [
    {
     "data": {
      "text/plain": [
       "(5, 3)"
      ]
     },
     "execution_count": 18,
     "metadata": {},
     "output_type": "execute_result"
    }
   ],
   "source": [
    "# 1d array (n,)\n",
    "# 2d arrays (m,n)\n",
    "# 3d arrays (m,n,k) and so on\n",
    "\n",
    "b.shape "
   ]
  },
  {
   "cell_type": "code",
   "execution_count": 19,
   "metadata": {},
   "outputs": [],
   "source": [
    "# help(np.zeros)"
   ]
  },
  {
   "cell_type": "code",
   "execution_count": 20,
   "metadata": {
    "colab": {
     "base_uri": "https://localhost:8080/"
    },
    "id": "Ml0Lmdif3wct",
    "outputId": "f36d1d11-25f3-4b54-c316-225de817a00e"
   },
   "outputs": [
    {
     "name": "stdout",
     "output_type": "stream",
     "text": [
      "[[0 0 0 0]\n",
      " [0 0 0 0]] \n",
      "\n",
      "[0. 0. 0. 0.] \n",
      "\n",
      "[[0.+0.j 0.+0.j 0.+0.j]\n",
      " [0.+0.j 0.+0.j 0.+0.j]] \n",
      "\n",
      "[['' '' '']\n",
      " ['' '' '']]\n"
     ]
    }
   ],
   "source": [
    "# Create a 2d numpy array (int) with all zeros of size m x n\n",
    "print(np.zeros(shape = (2,4), dtype = int), '\\n')\n",
    "\n",
    "# Create a 1d numpy array (float) with all zeros of size m\n",
    "print(np.zeros(shape =(4,), dtype = float), '\\n')\n",
    "\n",
    "# Create a 1d numpy array (complex) with all zeros of size m x n\n",
    "print(np.zeros(shape =(2,3), dtype = complex), '\\n')\n",
    "\n",
    "# Create a 1d numpy array (string) with all Null Values of size m x n\n",
    "print(np.zeros(shape =(2,3), dtype = str))"
   ]
  },
  {
   "cell_type": "code",
   "execution_count": 21,
   "metadata": {},
   "outputs": [],
   "source": [
    "# help(np.ones)"
   ]
  },
  {
   "cell_type": "code",
   "execution_count": 22,
   "metadata": {
    "colab": {
     "base_uri": "https://localhost:8080/"
    },
    "id": "m-1yNQ_WJpWV",
    "outputId": "c5e51f11-5f4f-406c-e28e-f9ac6804232e"
   },
   "outputs": [
    {
     "name": "stdout",
     "output_type": "stream",
     "text": [
      "[[1 1 1 1]\n",
      " [1 1 1 1]] \n",
      "\n",
      "[1. 1. 1. 1.] \n",
      "\n",
      "[[1.+0.j 1.+0.j 1.+0.j]\n",
      " [1.+0.j 1.+0.j 1.+0.j]] \n",
      "\n",
      "[['1' '1' '1']\n",
      " ['1' '1' '1']]\n"
     ]
    }
   ],
   "source": [
    "# Create a 2d numpy array (int) with all one's of size m x n\n",
    "print(np.ones(shape = (2,4), dtype = int), '\\n')\n",
    "\n",
    "# Create a 1d numpy array (float) with all one's of size m\n",
    "print(np.ones(shape =(4,), dtype = float), '\\n')\n",
    "\n",
    "# Create a 1d numpy array (complex) with all one's of size m x n\n",
    "print(np.ones(shape =(2,3), dtype = complex), '\\n')\n",
    "\n",
    "# Create a 1d numpy array (string) with all one's of size m x n\n",
    "print(np.ones(shape =(2,3), dtype = str))"
   ]
  },
  {
   "cell_type": "code",
   "execution_count": 23,
   "metadata": {
    "id": "TiWWC9SD3wcv",
    "outputId": "aa2b7bd2-c3b5-4509-aa10-3517843c2511"
   },
   "outputs": [],
   "source": [
    "# help(np.full)"
   ]
  },
  {
   "cell_type": "code",
   "execution_count": 24,
   "metadata": {
    "colab": {
     "base_uri": "https://localhost:8080/"
    },
    "id": "-kIKmLgd3wcv",
    "outputId": "6155a327-c593-4619-b071-5262ef4fbecb"
   },
   "outputs": [
    {
     "name": "stdout",
     "output_type": "stream",
     "text": [
      "[[445 445 445 445]\n",
      " [445 445 445 445]] \n",
      "\n",
      "[445.25 445.25 445.25 445.25] \n",
      "\n",
      "[[445.+0.j 445.+0.j 445.+0.j]\n",
      " [445.+0.j 445.+0.j 445.+0.j]] \n",
      "\n",
      "[['4' '4' '4']\n",
      " ['4' '4' '4']]\n"
     ]
    }
   ],
   "source": [
    "# Create a 2d numpy array (int) filled with all constant numbers of size m x n\n",
    "print(np.full(shape = (2,4), fill_value = 445, dtype = int), '\\n')\n",
    "\n",
    "# Create a 1d numpy array (float) filled with all constant numbers of size m\n",
    "print(np.full(shape =(4,), fill_value = 445.25, dtype = float), '\\n')\n",
    "\n",
    "# Create a 1d numpy array (complex) filled with all constant numbers of size m x n\n",
    "print(np.full(shape =(2,3), fill_value = 445, dtype = complex), '\\n')\n",
    "\n",
    "# Create a 1d numpy array (string) filled with all constant numbers of size m x n\n",
    "print(np.full(shape =(2,3), fill_value = 445, dtype = str))   # Accepts only the first digit\n",
    "# Note: If you need all the digits to be string then refer the next cell"
   ]
  },
  {
   "cell_type": "code",
   "execution_count": 25,
   "metadata": {},
   "outputs": [
    {
     "data": {
      "text/plain": [
       "array([['445', '445', '445', '445'],\n",
       "       ['445', '445', '445', '445']], dtype='<U11')"
      ]
     },
     "execution_count": 25,
     "metadata": {},
     "output_type": "execute_result"
    }
   ],
   "source": [
    "# Change Datatype of an array:\n",
    "int_array = np.full(shape = (2,4), fill_value = 445, dtype = int)\n",
    "str_array = int_array.astype('str')\n",
    "str_array"
   ]
  },
  {
   "cell_type": "code",
   "execution_count": 26,
   "metadata": {},
   "outputs": [],
   "source": [
    "# help(np.eye)"
   ]
  },
  {
   "cell_type": "code",
   "execution_count": 27,
   "metadata": {
    "colab": {
     "base_uri": "https://localhost:8080/"
    },
    "id": "qEnDhNRW3wcx",
    "outputId": "ab8069e7-e39a-4775-e9c3-72f8bcd116c4"
   },
   "outputs": [
    {
     "data": {
      "text/plain": [
       "array([[1, 0, 0, 0, 0],\n",
       "       [0, 1, 0, 0, 0],\n",
       "       [0, 0, 1, 0, 0],\n",
       "       [0, 0, 0, 1, 0],\n",
       "       [0, 0, 0, 0, 1]])"
      ]
     },
     "execution_count": 27,
     "metadata": {},
     "output_type": "execute_result"
    }
   ],
   "source": [
    "# Identity Matrix\n",
    "# Returns a Square matrix - matrix with same number of rows and columns with diagonal elements as 1 and rest as 0\n",
    "\n",
    "np.eye(5, k = 0, dtype = int)"
   ]
  },
  {
   "cell_type": "code",
   "execution_count": 28,
   "metadata": {
    "colab": {
     "base_uri": "https://localhost:8080/"
    },
    "id": "MCviMbID3wcz",
    "outputId": "e0525ca7-9244-4f79-b253-aa6465634031"
   },
   "outputs": [],
   "source": [
    "# help(np.random.random)"
   ]
  },
  {
   "cell_type": "code",
   "execution_count": 29,
   "metadata": {
    "colab": {
     "base_uri": "https://localhost:8080/"
    },
    "id": "UzqSlTyG3wcx",
    "outputId": "4a4a4b29-298d-40cb-dde2-232559a4da07"
   },
   "outputs": [
    {
     "data": {
      "text/plain": [
       "array([[0.90407292, 0.91631839, 0.79922938],\n",
       "       [0.96894591, 0.87467544, 0.54518888],\n",
       "       [0.83117277, 0.44664942, 0.45039581],\n",
       "       [0.55651376, 0.05291909, 0.55868143]])"
      ]
     },
     "execution_count": 29,
     "metadata": {},
     "output_type": "execute_result"
    }
   ],
   "source": [
    "# Random number generators from 0 to 1\n",
    "\n",
    "np.random.random(size = (4,3)) # random float values between 0 and 1 of specified shape"
   ]
  },
  {
   "cell_type": "code",
   "execution_count": 30,
   "metadata": {},
   "outputs": [
    {
     "data": {
      "text/plain": [
       "array([[93.77461678, 71.75883745, 64.4730879 ,  7.89702385, 65.74084571],\n",
       "       [50.4854442 , 35.40911639, 13.98979121, 28.09557491, 21.22550623],\n",
       "       [88.50612424,  7.54433902, 35.51524968, 20.27163093, 26.09613   ],\n",
       "       [25.87489381, 41.70498522, 62.01987861, 38.64730097, 45.04909667],\n",
       "       [69.12619994, 11.66338845, 52.6379306 , 75.23275006, 59.70677872]])"
      ]
     },
     "execution_count": 30,
     "metadata": {},
     "output_type": "execute_result"
    }
   ],
   "source": [
    "# random number from say [5,95]\n",
    "# indirect way of changing the range from [0,1] to [5,95]\n",
    "\n",
    "90*np.random.random(size = (5,5)) + 5\n",
    "\n",
    "# Objective is to get a 2d array with numbers between 5 and 95\n",
    "# Create a 2d array of desired shape with all random numbers lying between 0 and 1 (max_value = 1, min_value = 0)\n",
    "# Multiply 90 to (max_value = 1, min_value = 0) to get (max_value = 90, min_value = 0)\n",
    "# Add 5 to it so that (max_value = 95, min_value = 5)\n",
    "# This can also be achieved using np.random.randint() which is covered later in the material"
   ]
  },
  {
   "cell_type": "code",
   "execution_count": 31,
   "metadata": {
    "colab": {
     "base_uri": "https://localhost:8080/"
    },
    "id": "2jfUL4GP3wc0",
    "outputId": "21737d73-90a7-4b5b-b836-d0a39dc8c383"
   },
   "outputs": [
    {
     "data": {
      "text/plain": [
       "0.7008247831407518"
      ]
     },
     "execution_count": 31,
     "metadata": {},
     "output_type": "execute_result"
    }
   ],
   "source": [
    "# As a side note,  single random number from 0 to 1 can be obtained like this \n",
    "np.random.random()"
   ]
  },
  {
   "cell_type": "code",
   "execution_count": 32,
   "metadata": {},
   "outputs": [],
   "source": [
    "# help(np.random.randint)"
   ]
  },
  {
   "cell_type": "code",
   "execution_count": 33,
   "metadata": {
    "colab": {
     "base_uri": "https://localhost:8080/"
    },
    "id": "Pw4if4eGPbYS",
    "outputId": "9d0f6da4-8ea5-48b4-8959-fe536d560d69"
   },
   "outputs": [
    {
     "data": {
      "text/plain": [
       "array([[10, 73, 78, 36],\n",
       "       [21, 40, 23, 74],\n",
       "       [79, 40, 36,  5],\n",
       "       [74, 65, 36, 50],\n",
       "       [18, 45, 86, 55]])"
      ]
     },
     "execution_count": 33,
     "metadata": {},
     "output_type": "execute_result"
    }
   ],
   "source": [
    "# Random number generators between any range\n",
    "\n",
    "np.random.randint(low = 5, high = 95, size=(5,4))"
   ]
  },
  {
   "cell_type": "code",
   "execution_count": 34,
   "metadata": {},
   "outputs": [
    {
     "name": "stdout",
     "output_type": "stream",
     "text": [
      "0.16172180576903683\n",
      "[[0.26456651 0.98578031]\n",
      " [0.21180615 0.38347603]\n",
      " [0.97480846 0.71305479]]\n"
     ]
    }
   ],
   "source": [
    "# The array created using rand() function is filled with random samples from a uniform distribution over [0, 1]\n",
    "print(np.random.rand())\n",
    "print(np.random.rand(3,2))"
   ]
  },
  {
   "cell_type": "code",
   "execution_count": 35,
   "metadata": {},
   "outputs": [],
   "source": [
    "# help(np.random.randn)"
   ]
  },
  {
   "cell_type": "code",
   "execution_count": 36,
   "metadata": {},
   "outputs": [
    {
     "name": "stdout",
     "output_type": "stream",
     "text": [
      "-2.51291762243208\n",
      "[[-0.65 -0.06  1.06 -0.58  0.42  0.58]\n",
      " [-0.7  -0.1   0.1   0.37  0.43  0.49]\n",
      " [-0.65  0.39 -0.3   0.01  0.67  1.77]\n",
      " [-1.03 -0.05 -0.21 -0.97 -1.56 -0.14]\n",
      " [ 0.68 -0.06  0.85  0.88  0.38 -0.98]\n",
      " [-2.32  0.41 -0.03 -0.38  1.12  0.96]]\n"
     ]
    }
   ],
   "source": [
    "# The array created using the randn() function is filled with random values from standard normal distribution\n",
    "print(np.random.randn())\n",
    "print(np.random.randn(6,6).round(2))\n",
    "\n",
    "# What is Standard Normal Distribution? \n",
    "# https://sphweb.bumc.bu.edu/otlt/mph-modules/bs/bs704_probability/bs704_probability9.html#:~:text=The%20BMI%20distribution%20ranges%20from,ranges%20from%20%2D3%20to%203."
   ]
  },
  {
   "cell_type": "markdown",
   "metadata": {},
   "source": [
    "There is a difference between randn() and rand(), the array created using rand() funciton is filled with random samples from a uniform distribution over [0, 1) whereas the array created using the randn() function is filled with random values from standard normal distribution"
   ]
  },
  {
   "cell_type": "markdown",
   "metadata": {
    "id": "_J7vyrNEX3ve"
   },
   "source": [
    "# +-+-+-+-+-+-+-+-+-+-+-+-+-+-+-+-+-+-+-+-+-+-+-+-+-+-+-+-+-+-+-+-+-+-+"
   ]
  },
  {
   "cell_type": "markdown",
   "metadata": {},
   "source": [
    "# Mathematical Operations on Arrays"
   ]
  },
  {
   "cell_type": "markdown",
   "metadata": {},
   "source": [
    "# Element wise Addition / Subtraction:"
   ]
  },
  {
   "cell_type": "code",
   "execution_count": 37,
   "metadata": {
    "colab": {
     "base_uri": "https://localhost:8080/"
    },
    "id": "aA_ymLipX8A_",
    "outputId": "720bcc16-2810-4d76-d360-bdd46f4aac8d"
   },
   "outputs": [
    {
     "name": "stdout",
     "output_type": "stream",
     "text": [
      "[[ 4  5  6]\n",
      " [ 9 10 11]]\n",
      "~~~~~~~~~~~~\n",
      "[[0 1 2]\n",
      " [5 6 7]]\n"
     ]
    }
   ],
   "source": [
    "# Adding / Subtracting a scalar quantity to a numpy array\n",
    "\n",
    "a = np.array([[1,2,3],[6,7,8]])\n",
    "print(a + 3)\n",
    "print('~~~~~~~~~~~~')\n",
    "print(a-1)"
   ]
  },
  {
   "cell_type": "code",
   "execution_count": 38,
   "metadata": {
    "colab": {
     "base_uri": "https://localhost:8080/"
    },
    "id": "OyA30On-YVfe",
    "outputId": "9562e799-fde5-484b-f5b5-5c39148eb8d4"
   },
   "outputs": [
    {
     "name": "stdout",
     "output_type": "stream",
     "text": [
      "[[ 1  2  3]\n",
      " [ 4  5 -6]]\n",
      "~~~~~~~~~~~~~~~~~~\n",
      "[[ 4  5  6]\n",
      " [ 7 -8  9]]\n",
      "~~~~~~~~~~~~~~~~~~\n",
      "[[ 1.25  2.31  3.58]\n",
      " [-4.17  5.05  6.  ]]\n",
      "~~~~~~~~~~~~~~~~~~\n"
     ]
    },
    {
     "data": {
      "text/plain": [
       "array([[ 3.75,  4.69,  5.42],\n",
       "       [15.17, -8.05, -3.  ]])"
      ]
     },
     "execution_count": 38,
     "metadata": {},
     "output_type": "execute_result"
    }
   ],
   "source": [
    "# Adding / Subtracting 2 or more arrays of same shape\n",
    "\n",
    "a = np.array([[1,2,3],[4,5,-6]])\n",
    "b = np.array([[4,5,6],[7,-8,9]])\n",
    "c = np.array([[1.25,2.31,3.58],[-4.17,5.05,6.00]], dtype = float)\n",
    "\n",
    "print(a)\n",
    "print('~~~~~~~~~~~~~~~~~~')\n",
    "print(b)\n",
    "print('~~~~~~~~~~~~~~~~~~')\n",
    "print(c)\n",
    "print('~~~~~~~~~~~~~~~~~~')\n",
    "\n",
    "a + b - c  "
   ]
  },
  {
   "cell_type": "code",
   "execution_count": 39,
   "metadata": {},
   "outputs": [],
   "source": [
    "# help(np.add)"
   ]
  },
  {
   "cell_type": "code",
   "execution_count": 40,
   "metadata": {},
   "outputs": [
    {
     "data": {
      "text/plain": [
       "array([[ 5,  7,  9],\n",
       "       [11, -3,  3]])"
      ]
     },
     "execution_count": 40,
     "metadata": {},
     "output_type": "execute_result"
    }
   ],
   "source": [
    "# np.add() is a functionality from numpy for addition of same datatype\n",
    "\n",
    "np.add(a,b)"
   ]
  },
  {
   "cell_type": "code",
   "execution_count": 41,
   "metadata": {},
   "outputs": [
    {
     "data": {
      "text/plain": [
       "array([[ -3,  -3,  -3],\n",
       "       [ -3,  13, -15]])"
      ]
     },
     "execution_count": 41,
     "metadata": {},
     "output_type": "execute_result"
    }
   ],
   "source": [
    "# np.subtract() is a functionality from numpy for subtraction of same datatype\n",
    "\n",
    "np.subtract(a,b)"
   ]
  },
  {
   "cell_type": "code",
   "execution_count": 42,
   "metadata": {},
   "outputs": [],
   "source": [
    "## Q) What happens when you add 1d array to 2d array. Create scenarios and find the results\n",
    "\n",
    "### ----- 2d array is of shape (2,3) 1d array is of shape (3,)\n",
    "### ----- 2d array is of shape (2,3) 1d array is of shape (2,)\n",
    "### ----- 2d array is of shape (2,3) 1d array is of shape (6,)\n",
    "\n",
    "## Lookup Numpy Broadcasting for answers"
   ]
  },
  {
   "cell_type": "code",
   "execution_count": 43,
   "metadata": {},
   "outputs": [
    {
     "name": "stdout",
     "output_type": "stream",
     "text": [
      "2-D Array: \n",
      " [[1 2 3]\n",
      " [6 7 8]]\n",
      "\n",
      "1-D Array:\n",
      "  [1 2 3]\n",
      "\n",
      "Sum: \n",
      " [[ 2  4  6]\n",
      " [ 7  9 11]]\n"
     ]
    }
   ],
   "source": [
    "### ----- 2d array is of shape (2,3) 1d array is of shape (3,)\n",
    "\n",
    "a = np.array([[1,2,3],[6,7,8]])\n",
    "b = np.array([1,2,3])\n",
    "print(\"2-D Array: \\n\", a)\n",
    "print(\"\\n1-D Array:\\n \", b)\n",
    "\n",
    "print(\"\\nSum: \\n\", a+b)"
   ]
  },
  {
   "cell_type": "code",
   "execution_count": 44,
   "metadata": {},
   "outputs": [
    {
     "name": "stdout",
     "output_type": "stream",
     "text": [
      "2-D Array: \n",
      " [[1 2 3]\n",
      " [6 7 8]]\n",
      "\n",
      "1-D Array:\n",
      "  [1 2]\n"
     ]
    }
   ],
   "source": [
    "### ----- 2d array is of shape (2,3) 1d array is of shape (2,)\n",
    "\n",
    "a = np.array([[1,2,3],[6,7,8]])\n",
    "b = np.array([1,2])\n",
    "print(\"2-D Array: \\n\", a)\n",
    "print(\"\\n1-D Array:\\n \", b)\n",
    "\n",
    "# print(\"\\nSum: \\n\", a+b)    #ValueError: operands could not be broadcast together with shapes (2,3) (2,) "
   ]
  },
  {
   "cell_type": "code",
   "execution_count": 45,
   "metadata": {},
   "outputs": [
    {
     "name": "stdout",
     "output_type": "stream",
     "text": [
      "2-D Array: \n",
      " [[1 2 3]\n",
      " [6 7 8]]\n",
      "\n",
      "1-D Array:\n",
      "  [1 2 3 4 5 6]\n"
     ]
    }
   ],
   "source": [
    "### ----- 2d array is of shape (2,3) 1d array is of shape (6,)\n",
    "\n",
    "a = np.array([[1,2,3],[6,7,8]])\n",
    "b = np.array([1,2,3,4,5,6])\n",
    "print(\"2-D Array: \\n\", a)\n",
    "print(\"\\n1-D Array:\\n \", b)\n",
    "\n",
    "# print(\"\\nSum: \\n\", a+b)     # ValueError: operands could not be broadcast together with shapes (2,3) (6,) "
   ]
  },
  {
   "cell_type": "markdown",
   "metadata": {},
   "source": [
    "# Element wise Multiplication:"
   ]
  },
  {
   "cell_type": "code",
   "execution_count": 46,
   "metadata": {},
   "outputs": [
    {
     "data": {
      "text/plain": [
       "array([[100, 200, 300],\n",
       "       [600, 700, 800]])"
      ]
     },
     "execution_count": 46,
     "metadata": {},
     "output_type": "execute_result"
    }
   ],
   "source": [
    "# Multiplying a scalar quantity to a numpy array\n",
    "\n",
    "a = np.array([[1,2,3],[6,7,8]])\n",
    "a*100"
   ]
  },
  {
   "cell_type": "code",
   "execution_count": 47,
   "metadata": {},
   "outputs": [
    {
     "data": {
      "text/plain": [
       "array([[   8,   40,  108],\n",
       "       [  84, -240, -486]])"
      ]
     },
     "execution_count": 47,
     "metadata": {},
     "output_type": "execute_result"
    }
   ],
   "source": [
    "# Multiplying 2 or more arrays. Note: This is Element Wise Multiplication and not Matrix Multiplication\n",
    "\n",
    "a = np.array([[1,2,3],[4,5,-6]])\n",
    "b = np.array([[4,5,6],[7,-8,9]])\n",
    "c = np.array([[2,4,6],[3,6,9]])\n",
    "\n",
    "a*b*c"
   ]
  },
  {
   "cell_type": "code",
   "execution_count": 48,
   "metadata": {},
   "outputs": [
    {
     "data": {
      "text/plain": [
       "array([[  4,  10,  18],\n",
       "       [ 28, -40, -54]])"
      ]
     },
     "execution_count": 48,
     "metadata": {},
     "output_type": "execute_result"
    }
   ],
   "source": [
    "# np.multiply() is a functionality from numpy for multiplication\n",
    "\n",
    "np.multiply(a,b)"
   ]
  },
  {
   "cell_type": "markdown",
   "metadata": {},
   "source": [
    "# Matrix Multiplication or Dot Product"
   ]
  },
  {
   "cell_type": "code",
   "execution_count": 49,
   "metadata": {},
   "outputs": [],
   "source": [
    "# Matrix multiplication is only possible when the number of columns of first matrix is\n",
    "# equal to the number of rows of second matrix.\n",
    "# If the condition for matrix multiplication is satisfied, the result would be numpy array with shape\n",
    "# (rows of first matrix, columns of second matrix)"
   ]
  },
  {
   "cell_type": "code",
   "execution_count": 50,
   "metadata": {},
   "outputs": [
    {
     "name": "stdout",
     "output_type": "stream",
     "text": [
      "[[1 2 3]\n",
      " [2 3 4]]\n",
      "~~~~~~~~~~~~~~\n",
      "[3 4 5]\n",
      "~~~~~~~~~~~~~~\n"
     ]
    },
    {
     "data": {
      "text/plain": [
       "array([26, 38])"
      ]
     },
     "execution_count": 50,
     "metadata": {},
     "output_type": "execute_result"
    }
   ],
   "source": [
    "# Dot Product of 2d Array\n",
    "\n",
    "a = np.array([[1,2,3],[2,3,4]])\n",
    "print(a)\n",
    "print('~~~~~~~~~~~~~~')\n",
    "\n",
    "b = np.array([3,4,5])\n",
    "print(b)\n",
    "print('~~~~~~~~~~~~~~')\n",
    "\n",
    "np.dot(a, b) ### Matrix Multiplication"
   ]
  },
  {
   "cell_type": "code",
   "execution_count": 51,
   "metadata": {},
   "outputs": [
    {
     "name": "stdout",
     "output_type": "stream",
     "text": [
      "70\n",
      "70\n"
     ]
    }
   ],
   "source": [
    "# Dot Product of 1d Arrays\n",
    "\n",
    "x = [1,2,3,4]\n",
    "y = [5,6,7,8]\n",
    "x = np.array(x)  # 1d array\n",
    "y = np.array(y)  # 1d array\n",
    "\n",
    "print(np.dot(x,y))   # Method 1\n",
    "print(x.dot(y))      # Method 2"
   ]
  },
  {
   "cell_type": "code",
   "execution_count": 52,
   "metadata": {},
   "outputs": [
    {
     "name": "stdout",
     "output_type": "stream",
     "text": [
      "[[1 1]\n",
      " [1 1]]\n",
      "~~~~~~~~~~~~~~\n",
      "[[2 2]\n",
      " [2 2]]\n",
      "~~~~~~~~~~~~~~\n",
      "\n",
      "Element Wise Multiplication result ********\n",
      "[[2 2]\n",
      " [2 2]]\n",
      "~~~~~~~~~~~~~~\n",
      "Matrix Multiplication result *********\n",
      "[[4 4]\n",
      " [4 4]]\n"
     ]
    }
   ],
   "source": [
    "# Difference between Element Wise Multiplication and Matrix Multiplication or Dot Product\n",
    "\n",
    "c = np.array([[1,1],[1,1]])   ### (2,2)\n",
    "d = np.array([[2,2],[2,2]])   ### (2,2)\n",
    "\n",
    "print(c)\n",
    "print('~~~~~~~~~~~~~~')\n",
    "\n",
    "print(d)\n",
    "print('~~~~~~~~~~~~~~\\n')\n",
    "\n",
    "print('Element Wise Multiplication result ********')\n",
    "print(np.multiply(c,d))\n",
    "print('~~~~~~~~~~~~~~')\n",
    "\n",
    "print('Matrix Multiplication result *********')\n",
    "print(np.dot(c,d))"
   ]
  },
  {
   "cell_type": "markdown",
   "metadata": {},
   "source": [
    "# Element wise Division:"
   ]
  },
  {
   "cell_type": "code",
   "execution_count": 53,
   "metadata": {},
   "outputs": [
    {
     "data": {
      "text/plain": [
       "array([[0.5, 1. , 1.5],\n",
       "       [3. , 3.5, 4. ]])"
      ]
     },
     "execution_count": 53,
     "metadata": {},
     "output_type": "execute_result"
    }
   ],
   "source": [
    "# Dividing a numpy array by a scalar quantity\n",
    "\n",
    "a = np.array([[1,2,3],[6,7,8]])\n",
    "a/2"
   ]
  },
  {
   "cell_type": "code",
   "execution_count": 54,
   "metadata": {},
   "outputs": [
    {
     "data": {
      "text/plain": [
       "array([[ 0.25      ,  0.4       ,  0.5       ],\n",
       "       [ 0.57142857, -0.625     , -0.66666667]])"
      ]
     },
     "execution_count": 54,
     "metadata": {},
     "output_type": "execute_result"
    }
   ],
   "source": [
    "# Dividing 2 or more arrays. Note: This is Element Wise Division and not Matrix Division\n",
    "\n",
    "a = np.array([[1,2,3],[4,5,-6]])\n",
    "b = np.array([[4,5,6],[7,-8,9]])\n",
    "\n",
    "a/b"
   ]
  },
  {
   "cell_type": "code",
   "execution_count": 55,
   "metadata": {},
   "outputs": [
    {
     "data": {
      "text/plain": [
       "array([[ 0.25      ,  0.4       ,  0.5       ],\n",
       "       [ 0.57142857, -0.625     , -0.66666667]])"
      ]
     },
     "execution_count": 55,
     "metadata": {},
     "output_type": "execute_result"
    }
   ],
   "source": [
    "# np.divide() is a functionality from numpy for division\n",
    "\n",
    "np.divide(a,b)"
   ]
  },
  {
   "cell_type": "markdown",
   "metadata": {},
   "source": [
    "# Element Wise Square and Square Root"
   ]
  },
  {
   "cell_type": "code",
   "execution_count": 56,
   "metadata": {},
   "outputs": [
    {
     "data": {
      "text/plain": [
       "array([[1.        , 1.41421356, 1.73205081],\n",
       "       [2.        , 2.23606798, 2.44948974],\n",
       "       [2.64575131, 2.82842712, 3.        ],\n",
       "       [3.16227766, 3.31662479, 3.46410162]])"
      ]
     },
     "execution_count": 56,
     "metadata": {},
     "output_type": "execute_result"
    }
   ],
   "source": [
    "# Find the sqrt of every element of a numpy array\n",
    "\n",
    "a = np.array([[1,2,3], [4,5,6], [7,8,9], [10, 11, 12]])\n",
    "np.sqrt(a)"
   ]
  },
  {
   "cell_type": "code",
   "execution_count": 57,
   "metadata": {},
   "outputs": [
    {
     "data": {
      "text/plain": [
       "array([[  1,   4,   9],\n",
       "       [ 16,  25,  36],\n",
       "       [ 49,  64,  81],\n",
       "       [100, 121, 144]])"
      ]
     },
     "execution_count": 57,
     "metadata": {},
     "output_type": "execute_result"
    }
   ],
   "source": [
    "# Find the square of every element of a numpy array\n",
    "\n",
    "a = np.array([[1,2,3], [4,5,6], [7,8,9], [10, 11, 12]])\n",
    "a*a"
   ]
  },
  {
   "cell_type": "markdown",
   "metadata": {},
   "source": [
    "In general you'll find that , mathematical functions from numpy [being referred as np here ] when applied on array, give back result as an array where that function has been applied on individual elements. These function from package math on the other hand give error when applied to arrays. They only work for scalars."
   ]
  },
  {
   "cell_type": "markdown",
   "metadata": {},
   "source": [
    "# Accessing arrays with indices"
   ]
  },
  {
   "cell_type": "markdown",
   "metadata": {
    "id": "lTpyrV5J3wc_"
   },
   "source": [
    "Its not necessary that when you are accessing elements of array, index values have to be continuous. They can be any number as long as they do not go out of range of exsiting element positions."
   ]
  },
  {
   "cell_type": "code",
   "execution_count": 58,
   "metadata": {
    "colab": {
     "base_uri": "https://localhost:8080/"
    },
    "id": "W-1EQ3Ym3wdA",
    "outputId": "1ea02307-fbff-4047-a7c0-359196532890"
   },
   "outputs": [
    {
     "name": "stdout",
     "output_type": "stream",
     "text": [
      "(3, 4) \n",
      "\n",
      "[[1 2 3 4]\n",
      " [3 4 5 6]\n",
      " [5 6 7 8]]\n"
     ]
    }
   ],
   "source": [
    "a = np.array([[1, 2, 3, 4], [3, 4, 5, 6], [5, 6, 7, 8]])\n",
    "print(np.shape(a), '\\n')\n",
    "print(a)"
   ]
  },
  {
   "cell_type": "code",
   "execution_count": 59,
   "metadata": {
    "id": "JtVq9r4e3wdB"
   },
   "outputs": [
    {
     "name": "stdout",
     "output_type": "stream",
     "text": [
      "[[1 1 2 1 3 4]\n",
      " [3 3 4 3 5 6]\n",
      " [5 5 6 5 7 8]]\n"
     ]
    }
   ],
   "source": [
    "x = a[:, [0,0,1,0,2,3]]   \n",
    "print(x)\n",
    "\n",
    "# x will be a matrix of shape (3,6) as we have selected all rows of matrix a (3 rows) using ':'\n",
    "# x will have 6 columns as we have specified using the list [0,0,1,0,0,3]\n",
    "# Lets understand each element of the list [0,0,1,0,0,3]\n",
    "# 0 --> First Element of each row of matrix a, i.e. (1, 3, 5)\n",
    "# 0 --> First Element of each row of matrix a, i.e. (1, 3, 5)\n",
    "# 1 --> Second Element of each row of matrix a, i.e. (2, 4, 6)\n",
    "# 0 --> First Element of each row of matrix a, i.e. (1, 3, 5)\n",
    "# 2 --> Third Element of each row of matrix a, i.e. (3, 5, 7)\n",
    "# 3 --> Fourth Element of each row of matrix a, i.e. (4, 6, 8)"
   ]
  },
  {
   "cell_type": "code",
   "execution_count": 60,
   "metadata": {},
   "outputs": [
    {
     "name": "stdout",
     "output_type": "stream",
     "text": [
      "(3, 4) \n",
      "\n",
      "[[1 2 3 4]\n",
      " [3 4 5 6]\n",
      " [5 6 7 8]] \n",
      "\n",
      "[1 3 6 5]\n"
     ]
    }
   ],
   "source": [
    "a = np.array([[1, 2, 3, 4], [3, 4, 5, 6], [5, 6, 7, 8]])\n",
    "print(np.shape(a), '\\n')\n",
    "print(a, '\\n')\n",
    "\n",
    "y = a[[0,1,2,1],[0,0,1,2]]\n",
    "print(y)\n",
    "\n",
    "# y will be a matrix of shape (1,4) where each element is defined by a[[0,1,2,1],[0,0,1,2]]\n",
    "# 1st Element of y = a[0,0] = 1\n",
    "# 2nd Element of y = a[1,0] = 3\n",
    "# 3rd Element of y = a[2,1] = 6\n",
    "# 4th Element of y = a[1,2] = 5"
   ]
  },
  {
   "cell_type": "code",
   "execution_count": 61,
   "metadata": {},
   "outputs": [
    {
     "name": "stdout",
     "output_type": "stream",
     "text": [
      "[2 4 6]\n"
     ]
    }
   ],
   "source": [
    "z = a[:,1]\n",
    "print(z)\n",
    "\n",
    "# Similarly z will be a matrix of shape (1,3) where we have selected all rows of matrix a (3 rows) using ';'\n",
    "# We have selected the Second element of each row in matrix a using '1'\n",
    "# So Matrix z will have the Second element of each row of matrix a --> [2 4 6]"
   ]
  },
  {
   "cell_type": "code",
   "execution_count": 62,
   "metadata": {
    "colab": {
     "base_uri": "https://localhost:8080/"
    },
    "id": "ZFlSTV1hYATj",
    "outputId": "9e6d0131-8eda-4c34-fbad-428942dd5a0a"
   },
   "outputs": [
    {
     "name": "stdout",
     "output_type": "stream",
     "text": [
      "(3, 4) \n",
      "\n",
      "[[1 2 3 4]\n",
      " [3 4 5 6]\n",
      " [5 6 7 8]] \n",
      "\n"
     ]
    },
    {
     "data": {
      "text/plain": [
       "array([[1, 2, 3],\n",
       "       [5, 6, 7]])"
      ]
     },
     "execution_count": 62,
     "metadata": {},
     "output_type": "execute_result"
    }
   ],
   "source": [
    "# Specify a range and step size for indexes\n",
    "\n",
    "a = np.array([[1, 2, 3, 4], [3, 4, 5, 6], [5, 6, 7, 8]])\n",
    "print(np.shape(a), '\\n')\n",
    "print(a, '\\n')\n",
    "\n",
    "a[0:3:2,0:3:1]  # From Index, To Index, Step Size    \n",
    "# For Rows: 0 to 2 in steps of 2 = row# 1 and 3\n",
    "# For Columns: 0 to 2 in steps of 1 = column# 1, 2, 3"
   ]
  },
  {
   "cell_type": "code",
   "execution_count": 63,
   "metadata": {},
   "outputs": [
    {
     "name": "stdout",
     "output_type": "stream",
     "text": [
      "[[1 2 3 4]\n",
      " [3 4 5 6]\n",
      " [5 6 7 8]] \n",
      "~~~~~~~~~~~\n",
      "\n",
      "[0 1 2 1] \n",
      "~~~~~~~~~~~\n",
      "\n",
      "[1 0 2 1] \n",
      "~~~~~~~~~~~\n",
      "\n"
     ]
    },
    {
     "data": {
      "text/plain": [
       "array([1, 4, 7])"
      ]
     },
     "execution_count": 63,
     "metadata": {},
     "output_type": "execute_result"
    }
   ],
   "source": [
    "# Element wise Indexing\n",
    "\n",
    "a = np.array([[1, 2, 3, 4], [3, 4, 5, 6], [5, 6, 7, 8]])\n",
    "b = np.array([0,1,2,1])\n",
    "c = np.array([1,0,2,1])\n",
    "print(a, '\\n~~~~~~~~~~~\\n')\n",
    "print(b, '\\n~~~~~~~~~~~\\n')\n",
    "print(c, '\\n~~~~~~~~~~~\\n')\n",
    "\n",
    "e = [0,1,2]\n",
    "d = a[e, e]\n",
    "d"
   ]
  },
  {
   "cell_type": "markdown",
   "metadata": {},
   "source": [
    "# Create Arrays by specifying a range"
   ]
  },
  {
   "cell_type": "code",
   "execution_count": 64,
   "metadata": {
    "colab": {
     "base_uri": "https://localhost:8080/"
    },
    "id": "P12vmFiS3wdE",
    "outputId": "61aafab6-bb5d-400d-f599-8c928a2b2b9e"
   },
   "outputs": [
    {
     "name": "stdout",
     "output_type": "stream",
     "text": [
      "[0 1 2 3 4 5 6 7 8 9]\n",
      "<class 'numpy.ndarray'>\n",
      "(10,)\n"
     ]
    }
   ],
   "source": [
    "# arange will give 1d array values starting from 0 going till n-1\n",
    "\n",
    "c = np.arange(10)\n",
    "print(c)\n",
    "print(type(c))\n",
    "print(c.shape)"
   ]
  },
  {
   "cell_type": "code",
   "execution_count": 65,
   "metadata": {
    "colab": {
     "base_uri": "https://localhost:8080/"
    },
    "id": "iEkgO5jLf-Ko",
    "outputId": "16fadc64-f34f-4b21-fadd-c9cc15cfe13f"
   },
   "outputs": [
    {
     "name": "stdout",
     "output_type": "stream",
     "text": [
      "[ 5  7  9 11 13]\n",
      "(5,)\n"
     ]
    }
   ],
   "source": [
    "c = np.arange(start=5, stop= 15, step=2)\n",
    "print(c)\n",
    "print(c.shape)"
   ]
  },
  {
   "cell_type": "code",
   "execution_count": 66,
   "metadata": {
    "colab": {
     "base_uri": "https://localhost:8080/"
    },
    "id": "8K9ywTRZ3wdF",
    "outputId": "e83421d4-25af-4827-8966-1f7176a757ab"
   },
   "outputs": [
    {
     "name": "stdout",
     "output_type": "stream",
     "text": [
      "[0 1 2 3 4]\n",
      "1200\n",
      "3234\n",
      "546\n",
      "7567\n",
      "123\n"
     ]
    }
   ],
   "source": [
    "# Access each element of array:\n",
    "\n",
    "list_1 = [1200, 3234, 546, 7567, 123]\n",
    "\n",
    "index_of_list = np.arange(len(list_1))\n",
    "print(index_of_list)\n",
    "\n",
    "for i in index_of_list:\n",
    "    print(list_1[i])"
   ]
  },
  {
   "cell_type": "markdown",
   "metadata": {},
   "source": [
    "# +-+-+-+-+-+-+-+-+-+-+-+-+-+-+-+-+-+-+-+-+-+-+-+-+-+-+-+-+-+-+-+-+-+-+"
   ]
  },
  {
   "cell_type": "markdown",
   "metadata": {},
   "source": [
    "# Session 2"
   ]
  },
  {
   "cell_type": "markdown",
   "metadata": {},
   "source": [
    "# +-+-+-+-+-+-+-+-+-+-+-+-+-+-+-+-+-+-+-+-+-+-+-+-+-+-+-+-+-+-+-+-+-+-+"
   ]
  },
  {
   "cell_type": "markdown",
   "metadata": {},
   "source": [
    "# Conditional Access of arrays"
   ]
  },
  {
   "cell_type": "markdown",
   "metadata": {
    "id": "BDKK_0AF3wdI"
   },
   "source": [
    "If there was a single element, using the comparison operator a>2 will generate True or False depeneding on whether that particular condition was true or false.\n",
    "\n",
    "Now when a is a numpy array, that comparison will be done for each element and result will be an array of shape same as a, containing True/False for each element."
   ]
  },
  {
   "cell_type": "code",
   "execution_count": 67,
   "metadata": {
    "colab": {
     "base_uri": "https://localhost:8080/"
    },
    "id": "qEgksXAU3wdJ",
    "outputId": "91535734-a276-45da-c2f2-5d10b1ff742e"
   },
   "outputs": [
    {
     "name": "stdout",
     "output_type": "stream",
     "text": [
      "[[ 1  2]\n",
      " [ 3  4]\n",
      " [-2  2]] \n",
      "~~~~~~~~~~\n",
      "\n",
      "[[False  True]\n",
      " [False False]\n",
      " [False  True]]\n"
     ]
    }
   ],
   "source": [
    "a = np.array([[1,2], [3, 4], [-2, 2]])\n",
    "print(a, '\\n~~~~~~~~~~\\n')\n",
    "print(a==2)"
   ]
  },
  {
   "cell_type": "code",
   "execution_count": 68,
   "metadata": {
    "id": "abU5VaWmiLkW"
   },
   "outputs": [
    {
     "name": "stdout",
     "output_type": "stream",
     "text": [
      "[[ 1  2]\n",
      " [ 3  4]\n",
      " [-2  2]] \n",
      "~~~~~~~~~~\n",
      "\n",
      "[[False False]\n",
      " [ True  True]\n",
      " [False False]] \n",
      "~~~~~~~~~~\n",
      "\n"
     ]
    },
    {
     "data": {
      "text/plain": [
       "numpy.ndarray"
      ]
     },
     "execution_count": 68,
     "metadata": {},
     "output_type": "execute_result"
    }
   ],
   "source": [
    "# Element wise comparison returns a 2d array of same shape as a with the corresponding bool value\n",
    "\n",
    "c = a>=3 \n",
    "print(a, '\\n~~~~~~~~~~\\n')\n",
    "print(c, '\\n~~~~~~~~~~\\n')\n",
    "type(c)"
   ]
  },
  {
   "cell_type": "code",
   "execution_count": 69,
   "metadata": {
    "id": "QXQexWfWH0oy"
   },
   "outputs": [
    {
     "data": {
      "text/plain": [
       "array([[False, False],\n",
       "       [ True,  True],\n",
       "       [ True, False]])"
      ]
     },
     "execution_count": 69,
     "metadata": {},
     "output_type": "execute_result"
    }
   ],
   "source": [
    "# Individual elements of the resultant Bool value can be modified by specifying the index:\n",
    "\n",
    "c[2,0] = True\n",
    "c"
   ]
  },
  {
   "cell_type": "code",
   "execution_count": 70,
   "metadata": {
    "colab": {
     "base_uri": "https://localhost:8080/"
    },
    "id": "3z3pjTppitBK",
    "outputId": "a2b5b90f-7e73-42d6-94ce-6651915e8991"
   },
   "outputs": [
    {
     "name": "stdout",
     "output_type": "stream",
     "text": [
      "[[ 1  2]\n",
      " [ 3  4]\n",
      " [-2  2]] \n",
      "~~~~~~~~~~\n",
      "\n",
      "[[False False]\n",
      " [ True  True]\n",
      " [ True False]] \n",
      "~~~~~~~~~~\n",
      "\n"
     ]
    },
    {
     "data": {
      "text/plain": [
       "array([ 3,  4, -2])"
      ]
     },
     "execution_count": 70,
     "metadata": {},
     "output_type": "execute_result"
    }
   ],
   "source": [
    "# Subsetting a 2D array on the basis of Boolean condition\n",
    "\n",
    "print(a, '\\n~~~~~~~~~~\\n')\n",
    "print(c, '\\n~~~~~~~~~~\\n')\n",
    "a[c]  ### return 1d array (3,) with only those elements from 'a' where the corresponding value of c is True\n",
    "\n",
    "### c should be of same shape as a, and c should be an array of boolean values"
   ]
  },
  {
   "cell_type": "markdown",
   "metadata": {
    "id": "CqzDnwrQ3wdK"
   },
   "source": [
    "We can use these comparison expressions directly to access the elements of an array based on whether it is True or False. Result is only those elements for which the expression evaluates to True"
   ]
  },
  {
   "cell_type": "code",
   "execution_count": 71,
   "metadata": {
    "id": "R1qEJxb13wdM"
   },
   "outputs": [
    {
     "name": "stdout",
     "output_type": "stream",
     "text": [
      "[ 3  4 -2]\n",
      "(3,)\n"
     ]
    }
   ],
   "source": [
    "print(a[c])\n",
    "print(a[c].shape)"
   ]
  },
  {
   "cell_type": "markdown",
   "metadata": {
    "id": "4nScWeij3wdM"
   },
   "source": [
    "notice that the result is a 1D array"
   ]
  },
  {
   "cell_type": "code",
   "execution_count": 72,
   "metadata": {
    "colab": {
     "base_uri": "https://localhost:8080/"
    },
    "id": "-D5NpSIa3wdN",
    "outputId": "f0be7e1f-d201-40b9-f09a-64b1e63f7926"
   },
   "outputs": [
    {
     "name": "stdout",
     "output_type": "stream",
     "text": [
      "[[ 1  2]\n",
      " [ 3  4]\n",
      " [-2  2]] \n",
      "~~~~~~~~~~\n",
      "\n"
     ]
    },
    {
     "data": {
      "text/plain": [
       "array([[ True, False],\n",
       "       [False, False],\n",
       "       [ True, False]])"
      ]
     },
     "execution_count": 72,
     "metadata": {},
     "output_type": "execute_result"
    }
   ],
   "source": [
    "# Lets see if this works with writing mulitple conditions as well. \n",
    "print(a, '\\n~~~~~~~~~~\\n')\n",
    "(a>5) | (a<2)"
   ]
  },
  {
   "cell_type": "code",
   "execution_count": 73,
   "metadata": {
    "colab": {
     "base_uri": "https://localhost:8080/"
    },
    "id": "wWUVKA_kjp_x",
    "outputId": "3e47e081-dab8-457e-9f5e-d1b02afe7629"
   },
   "outputs": [
    {
     "name": "stdout",
     "output_type": "stream",
     "text": [
      "Matrix A: \n",
      " [[ 1  2]\n",
      " [ 3  4]\n",
      " [-2  2]] \n",
      "~~~~~~~~~~~~~~~~\n",
      "\n",
      "[[False False]\n",
      " [ True  True]\n",
      " [False False]]\n",
      "**************************\n",
      "[[ True  True]\n",
      " [ True  True]\n",
      " [ True  True]]\n",
      "*************************\n",
      "[[False False]\n",
      " [ True  True]\n",
      " [False False]]\n"
     ]
    }
   ],
   "source": [
    "print(\"Matrix A: \\n\", a, '\\n~~~~~~~~~~~~~~~~\\n')\n",
    "\n",
    "print((a>2))  ### 2d array with True where a is greater than 2\n",
    "\n",
    "print('**************************')\n",
    "print((a<5))  ### 2d array with True where a is less than 5\n",
    "\n",
    "print('*************************')\n",
    "c = (a>2) & (a<5)   ### element wise boolean operation to give a matrix again of same shape \n",
    "                    ### as 'a' and true only when both the conditions are true\n",
    "print(c)"
   ]
  },
  {
   "cell_type": "code",
   "execution_count": 74,
   "metadata": {},
   "outputs": [
    {
     "name": "stdout",
     "output_type": "stream",
     "text": [
      "[3 4]\n"
     ]
    }
   ],
   "source": [
    "# 1d array with values where c is true\n",
    "print(a[c]) "
   ]
  },
  {
   "cell_type": "markdown",
   "metadata": {},
   "source": [
    "# Reshape an Array"
   ]
  },
  {
   "cell_type": "code",
   "execution_count": 75,
   "metadata": {
    "colab": {
     "base_uri": "https://localhost:8080/"
    },
    "id": "RjkN7HKhYq8X",
    "outputId": "6985850d-c299-4533-f6bc-64002e42d838"
   },
   "outputs": [
    {
     "name": "stdout",
     "output_type": "stream",
     "text": [
      "[[1 2 3]\n",
      " [4 5 6]]\n",
      "(2, 3)\n",
      "\n",
      "~~~~~~~~~~~~~\n",
      "\n",
      "[[1 2]\n",
      " [3 4]\n",
      " [5 6]]\n",
      "(3, 2)\n",
      "\n",
      "~~~~~~~~~~~~~\n",
      "\n",
      "[1 2 3 4 5 6]\n",
      "(6,)\n",
      "\n",
      "~~~~~~~~~~~~~\n",
      "\n",
      "[1 2 3 4 5 6]\n",
      "(6,)\n"
     ]
    }
   ],
   "source": [
    "c = np.array([[1,2,3],[4,5,6]])\n",
    "print(c)\n",
    "print(c.shape)\n",
    "\n",
    "print('\\n~~~~~~~~~~~~~\\n')\n",
    "d = c.reshape((3,2))\n",
    "print(d)\n",
    "print(d.shape)\n",
    "\n",
    "print('\\n~~~~~~~~~~~~~\\n')\n",
    "d = c.reshape((6,))\n",
    "print(d)\n",
    "print(d.shape)\n",
    "\n",
    "print('\\n~~~~~~~~~~~~~\\n')\n",
    "d = c.reshape((-1))    # -1 means unknown dimension and numpy will automatically assign the value,\n",
    "                         # based on the shape of the input array\n",
    "print(d)\n",
    "print(d.shape)\n",
    "\n",
    "# Note: The number of elements in the first array shuld be same as the number of elements of the reshaped array\n",
    "# (row1 * column1) = (row2 * column2)"
   ]
  },
  {
   "cell_type": "markdown",
   "metadata": {},
   "source": [
    "# Transpose an Array"
   ]
  },
  {
   "cell_type": "code",
   "execution_count": 76,
   "metadata": {
    "colab": {
     "base_uri": "https://localhost:8080/"
    },
    "id": "K0iFaaPMQPz_",
    "outputId": "8d196084-ad15-4f2f-ec17-f978c283a6ee"
   },
   "outputs": [
    {
     "name": "stdout",
     "output_type": "stream",
     "text": [
      "[[1 2 3]\n",
      " [4 5 6]]\n",
      "(2, 3)\n",
      "\n",
      "~~~~~~~~~~~~~\n",
      "\n",
      "[[1 4]\n",
      " [2 5]\n",
      " [3 6]]\n",
      "(3, 2)\n",
      "\n",
      "~~~~~~~~~~~~~\n",
      "\n",
      "[[1 4]\n",
      " [2 5]\n",
      " [3 6]]\n",
      "(3, 2)\n"
     ]
    }
   ],
   "source": [
    "# In transpose the rows will become columns or in other words the columns will become rows\n",
    "\n",
    "c = np.array([[1,2,3],[4,5,6]])\n",
    "print(c)\n",
    "print(c.shape)\n",
    "\n",
    "# Method 1:\n",
    "print('\\n~~~~~~~~~~~~~\\n')\n",
    "d = np.transpose(c)\n",
    "print(d)\n",
    "print(d.shape)\n",
    "\n",
    "# Method 2:\n",
    "print('\\n~~~~~~~~~~~~~\\n')\n",
    "e = c.T\n",
    "print(e)\n",
    "print(e.shape)"
   ]
  },
  {
   "cell_type": "markdown",
   "metadata": {
    "id": "Ey1ABrW83wdv"
   },
   "source": [
    "# Other Mathematical Functions"
   ]
  },
  {
   "cell_type": "code",
   "execution_count": 77,
   "metadata": {
    "colab": {
     "base_uri": "https://localhost:8080/"
    },
    "id": "95htrIL83wdv",
    "outputId": "8a68f9a7-6345-4544-a813-70e5214e9cb6"
   },
   "outputs": [
    {
     "data": {
      "text/plain": [
       "array([[1, 2, 3],\n",
       "       [3, 4, 5],\n",
       "       [4, 5, 6]])"
      ]
     },
     "execution_count": 77,
     "metadata": {},
     "output_type": "execute_result"
    }
   ],
   "source": [
    "x = np.array([[1,2,3],[3,4,5],[4,5,6]])\n",
    "x"
   ]
  },
  {
   "cell_type": "code",
   "execution_count": 78,
   "metadata": {
    "colab": {
     "base_uri": "https://localhost:8080/"
    },
    "id": "_-9VpQGJ3wdw",
    "outputId": "65f6b476-5862-43d7-f20b-38287095f895"
   },
   "outputs": [
    {
     "name": "stdout",
     "output_type": "stream",
     "text": [
      "Sum of all elements        :  33\n",
      "Column-Wise Sum            :  [ 8 11 14]\n",
      "Row-Wise Sum               :  [ 6 12 15]\n",
      "Element wise addition      :\n",
      " [[ 6  7  8]\n",
      " [ 8  9 10]\n",
      " [ 9 10 11]]\n",
      "Product of all elements    :  43200\n",
      "Column-Wise Product        :  [12 40 90]\n",
      "Row-Wise Product           :  [  6  60 120]\n",
      "Element wise multiplication:\n",
      " [[ 4  8 12]\n",
      " [12 16 20]\n",
      " [16 20 24]]\n",
      "Element wise division      :\n",
      " [[0.25 0.5  0.75]\n",
      " [0.75 1.   1.25]\n",
      " [1.   1.25 1.5 ]]\n",
      "Element wise Subtraction   :\n",
      " [[-3 -2 -1]\n",
      " [-1  0  1]\n",
      " [ 0  1  2]]\n"
     ]
    }
   ],
   "source": [
    "print(\"Sum of all elements        : \",  np.sum(x))         ## Sum of all the elements in the array\n",
    "print(\"Column-Wise Sum            : \",  np.sum(x, axis=0)) ## Sum of all the elements in each column\n",
    "print(\"Row-Wise Sum               : \",  np.sum(x, axis=1)) ## Sum of all the elements in each row\n",
    "print(\"Element wise addition      :\\n\", np.add(x,5))       ## Elementwise sum\n",
    "print(\"Product of all elements    : \",  np.prod(x))        ## Product of all the elements in the array\n",
    "print(\"Column-Wise Product        : \",  np.prod(x,axis=0)) ## Product of all the elements in each Column\n",
    "print(\"Row-Wise Product           : \",  np.prod(x,axis=1)) ## Product of all the elements in each Row\n",
    "print(\"Element wise multiplication:\\n\", np.multiply(x,4))  ## element wise multiplication \n",
    "print(\"Element wise division      :\\n\", np.divide(x,4))    ## element wise division \n",
    "print(\"Element wise Subtraction   :\\n\", np.subtract(x,4))  ## element wise subtraction "
   ]
  },
  {
   "cell_type": "markdown",
   "metadata": {},
   "source": [
    "# +-+-+-+-+-+-+-+-+-+-+-+-+-+-+-+-+-+-+-+-+-+-+-+-+-+-+-+-+-+-+-+-+-+-+-+-+"
   ]
  },
  {
   "cell_type": "markdown",
   "metadata": {},
   "source": [
    "# Broadcasting"
   ]
  },
  {
   "cell_type": "markdown",
   "metadata": {
    "id": "WKmV27dL3wdz"
   },
   "source": [
    "So far we have seen that, when we do operations between two arrays, operation happens between corresponding elements of the arrays. Many a times, shape of arrays will not match and correspondence between elements will not be complete. \n",
    "\n",
    "In such cases, elements of the smaller array are recycled to makeup for the correspondence."
   ]
  },
  {
   "cell_type": "code",
   "execution_count": 79,
   "metadata": {
    "id": "vmKwgRzx3wdz"
   },
   "outputs": [
    {
     "name": "stdout",
     "output_type": "stream",
     "text": [
      "[[ 1  2  3]\n",
      " [ 4  5  6]\n",
      " [ 7  8  9]\n",
      " [10 11 12]]\n",
      "(4, 3)\n"
     ]
    }
   ],
   "source": [
    "x = np.array([[1,2,3], [4,5,6], [7,8,9], [10, 11, 12]])\n",
    "print(x)\n",
    "print(x.shape)"
   ]
  },
  {
   "cell_type": "code",
   "execution_count": 80,
   "metadata": {
    "colab": {
     "base_uri": "https://localhost:8080/"
    },
    "id": "yaPYXvWdZ_t7",
    "outputId": "19a8ba62-875a-4a30-bd4a-ecf21a401615"
   },
   "outputs": [
    {
     "name": "stdout",
     "output_type": "stream",
     "text": [
      "[1 0 1]\n",
      "(3,)\n"
     ]
    }
   ],
   "source": [
    "v = np.array([1, 0, 1])\n",
    "print(v)\n",
    "print(v.shape)"
   ]
  },
  {
   "cell_type": "markdown",
   "metadata": {
    "id": "1_KdOm7o3wd2"
   },
   "source": [
    "Here v is a smaller array than x, lets see what happens when we do operation between x and v. But before that, we are going to replicate v to make up for the correpondence ourselves and see the result"
   ]
  },
  {
   "cell_type": "code",
   "execution_count": 81,
   "metadata": {
    "colab": {
     "base_uri": "https://localhost:8080/"
    },
    "id": "Lz7vDsQr3wd3",
    "outputId": "5c8e77bc-c00f-4408-848e-b99c111a39ad"
   },
   "outputs": [
    {
     "data": {
      "text/plain": [
       "array([[1, 0, 1],\n",
       "       [1, 0, 1],\n",
       "       [1, 0, 1],\n",
       "       [1, 0, 1]])"
      ]
     },
     "execution_count": 81,
     "metadata": {},
     "output_type": "execute_result"
    }
   ],
   "source": [
    "vv = np.tile(v, (4,1))  # Stack 4 copies of v on top of each other to match the shape of array x\n",
    "vv"
   ]
  },
  {
   "cell_type": "code",
   "execution_count": 82,
   "metadata": {
    "id": "dF924DTe3wd3"
   },
   "outputs": [
    {
     "name": "stdout",
     "output_type": "stream",
     "text": [
      "[[ 1  2  3]\n",
      " [ 4  5  6]\n",
      " [ 7  8  9]\n",
      " [10 11 12]]\n",
      "~~~~~\n",
      "[[1 0 1]\n",
      " [1 0 1]\n",
      " [1 0 1]\n",
      " [1 0 1]]\n"
     ]
    },
    {
     "data": {
      "text/plain": [
       "array([[ 2,  2,  4],\n",
       "       [ 5,  5,  7],\n",
       "       [ 8,  8, 10],\n",
       "       [11, 11, 13]])"
      ]
     },
     "execution_count": 82,
     "metadata": {},
     "output_type": "execute_result"
    }
   ],
   "source": [
    "print(x)\n",
    "print(\"~~~~~\")\n",
    "print(vv)\n",
    "x + vv"
   ]
  },
  {
   "cell_type": "markdown",
   "metadata": {
    "id": "_MM4SA7I3wd4"
   },
   "source": [
    "Now lets check what would have been the result if we added just x and v\n"
   ]
  },
  {
   "cell_type": "code",
   "execution_count": 83,
   "metadata": {
    "id": "hmSdRHow3wd4"
   },
   "outputs": [
    {
     "data": {
      "text/plain": [
       "array([[ 2,  2,  4],\n",
       "       [ 5,  5,  7],\n",
       "       [ 8,  8, 10],\n",
       "       [11, 11, 13]])"
      ]
     },
     "execution_count": 83,
     "metadata": {},
     "output_type": "execute_result"
    }
   ],
   "source": [
    "x + v # produce the same result as x + vv"
   ]
  },
  {
   "cell_type": "markdown",
   "metadata": {
    "id": "Y2cOi2c23wd5"
   },
   "source": [
    "Lets see some more examples of operations between mis matching shape arrays"
   ]
  },
  {
   "cell_type": "code",
   "execution_count": 84,
   "metadata": {
    "id": "3S5Aij0u3wd6"
   },
   "outputs": [],
   "source": [
    "v = np.array([1,2,3])  # v has shape (3,)\n",
    "w = np.array([4,5])    # w has shape (2,)"
   ]
  },
  {
   "cell_type": "code",
   "execution_count": 85,
   "metadata": {
    "id": "qpXmKKzr3wd9"
   },
   "outputs": [
    {
     "data": {
      "text/plain": [
       "(2, 3)"
      ]
     },
     "execution_count": 85,
     "metadata": {},
     "output_type": "execute_result"
    }
   ],
   "source": [
    "x = np.array([[1,2,3], [4,5,6]]) # x has shape (2,3)\n",
    "x.shape"
   ]
  },
  {
   "cell_type": "code",
   "execution_count": 86,
   "metadata": {
    "id": "Cl1W6gxZ3wd-"
   },
   "outputs": [
    {
     "name": "stdout",
     "output_type": "stream",
     "text": [
      "[[1 2 3]\n",
      " [4 5 6]]\n",
      "~~~~~\n",
      "[1 2 3]\n"
     ]
    },
    {
     "data": {
      "text/plain": [
       "array([[2, 4, 6],\n",
       "       [5, 7, 9]])"
      ]
     },
     "execution_count": 86,
     "metadata": {},
     "output_type": "execute_result"
    }
   ],
   "source": [
    "print(x)\n",
    "print(\"~~~~~\")\n",
    "print(v)\n",
    "x + v"
   ]
  },
  {
   "cell_type": "markdown",
   "metadata": {
    "id": "KkFwtIw13wd-"
   },
   "source": [
    "What we see here is known as broadcasting of values. But dimensions need to be compatible for that"
   ]
  },
  {
   "cell_type": "code",
   "execution_count": 87,
   "metadata": {
    "id": "wvj5icta3wd_"
   },
   "outputs": [],
   "source": [
    "v=np.array([1,2])"
   ]
  },
  {
   "cell_type": "code",
   "execution_count": 88,
   "metadata": {
    "id": "_eVHxi1T3wd_"
   },
   "outputs": [],
   "source": [
    "# print(x+v)     # ValueError: operands could not be broadcast together with shapes (2,3) (2,)"
   ]
  },
  {
   "cell_type": "markdown",
   "metadata": {},
   "source": [
    "# Linearly Spacing Arrays: linspace()"
   ]
  },
  {
   "cell_type": "code",
   "execution_count": 89,
   "metadata": {},
   "outputs": [],
   "source": [
    "# help(np.linspace)"
   ]
  },
  {
   "cell_type": "code",
   "execution_count": 90,
   "metadata": {
    "colab": {
     "base_uri": "https://localhost:8080/"
    },
    "id": "I79KV_6n3weG",
    "outputId": "f388ac2f-27f5-4dc7-96a7-8ea6799faa2c"
   },
   "outputs": [
    {
     "data": {
      "text/plain": [
       "array([ 0.        ,  0.1010101 ,  0.2020202 ,  0.3030303 ,  0.4040404 ,\n",
       "        0.50505051,  0.60606061,  0.70707071,  0.80808081,  0.90909091,\n",
       "        1.01010101,  1.11111111,  1.21212121,  1.31313131,  1.41414141,\n",
       "        1.51515152,  1.61616162,  1.71717172,  1.81818182,  1.91919192,\n",
       "        2.02020202,  2.12121212,  2.22222222,  2.32323232,  2.42424242,\n",
       "        2.52525253,  2.62626263,  2.72727273,  2.82828283,  2.92929293,\n",
       "        3.03030303,  3.13131313,  3.23232323,  3.33333333,  3.43434343,\n",
       "        3.53535354,  3.63636364,  3.73737374,  3.83838384,  3.93939394,\n",
       "        4.04040404,  4.14141414,  4.24242424,  4.34343434,  4.44444444,\n",
       "        4.54545455,  4.64646465,  4.74747475,  4.84848485,  4.94949495,\n",
       "        5.05050505,  5.15151515,  5.25252525,  5.35353535,  5.45454545,\n",
       "        5.55555556,  5.65656566,  5.75757576,  5.85858586,  5.95959596,\n",
       "        6.06060606,  6.16161616,  6.26262626,  6.36363636,  6.46464646,\n",
       "        6.56565657,  6.66666667,  6.76767677,  6.86868687,  6.96969697,\n",
       "        7.07070707,  7.17171717,  7.27272727,  7.37373737,  7.47474747,\n",
       "        7.57575758,  7.67676768,  7.77777778,  7.87878788,  7.97979798,\n",
       "        8.08080808,  8.18181818,  8.28282828,  8.38383838,  8.48484848,\n",
       "        8.58585859,  8.68686869,  8.78787879,  8.88888889,  8.98989899,\n",
       "        9.09090909,  9.19191919,  9.29292929,  9.39393939,  9.49494949,\n",
       "        9.5959596 ,  9.6969697 ,  9.7979798 ,  9.8989899 , 10.        ])"
      ]
     },
     "execution_count": 90,
     "metadata": {},
     "output_type": "execute_result"
    }
   ],
   "source": [
    "# linspace creates equally spaced numbers between the intervals provided\n",
    "# It creates a 1d array, the length of which is decided by the parameter num\n",
    "\n",
    "np.linspace(start=0, stop=10, num=100) "
   ]
  },
  {
   "cell_type": "code",
   "execution_count": 91,
   "metadata": {},
   "outputs": [
    {
     "data": {
      "image/png": "[encoded data removed]",
      "text/plain": [
       "<Figure size 432x288 with 1 Axes>"
      ]
     },
     "metadata": {
      "needs_background": "light"
     },
     "output_type": "display_data"
    }
   ],
   "source": [
    "import matplotlib.pyplot as plt    # Module matplotlib will be covered later\n",
    "N = 8\n",
    "y = np.zeros(N)\n",
    "x1 = np.linspace(0, 10, N, endpoint=True)     # Includes the last value (i.e. 10)\n",
    "x2 = np.linspace(0, 10, N, endpoint=False)    # Excludes the last value (i.e. 10)\n",
    "plt.plot(x1, y, 'o')\n",
    "plt.plot(x2, y + 0.5, 'o')\n",
    "plt.ylim([-0.5, 1])\n",
    "plt.show()"
   ]
  },
  {
   "cell_type": "markdown",
   "metadata": {},
   "source": [
    "# Get Unique Elements from an array"
   ]
  },
  {
   "cell_type": "code",
   "execution_count": 92,
   "metadata": {},
   "outputs": [],
   "source": [
    "# help(np.unique)"
   ]
  },
  {
   "cell_type": "code",
   "execution_count": 93,
   "metadata": {
    "colab": {
     "base_uri": "https://localhost:8080/"
    },
    "id": "eQFvu2HG3weH",
    "outputId": "ac5bc427-ec63-4883-ea61-6f60b64be744"
   },
   "outputs": [
    {
     "name": "stdout",
     "output_type": "stream",
     "text": [
      "[['a' 'b' 'a' 'a' 'b' 'c']\n",
      " ['a' 'b' 'a' 'a' 'b' 'c']]\n",
      "\n",
      "~~~~~~~~~~~~~~~~~~~~~~~~~~~\n",
      "\n",
      "['a' 'b' 'c']\n",
      "(array(['a', 'b', 'c'], dtype='<U1'), array([6, 4, 2], dtype=int64))\n"
     ]
    }
   ],
   "source": [
    "# np.unique gives out the unique elements\n",
    "\n",
    "y = np.array([['a','b','a','a','b','c'],['a','b','a','a','b','c']])\n",
    "print(y)\n",
    "print('\\n~~~~~~~~~~~~~~~~~~~~~~~~~~~\\n')\n",
    "\n",
    "print(np.unique(y))                       # Returns 1d array with all the unique values present in y\n",
    "print(np.unique(y, return_counts=True))   # Returns the number of times each element is present in the array"
   ]
  },
  {
   "cell_type": "markdown",
   "metadata": {},
   "source": [
    "# Sort, Min, Max"
   ]
  },
  {
   "cell_type": "code",
   "execution_count": 94,
   "metadata": {
    "colab": {
     "base_uri": "https://localhost:8080/"
    },
    "id": "KdMuhR8H3weH",
    "outputId": "0c99f8ca-e32e-459a-fcb7-90228e1f266d",
    "scrolled": true
   },
   "outputs": [
    {
     "name": "stdout",
     "output_type": "stream",
     "text": [
      "Original Array\n",
      " [[23 45 12 34]\n",
      " [54 12 34 58]]\n",
      "\n",
      "~~~~~~~~~~~~~~~~~~~~~~~~~~~\n",
      "\n",
      "Axis 0 sort (Column wise Sort)\n",
      "[[23 12 12 34]\n",
      " [54 45 34 58]]\n",
      "\n",
      "~~~~~~~~~~~~~~~~~~~~~~~~~~~\n",
      "\n",
      "Axis 1 sort (Row wise Sort)\n",
      "[[12 23 34 45]\n",
      " [12 34 54 58]]\n",
      "\n",
      "~~~~~~~~~~~~~~~~~~~~~~~~~~~\n",
      "\n"
     ]
    }
   ],
   "source": [
    "# sort\n",
    "\n",
    "a = np.array([[23,45,12,34],[54,12,34,58]])\n",
    "\n",
    "print('Original Array\\n',a)\n",
    "print('\\n~~~~~~~~~~~~~~~~~~~~~~~~~~~\\n')\n",
    "\n",
    "print('Axis 0 sort (Column wise Sort)')\n",
    "print(np.sort(a, axis=0))\n",
    "print('\\n~~~~~~~~~~~~~~~~~~~~~~~~~~~\\n')\n",
    "\n",
    "print('Axis 1 sort (Row wise Sort)')\n",
    "print(np.sort(a, axis=1))\n",
    "print('\\n~~~~~~~~~~~~~~~~~~~~~~~~~~~\\n')"
   ]
  },
  {
   "cell_type": "code",
   "execution_count": 95,
   "metadata": {},
   "outputs": [
    {
     "name": "stdout",
     "output_type": "stream",
     "text": [
      "[[-4 -3 -2 -1]\n",
      " [-9 -8 -7 -5]]\n",
      "[[4 3 2 1]\n",
      " [9 8 7 5]]\n"
     ]
    }
   ],
   "source": [
    "# Sort in descending order\n",
    "\n",
    "a = np.array([[2,3,1,4],[7,9,5,8]])\n",
    "print(np.sort(-a)) ## this will do an ascending sort on the negated array which results in a descending sort\n",
    "print(-np.sort(-a))"
   ]
  },
  {
   "cell_type": "code",
   "execution_count": 96,
   "metadata": {
    "id": "pMwjMOKv3weI"
   },
   "outputs": [
    {
     "name": "stdout",
     "output_type": "stream",
     "text": [
      "Argsort returns index:  [ 8  7 11  3 12  2  4  0  1  5 10  9  6]\n",
      "Sorted Array         :  [-74  -6  -2   0   0   1   2  10  12  12  13  45  53]\n"
     ]
    }
   ],
   "source": [
    "# argsort for 1d array: Sort the values and give the index of the sorted element in the original array\n",
    "\n",
    "a = np.array([10, 12, 1, 0, 2, 12, 53, -6, -74, 45, 13, -2, 0]) \n",
    "    \n",
    "x=np.argsort(a) ### similar to doing np.sort(a)\n",
    "print(\"Argsort returns index: \", x)\n",
    "print(\"Sorted Array         : \", a[x])"
   ]
  },
  {
   "cell_type": "code",
   "execution_count": 97,
   "metadata": {
    "id": "9R97PJbOjoov"
   },
   "outputs": [
    {
     "name": "stdout",
     "output_type": "stream",
     "text": [
      "Original Array:\n",
      " [[ 1 10 12]\n",
      " [ 2 13  1]\n",
      " [ 6 15  5]]\n",
      "Ascending Order :\n",
      " [[0 1 2]\n",
      " [2 0 1]\n",
      " [2 0 1]]\n",
      "Descending Order:\n",
      " [[2 1 0]\n",
      " [1 0 2]\n",
      " [1 0 2]]\n"
     ]
    }
   ],
   "source": [
    "# argsort for 2d array\n",
    "\n",
    "b = np.array([[1,10,12],[2,13,1],[6,15,5]])\n",
    "print(\"Original Array:\\n\", b)\n",
    "print(\"Ascending Order :\\n\", np.argsort(b))     # Ascending Order\n",
    "print(\"Descending Order:\\n\", np.argsort(-b))    # Descending Order"
   ]
  },
  {
   "cell_type": "code",
   "execution_count": 98,
   "metadata": {
    "colab": {
     "base_uri": "https://localhost:8080/"
    },
    "id": "-TUZqnoVgpKU",
    "outputId": "d77f0f53-33c0-48a4-e836-95329d5975a3"
   },
   "outputs": [
    {
     "name": "stdout",
     "output_type": "stream",
     "text": [
      "53\n",
      "15\n"
     ]
    }
   ],
   "source": [
    "# max: return the maximum element\n",
    "\n",
    "print(np.max(a))  \n",
    "print(np.max(b))"
   ]
  },
  {
   "cell_type": "code",
   "execution_count": 99,
   "metadata": {
    "colab": {
     "base_uri": "https://localhost:8080/"
    },
    "id": "g8gHyfAIgtQz",
    "outputId": "21bdd52d-cbc0-4c0d-cbb5-c57ae714f5a1"
   },
   "outputs": [
    {
     "name": "stdout",
     "output_type": "stream",
     "text": [
      "6\n",
      "7\n"
     ]
    }
   ],
   "source": [
    "# argmax: returns the index of the maximum element\n",
    "\n",
    "print(np.argmax(a))  \n",
    "print(np.argmax(b))"
   ]
  },
  {
   "cell_type": "code",
   "execution_count": 100,
   "metadata": {
    "id": "MbLkFSt63weJ"
   },
   "outputs": [
    {
     "name": "stdout",
     "output_type": "stream",
     "text": [
      "-74\n",
      "1\n"
     ]
    }
   ],
   "source": [
    "# min: return the minimum element\n",
    "\n",
    "print(np.min(a))  \n",
    "print(np.min(b))"
   ]
  },
  {
   "cell_type": "code",
   "execution_count": 101,
   "metadata": {},
   "outputs": [
    {
     "name": "stdout",
     "output_type": "stream",
     "text": [
      "8\n",
      "0\n"
     ]
    }
   ],
   "source": [
    "# argmin: returns the index of the minimum element\n",
    "\n",
    "print(np.argmin(a))  \n",
    "print(np.argmin(b))"
   ]
  },
  {
   "cell_type": "markdown",
   "metadata": {},
   "source": [
    "# +-+-+-+-+-+-+-+-+-+-+-+-+-+-+-+-+-+-+-+-+-+-+-+-+-+-+-+-+-+-+-+-+-+-+-+-+-"
   ]
  },
  {
   "cell_type": "markdown",
   "metadata": {},
   "source": [
    "# NUMPY SUMMARY"
   ]
  },
  {
   "cell_type": "code",
   "execution_count": 102,
   "metadata": {},
   "outputs": [
    {
     "name": "stdout",
     "output_type": "stream",
     "text": [
      "Length=5x3 Integer Array filled with Zeros: \n",
      " [[0 0 0]\n",
      " [0 0 0]\n",
      " [0 0 0]\n",
      " [0 0 0]\n",
      " [0 0 0]]\n",
      "\n",
      "3x5 Float Array filled with Ones: \n",
      " [[1. 1. 1. 1. 1.]\n",
      " [1. 1. 1. 1. 1.]\n",
      " [1. 1. 1. 1. 1.]]\n",
      "\n",
      "3x5 Float Array filled with 3.14: \n",
      " [[3.14 3.14 3.14 3.14 3.14]\n",
      " [3.14 3.14 3.14 3.14 3.14]\n",
      " [3.14 3.14 3.14 3.14 3.14]]\n"
     ]
    }
   ],
   "source": [
    "# Array Creation\n",
    "\n",
    "print(\"Length=5x3 Integer Array filled with Zeros: \\n\", np.zeros((5, 3), dtype=int))\n",
    "print(\"\\n3x5 Float Array filled with Ones: \\n\", np.ones((3,5), dtype=float))\n",
    "print(\"\\n3x5 Float Array filled with 3.14: \\n\", np.full((3,5), 3.14))"
   ]
  },
  {
   "cell_type": "code",
   "execution_count": 103,
   "metadata": {},
   "outputs": [
    {
     "name": "stdout",
     "output_type": "stream",
     "text": [
      "Array filled with sequence (0 to 20 step 2): \n",
      " [ 0  2  4  6  8 10 12 14 16 18]\n",
      "\n",
      "Array of 5 values evenly spaced between 0 and 1: \n",
      " [0.   0.25 0.5  0.75 1.  ]\n",
      "\n",
      "3x3 Array of uniformly distributed random values between 0 and 1: \n",
      " [[0.20880249 0.57450135 0.80368373]\n",
      " [0.1760131  0.30891973 0.84348052]\n",
      " [0.14288477 0.66762921 0.14714072]]\n",
      "\n",
      "3x3 Array of normally distributed random values with mean=0 & SD=1: \n",
      " [[ 0.59388945  0.18276166 -0.57601528]\n",
      " [ 0.6296638  -0.04311955 -1.20229992]\n",
      " [-0.85725825  0.06410451 -0.25602992]]\n"
     ]
    }
   ],
   "source": [
    "print(\"Array filled with sequence (0 to 20 step 2): \\n\", np.arange(0, 20, 2))\n",
    "print(\"\\nArray of 5 values evenly spaced between 0 and 1: \\n\", np.linspace(0, 1, 5))\n",
    "print(\"\\n3x3 Array of uniformly distributed random values between 0 and 1: \\n\", np.random.random((3, 3)))\n",
    "print(\"\\n3x3 Array of normally distributed random values with mean=0 & SD=1: \\n\", np.random.normal(0, 1, (3, 3)))"
   ]
  },
  {
   "cell_type": "code",
   "execution_count": 104,
   "metadata": {},
   "outputs": [
    {
     "name": "stdout",
     "output_type": "stream",
     "text": [
      "3x3 Array of random integers in the interval 0 and 10: \n",
      " [[8 1 0]\n",
      " [1 8 6]\n",
      " [6 8 2]]\n",
      "\n",
      "3x3 Identity Matrix: \n",
      " [[1. 0. 0.]\n",
      " [0. 1. 0.]\n",
      " [0. 0. 1.]]\n"
     ]
    }
   ],
   "source": [
    "print(\"3x3 Array of random integers in the interval 0 and 10: \\n\", np.random.randint(0, 10, (3, 3)))\n",
    "print(\"\\n3x3 Identity Matrix: \\n\", np.eye(3))"
   ]
  },
  {
   "cell_type": "code",
   "execution_count": 105,
   "metadata": {},
   "outputs": [
    {
     "name": "stdout",
     "output_type": "stream",
     "text": [
      "Original Array:  [0 1 2 3 4 5 6 7 8 9]\n",
      "Slicing 1-D Array (0 to 5):  [0 1 2 3 4]\n",
      "Slicing 1-D Array (Alternate Elements):  [0 2 4 6 8]\n",
      "Slicing 1-D Array (Alternate Elements starting at 1):  [1 3 5 7 9]\n",
      "Reverse an Array:  [9 8 7 6 5 4 3 2 1 0]\n",
      "Reverse alternate elements of an array from index 5:  [5 3 1]\n"
     ]
    }
   ],
   "source": [
    "# 1-D Array Indexing and Slicing\n",
    "\n",
    "x=np.arange(10)\n",
    "print(\"Original Array: \", x)\n",
    "print(\"Slicing 1-D Array (0 to 5): \", x[0:5])\n",
    "print(\"Slicing 1-D Array (Alternate Elements): \", x[::2])\n",
    "print(\"Slicing 1-D Array (Alternate Elements starting at 1): \", x[1::2])\n",
    "print(\"Reverse an Array: \", x[::-1])\n",
    "print(\"Reverse alternate elements of an array from index 5: \", x[5::-2])"
   ]
  },
  {
   "cell_type": "code",
   "execution_count": 106,
   "metadata": {},
   "outputs": [
    {
     "name": "stdout",
     "output_type": "stream",
     "text": [
      "Original Array: \n",
      " [[0 1 2]\n",
      " [1 2 3]\n",
      " [2 3 4]\n",
      " [3 4 5]\n",
      " [4 5 6]]\n",
      "\n",
      "Slicing 2-D Array 2 rows, 3 columns: \n",
      " [[0 1 2]\n",
      " [1 2 3]]\n",
      "\n",
      "Slicing 2-D Array All rows, Alternate columns: \n",
      " [[0 2]\n",
      " [1 3]\n",
      " [2 4]\n",
      " [3 5]\n",
      " [4 6]]\n",
      "\n",
      "Reverse 2-D Array: \n",
      " [[6 5 4]\n",
      " [5 4 3]\n",
      " [4 3 2]\n",
      " [3 2 1]\n",
      " [2 1 0]]\n"
     ]
    }
   ],
   "source": [
    "# 2-D Array Indexing and Slicing\n",
    "\n",
    "x2=np.array([(i, i+1, i+2) for i in range(5)])\n",
    "print(\"Original Array: \\n\", x2)\n",
    "print(\"\\nSlicing 2-D Array 2 rows, 3 columns: \\n\", x2[0:2, 0:3])\n",
    "print(\"\\nSlicing 2-D Array All rows, Alternate columns: \\n\", x2[:, 0::2])\n",
    "print(\"\\nReverse 2-D Array: \\n\", x2[::-1, ::-1])"
   ]
  },
  {
   "cell_type": "code",
   "execution_count": 107,
   "metadata": {},
   "outputs": [
    {
     "name": "stdout",
     "output_type": "stream",
     "text": [
      "Original Array: \n",
      " [[0 1 2]\n",
      " [1 2 3]\n",
      " [2 3 4]\n",
      " [3 4 5]\n",
      " [4 5 6]]\n",
      "Second Column of 2-D Array: \n",
      " [[1]\n",
      " [2]\n",
      " [3]\n",
      " [4]\n",
      " [5]]\n",
      "\n",
      "Second Column of 2-D Array as a 1-D Array: \n",
      " [1 2 3 4 5]\n",
      "\n",
      "Third row of 2-D Array: \n",
      " [[2 3 4]]\n",
      "\n",
      "Third row of 2-D Array as a 1-D Array: \n",
      " [2 3 4]\n"
     ]
    }
   ],
   "source": [
    "print(\"Original Array: \\n\", x2)\n",
    "print(\"Second Column of 2-D Array: \\n\", x2[:, 1:2])\n",
    "print(\"\\nSecond Column of 2-D Array as a 1-D Array: \\n\", x2[:, 1])\n",
    "print(\"\\nThird row of 2-D Array: \\n\", x2[2:3, :])\n",
    "print(\"\\nThird row of 2-D Array as a 1-D Array: \\n\", x2[2, :])"
   ]
  },
  {
   "cell_type": "code",
   "execution_count": 108,
   "metadata": {},
   "outputs": [
    {
     "name": "stdout",
     "output_type": "stream",
     "text": [
      "\n",
      "Reshape 5x3 matrix to 3x5 matrix: \n",
      " [[0 1 2 1 2]\n",
      " [3 2 3 4 3]\n",
      " [4 5 4 5 6]]\n",
      "\n",
      "Reshape 5x3 matrix to 1-D Array of length 15: \n",
      " [0 1 2 1 2 3 2 3 4 3 4 5 4 5 6]\n",
      "\n",
      "Reshape 5x3 matrix to 2-D matrix of size 1x15: \n",
      " [[0 1 2 1 2 3 2 3 4 3 4 5 4 5 6]]\n",
      "\n",
      "Reshape 5x3 matrix to 2-D matrix of size 15x1: \n",
      " [[0]\n",
      " [1]\n",
      " [2]\n",
      " [1]\n",
      " [2]\n",
      " [3]\n",
      " [2]\n",
      " [3]\n",
      " [4]\n",
      " [3]\n",
      " [4]\n",
      " [5]\n",
      " [4]\n",
      " [5]\n",
      " [6]]\n"
     ]
    }
   ],
   "source": [
    "# Reshape Array\n",
    "\n",
    "print(\"\\nReshape 5x3 matrix to 3x5 matrix: \\n\", x2.reshape(3,5))\n",
    "print(\"\\nReshape 5x3 matrix to 1-D Array of length 15: \\n\", x2.reshape(15))\n",
    "x3 = x2.reshape(15)\n",
    "print(\"\\nReshape 5x3 matrix to 2-D matrix of size 1x15: \\n\", x3[np.newaxis, :])\n",
    "print(\"\\nReshape 5x3 matrix to 2-D matrix of size 15x1: \\n\", x3[:, np.newaxis])"
   ]
  },
  {
   "cell_type": "code",
   "execution_count": 109,
   "metadata": {},
   "outputs": [
    {
     "name": "stdout",
     "output_type": "stream",
     "text": [
      "Array 1: \n",
      " [1 2 3 4 5]\n",
      "\n",
      "Array 2: \n",
      " [ 6  7  8  9 10]\n",
      "\n",
      "Array 3: \n",
      " [11 12 13 14 15]\n",
      "\n",
      "Concatenated Array: \n",
      " [ 1  2  3  4  5  6  7  8  9 10 11 12 13 14 15]\n"
     ]
    }
   ],
   "source": [
    "# Concatenate 1-D Arrays\n",
    "\n",
    "x=np.array([1,2,3,4,5])\n",
    "y=np.array([6,7,8,9,10])\n",
    "z=np.array([11,12,13,14,15])\n",
    "print(\"Array 1: \\n\", x)\n",
    "print(\"\\nArray 2: \\n\", y)\n",
    "print(\"\\nArray 3: \\n\", z)\n",
    "print(\"\\nConcatenated Array: \\n\", np.concatenate([x,y,z]))"
   ]
  },
  {
   "cell_type": "code",
   "execution_count": 110,
   "metadata": {},
   "outputs": [
    {
     "name": "stdout",
     "output_type": "stream",
     "text": [
      "Array 1: \n",
      " [[1 2 3]\n",
      " [4 5 6]]\n",
      "\n",
      "Array 2: \n",
      " [[ 7  8  9]\n",
      " [10 11 12]]\n",
      "\n",
      "Concatenated Array (along axis 0): \n",
      " [[ 1  2  3]\n",
      " [ 4  5  6]\n",
      " [ 7  8  9]\n",
      " [10 11 12]]\n",
      "\n",
      "Concatenated Array (along axis 1): \n",
      " [[ 1  2  3  7  8  9]\n",
      " [ 4  5  6 10 11 12]]\n"
     ]
    }
   ],
   "source": [
    "# Concatenate 2-D Arrays\n",
    "\n",
    "x=np.array([[1,2,3], [4,5,6]])\n",
    "y=np.array([[7,8,9], [10,11,12]])\n",
    "print(\"Array 1: \\n\", x)\n",
    "print(\"\\nArray 2: \\n\", y)\n",
    "print(\"\\nConcatenated Array (along axis 0): \\n\", np.concatenate([x,y]))         # Default axis=0\n",
    "print(\"\\nConcatenated Array (along axis 1): \\n\", np.concatenate([x,y], axis=1))"
   ]
  },
  {
   "cell_type": "code",
   "execution_count": 111,
   "metadata": {},
   "outputs": [
    {
     "name": "stdout",
     "output_type": "stream",
     "text": [
      "\n",
      "V-Stack: \n",
      " [[ 1  2  3  4  5]\n",
      " [ 6  7  8  9 10]\n",
      " [11 12 13 14 15]]\n",
      "\n",
      "H-Stack: \n",
      " [[ 6  7  8  9 10 99]\n",
      " [11 12 13 14 15 59]]\n",
      "\n",
      "D-Stack: \n",
      " [[[1 5]\n",
      "  [2 4]\n",
      "  [3 3]\n",
      "  [4 2]\n",
      "  [5 1]]]\n"
     ]
    }
   ],
   "source": [
    "# vstack, hstack and dstack\n",
    "\n",
    "x=np.array([1,2,3,4,5])\n",
    "x1=np.array([5,4,3,2,1])\n",
    "y=np.array([[6,7,8,9,10], [11,12,13,14,15]])\n",
    "z=np.array([[99], [59]])\n",
    "\n",
    "print(\"\\nV-Stack: \\n\", np.vstack([x,y]))\n",
    "print(\"\\nH-Stack: \\n\", np.hstack([y,z]))\n",
    "print(\"\\nD-Stack: \\n\", np.dstack([x,x1]))"
   ]
  },
  {
   "cell_type": "code",
   "execution_count": 112,
   "metadata": {},
   "outputs": [
    {
     "name": "stdout",
     "output_type": "stream",
     "text": [
      "\n",
      "Splitted Arrays: \n",
      " [1 2] [3 4 5 6] [7 8 9]\n",
      "\n",
      "~~~~~~~~~~~~~~~~~~~~~~~~~~~~~~~~~\n",
      "\n",
      "\n",
      "Original Array: \n",
      " [[ 0  1  2  3]\n",
      " [ 4  5  6  7]\n",
      " [ 8  9 10 11]\n",
      " [12 13 14 15]\n",
      " [16 17 18 19]]\n",
      "\n",
      "Splitted Arrays (vsplit): \n",
      " [[ 0  1  2  3]\n",
      " [ 4  5  6  7]\n",
      " [ 8  9 10 11]] \n",
      "\n",
      " [[12 13 14 15]\n",
      " [16 17 18 19]]\n",
      "\n",
      "Splitted Arrays (hsplit): \n",
      " [[ 0  1  2]\n",
      " [ 4  5  6]\n",
      " [ 8  9 10]\n",
      " [12 13 14]\n",
      " [16 17 18]] \n",
      "\n",
      " [[ 3]\n",
      " [ 7]\n",
      " [11]\n",
      " [15]\n",
      " [19]]\n"
     ]
    }
   ],
   "source": [
    "# Splitting of Arrays\n",
    "\n",
    "x=[1,2,3,4,5,6,7,8,9]\n",
    "x1,x2,x3=np.split(x,[2,6])     # Splits by values 2 and 6 to form 3 arrays\n",
    "print(\"\\nSplitted Arrays: \\n\", x1, x2, x3)\n",
    "print('\\n~~~~~~~~~~~~~~~~~~~~~~~~~~~~~~~~~\\n')\n",
    "\n",
    "x=np.arange(20).reshape((5,4))\n",
    "print(\"\\nOriginal Array: \\n\", x)\n",
    "x1, y1 = np.vsplit(x, [3])   # Splits the (5,4) array vertically into 2 arrays of shape (3,4) and (2,4)                       \n",
    "print(\"\\nSplitted Arrays (vsplit): \\n\", x1, \"\\n\\n\", y1)\n",
    "\n",
    "x2, y2 = np.hsplit(x, [3])   # Splits the (5,4) array horizontally into 2 arrays of shape (5,3) and (5,1)\n",
    "print(\"\\nSplitted Arrays (hsplit): \\n\", x2, \"\\n\\n\", y2)"
   ]
  },
  {
   "cell_type": "code",
   "execution_count": 113,
   "metadata": {},
   "outputs": [
    {
     "name": "stdout",
     "output_type": "stream",
     "text": [
      "\n",
      "Input Matrix:\n",
      " [1 2 3 4 5]\n",
      "\n",
      "Add and Reduce:\n",
      " 15\n",
      "\n",
      "Multiply and Reduce:\n",
      " 120\n",
      "\n",
      "Add and Accumulate:\n",
      " [ 1  3  6 10 15]\n",
      "\n",
      "Multiply and Accumulate:\n",
      " [  1   2   6  24 120]\n"
     ]
    }
   ],
   "source": [
    "# Add/multiply and reduce/accumulate\n",
    "\n",
    "x=np.arange(1,6)\n",
    "print(\"\\nInput Matrix:\\n\", x)\n",
    "print(\"\\nAdd and Reduce:\\n\", np.add.reduce(x))                     # Sums up all the elements in the array\n",
    "print(\"\\nMultiply and Reduce:\\n\", np.multiply.reduce(x))           # Multiplies all the elements in the array\n",
    "print(\"\\nAdd and Accumulate:\\n\", np.add.accumulate(x))             # Cumulative sum of all the elements\n",
    "print(\"\\nMultiply and Accumulate:\\n\", np.multiply.accumulate(x))   # Cumulative Sum of Products of all elements"
   ]
  },
  {
   "cell_type": "code",
   "execution_count": 114,
   "metadata": {},
   "outputs": [
    {
     "name": "stdout",
     "output_type": "stream",
     "text": [
      "\n",
      "Matrix A: \n",
      " [[0]\n",
      " [1]\n",
      " [2]]\n",
      "\n",
      "Matrix B: \n",
      " [0 1 2]\n",
      "\n",
      "Sum of A and B: \n",
      " [[0 1 2]\n",
      " [1 2 3]\n",
      " [2 3 4]]\n",
      "\n",
      "Product of A and B: \n",
      " [[0 0 0]\n",
      " [0 1 2]\n",
      " [0 2 4]]\n"
     ]
    }
   ],
   "source": [
    "# Broadcasting\n",
    "\n",
    "a=np.arange(3).reshape(3,1)\n",
    "b=np.arange(3)\n",
    "print(\"\\nMatrix A: \\n\", a)\n",
    "print(\"\\nMatrix B: \\n\", b)\n",
    "print(\"\\nSum of A and B: \\n\", a+b)\n",
    "print(\"\\nProduct of A and B: \\n\", a*b)"
   ]
  },
  {
   "cell_type": "markdown",
   "metadata": {},
   "source": [
    "# Ravel"
   ]
  },
  {
   "cell_type": "markdown",
   "metadata": {},
   "source": [
    "The numpy.ravel() function returns contiguous flattened array (1D array with all the input-array elements and with the same type as it)."
   ]
  },
  {
   "cell_type": "code",
   "execution_count": 115,
   "metadata": {},
   "outputs": [
    {
     "name": "stdout",
     "output_type": "stream",
     "text": [
      "Original Array:\n",
      " [[1 2 3]\n",
      " [3 4 5]\n",
      " [5 6 7]]\n",
      "After Ravel:  [1 2 3 3 4 5 5 6 7]\n"
     ]
    }
   ],
   "source": [
    "# Ravel: convert one numpy array into a single column\n",
    "\n",
    "x= np.array([(1,2,3),(3,4,5),(5,6,7)])\n",
    "print(\"Original Array:\\n\", x)\n",
    "print(\"After Ravel: \", x.ravel())"
   ]
  },
  {
   "cell_type": "code",
   "execution_count": 116,
   "metadata": {},
   "outputs": [
    {
     "name": "stdout",
     "output_type": "stream",
     "text": [
      "[[1.         1.41421356 1.73205081]\n",
      " [1.73205081 2.         2.23606798]]\n",
      "1.2909944487358056\n",
      "[[ 2  4  6]\n",
      " [ 6  8 10]]\n",
      "[[0 0 0]\n",
      " [0 0 0]]\n",
      "[[ 1  4  9]\n",
      " [ 9 16 25]]\n",
      "[[1. 1. 1.]\n",
      " [1. 1. 1.]]\n"
     ]
    }
   ],
   "source": [
    "# Mathematical functions\n",
    "a=np.array([(1,2,3),(3,4,5,)])\n",
    "print(np.sqrt(a))\n",
    "print(np.std(a))\n",
    "\n",
    "x= np.array([(1,2,3),(3,4,5)])\n",
    "y= np.array([(1,2,3),(3,4,5)])\n",
    "print(x+y)\n",
    "print(x-y)\n",
    "print(x*y)\n",
    "print(x/y)"
   ]
  },
  {
   "cell_type": "code",
   "execution_count": 117,
   "metadata": {},
   "outputs": [
    {
     "name": "stdout",
     "output_type": "stream",
     "text": [
      "1\n",
      "3\n",
      "6\n",
      "[3 4 5]\n",
      "[3 5]\n"
     ]
    }
   ],
   "source": [
    "# max/min/sum\n",
    "a= np.array([1,2,3])\n",
    "print(a.min())\n",
    "print(a.max())\n",
    "print(a.sum())\n",
    "\n",
    "a= np.array([(1,2,3),(3,4,5)])\n",
    "print(a.max(axis=0))\n",
    "print(a.max(axis=1))"
   ]
  },
  {
   "cell_type": "code",
   "execution_count": 118,
   "metadata": {},
   "outputs": [
    {
     "name": "stdout",
     "output_type": "stream",
     "text": [
      "[1.         1.22222222 1.44444444 1.66666667 1.88888889 2.11111111\n",
      " 2.33333333 2.55555556 2.77777778 3.        ]\n"
     ]
    }
   ],
   "source": [
    "# Linspace\n",
    "a=np.linspace(1,3,10)\n",
    "print(a)\n",
    "# operation in python numpy which returns evenly spaced numbers over a specified interval. "
   ]
  },
  {
   "cell_type": "markdown",
   "metadata": {},
   "source": [
    "Numpy Documentation: https://numpy.org/doc/stable/index.html"
   ]
  },
  {
   "cell_type": "markdown",
   "metadata": {},
   "source": [
    "# Meshgrid"
   ]
  },
  {
   "cell_type": "markdown",
   "metadata": {},
   "source": [
    "The numpy module of Python provides meshgrid() function for creating a rectangular grid with the help of the given 1-D arrays that represent the Matrix indexing or Cartesian indexing. MATLAB somewhat inspires the meshgrid() function. From the coordinate vectors, the meshgrid() function returns the coordinate matrices."
   ]
  },
  {
   "attachments": {
    "image.png": {
     "image/png": "[encoded data removed]"
    }
   },
   "cell_type": "markdown",
   "metadata": {},
   "source": [
    "![image.png](attachment:image.png)"
   ]
  },
  {
   "cell_type": "markdown",
   "metadata": {},
   "source": [
    "In the above figure, the x-axis is ranging from -5 to 5, and the y-axis is ranging from -5 to 5. So, there is a total of 121 points marked in the figure, each with x-coordinate and y-coordinate. For any line parallel to the x-axis, the x-coordinates of the marked points are -5, -4, -3, -2, -1, 0, 1, 2, 3, 4, and 5 respectively. On the other hand, for any line parallel to the y-axis, the y-coordinates of the marked points from bottom to top are -5, -4, -3, -2, -1, 0, 1, 2, 3, 4, and 5 respectively."
   ]
  },
  {
   "cell_type": "code",
   "execution_count": 119,
   "metadata": {},
   "outputs": [
    {
     "name": "stdout",
     "output_type": "stream",
     "text": [
      "[4 8 6 3] \n",
      "\n",
      "[8 7 6 5 4] \n",
      "\n",
      "[[4 8 6 3]\n",
      " [4 8 6 3]\n",
      " [4 8 6 3]\n",
      " [4 8 6 3]\n",
      " [4 8 6 3]] \n",
      "\n",
      "[[8 8 8 8]\n",
      " [7 7 7 7]\n",
      " [6 6 6 6]\n",
      " [5 5 5 5]\n",
      " [4 4 4 4]] \n",
      "\n"
     ]
    }
   ],
   "source": [
    "# Meshgrid: Return coordinate matrices from coordinate vectors\n",
    "\n",
    "x = np.array([4, 8, 6, 3])   # 1-D Array of length 4\n",
    "y = np.array([8, 7, 6, 5, 4])   # 1-D Array of length 5\n",
    "\n",
    "x1, y1 = np.meshgrid(x, y) # x1 and y1 are 2-D Arrays of size (5x4)\n",
    "\n",
    "print(x, '\\n')\n",
    "print(y, '\\n')\n",
    "\n",
    "print(x1, '\\n')\n",
    "print(y1, '\\n')\n",
    "\n",
    "# Meshgrid returns 2 (5x4) arrays, one of which has all row values same and the other one has all column values same"
   ]
  },
  {
   "cell_type": "markdown",
   "metadata": {},
   "source": [
    "Why is Meshgrid used?\n",
    "\n",
    "Meshgrid is used to create rectangular structures from the given arrays which represent the indexing in the matrix. We can also create mesh surface plots from the specified functions or arrays which have different properties to customize the plot. They can be plotted in both two dimensional and three-dimensional space."
   ]
  },
  {
   "cell_type": "code",
   "execution_count": 120,
   "metadata": {},
   "outputs": [
    {
     "data": {
      "image/png": "[encoded data removed]",
      "text/plain": [
       "<Figure size 432x288 with 1 Axes>"
      ]
     },
     "metadata": {
      "needs_background": "light"
     },
     "output_type": "display_data"
    }
   ],
   "source": [
    "import numpy as np  \n",
    "import matplotlib.pyplot as plt  \n",
    "a = np.arange(-10, 10, 0.1)  \n",
    "b = np.arange(-10, 10, 0.1)  \n",
    "xa, xb = np.meshgrid(a, b)  \n",
    "z = np.sin(xa**2 + xb**2) / (xa**2 + xb**2)  \n",
    "h = plt.contourf(a,b,z)  \n",
    "plt.show()  "
   ]
  },
  {
   "cell_type": "markdown",
   "metadata": {},
   "source": [
    "Further Reading for Data Scientists:\n",
    "https://towardsdatascience.com/20-of-numpy-functions-that-data-scientists-use-80-of-the-time-d8bd9c7d144b"
   ]
  },
  {
   "cell_type": "code",
   "execution_count": null,
   "metadata": {},
   "outputs": [],
   "source": []
  },
  {
   "cell_type": "code",
   "execution_count": null,
   "metadata": {},
   "outputs": [],
   "source": []
  },
  {
   "cell_type": "code",
   "execution_count": null,
   "metadata": {},
   "outputs": [],
   "source": []
  }
 ],
 "metadata": {
  "anaconda-cloud": {},
  "colab": {
   "collapsed_sections": [
    "Ey1ABrW83wdv",
    "ZAvhDT2Q3weK",
    "wL-4w7L-3wgB"
   ],
   "name": "Data_Handling_With_Python_Reading_(1) (1).ipynb",
   "provenance": []
  },
  "kernelspec": {
   "display_name": "Python 3 (ipykernel)",
   "language": "python",
   "name": "python3"
  },
  "language_info": {
   "codemirror_mode": {
    "name": "ipython",
    "version": 3
   },
   "file_extension": ".py",
   "mimetype": "text/x-python",
   "name": "python",
   "nbconvert_exporter": "python",
   "pygments_lexer": "ipython3",
   "version": "3.9.7"
  }
 },
 "nbformat": 4,
 "nbformat_minor": 1
}
