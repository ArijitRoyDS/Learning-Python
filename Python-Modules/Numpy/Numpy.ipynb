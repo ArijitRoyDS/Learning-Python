{
 "cells": [
  {
   "cell_type": "markdown",
   "metadata": {},
   "source": [
    "# Module numpy"
   ]
  },
  {
   "cell_type": "markdown",
   "metadata": {},
   "source": [
    "# Session 1"
   ]
  },
  {
   "cell_type": "markdown",
   "metadata": {
    "id": "EXDUNGWW3wcI"
   },
   "source": [
    "In this module we start working towards handling data. We'll discuss package numpy and two dimensional arrays that it lets you create which can evenutally be used to create matrics and data frames.\n",
    "\n",
    "Two dimensional arrays can be understood as list of lists. A bigger list containing multiple lists. Lets create one; that will give you an idea about what are we trying to say:"
   ]
  },
  {
   "cell_type": "code",
   "execution_count": 3,
   "metadata": {
    "id": "bBpGFHNq3wca"
   },
   "outputs": [],
   "source": [
    "# Import the numpy package with the alias name 'np'\n",
    "import numpy as np   \n",
    "import warnings\n",
    "warnings.filterwarnings('ignore')"
   ]
  },
  {
   "cell_type": "markdown",
   "metadata": {
    "id": "GOpSLIOC3wcd"
   },
   "source": [
    "This is written so that we do not see any package warnings in the material and get confused.\n",
    "\n",
    "Now lets begin. We'll start with creating a simple 2D array, which; as you can see is simply a list of lists. You must be wondering then, why dont we simply keep it that way then; as a list of lists? Because a 2D 'array' and its additional supporting functions/attribute are much needed for data handling and do not come with simple lists."
   ]
  },
  {
   "cell_type": "code",
   "execution_count": 2,
   "metadata": {
    "colab": {
     "base_uri": "https://localhost:8080/"
    },
    "id": "fbY7stFI3wcf",
    "outputId": "38da49c4-c0f7-4662-f8a5-b2ed72c48cc7"
   },
   "outputs": [
    {
     "name": "stdout",
     "output_type": "stream",
     "text": [
      "[[1 2 3]\n",
      " [4 5 6]\n",
      " [5 6 7]]\n",
      "<class 'numpy.ndarray'>\n",
      "(3, 3)\n"
     ]
    }
   ],
   "source": [
    "# Create a 2D array\n",
    "a = [[1,2,3],[4,5,6],[5,6,7]]        # list of a lists\n",
    "\n",
    "b = np.array(a)                      # converts the list of lists into a numpy 2d array\n",
    "\n",
    "print(b)\n",
    "print(type(b))\n",
    "print(b.shape)"
   ]
  },
  {
   "cell_type": "code",
   "execution_count": null,
   "metadata": {
    "id": "pXDbVVW53wci"
   },
   "outputs": [],
   "source": [
    "\n"
   ]
  },
  {
   "cell_type": "code",
   "execution_count": 3,
   "metadata": {
    "colab": {
     "base_uri": "https://localhost:8080/"
    },
    "id": "BUbOARi03wcj",
    "outputId": "20786bc5-d4a6-4c11-e30f-c7d7ec3b5853"
   },
   "outputs": [
    {
     "name": "stdout",
     "output_type": "stream",
     "text": [
      "[list([1, 2, 3]) list([4, 5, 6, 7, 8])]\n",
      "<class 'numpy.ndarray'>\n",
      "(2,)\n"
     ]
    }
   ],
   "source": [
    "# Question-1 : Can we create a numpy arrays with lists of different sizes \n",
    "# Answer-1   : Not directly, but possible with padding\n",
    "\n",
    "a = [[1,2,3],[4,5,6,7,8]]\n",
    "\n",
    "b = np.array(a)              # no error\n",
    "\n",
    "print(b) \n",
    "print(type(b))\n",
    "print(b.shape)"
   ]
  },
  {
   "cell_type": "code",
   "execution_count": 4,
   "metadata": {
    "colab": {
     "base_uri": "https://localhost:8080/"
    },
    "id": "qCtdAzXK_Ptx",
    "outputId": "3cc1adc0-bca0-47fa-c9f7-c54f7cf4ba20"
   },
   "outputs": [
    {
     "name": "stdout",
     "output_type": "stream",
     "text": [
      "[['1' '2' 'True']\n",
      " ['2.3' '6' '(3+4j)']]\n",
      "(2, 3)\n",
      "<class 'numpy.ndarray'>\n",
      "<U64\n"
     ]
    }
   ],
   "source": [
    "# Question-2 : Can the numpy arrays have mixed datatypes \n",
    "# Amswer-2   : Not directly, everything will be converted to String \n",
    "\n",
    "a = [[1,2,True],[2.3,'6',3+4j]]\n",
    "\n",
    "b = np.array(a)                 # no error, Numpy arrays will hold only elements of only one type\n",
    "\n",
    "print(b)  \n",
    "print(b.shape)\n",
    "print(type(b)) # nd array\n",
    "print(b.dtype)"
   ]
  },
  {
   "cell_type": "code",
   "execution_count": 5,
   "metadata": {},
   "outputs": [
    {
     "name": "stdout",
     "output_type": "stream",
     "text": [
      "[[1 2 True]\n",
      " [2.3 '6' (3+4j)]]\n",
      "(2, 3)\n",
      "<class 'numpy.ndarray'>\n",
      "object\n"
     ]
    }
   ],
   "source": [
    "# However if we specify the datatype as 'o', the array can hold heterogenous datatypes\n",
    "\n",
    "a = [[1,2,True],[2.3,'6',3+4j]]\n",
    "\n",
    "b = np.array(a, dtype='O')                 \n",
    "\n",
    "print(b)  \n",
    "print(b.shape)\n",
    "print(type(b)) # nd array\n",
    "print(b.dtype)"
   ]
  },
  {
   "cell_type": "code",
   "execution_count": 6,
   "metadata": {},
   "outputs": [
    {
     "name": "stdout",
     "output_type": "stream",
     "text": [
      "[3 6 9 'x' 'y' 'app' 'data' 'info']\n",
      "object\n"
     ]
    }
   ],
   "source": [
    "nparr1 = np.array([3, 6, 9,'x','y'],dtype='O')\n",
    " \n",
    " \n",
    "nparr2 = np.array(['app', 'data', 'info'])\n",
    " \n",
    " \n",
    "resarr = np.concatenate([nparr1, nparr2])\n",
    " \n",
    "print(resarr)\n",
    "print(resarr.dtype)"
   ]
  },
  {
   "cell_type": "code",
   "execution_count": 7,
   "metadata": {
    "colab": {
     "base_uri": "https://localhost:8080/"
    },
    "id": "lzITiGd23wck",
    "outputId": "d09ba284-edf0-4b1d-aae8-0f5499efd1cb"
   },
   "outputs": [
    {
     "name": "stdout",
     "output_type": "stream",
     "text": [
      "[[1.    2.001 3.   ]\n",
      " [4.    5.2   6.   ]]\n",
      "(2, 3)\n",
      "<class 'numpy.ndarray'>\n",
      "float64\n"
     ]
    }
   ],
   "source": [
    "# Question-3 : What happens if we give float and int together?\n",
    "# Answer-3   : All integers will be represented as a number followed by a decimal (float) but no value after the decimal.\n",
    "#              If the decimal part is missing or it is 0, it will shown as 6. instead of 6.0\n",
    "\n",
    "a = [[1,2.001,3],[4,5.2,6.0]]\n",
    "\n",
    "b = np.array(a)\n",
    "\n",
    "print(b)\n",
    "print(b.shape)\n",
    "print(type(b))\n",
    "print(b.dtype)"
   ]
  },
  {
   "cell_type": "markdown",
   "metadata": {
    "id": "rdVZBcbV3wcm"
   },
   "source": [
    "You can determine dimension of array with attribute shape"
   ]
  },
  {
   "cell_type": "code",
   "execution_count": 8,
   "metadata": {
    "colab": {
     "base_uri": "https://localhost:8080/"
    },
    "id": "jXu-2_hq3wcn",
    "outputId": "aaa57c07-b8e9-4456-f086-a66a5389344e"
   },
   "outputs": [
    {
     "data": {
      "text/plain": [
       "(2, 3)"
      ]
     },
     "execution_count": 8,
     "metadata": {},
     "output_type": "execute_result"
    }
   ],
   "source": [
    "b.shape # returns the shape of the array  (No of Rows, No of Columns)               "
   ]
  },
  {
   "cell_type": "markdown",
   "metadata": {
    "id": "i8dVzJgo3wco"
   },
   "source": [
    "Here the first number represents how many internal lists we have and second number represents how many members these internal lists have. Individual elements of these arrays can be accessed by passing indices in square brackets. First represents, which internal list we want to access [index starts with 0] and which member of the said list we want to access is represented by the second index. Lets see few examples "
   ]
  },
  {
   "cell_type": "code",
   "execution_count": 9,
   "metadata": {
    "colab": {
     "base_uri": "https://localhost:8080/"
    },
    "id": "-y6zzKc1CG8m",
    "outputId": "43aa7bad-ba04-4c7f-e5cc-7884bf4ff604"
   },
   "outputs": [
    {
     "name": "stdout",
     "output_type": "stream",
     "text": [
      "[[1 2 3]\n",
      " [4 5 6]\n",
      " [7 8 9]\n",
      " [2 4 6]\n",
      " [3 6 9]] \n",
      "\n",
      "[1 4 7 2 3] \n",
      "\n",
      "[1 2 3]\n"
     ]
    }
   ],
   "source": [
    "a = [[1,2,3],[4,5,6],[7,8,9],[2,4,6],[3,6,9]]\n",
    "b = np.array(a)\n",
    "print(b, '\\n')\n",
    "print(b[:,0], '\\n')    # Returns all the rows in column index 0\n",
    "print(b[0,:])    # Returns all columns in row index 0"
   ]
  },
  {
   "cell_type": "markdown",
   "metadata": {},
   "source": [
    "# Extract elements from a numpy array using indexing"
   ]
  },
  {
   "cell_type": "code",
   "execution_count": 10,
   "metadata": {},
   "outputs": [
    {
     "name": "stdout",
     "output_type": "stream",
     "text": [
      "[4 5 6]\n"
     ]
    }
   ],
   "source": [
    "# the first index indicates the row index, the second indicates the column in that row\n",
    "print(b[1,:]) "
   ]
  },
  {
   "cell_type": "code",
   "execution_count": 11,
   "metadata": {
    "colab": {
     "base_uri": "https://localhost:8080/"
    },
    "id": "Gtse3tGZ3wcp",
    "outputId": "16b60568-0824-475c-bdff-848908ea510a"
   },
   "outputs": [
    {
     "name": "stdout",
     "output_type": "stream",
     "text": [
      "[[1 2 3]\n",
      " [4 5 6]\n",
      " [7 8 9]\n",
      " [2 4 6]\n",
      " [3 6 9]] \n",
      "\n",
      "[8 9]\n"
     ]
    }
   ],
   "source": [
    "# I want the 2nd row and all the elements from index 1 to 3 (including 1 & excluding 3) in that row\n",
    "\n",
    "print(b, '\\n')\n",
    "print(b[2 , 1:3]) "
   ]
  },
  {
   "cell_type": "code",
   "execution_count": 12,
   "metadata": {},
   "outputs": [
    {
     "name": "stdout",
     "output_type": "stream",
     "text": [
      "1\n",
      "4\n"
     ]
    }
   ],
   "source": [
    "# Extract the first element of the first row\n",
    "print(b[0,0])\n",
    "\n",
    "# Extract the Second element of the Fourth row\n",
    "print(b[3,1])"
   ]
  },
  {
   "cell_type": "code",
   "execution_count": 13,
   "metadata": {},
   "outputs": [
    {
     "name": "stdout",
     "output_type": "stream",
     "text": [
      "<class 'numpy.int32'>\n"
     ]
    }
   ],
   "source": [
    "# Return the Datatype of the element\n",
    "print(type(b[2,1]))"
   ]
  },
  {
   "cell_type": "code",
   "execution_count": 14,
   "metadata": {},
   "outputs": [
    {
     "name": "stdout",
     "output_type": "stream",
     "text": [
      "[[1 2 3]\n",
      " [4 5 6]\n",
      " [7 8 9]\n",
      " [2 4 6]\n",
      " [3 6 9]] \n",
      "\n",
      "[[8 9]\n",
      " [4 6]\n",
      " [6 9]]\n"
     ]
    }
   ],
   "source": [
    "print(b, '\\n')\n",
    "print(b[2:5, 1:3]) # Return the 2nd to 3rd columns from 3rd to 5th rows"
   ]
  },
  {
   "cell_type": "code",
   "execution_count": 15,
   "metadata": {
    "colab": {
     "base_uri": "https://localhost:8080/"
    },
    "id": "EZtU0sZ3Qgy8",
    "outputId": "7d1b113e-b7f5-4905-a1e1-f6661200360a"
   },
   "outputs": [
    {
     "name": "stdout",
     "output_type": "stream",
     "text": [
      "(3, 2, 3)\n",
      "(2, 3)\n",
      "(5,)\n",
      "(5, 1)\n"
     ]
    }
   ],
   "source": [
    "# shape will return the number of rows and number of columns for 2d arrays\n",
    "# 1d array (n,) \n",
    "# 2d arrays (m,n)\n",
    "# 3d arrays (m,n,k) and so on\n",
    "\n",
    "x = [[[1,2,3],[4,5,6]],\n",
    "     [[2,4,8],[3,6,9]],\n",
    "     [[1,4,7],[2,5,8]]]\n",
    "y = np.array(x)\n",
    "print(y.shape)     # (3, 2, 3)\n",
    "\n",
    "e = [[1,2,3],[4,5,6]]\n",
    "f = np.array(e)\n",
    "print(f.shape)     # (2, 3)\n",
    "\n",
    "p = [1,2,3,4,5]\n",
    "q =  np.array(p)\n",
    "print(q.shape)     # (5,)\n",
    "\n",
    "r = [[1],\n",
    "     [2],\n",
    "     [3],\n",
    "     [4],\n",
    "     [5]]\n",
    "s =  np.array(r)\n",
    "print(s.shape)     # (5, 1)"
   ]
  },
  {
   "cell_type": "markdown",
   "metadata": {
    "id": "akvZ4-Eb3wcr"
   },
   "source": [
    "# Creating Assymetric Arrays from a list of lists"
   ]
  },
  {
   "cell_type": "code",
   "execution_count": 16,
   "metadata": {
    "id": "rIfXMuvh3wcs"
   },
   "outputs": [
    {
     "name": "stdout",
     "output_type": "stream",
     "text": [
      "[[1, 2, 3, None], [4, 5, None, None], [6, 7, 8, 9]] \n",
      "\n",
      "[[1 2 3 None]\n",
      " [4 5 None None]\n",
      " [6 7 8 9]]\n"
     ]
    }
   ],
   "source": [
    "# Create the list of lists\n",
    "lst = [[1, 2, 3], [4, 5], [6, 7, 8, 9]]\n",
    "\n",
    "# Calculate length of maximal list\n",
    "n = len(max(lst, key=len))\n",
    "\n",
    "# Make the lists equal in length\n",
    "lst_2 = [x + [None]*(n-len(x)) for x in lst]\n",
    "print(lst_2, '\\n')\n",
    "\n",
    "# Convert it to a NumPy array\n",
    "a = np.array(lst_2)\n",
    "\n",
    "# Print the resulting array\n",
    "print(a)"
   ]
  },
  {
   "cell_type": "markdown",
   "metadata": {},
   "source": [
    "# Functions / Methods that can be used on Numpy nd arrays"
   ]
  },
  {
   "cell_type": "code",
   "execution_count": 17,
   "metadata": {},
   "outputs": [
    {
     "name": "stdout",
     "output_type": "stream",
     "text": [
      "['T', 'all', 'any', 'argmax', 'argmin', 'argpartition', 'argsort', 'astype', 'base', 'byteswap', 'choose', 'clip', 'compress', 'conj', 'conjugate', 'copy', 'ctypes', 'cumprod', 'cumsum', 'data', 'diagonal', 'dot', 'dtype', 'dump', 'dumps', 'fill', 'flags', 'flat', 'flatten', 'getfield', 'imag', 'item', 'itemset', 'itemsize', 'max', 'mean', 'min', 'nbytes', 'ndim', 'newbyteorder', 'nonzero', 'partition', 'prod', 'ptp', 'put', 'ravel', 'real', 'repeat', 'reshape', 'resize', 'round', 'searchsorted', 'setfield', 'setflags', 'shape', 'size', 'sort', 'squeeze', 'std', 'strides', 'sum', 'swapaxes', 'take', 'tobytes', 'tofile', 'tolist', 'tostring', 'trace', 'transpose', 'var', 'view']\n"
     ]
    }
   ],
   "source": [
    "a = dir(b) # lists all the methods that are defined for a nd-array\n",
    "print([i for i in a if not i.startswith('__')])   \n",
    "# Gives a list of methods that does not start with double underscore as methods starting with '__' are for Python Internal Use"
   ]
  },
  {
   "cell_type": "markdown",
   "metadata": {},
   "source": [
    "# Some numpy functions"
   ]
  },
  {
   "cell_type": "code",
   "execution_count": 18,
   "metadata": {
    "colab": {
     "base_uri": "https://localhost:8080/"
    },
    "id": "FKiFhrTtJLjV",
    "outputId": "092a2296-3ba4-4327-a279-e3082dab0f51"
   },
   "outputs": [
    {
     "data": {
      "text/plain": [
       "(5, 3)"
      ]
     },
     "execution_count": 18,
     "metadata": {},
     "output_type": "execute_result"
    }
   ],
   "source": [
    "# 1d array (n,)\n",
    "# 2d arrays (m,n)\n",
    "# 3d arrays (m,n,k)\n",
    "\n",
    "b.shape "
   ]
  },
  {
   "cell_type": "code",
   "execution_count": 19,
   "metadata": {},
   "outputs": [
    {
     "name": "stdout",
     "output_type": "stream",
     "text": [
      "Help on built-in function zeros in module numpy:\n",
      "\n",
      "zeros(...)\n",
      "    zeros(shape, dtype=float, order='C', *, like=None)\n",
      "    \n",
      "    Return a new array of given shape and type, filled with zeros.\n",
      "    \n",
      "    Parameters\n",
      "    ----------\n",
      "    shape : int or tuple of ints\n",
      "        Shape of the new array, e.g., ``(2, 3)`` or ``2``.\n",
      "    dtype : data-type, optional\n",
      "        The desired data-type for the array, e.g., `numpy.int8`.  Default is\n",
      "        `numpy.float64`.\n",
      "    order : {'C', 'F'}, optional, default: 'C'\n",
      "        Whether to store multi-dimensional data in row-major\n",
      "        (C-style) or column-major (Fortran-style) order in\n",
      "        memory.\n",
      "    like : array_like\n",
      "        Reference object to allow the creation of arrays which are not\n",
      "        NumPy arrays. If an array-like passed in as ``like`` supports\n",
      "        the ``__array_function__`` protocol, the result will be defined\n",
      "        by it. In this case, it ensures the creation of an array object\n",
      "        compatible with that passed in via this argument.\n",
      "    \n",
      "        .. versionadded:: 1.20.0\n",
      "    \n",
      "    Returns\n",
      "    -------\n",
      "    out : ndarray\n",
      "        Array of zeros with the given shape, dtype, and order.\n",
      "    \n",
      "    See Also\n",
      "    --------\n",
      "    zeros_like : Return an array of zeros with shape and type of input.\n",
      "    empty : Return a new uninitialized array.\n",
      "    ones : Return a new array setting values to one.\n",
      "    full : Return a new array of given shape filled with value.\n",
      "    \n",
      "    Examples\n",
      "    --------\n",
      "    >>> np.zeros(5)\n",
      "    array([ 0.,  0.,  0.,  0.,  0.])\n",
      "    \n",
      "    >>> np.zeros((5,), dtype=int)\n",
      "    array([0, 0, 0, 0, 0])\n",
      "    \n",
      "    >>> np.zeros((2, 1))\n",
      "    array([[ 0.],\n",
      "           [ 0.]])\n",
      "    \n",
      "    >>> s = (2,2)\n",
      "    >>> np.zeros(s)\n",
      "    array([[ 0.,  0.],\n",
      "           [ 0.,  0.]])\n",
      "    \n",
      "    >>> np.zeros((2,), dtype=[('x', 'i4'), ('y', 'i4')]) # custom dtype\n",
      "    array([(0, 0), (0, 0)],\n",
      "          dtype=[('x', '<i4'), ('y', '<i4')])\n",
      "\n"
     ]
    }
   ],
   "source": [
    "help(np.zeros)"
   ]
  },
  {
   "cell_type": "code",
   "execution_count": 20,
   "metadata": {
    "colab": {
     "base_uri": "https://localhost:8080/"
    },
    "id": "Ml0Lmdif3wct",
    "outputId": "f36d1d11-25f3-4b54-c316-225de817a00e"
   },
   "outputs": [
    {
     "name": "stdout",
     "output_type": "stream",
     "text": [
      "[[0 0 0 0]\n",
      " [0 0 0 0]] \n",
      "\n",
      "[0. 0. 0. 0.] \n",
      "\n",
      "[[0.+0.j 0.+0.j 0.+0.j]\n",
      " [0.+0.j 0.+0.j 0.+0.j]] \n",
      "\n",
      "[['' '' '']\n",
      " ['' '' '']]\n"
     ]
    }
   ],
   "source": [
    "# Create a 2d numpy array (int) with all zeros of size m x n\n",
    "print(np.zeros(shape = (2,4), dtype = int), '\\n')\n",
    "\n",
    "# Create a 1d numpy array (float) with all zeros of size m\n",
    "print(np.zeros(shape =(4,), dtype = float), '\\n')\n",
    "\n",
    "# Create a 1d numpy array (complex) with all zeros of size m x n\n",
    "print(np.zeros(shape =(2,3), dtype = complex), '\\n')\n",
    "\n",
    "# Create a 1d numpy array (string) with all zeros of size m x n\n",
    "print(np.zeros(shape =(2,3), dtype = str))"
   ]
  },
  {
   "cell_type": "code",
   "execution_count": 21,
   "metadata": {},
   "outputs": [
    {
     "name": "stdout",
     "output_type": "stream",
     "text": [
      "Help on function ones in module numpy:\n",
      "\n",
      "ones(shape, dtype=None, order='C', *, like=None)\n",
      "    Return a new array of given shape and type, filled with ones.\n",
      "    \n",
      "    Parameters\n",
      "    ----------\n",
      "    shape : int or sequence of ints\n",
      "        Shape of the new array, e.g., ``(2, 3)`` or ``2``.\n",
      "    dtype : data-type, optional\n",
      "        The desired data-type for the array, e.g., `numpy.int8`.  Default is\n",
      "        `numpy.float64`.\n",
      "    order : {'C', 'F'}, optional, default: C\n",
      "        Whether to store multi-dimensional data in row-major\n",
      "        (C-style) or column-major (Fortran-style) order in\n",
      "        memory.\n",
      "    like : array_like\n",
      "        Reference object to allow the creation of arrays which are not\n",
      "        NumPy arrays. If an array-like passed in as ``like`` supports\n",
      "        the ``__array_function__`` protocol, the result will be defined\n",
      "        by it. In this case, it ensures the creation of an array object\n",
      "        compatible with that passed in via this argument.\n",
      "    \n",
      "        .. versionadded:: 1.20.0\n",
      "    \n",
      "    Returns\n",
      "    -------\n",
      "    out : ndarray\n",
      "        Array of ones with the given shape, dtype, and order.\n",
      "    \n",
      "    See Also\n",
      "    --------\n",
      "    ones_like : Return an array of ones with shape and type of input.\n",
      "    empty : Return a new uninitialized array.\n",
      "    zeros : Return a new array setting values to zero.\n",
      "    full : Return a new array of given shape filled with value.\n",
      "    \n",
      "    \n",
      "    Examples\n",
      "    --------\n",
      "    >>> np.ones(5)\n",
      "    array([1., 1., 1., 1., 1.])\n",
      "    \n",
      "    >>> np.ones((5,), dtype=int)\n",
      "    array([1, 1, 1, 1, 1])\n",
      "    \n",
      "    >>> np.ones((2, 1))\n",
      "    array([[1.],\n",
      "           [1.]])\n",
      "    \n",
      "    >>> s = (2,2)\n",
      "    >>> np.ones(s)\n",
      "    array([[1.,  1.],\n",
      "           [1.,  1.]])\n",
      "\n"
     ]
    }
   ],
   "source": [
    "help(np.ones)"
   ]
  },
  {
   "cell_type": "code",
   "execution_count": 22,
   "metadata": {
    "colab": {
     "base_uri": "https://localhost:8080/"
    },
    "id": "m-1yNQ_WJpWV",
    "outputId": "c5e51f11-5f4f-406c-e28e-f9ac6804232e"
   },
   "outputs": [
    {
     "name": "stdout",
     "output_type": "stream",
     "text": [
      "[[1 1 1 1]\n",
      " [1 1 1 1]] \n",
      "\n",
      "[1. 1. 1. 1.] \n",
      "\n",
      "[[1.+0.j 1.+0.j 1.+0.j]\n",
      " [1.+0.j 1.+0.j 1.+0.j]] \n",
      "\n",
      "[['1' '1' '1']\n",
      " ['1' '1' '1']]\n"
     ]
    }
   ],
   "source": [
    "# Create a 2d numpy array (int) with all one's of size m x n\n",
    "print(np.ones(shape = (2,4), dtype = int), '\\n')\n",
    "\n",
    "# Create a 1d numpy array (float) with all zeros of size m\n",
    "print(np.ones(shape =(4,), dtype = float), '\\n')\n",
    "\n",
    "# Create a 1d numpy array (complex) with all zeros of size m x n\n",
    "print(np.ones(shape =(2,3), dtype = complex), '\\n')\n",
    "\n",
    "# Create a 1d numpy array (string) with all zeros of size m x n\n",
    "print(np.ones(shape =(2,3), dtype = str))"
   ]
  },
  {
   "cell_type": "code",
   "execution_count": 23,
   "metadata": {
    "id": "TiWWC9SD3wcv",
    "outputId": "aa2b7bd2-c3b5-4509-aa10-3517843c2511"
   },
   "outputs": [
    {
     "name": "stdout",
     "output_type": "stream",
     "text": [
      "Help on function full in module numpy:\n",
      "\n",
      "full(shape, fill_value, dtype=None, order='C', *, like=None)\n",
      "    Return a new array of given shape and type, filled with `fill_value`.\n",
      "    \n",
      "    Parameters\n",
      "    ----------\n",
      "    shape : int or sequence of ints\n",
      "        Shape of the new array, e.g., ``(2, 3)`` or ``2``.\n",
      "    fill_value : scalar or array_like\n",
      "        Fill value.\n",
      "    dtype : data-type, optional\n",
      "        The desired data-type for the array  The default, None, means\n",
      "         ``np.array(fill_value).dtype``.\n",
      "    order : {'C', 'F'}, optional\n",
      "        Whether to store multidimensional data in C- or Fortran-contiguous\n",
      "        (row- or column-wise) order in memory.\n",
      "    like : array_like\n",
      "        Reference object to allow the creation of arrays which are not\n",
      "        NumPy arrays. If an array-like passed in as ``like`` supports\n",
      "        the ``__array_function__`` protocol, the result will be defined\n",
      "        by it. In this case, it ensures the creation of an array object\n",
      "        compatible with that passed in via this argument.\n",
      "    \n",
      "        .. versionadded:: 1.20.0\n",
      "    \n",
      "    Returns\n",
      "    -------\n",
      "    out : ndarray\n",
      "        Array of `fill_value` with the given shape, dtype, and order.\n",
      "    \n",
      "    See Also\n",
      "    --------\n",
      "    full_like : Return a new array with shape of input filled with value.\n",
      "    empty : Return a new uninitialized array.\n",
      "    ones : Return a new array setting values to one.\n",
      "    zeros : Return a new array setting values to zero.\n",
      "    \n",
      "    Examples\n",
      "    --------\n",
      "    >>> np.full((2, 2), np.inf)\n",
      "    array([[inf, inf],\n",
      "           [inf, inf]])\n",
      "    >>> np.full((2, 2), 10)\n",
      "    array([[10, 10],\n",
      "           [10, 10]])\n",
      "    \n",
      "    >>> np.full((2, 2), [1, 2])\n",
      "    array([[1, 2],\n",
      "           [1, 2]])\n",
      "\n"
     ]
    }
   ],
   "source": [
    "help(np.full)"
   ]
  },
  {
   "cell_type": "code",
   "execution_count": 24,
   "metadata": {
    "colab": {
     "base_uri": "https://localhost:8080/"
    },
    "id": "-kIKmLgd3wcv",
    "outputId": "6155a327-c593-4619-b071-5262ef4fbecb"
   },
   "outputs": [
    {
     "name": "stdout",
     "output_type": "stream",
     "text": [
      "[[445 445 445 445]\n",
      " [445 445 445 445]] \n",
      "\n",
      "[445. 445. 445. 445.] \n",
      "\n",
      "[[445.+0.j 445.+0.j 445.+0.j]\n",
      " [445.+0.j 445.+0.j 445.+0.j]] \n",
      "\n",
      "[['4' '4' '4']\n",
      " ['4' '4' '4']]\n"
     ]
    }
   ],
   "source": [
    "# Create a 2d numpy array (int) filled with all constant numbers of size m x n\n",
    "print(np.full(shape = (2,4), fill_value = 445, dtype = int), '\\n')\n",
    "\n",
    "# Create a 1d numpy array (float) filled with all constant numbers of size m\n",
    "print(np.full(shape =(4,), fill_value = 445, dtype = float), '\\n')\n",
    "\n",
    "# Create a 1d numpy array (complex) filled with all constant numbers of size m x n\n",
    "print(np.full(shape =(2,3), fill_value = 445, dtype = complex), '\\n')\n",
    "\n",
    "# Create a 1d numpy array (string) filled with all constant numbers of size m x n\n",
    "print(np.full(shape =(2,3), fill_value = 445, dtype = str))   # Accepts only the first digit"
   ]
  },
  {
   "cell_type": "code",
   "execution_count": 25,
   "metadata": {},
   "outputs": [
    {
     "name": "stdout",
     "output_type": "stream",
     "text": [
      "Help on function eye in module numpy:\n",
      "\n",
      "eye(N, M=None, k=0, dtype=<class 'float'>, order='C', *, like=None)\n",
      "    Return a 2-D array with ones on the diagonal and zeros elsewhere.\n",
      "    \n",
      "    Parameters\n",
      "    ----------\n",
      "    N : int\n",
      "      Number of rows in the output.\n",
      "    M : int, optional\n",
      "      Number of columns in the output. If None, defaults to `N`.\n",
      "    k : int, optional\n",
      "      Index of the diagonal: 0 (the default) refers to the main diagonal,\n",
      "      a positive value refers to an upper diagonal, and a negative value\n",
      "      to a lower diagonal.\n",
      "    dtype : data-type, optional\n",
      "      Data-type of the returned array.\n",
      "    order : {'C', 'F'}, optional\n",
      "        Whether the output should be stored in row-major (C-style) or\n",
      "        column-major (Fortran-style) order in memory.\n",
      "    \n",
      "        .. versionadded:: 1.14.0\n",
      "    like : array_like\n",
      "        Reference object to allow the creation of arrays which are not\n",
      "        NumPy arrays. If an array-like passed in as ``like`` supports\n",
      "        the ``__array_function__`` protocol, the result will be defined\n",
      "        by it. In this case, it ensures the creation of an array object\n",
      "        compatible with that passed in via this argument.\n",
      "    \n",
      "        .. versionadded:: 1.20.0\n",
      "    \n",
      "    Returns\n",
      "    -------\n",
      "    I : ndarray of shape (N,M)\n",
      "      An array where all elements are equal to zero, except for the `k`-th\n",
      "      diagonal, whose values are equal to one.\n",
      "    \n",
      "    See Also\n",
      "    --------\n",
      "    identity : (almost) equivalent function\n",
      "    diag : diagonal 2-D array from a 1-D array specified by the user.\n",
      "    \n",
      "    Examples\n",
      "    --------\n",
      "    >>> np.eye(2, dtype=int)\n",
      "    array([[1, 0],\n",
      "           [0, 1]])\n",
      "    >>> np.eye(3, k=1)\n",
      "    array([[0.,  1.,  0.],\n",
      "           [0.,  0.,  1.],\n",
      "           [0.,  0.,  0.]])\n",
      "\n"
     ]
    }
   ],
   "source": [
    "help(np.eye)"
   ]
  },
  {
   "cell_type": "code",
   "execution_count": 26,
   "metadata": {
    "colab": {
     "base_uri": "https://localhost:8080/"
    },
    "id": "qEnDhNRW3wcx",
    "outputId": "ab8069e7-e39a-4775-e9c3-72f8bcd116c4"
   },
   "outputs": [
    {
     "data": {
      "text/plain": [
       "array([[1, 0, 0, 0, 0],\n",
       "       [0, 1, 0, 0, 0],\n",
       "       [0, 0, 1, 0, 0],\n",
       "       [0, 0, 0, 1, 0],\n",
       "       [0, 0, 0, 0, 1]])"
      ]
     },
     "execution_count": 26,
     "metadata": {},
     "output_type": "execute_result"
    }
   ],
   "source": [
    "# Identity Matrix\n",
    "# Returns a Square matrix - matrix with same number of rows and column with diagonal elements as 1 and rest as 0\n",
    "\n",
    "np.eye(5, k = 0, dtype = int)"
   ]
  },
  {
   "cell_type": "code",
   "execution_count": 27,
   "metadata": {
    "colab": {
     "base_uri": "https://localhost:8080/"
    },
    "id": "MCviMbID3wcz",
    "outputId": "e0525ca7-9244-4f79-b253-aa6465634031"
   },
   "outputs": [
    {
     "name": "stdout",
     "output_type": "stream",
     "text": [
      "Help on built-in function random:\n",
      "\n",
      "random(...) method of numpy.random.mtrand.RandomState instance\n",
      "    random(size=None)\n",
      "    \n",
      "    Return random floats in the half-open interval [0.0, 1.0). Alias for\n",
      "    `random_sample` to ease forward-porting to the new random API.\n",
      "\n"
     ]
    }
   ],
   "source": [
    "help(np.random.random)"
   ]
  },
  {
   "cell_type": "code",
   "execution_count": 28,
   "metadata": {
    "colab": {
     "base_uri": "https://localhost:8080/"
    },
    "id": "UzqSlTyG3wcx",
    "outputId": "4a4a4b29-298d-40cb-dde2-232559a4da07"
   },
   "outputs": [
    {
     "data": {
      "text/plain": [
       "array([[0.24233251, 0.31270144, 0.04176017],\n",
       "       [0.86441644, 0.12364558, 0.49675716],\n",
       "       [0.82444459, 0.61739043, 0.21864542],\n",
       "       [0.98169721, 0.03397833, 0.59536249]])"
      ]
     },
     "execution_count": 28,
     "metadata": {},
     "output_type": "execute_result"
    }
   ],
   "source": [
    "# Random number generators from 0 to 1\n",
    "\n",
    "np.random.random(size = (4,3)) # random values between 0 and 1 of specified shape"
   ]
  },
  {
   "cell_type": "code",
   "execution_count": 29,
   "metadata": {},
   "outputs": [
    {
     "data": {
      "text/plain": [
       "array([[32.02546398, 91.07550153, 12.60959767, 13.85290308, 80.05588513],\n",
       "       [91.07296133, 25.70636657, 65.32439121, 55.64634979, 17.7247975 ],\n",
       "       [93.36182466, 49.68250971, 64.92419131, 52.40933082, 48.96475434],\n",
       "       [40.32659669, 75.70927053, 59.99840472, 23.19692263, 52.40926452],\n",
       "       [23.02914331, 16.95609016, 13.06725265, 64.99341517, 74.40123637]])"
      ]
     },
     "execution_count": 29,
     "metadata": {},
     "output_type": "execute_result"
    }
   ],
   "source": [
    "# random number from say [5,95]\n",
    "# indirect way of changing the range from [0,1] to [5,95]\n",
    "\n",
    "90*np.random.random(size = (5,5)) + 5\n",
    "\n",
    "# Objective is to get a 2d array with numbers between 5 and 95\n",
    "# Create a 2d array of desired shape with all random numbers lying between 0 and 1 (max_value = 1, min_value = 0)\n",
    "# Multiply 90 to (max_value = 1, min_value = 0) to get (max_value = 90, min_value = 0)\n",
    "# Add 5 to it so that (max_value = 95, min_value = 5)\n",
    "# This can also be achieved using np.random.randint() which is covered later in the material"
   ]
  },
  {
   "cell_type": "code",
   "execution_count": 30,
   "metadata": {
    "colab": {
     "base_uri": "https://localhost:8080/"
    },
    "id": "2jfUL4GP3wc0",
    "outputId": "21737d73-90a7-4b5b-b836-d0a39dc8c383"
   },
   "outputs": [
    {
     "data": {
      "text/plain": [
       "0.24731418201938893"
      ]
     },
     "execution_count": 30,
     "metadata": {},
     "output_type": "execute_result"
    }
   ],
   "source": [
    "# As a side note,  single random number from 0 to 1 can be obtained like this \n",
    "np.random.random()"
   ]
  },
  {
   "cell_type": "code",
   "execution_count": 31,
   "metadata": {},
   "outputs": [
    {
     "name": "stdout",
     "output_type": "stream",
     "text": [
      "Help on built-in function randint:\n",
      "\n",
      "randint(...) method of numpy.random.mtrand.RandomState instance\n",
      "    randint(low, high=None, size=None, dtype=int)\n",
      "    \n",
      "    Return random integers from `low` (inclusive) to `high` (exclusive).\n",
      "    \n",
      "    Return random integers from the \"discrete uniform\" distribution of\n",
      "    the specified dtype in the \"half-open\" interval [`low`, `high`). If\n",
      "    `high` is None (the default), then results are from [0, `low`).\n",
      "    \n",
      "    .. note::\n",
      "        New code should use the ``integers`` method of a ``default_rng()``\n",
      "        instance instead; please see the :ref:`random-quick-start`.\n",
      "    \n",
      "    Parameters\n",
      "    ----------\n",
      "    low : int or array-like of ints\n",
      "        Lowest (signed) integers to be drawn from the distribution (unless\n",
      "        ``high=None``, in which case this parameter is one above the\n",
      "        *highest* such integer).\n",
      "    high : int or array-like of ints, optional\n",
      "        If provided, one above the largest (signed) integer to be drawn\n",
      "        from the distribution (see above for behavior if ``high=None``).\n",
      "        If array-like, must contain integer values\n",
      "    size : int or tuple of ints, optional\n",
      "        Output shape.  If the given shape is, e.g., ``(m, n, k)``, then\n",
      "        ``m * n * k`` samples are drawn.  Default is None, in which case a\n",
      "        single value is returned.\n",
      "    dtype : dtype, optional\n",
      "        Desired dtype of the result. Byteorder must be native.\n",
      "        The default value is int.\n",
      "    \n",
      "        .. versionadded:: 1.11.0\n",
      "    \n",
      "    Returns\n",
      "    -------\n",
      "    out : int or ndarray of ints\n",
      "        `size`-shaped array of random integers from the appropriate\n",
      "        distribution, or a single such random int if `size` not provided.\n",
      "    \n",
      "    See Also\n",
      "    --------\n",
      "    random_integers : similar to `randint`, only for the closed\n",
      "        interval [`low`, `high`], and 1 is the lowest value if `high` is\n",
      "        omitted.\n",
      "    Generator.integers: which should be used for new code.\n",
      "    \n",
      "    Examples\n",
      "    --------\n",
      "    >>> np.random.randint(2, size=10)\n",
      "    array([1, 0, 0, 0, 1, 1, 0, 0, 1, 0]) # random\n",
      "    >>> np.random.randint(1, size=10)\n",
      "    array([0, 0, 0, 0, 0, 0, 0, 0, 0, 0])\n",
      "    \n",
      "    Generate a 2 x 4 array of ints between 0 and 4, inclusive:\n",
      "    \n",
      "    >>> np.random.randint(5, size=(2, 4))\n",
      "    array([[4, 0, 2, 1], # random\n",
      "           [3, 2, 2, 0]])\n",
      "    \n",
      "    Generate a 1 x 3 array with 3 different upper bounds\n",
      "    \n",
      "    >>> np.random.randint(1, [3, 5, 10])\n",
      "    array([2, 2, 9]) # random\n",
      "    \n",
      "    Generate a 1 by 3 array with 3 different lower bounds\n",
      "    \n",
      "    >>> np.random.randint([1, 5, 7], 10)\n",
      "    array([9, 8, 7]) # random\n",
      "    \n",
      "    Generate a 2 by 4 array using broadcasting with dtype of uint8\n",
      "    \n",
      "    >>> np.random.randint([1, 3, 5, 7], [[10], [20]], dtype=np.uint8)\n",
      "    array([[ 8,  6,  9,  7], # random\n",
      "           [ 1, 16,  9, 12]], dtype=uint8)\n",
      "\n"
     ]
    }
   ],
   "source": [
    "help(np.random.randint)"
   ]
  },
  {
   "cell_type": "code",
   "execution_count": 32,
   "metadata": {
    "colab": {
     "base_uri": "https://localhost:8080/"
    },
    "id": "Pw4if4eGPbYS",
    "outputId": "9d0f6da4-8ea5-48b4-8959-fe536d560d69"
   },
   "outputs": [
    {
     "data": {
      "text/plain": [
       "array([[9, 6, 6, 7],\n",
       "       [8, 6, 6, 7],\n",
       "       [6, 9, 7, 6],\n",
       "       [8, 9, 9, 6],\n",
       "       [6, 8, 9, 7]])"
      ]
     },
     "execution_count": 32,
     "metadata": {},
     "output_type": "execute_result"
    }
   ],
   "source": [
    "# Random number generators between any range\n",
    "\n",
    "np.random.randint(low = 6, high = 10, size=(5,4), dtype = np.int)"
   ]
  },
  {
   "cell_type": "markdown",
   "metadata": {
    "id": "_J7vyrNEX3ve"
   },
   "source": [
    "# +-+-+-+-+-+-+-+-+-+-+-+-+-+-+-+-+-+-+-+-+-+-+-+-+-+-+-+-+-+-+-+-+-+-+"
   ]
  },
  {
   "cell_type": "markdown",
   "metadata": {},
   "source": [
    "# Mathematical Operations on Arrays"
   ]
  },
  {
   "cell_type": "markdown",
   "metadata": {},
   "source": [
    "# Element wise Addition / Subtraction:"
   ]
  },
  {
   "cell_type": "code",
   "execution_count": 33,
   "metadata": {
    "colab": {
     "base_uri": "https://localhost:8080/"
    },
    "id": "aA_ymLipX8A_",
    "outputId": "720bcc16-2810-4d76-d360-bdd46f4aac8d"
   },
   "outputs": [
    {
     "name": "stdout",
     "output_type": "stream",
     "text": [
      "[[ 4  5  6]\n",
      " [ 9 10 11]]\n",
      "~~~~~~~~~~~~\n",
      "[[0 1 2]\n",
      " [5 6 7]]\n"
     ]
    }
   ],
   "source": [
    "# Adding / Subtracting a scalar quantity to a numpy array\n",
    "\n",
    "a = np.array([[1,2,3],[6,7,8]])\n",
    "print(a + 3)\n",
    "print('~~~~~~~~~~~~')\n",
    "print(a -1)"
   ]
  },
  {
   "cell_type": "code",
   "execution_count": 34,
   "metadata": {
    "colab": {
     "base_uri": "https://localhost:8080/"
    },
    "id": "OyA30On-YVfe",
    "outputId": "9562e799-fde5-484b-f5b5-5c39148eb8d4"
   },
   "outputs": [
    {
     "data": {
      "text/plain": [
       "array([[ 3.75,  4.69,  5.42],\n",
       "       [15.17, -8.05, -3.  ]])"
      ]
     },
     "execution_count": 34,
     "metadata": {},
     "output_type": "execute_result"
    }
   ],
   "source": [
    "# Adding / Subtracting 2 or more arrays of same shape\n",
    "\n",
    "a = np.array([[1,2,3],[4,5,-6]])\n",
    "b = np.array([[4,5,6],[7,-8,9]])\n",
    "c = np.array([[1.25,2.31,3.58],[-4.17,5.05,6.00]], dtype = float)\n",
    "\n",
    "a + b - c  "
   ]
  },
  {
   "cell_type": "code",
   "execution_count": 35,
   "metadata": {},
   "outputs": [
    {
     "data": {
      "text/plain": [
       "array([[ 5.,  7.,  9.],\n",
       "       [11., -3.,  3.]])"
      ]
     },
     "execution_count": 35,
     "metadata": {},
     "output_type": "execute_result"
    }
   ],
   "source": [
    "# np.add() is a functionality from numpy for addition\n",
    "\n",
    "np.add(a,b,c)"
   ]
  },
  {
   "cell_type": "code",
   "execution_count": 36,
   "metadata": {},
   "outputs": [
    {
     "data": {
      "text/plain": [
       "array([[ -3.,  -3.,  -3.],\n",
       "       [ -3.,  13., -15.]])"
      ]
     },
     "execution_count": 36,
     "metadata": {},
     "output_type": "execute_result"
    }
   ],
   "source": [
    "# np.subtract() is a functionality from numpy for subtraction\n",
    "\n",
    "np.subtract(a,b,c)"
   ]
  },
  {
   "cell_type": "code",
   "execution_count": 37,
   "metadata": {},
   "outputs": [],
   "source": [
    "## Q) What happens when you add one dimensional array to 2d array. Create scenarios and find the results\n",
    "\n",
    "### ----- 2d array is of shape (2,3) 1d array is of shape (3,)\n",
    "### ----- 2d array is of shape (2,3) 1d array is of shape (2,)\n",
    "### ----- 2d array is of shape (2,3) 1d array is of shape (6,)\n",
    "\n",
    "## Lookup Numpy Broadcasting for answers"
   ]
  },
  {
   "cell_type": "code",
   "execution_count": 38,
   "metadata": {},
   "outputs": [
    {
     "name": "stdout",
     "output_type": "stream",
     "text": [
      "2-D Array: \n",
      " [[1 2 3]\n",
      " [6 7 8]]\n",
      "\n",
      "1-D Array:\n",
      "  [1 2 3]\n",
      "\n",
      "Sum: \n",
      " [[ 2  4  6]\n",
      " [ 7  9 11]]\n"
     ]
    }
   ],
   "source": [
    "### ----- 2d array is of shape (2,3) 1d array is of shape (3,)\n",
    "\n",
    "a = np.array([[1,2,3],[6,7,8]])\n",
    "b = np.array([1,2,3])\n",
    "print(\"2-D Array: \\n\", a)\n",
    "print(\"\\n1-D Array:\\n \", b)\n",
    "\n",
    "print(\"\\nSum: \\n\", a+b)"
   ]
  },
  {
   "cell_type": "code",
   "execution_count": 39,
   "metadata": {},
   "outputs": [
    {
     "name": "stdout",
     "output_type": "stream",
     "text": [
      "2-D Array: \n",
      " [[1 2 3]\n",
      " [6 7 8]]\n",
      "\n",
      "1-D Array:\n",
      "  [1 2]\n"
     ]
    }
   ],
   "source": [
    "### ----- 2d array is of shape (2,3) 1d array is of shape (2,)\n",
    "\n",
    "a = np.array([[1,2,3],[6,7,8]])\n",
    "b = np.array([1,2])\n",
    "print(\"2-D Array: \\n\", a)\n",
    "print(\"\\n1-D Array:\\n \", b)\n",
    "\n",
    "# print(\"\\nSum: \\n\", a+b)    #ValueError: operands could not be broadcast together with shapes (2,3) (2,) "
   ]
  },
  {
   "cell_type": "code",
   "execution_count": 40,
   "metadata": {},
   "outputs": [
    {
     "name": "stdout",
     "output_type": "stream",
     "text": [
      "2-D Array: \n",
      " [[1 2 3]\n",
      " [6 7 8]]\n",
      "\n",
      "1-D Array:\n",
      "  [1 2 3 4 5 6]\n"
     ]
    }
   ],
   "source": [
    "### ----- 2d array is of shape (2,3) 1d array is of shape (6,)\n",
    "\n",
    "a = np.array([[1,2,3],[6,7,8]])\n",
    "b = np.array([1,2,3,4,5,6])\n",
    "print(\"2-D Array: \\n\", a)\n",
    "print(\"\\n1-D Array:\\n \", b)\n",
    "\n",
    "# print(\"\\nSum: \\n\", a+b)     # ValueError: operands could not be broadcast together with shapes (2,3) (6,) "
   ]
  },
  {
   "cell_type": "markdown",
   "metadata": {},
   "source": [
    "# Element wise Multiplication:"
   ]
  },
  {
   "cell_type": "code",
   "execution_count": 41,
   "metadata": {},
   "outputs": [
    {
     "data": {
      "text/plain": [
       "array([[100, 200, 300],\n",
       "       [600, 700, 800]])"
      ]
     },
     "execution_count": 41,
     "metadata": {},
     "output_type": "execute_result"
    }
   ],
   "source": [
    "# Multiplying a scalar quantity to a numpy array\n",
    "\n",
    "a = np.array([[1,2,3],[6,7,8]])\n",
    "a*100"
   ]
  },
  {
   "cell_type": "code",
   "execution_count": 42,
   "metadata": {},
   "outputs": [
    {
     "data": {
      "text/plain": [
       "array([[   8,   40,  108],\n",
       "       [  84, -240, -486]])"
      ]
     },
     "execution_count": 42,
     "metadata": {},
     "output_type": "execute_result"
    }
   ],
   "source": [
    "# Multiplying 2 or more arrays. Note: This is Element Wise Multiplication and not Matrix Multiplication\n",
    "\n",
    "a = np.array([[1,2,3],[4,5,-6]])\n",
    "b = np.array([[4,5,6],[7,-8,9]])\n",
    "c = np.array([[2,4,6],[3,6,9]])\n",
    "\n",
    "a*b*c"
   ]
  },
  {
   "cell_type": "code",
   "execution_count": 43,
   "metadata": {},
   "outputs": [
    {
     "data": {
      "text/plain": [
       "array([[  4,  10,  18],\n",
       "       [ 28, -40, -54]])"
      ]
     },
     "execution_count": 43,
     "metadata": {},
     "output_type": "execute_result"
    }
   ],
   "source": [
    "# np.multiply() is a functionality from numpy for multiplication\n",
    "\n",
    "np.multiply(a,b)"
   ]
  },
  {
   "cell_type": "markdown",
   "metadata": {},
   "source": [
    "# Matrix Multiplication or Dot Product"
   ]
  },
  {
   "cell_type": "code",
   "execution_count": 44,
   "metadata": {},
   "outputs": [],
   "source": [
    "# Matrix multiplication is only possible when the number of columns of first matrix is\n",
    "# equal to the number of rows of second matrix.\n",
    "# If the condition for matrix multiplication is satisfied, the result would be numpy array with shape\n",
    "# (rows of first matrix, columns of second matrix)"
   ]
  },
  {
   "cell_type": "code",
   "execution_count": 45,
   "metadata": {},
   "outputs": [
    {
     "name": "stdout",
     "output_type": "stream",
     "text": [
      "[[1 2 3]\n",
      " [2 3 4]]\n",
      "~~~~~~~~~~~~~~\n",
      "[3 4 5]\n",
      "~~~~~~~~~~~~~~\n"
     ]
    },
    {
     "data": {
      "text/plain": [
       "array([26, 38])"
      ]
     },
     "execution_count": 45,
     "metadata": {},
     "output_type": "execute_result"
    }
   ],
   "source": [
    "# Dot Product of 2d Array\n",
    "\n",
    "a = np.array([[1,2,3],[2,3,4]])\n",
    "print(a)\n",
    "print('~~~~~~~~~~~~~~')\n",
    "\n",
    "b = np.array([3,4,5])\n",
    "print(b)\n",
    "print('~~~~~~~~~~~~~~')\n",
    "\n",
    "np.dot(a, b) ### Matrix Multiplication"
   ]
  },
  {
   "cell_type": "code",
   "execution_count": 46,
   "metadata": {},
   "outputs": [
    {
     "name": "stdout",
     "output_type": "stream",
     "text": [
      "70\n",
      "70\n"
     ]
    }
   ],
   "source": [
    "# Dot Product of 1d Arrays\n",
    "\n",
    "x = [1,2,3,4]\n",
    "y = [5,6,7,8]\n",
    "x = np.array(x)  # 1d array\n",
    "y = np.array(y)  # 1d array\n",
    "\n",
    "print(np.dot(x,y))   # Method 1\n",
    "print(x.dot(y))      # Method 2"
   ]
  },
  {
   "cell_type": "code",
   "execution_count": 47,
   "metadata": {},
   "outputs": [
    {
     "name": "stdout",
     "output_type": "stream",
     "text": [
      "[[1 1]\n",
      " [1 1]]\n",
      "~~~~~~~~~~~~~~\n",
      "[[2 2]\n",
      " [2 2]]\n",
      "~~~~~~~~~~~~~~\n",
      "\n",
      "Element Wise Multiplication result ********\n",
      "[[2 2]\n",
      " [2 2]]\n",
      "~~~~~~~~~~~~~~\n",
      "Matrix Multiplication result *********\n",
      "[[4 4]\n",
      " [4 4]]\n"
     ]
    }
   ],
   "source": [
    "# Difference between Element Wise Multiplication and Matrix Multiplication or Dot Product\n",
    "\n",
    "c = np.array([[1,1],[1,1]]) ### (2,2)\n",
    "d = np.array([[2,2],[2,2]])   ### (2,2)\n",
    "\n",
    "print(c)\n",
    "print('~~~~~~~~~~~~~~')\n",
    "\n",
    "print(d)\n",
    "print('~~~~~~~~~~~~~~\\n')\n",
    "\n",
    "print('Element Wise Multiplication result ********')\n",
    "print(np.multiply(c,d))\n",
    "print('~~~~~~~~~~~~~~')\n",
    "\n",
    "print('Matrix Multiplication result *********')\n",
    "print(np.dot(c,d))"
   ]
  },
  {
   "cell_type": "markdown",
   "metadata": {},
   "source": [
    "# Element wise Division:"
   ]
  },
  {
   "cell_type": "code",
   "execution_count": 48,
   "metadata": {},
   "outputs": [
    {
     "data": {
      "text/plain": [
       "array([[0.5, 1. , 1.5],\n",
       "       [3. , 3.5, 4. ]])"
      ]
     },
     "execution_count": 48,
     "metadata": {},
     "output_type": "execute_result"
    }
   ],
   "source": [
    "# Dividing a numpy array by a scalar quantity\n",
    "\n",
    "a = np.array([[1,2,3],[6,7,8]])\n",
    "a/2"
   ]
  },
  {
   "cell_type": "code",
   "execution_count": 49,
   "metadata": {},
   "outputs": [
    {
     "data": {
      "text/plain": [
       "array([[ 0.125     ,  0.1       ,  0.08333333],\n",
       "       [ 0.19047619, -0.10416667, -0.07407407]])"
      ]
     },
     "execution_count": 49,
     "metadata": {},
     "output_type": "execute_result"
    }
   ],
   "source": [
    "# Dividing 2 or more arrays. Note: This is Element Wise Division and not Matrix Division\n",
    "\n",
    "a = np.array([[1,2,3],[4,5,-6]])\n",
    "b = np.array([[4,5,6],[7,-8,9]])\n",
    "c = np.array([[2,4,6],[3,6,9]])\n",
    "\n",
    "a/b/c"
   ]
  },
  {
   "cell_type": "code",
   "execution_count": 50,
   "metadata": {},
   "outputs": [
    {
     "data": {
      "text/plain": [
       "array([[ 0.25      ,  0.4       ,  0.5       ],\n",
       "       [ 0.57142857, -0.625     , -0.66666667]])"
      ]
     },
     "execution_count": 50,
     "metadata": {},
     "output_type": "execute_result"
    }
   ],
   "source": [
    "# np.divide() is a functionality from numpy for division\n",
    "\n",
    "np.divide(a,b)"
   ]
  },
  {
   "cell_type": "markdown",
   "metadata": {},
   "source": [
    "# Element Wise Square and Square Root"
   ]
  },
  {
   "cell_type": "code",
   "execution_count": 51,
   "metadata": {},
   "outputs": [
    {
     "data": {
      "text/plain": [
       "array([[1.        , 1.41421356, 1.73205081],\n",
       "       [2.        , 2.23606798, 2.44948974],\n",
       "       [2.64575131, 2.82842712, 3.        ],\n",
       "       [3.16227766, 3.31662479, 3.46410162]])"
      ]
     },
     "execution_count": 51,
     "metadata": {},
     "output_type": "execute_result"
    }
   ],
   "source": [
    "# Find the sqrt of every element of a numpy array\n",
    "\n",
    "a = np.array([[1,2,3], [4,5,6], [7,8,9], [10, 11, 12]])\n",
    "np.sqrt(a)"
   ]
  },
  {
   "cell_type": "code",
   "execution_count": 52,
   "metadata": {},
   "outputs": [
    {
     "data": {
      "text/plain": [
       "array([[  1,   4,   9],\n",
       "       [ 16,  25,  36],\n",
       "       [ 49,  64,  81],\n",
       "       [100, 121, 144]])"
      ]
     },
     "execution_count": 52,
     "metadata": {},
     "output_type": "execute_result"
    }
   ],
   "source": [
    "# Find the square of every element of a numpy array\n",
    "\n",
    "a = np.array([[1,2,3], [4,5,6], [7,8,9], [10, 11, 12]])\n",
    "a*a"
   ]
  },
  {
   "cell_type": "markdown",
   "metadata": {},
   "source": [
    "In general you'll find that , mathematical functions from numpy [being referred as np here ] when applied on array, give back result as an array where that function has been applied on individual elements. These function from package math on the other hand give error when applied to arrays. They only work for scalars."
   ]
  },
  {
   "cell_type": "markdown",
   "metadata": {},
   "source": [
    "# +-+-+-+-+-+-+-+-+-+-+-+-+-+-+-+-+-+-+-+-+-+-+-+-+-+-+-+-+-+-+-+-+-+-+"
   ]
  },
  {
   "cell_type": "markdown",
   "metadata": {},
   "source": [
    "# Session 2"
   ]
  },
  {
   "cell_type": "markdown",
   "metadata": {},
   "source": [
    "# +-+-+-+-+-+-+-+-+-+-+-+-+-+-+-+-+-+-+-+-+-+-+-+-+-+-+-+-+-+-+-+-+-+-+"
   ]
  },
  {
   "cell_type": "markdown",
   "metadata": {},
   "source": [
    "# Accessing arrays with indices"
   ]
  },
  {
   "cell_type": "markdown",
   "metadata": {
    "id": "lTpyrV5J3wc_"
   },
   "source": [
    "Its not necessary that when you are accessing elements of array, index values have to be continuous. They can be any number as long as they do not go out of range of exsiting element positions."
   ]
  },
  {
   "cell_type": "code",
   "execution_count": 53,
   "metadata": {
    "colab": {
     "base_uri": "https://localhost:8080/"
    },
    "id": "W-1EQ3Ym3wdA",
    "outputId": "1ea02307-fbff-4047-a7c0-359196532890"
   },
   "outputs": [
    {
     "name": "stdout",
     "output_type": "stream",
     "text": [
      "(3, 4) \n",
      "\n",
      "[[1 2 3 4]\n",
      " [3 4 5 6]\n",
      " [5 6 7 8]]\n"
     ]
    }
   ],
   "source": [
    "a = np.array([[1, 2, 3, 4], [3, 4, 5, 6], [5, 6, 7, 8]])\n",
    "print(np.shape(a), '\\n')\n",
    "print(a)"
   ]
  },
  {
   "cell_type": "code",
   "execution_count": 54,
   "metadata": {
    "id": "JtVq9r4e3wdB"
   },
   "outputs": [
    {
     "name": "stdout",
     "output_type": "stream",
     "text": [
      "[[1 1 2 1 3 4]\n",
      " [3 3 4 3 5 6]\n",
      " [5 5 6 5 7 8]]\n"
     ]
    }
   ],
   "source": [
    "x = a[:, [0,0,1,0,2,3]]   \n",
    "print(x)\n",
    "\n",
    "# x will be a matrix of shape (3,6) as we have selected all rows of matrix a (3 rows) using ':'\n",
    "# x will have 6 columns as we have specified using the list [0,0,1,0,0,3]\n",
    "# Lets understand each element of the list [0,0,1,0,0,3]\n",
    "# 0 --> First Element of each row of matrix a, i.e. (1, 3, 5)\n",
    "# 0 --> First Element of each row of matrix a, i.e. (1, 3, 5)\n",
    "# 1 --> Second Element of each row of matrix a, i.e. (2, 4, 6)\n",
    "# 0 --> First Element of each row of matrix a, i.e. (1, 3, 5)\n",
    "# 2 --> Third Element of each row of matrix a, i.e. (3, 5, 7)\n",
    "# 3 --> Fourth Element of each row of matrix a, i.e. (4, 6, 8)"
   ]
  },
  {
   "cell_type": "code",
   "execution_count": 55,
   "metadata": {},
   "outputs": [
    {
     "name": "stdout",
     "output_type": "stream",
     "text": [
      "(3, 4) \n",
      "\n",
      "[[1 2 3 4]\n",
      " [3 4 5 6]\n",
      " [5 6 7 8]] \n",
      "\n",
      "[1 3 6 5]\n"
     ]
    }
   ],
   "source": [
    "a = np.array([[1, 2, 3, 4], [3, 4, 5, 6], [5, 6, 7, 8]])\n",
    "print(np.shape(a), '\\n')\n",
    "print(a, '\\n')\n",
    "\n",
    "y = a[[0,1,2,1],[0,0,1,2]]\n",
    "print(y)\n",
    "\n",
    "# y will be a matrix of shape (1,4) where each element is defined by a[[0,1,2,1],[0,0,1,2]]\n",
    "# 1st Element of y = a[0,0] = 1\n",
    "# 2nd Element of y = a[1,0] = 3\n",
    "# 3rd Element of y = a[2,1] = 6\n",
    "# 4th Element of y = a[1,2] = 5"
   ]
  },
  {
   "cell_type": "code",
   "execution_count": 56,
   "metadata": {},
   "outputs": [
    {
     "name": "stdout",
     "output_type": "stream",
     "text": [
      "[2 4 6]\n"
     ]
    }
   ],
   "source": [
    "z = a[:,1]\n",
    "print(z)\n",
    "\n",
    "# Similarly z will be a matrix of shape (1,3) where we have selected all rows of matrix a (3 rows) using ';'\n",
    "# We have selected the Second element of each row in matrix a using '1'\n",
    "# So Matrix z will have the Second element of each row of matrix a --> [2 4 6]"
   ]
  },
  {
   "cell_type": "code",
   "execution_count": 57,
   "metadata": {
    "colab": {
     "base_uri": "https://localhost:8080/"
    },
    "id": "ZFlSTV1hYATj",
    "outputId": "9e6d0131-8eda-4c34-fbad-428942dd5a0a"
   },
   "outputs": [
    {
     "name": "stdout",
     "output_type": "stream",
     "text": [
      "(3, 4) \n",
      "\n",
      "[[1 2 3 4]\n",
      " [3 4 5 6]\n",
      " [5 6 7 8]] \n",
      "\n"
     ]
    },
    {
     "data": {
      "text/plain": [
       "array([[1, 2, 3],\n",
       "       [5, 6, 7]])"
      ]
     },
     "execution_count": 57,
     "metadata": {},
     "output_type": "execute_result"
    }
   ],
   "source": [
    "# Specify a range and step size for indexes\n",
    "\n",
    "a = np.array([[1, 2, 3, 4], [3, 4, 5, 6], [5, 6, 7, 8]])\n",
    "print(np.shape(a), '\\n')\n",
    "print(a, '\\n')\n",
    "\n",
    "a[0:3:2,0:3:1]      \n",
    "# For Rows: 0 to 2 in steps of 2 = row# 1 and 3\n",
    "# For Columns: 0 to 2 in steps of 1 = column# 1, 2, 3"
   ]
  },
  {
   "cell_type": "code",
   "execution_count": 58,
   "metadata": {},
   "outputs": [
    {
     "name": "stdout",
     "output_type": "stream",
     "text": [
      "[[1 2 3 4]\n",
      " [3 4 5 6]\n",
      " [5 6 7 8]] \n",
      "~~~~~~~~~~~\n",
      "\n",
      "[0 1 2 1] \n",
      "~~~~~~~~~~~\n",
      "\n",
      "[1 0 2 1] \n",
      "~~~~~~~~~~~\n",
      "\n"
     ]
    },
    {
     "data": {
      "text/plain": [
       "array([3, 2, 7, 4])"
      ]
     },
     "execution_count": 58,
     "metadata": {},
     "output_type": "execute_result"
    }
   ],
   "source": [
    "# Element wise Indexing\n",
    "\n",
    "a = np.array([[1, 2, 3, 4], [3, 4, 5, 6], [5, 6, 7, 8]])\n",
    "b = np.array([0,1,2,1])\n",
    "c = np.array([1,0,2,1])\n",
    "print(a, '\\n~~~~~~~~~~~\\n')\n",
    "print(b, '\\n~~~~~~~~~~~\\n')\n",
    "print(c, '\\n~~~~~~~~~~~\\n')\n",
    "\n",
    "d = a[c, b]\n",
    "d"
   ]
  },
  {
   "cell_type": "markdown",
   "metadata": {},
   "source": [
    "# Create Arrays by specifying a range"
   ]
  },
  {
   "cell_type": "code",
   "execution_count": 59,
   "metadata": {
    "colab": {
     "base_uri": "https://localhost:8080/"
    },
    "id": "P12vmFiS3wdE",
    "outputId": "61aafab6-bb5d-400d-f599-8c928a2b2b9e"
   },
   "outputs": [
    {
     "name": "stdout",
     "output_type": "stream",
     "text": [
      "[0 1 2 3 4 5 6 7 8 9]\n",
      "<class 'numpy.ndarray'>\n",
      "(10,)\n"
     ]
    }
   ],
   "source": [
    "# arange will give 1d array values starting from 0 going till n-1\n",
    "\n",
    "c = np.arange(10)\n",
    "print(c)\n",
    "print(type(c))\n",
    "print(c.shape)"
   ]
  },
  {
   "cell_type": "code",
   "execution_count": 60,
   "metadata": {
    "colab": {
     "base_uri": "https://localhost:8080/"
    },
    "id": "iEkgO5jLf-Ko",
    "outputId": "16fadc64-f34f-4b21-fadd-c9cc15cfe13f"
   },
   "outputs": [
    {
     "name": "stdout",
     "output_type": "stream",
     "text": [
      "[ 5  7  9 11 13]\n",
      "(5,)\n"
     ]
    }
   ],
   "source": [
    "c = np.arange(start=5, stop= 15, step=2)\n",
    "print(c)\n",
    "print(c.shape)"
   ]
  },
  {
   "cell_type": "code",
   "execution_count": 61,
   "metadata": {
    "colab": {
     "base_uri": "https://localhost:8080/"
    },
    "id": "8K9ywTRZ3wdF",
    "outputId": "e83421d4-25af-4827-8966-1f7176a757ab"
   },
   "outputs": [
    {
     "name": "stdout",
     "output_type": "stream",
     "text": [
      "[0 1 2 3 4]\n",
      "1200\n",
      "3234\n",
      "546\n",
      "7567\n",
      "123\n"
     ]
    }
   ],
   "source": [
    "# Access each element of array:\n",
    "\n",
    "list_1 = [1200, 3234, 546, 7567, 123]\n",
    "\n",
    "index_of_list = np.arange(len(list_1))\n",
    "print(index_of_list)\n",
    "\n",
    "for i in index_of_list:\n",
    "    print(list_1[i])"
   ]
  },
  {
   "cell_type": "markdown",
   "metadata": {},
   "source": [
    "# Conditional Access of arrays"
   ]
  },
  {
   "cell_type": "markdown",
   "metadata": {
    "id": "BDKK_0AF3wdI"
   },
   "source": [
    "Tf there was a single element, using the comparison operator a>2 will generate True or False depeneding on whetrher that particular condition was true or false.\n",
    "\n",
    "Now when a is a numpy array, that comparison will be done for each element and result will be an array of shape same as a, containing True/False for each element."
   ]
  },
  {
   "cell_type": "code",
   "execution_count": 62,
   "metadata": {
    "colab": {
     "base_uri": "https://localhost:8080/"
    },
    "id": "qEgksXAU3wdJ",
    "outputId": "91535734-a276-45da-c2f2-5d10b1ff742e"
   },
   "outputs": [
    {
     "name": "stdout",
     "output_type": "stream",
     "text": [
      "[[ 1  2]\n",
      " [ 3  4]\n",
      " [-2  2]] \n",
      "~~~~~~~~~~\n",
      "\n",
      "[[False  True]\n",
      " [False False]\n",
      " [False  True]]\n"
     ]
    }
   ],
   "source": [
    "a = np.array([[1,2], [3, 4], [-2, 2]])\n",
    "print(a, '\\n~~~~~~~~~~\\n')\n",
    "print(a==2)"
   ]
  },
  {
   "cell_type": "code",
   "execution_count": 63,
   "metadata": {
    "id": "abU5VaWmiLkW"
   },
   "outputs": [
    {
     "name": "stdout",
     "output_type": "stream",
     "text": [
      "[[ 1  2]\n",
      " [ 3  4]\n",
      " [-2  2]] \n",
      "~~~~~~~~~~\n",
      "\n",
      "[[False False]\n",
      " [ True  True]\n",
      " [False False]] \n",
      "~~~~~~~~~~\n",
      "\n"
     ]
    },
    {
     "data": {
      "text/plain": [
       "numpy.ndarray"
      ]
     },
     "execution_count": 63,
     "metadata": {},
     "output_type": "execute_result"
    }
   ],
   "source": [
    "# Element wise comparison returns a 2d array of same shape as a with the corresponding bool value\n",
    "\n",
    "c = a>=3 \n",
    "print(a, '\\n~~~~~~~~~~\\n')\n",
    "print(c, '\\n~~~~~~~~~~\\n')\n",
    "type(c)"
   ]
  },
  {
   "cell_type": "code",
   "execution_count": 64,
   "metadata": {
    "id": "QXQexWfWH0oy"
   },
   "outputs": [
    {
     "data": {
      "text/plain": [
       "array([[False, False],\n",
       "       [ True,  True],\n",
       "       [ True, False]])"
      ]
     },
     "execution_count": 64,
     "metadata": {},
     "output_type": "execute_result"
    }
   ],
   "source": [
    "# Individual elements of the resultant Bool value can be modified by specifying the index:\n",
    "\n",
    "c[2,0] = True\n",
    "c"
   ]
  },
  {
   "cell_type": "code",
   "execution_count": 65,
   "metadata": {
    "colab": {
     "base_uri": "https://localhost:8080/"
    },
    "id": "3z3pjTppitBK",
    "outputId": "a2b5b90f-7e73-42d6-94ce-6651915e8991"
   },
   "outputs": [
    {
     "name": "stdout",
     "output_type": "stream",
     "text": [
      "[[ 1  2]\n",
      " [ 3  4]\n",
      " [-2  2]] \n",
      "~~~~~~~~~~\n",
      "\n",
      "[[False False]\n",
      " [ True  True]\n",
      " [ True False]] \n",
      "~~~~~~~~~~\n",
      "\n"
     ]
    },
    {
     "data": {
      "text/plain": [
       "array([ 3,  4, -2])"
      ]
     },
     "execution_count": 65,
     "metadata": {},
     "output_type": "execute_result"
    }
   ],
   "source": [
    "# Subsetting a 2D array on the basis of Boolean condition\n",
    "\n",
    "print(a, '\\n~~~~~~~~~~\\n')\n",
    "print(c, '\\n~~~~~~~~~~\\n')\n",
    "a[c]  ### return 1d array (3,) with only those elements from a where the corresponding value of c is True\n",
    "\n",
    "### c should be of same shape as a, and c should be an array of boolean values"
   ]
  },
  {
   "cell_type": "markdown",
   "metadata": {
    "id": "CqzDnwrQ3wdK"
   },
   "source": [
    "We can use , these comparison expressions directly for access. Result is only those elements for which the expression evaluates to True"
   ]
  },
  {
   "cell_type": "code",
   "execution_count": 66,
   "metadata": {
    "id": "R1qEJxb13wdM"
   },
   "outputs": [
    {
     "name": "stdout",
     "output_type": "stream",
     "text": [
      "[ 3  4 -2]\n",
      "(3,)\n"
     ]
    }
   ],
   "source": [
    "print(a[c])\n",
    "print(a[c].shape)"
   ]
  },
  {
   "cell_type": "markdown",
   "metadata": {
    "id": "4nScWeij3wdM"
   },
   "source": [
    "notice that the result is a 1D array"
   ]
  },
  {
   "cell_type": "code",
   "execution_count": 67,
   "metadata": {
    "colab": {
     "base_uri": "https://localhost:8080/"
    },
    "id": "-D5NpSIa3wdN",
    "outputId": "f0be7e1f-d201-40b9-f09a-64b1e63f7926"
   },
   "outputs": [
    {
     "name": "stdout",
     "output_type": "stream",
     "text": [
      "[[ 1  2]\n",
      " [ 3  4]\n",
      " [-2  2]] \n",
      "~~~~~~~~~~\n",
      "\n"
     ]
    },
    {
     "data": {
      "text/plain": [
       "array([[ True, False],\n",
       "       [False, False],\n",
       "       [ True, False]])"
      ]
     },
     "execution_count": 67,
     "metadata": {},
     "output_type": "execute_result"
    }
   ],
   "source": [
    "# Lets see if this works with writing mulitple conditions as well. \n",
    "# In that process we'll also see that we dont have to store results in one variable and then pass for subsetting. \n",
    "# We can instead, write the conditional expression directly for subsetting.\n",
    "\n",
    "print(a, '\\n~~~~~~~~~~\\n')\n",
    "(a>5) | (a<2)"
   ]
  },
  {
   "cell_type": "code",
   "execution_count": 68,
   "metadata": {
    "colab": {
     "base_uri": "https://localhost:8080/"
    },
    "id": "_g5oMtfnMy-U",
    "outputId": "ed87b745-74c8-427b-dde7-65dc4794e256"
   },
   "outputs": [
    {
     "data": {
      "text/plain": [
       "array([[ True, False],\n",
       "       [False, False],\n",
       "       [ True, False]])"
      ]
     },
     "execution_count": 68,
     "metadata": {},
     "output_type": "execute_result"
    }
   ],
   "source": [
    "#### difference between and and &\n",
    "(a>5) | (a<2)"
   ]
  },
  {
   "cell_type": "code",
   "execution_count": 69,
   "metadata": {
    "colab": {
     "base_uri": "https://localhost:8080/"
    },
    "id": "wWUVKA_kjp_x",
    "outputId": "3e47e081-dab8-457e-9f5e-d1b02afe7629"
   },
   "outputs": [
    {
     "name": "stdout",
     "output_type": "stream",
     "text": [
      "Matrix A: \n",
      " [[ 1  2]\n",
      " [ 3  4]\n",
      " [-2  2]] \n",
      "~~~~~~~~~~~~~~~~\n",
      "\n",
      "Matrix C: \n",
      " [[False False]\n",
      " [ True  True]\n",
      " [ True False]] \n",
      "~~~~~~~~~~~~~~~~\n",
      "\n",
      "[[False False]\n",
      " [ True  True]\n",
      " [False False]]\n",
      "**************************\n",
      "[[ True  True]\n",
      " [ True  True]\n",
      " [ True  True]]\n",
      "*************************\n",
      "[[False False]\n",
      " [ True  True]\n",
      " [False False]]\n",
      "*************************\n",
      "[[False False]\n",
      " [ True  True]\n",
      " [False False]]\n",
      "*************************\n",
      "[3 4]\n"
     ]
    }
   ],
   "source": [
    "print(\"Matrix A: \\n\", a, '\\n~~~~~~~~~~~~~~~~\\n')\n",
    "print(\"Matrix C: \\n\", c, '\\n~~~~~~~~~~~~~~~~\\n')\n",
    "\n",
    "print((a>2))  ### 2d array with True where a is greater than 2\n",
    "\n",
    "print('**************************')\n",
    "print((a<5))  ### 2d array with True where a is less than 5\n",
    "\n",
    "print('*************************')\n",
    "print((a>2) & (a<5))  ### element wise boolean operation and give a matrix again of same shape as a and true only when both the conditions are true\n",
    "\n",
    "print('*************************')\n",
    "c = (a>2) & (a<5)\n",
    "print(c)\n",
    "\n",
    "print('*************************')\n",
    "print(a[c]) ### 1d array with values where c is true"
   ]
  },
  {
   "cell_type": "markdown",
   "metadata": {},
   "source": [
    "# Reshape an Array"
   ]
  },
  {
   "cell_type": "code",
   "execution_count": 70,
   "metadata": {
    "colab": {
     "base_uri": "https://localhost:8080/"
    },
    "id": "RjkN7HKhYq8X",
    "outputId": "6985850d-c299-4533-f6bc-64002e42d838"
   },
   "outputs": [
    {
     "name": "stdout",
     "output_type": "stream",
     "text": [
      "[[1 2 3]\n",
      " [4 5 6]]\n",
      "(2, 3)\n",
      "\n",
      "~~~~~~~~~~~~~\n",
      "\n",
      "[[1 2]\n",
      " [3 4]\n",
      " [5 6]]\n",
      "(3, 2)\n"
     ]
    }
   ],
   "source": [
    "c = np.array([[1,2,3],[4,5,6]])\n",
    "print(c)\n",
    "print(c.shape)\n",
    "\n",
    "print('\\n~~~~~~~~~~~~~\\n')\n",
    "d = c.reshape((3,2))\n",
    "print(d)\n",
    "print(d.shape)"
   ]
  },
  {
   "cell_type": "markdown",
   "metadata": {},
   "source": [
    "# Transpose an Array"
   ]
  },
  {
   "cell_type": "code",
   "execution_count": 71,
   "metadata": {
    "colab": {
     "base_uri": "https://localhost:8080/"
    },
    "id": "K0iFaaPMQPz_",
    "outputId": "8d196084-ad15-4f2f-ec17-f978c283a6ee"
   },
   "outputs": [
    {
     "name": "stdout",
     "output_type": "stream",
     "text": [
      "[[1 2 3]\n",
      " [4 5 6]]\n",
      "(2, 3)\n",
      "\n",
      "~~~~~~~~~~~~~\n",
      "\n",
      "[[1 4]\n",
      " [2 5]\n",
      " [3 6]]\n",
      "(3, 2)\n",
      "\n",
      "~~~~~~~~~~~~~\n",
      "\n",
      "[[1 4]\n",
      " [2 5]\n",
      " [3 6]]\n",
      "(3, 2)\n"
     ]
    }
   ],
   "source": [
    "# In trasspose the rows will become columns or in other words the columns will become rows\n",
    "\n",
    "c = np.array([[1,2,3],[4,5,6]])\n",
    "print(c)\n",
    "print(c.shape)\n",
    "\n",
    "# Method 1:\n",
    "print('\\n~~~~~~~~~~~~~\\n')\n",
    "d = np.transpose(c)\n",
    "print(d)\n",
    "print(d.shape)\n",
    "\n",
    "# Method 2:\n",
    "print('\\n~~~~~~~~~~~~~\\n')\n",
    "e = c.T\n",
    "print(e)\n",
    "print(e.shape)"
   ]
  },
  {
   "cell_type": "markdown",
   "metadata": {
    "id": "Ey1ABrW83wdv"
   },
   "source": [
    "# Other Functions"
   ]
  },
  {
   "cell_type": "code",
   "execution_count": 72,
   "metadata": {
    "colab": {
     "base_uri": "https://localhost:8080/"
    },
    "id": "95htrIL83wdv",
    "outputId": "8a68f9a7-6345-4544-a813-70e5214e9cb6"
   },
   "outputs": [
    {
     "data": {
      "text/plain": [
       "array([[1, 2],\n",
       "       [3, 4]])"
      ]
     },
     "execution_count": 72,
     "metadata": {},
     "output_type": "execute_result"
    }
   ],
   "source": [
    "x = np.array([[1,2],[3,4]])\n",
    "x"
   ]
  },
  {
   "cell_type": "code",
   "execution_count": 73,
   "metadata": {
    "id": "DknaTsbJYrS1"
   },
   "outputs": [],
   "source": [
    "# np.sum(x)        --> sum all the values in x and will return you a scalar\n",
    "# np.sum(x,3)      --> compute elementwise sum\n",
    "# np.multiply(x)   --> multiply all the values in x and give you the scalar\n",
    "# np.multiply(x,y) --> element wise multuiplication "
   ]
  },
  {
   "cell_type": "code",
   "execution_count": 74,
   "metadata": {
    "colab": {
     "base_uri": "https://localhost:8080/"
    },
    "id": "_-9VpQGJ3wdw",
    "outputId": "65f6b476-5862-43d7-f20b-38287095f895"
   },
   "outputs": [
    {
     "data": {
      "text/plain": [
       "10"
      ]
     },
     "execution_count": 74,
     "metadata": {},
     "output_type": "execute_result"
    }
   ],
   "source": [
    "np.sum(x) ## compute the sum of all the elements in the array"
   ]
  },
  {
   "cell_type": "code",
   "execution_count": 75,
   "metadata": {
    "colab": {
     "base_uri": "https://localhost:8080/"
    },
    "id": "81MjtWp03wdx",
    "outputId": "30186714-285c-4890-d53a-75722508cea6"
   },
   "outputs": [
    {
     "name": "stdout",
     "output_type": "stream",
     "text": [
      "[4 6]\n",
      "\n",
      "~~~~~~~~~~~~~\n",
      "\n",
      "[3 7]\n"
     ]
    }
   ],
   "source": [
    "# Using axis option in the function sum , we can add across both the dimension of array separately as well\n",
    "\n",
    "print(np.sum(x, axis=0)) ## this gives us 1d array back (sum of row elements)\n",
    "print('\\n~~~~~~~~~~~~~\\n')\n",
    "print(np.sum(x, axis=1)) ## this gives us 1d array back (sum of column elements)"
   ]
  },
  {
   "cell_type": "markdown",
   "metadata": {},
   "source": [
    "# +-+-+-+-+-+-+-+-+-+-+-+-+-+-+-+-+-+-+-+-+-+-+-+-+-+-+-+-+-+-+-+-+-+-+-+-+"
   ]
  },
  {
   "cell_type": "markdown",
   "metadata": {},
   "source": [
    "# Broadcasting"
   ]
  },
  {
   "cell_type": "markdown",
   "metadata": {
    "id": "WKmV27dL3wdz"
   },
   "source": [
    "So far we have seen that, when we do operations between two arrays, operation happens between corresponding elements of the arrays. Many a times, shape of arrays will not match and correspondence between elements will not be complete. \n",
    "\n",
    "In such cases, elements of the smaller array are recycled to makeup for the correspondence."
   ]
  },
  {
   "cell_type": "code",
   "execution_count": 76,
   "metadata": {
    "id": "vmKwgRzx3wdz"
   },
   "outputs": [
    {
     "name": "stdout",
     "output_type": "stream",
     "text": [
      "[[ 1  2  3]\n",
      " [ 4  5  6]\n",
      " [ 7  8  9]\n",
      " [10 11 12]]\n",
      "(4, 3)\n"
     ]
    }
   ],
   "source": [
    "x = np.array([[1,2,3], [4,5,6], [7,8,9], [10, 11, 12]])\n",
    "print(x)\n",
    "print(x.shape)"
   ]
  },
  {
   "cell_type": "code",
   "execution_count": 77,
   "metadata": {
    "colab": {
     "base_uri": "https://localhost:8080/"
    },
    "id": "yaPYXvWdZ_t7",
    "outputId": "19a8ba62-875a-4a30-bd4a-ecf21a401615"
   },
   "outputs": [
    {
     "name": "stdout",
     "output_type": "stream",
     "text": [
      "[1 0 1]\n",
      "(3,)\n"
     ]
    }
   ],
   "source": [
    "v = np.array([1, 0, 1])\n",
    "print(v)\n",
    "print(v.shape)"
   ]
  },
  {
   "cell_type": "markdown",
   "metadata": {
    "id": "1_KdOm7o3wd2"
   },
   "source": [
    "Here v is a smaller array than x, lets see what happens when we do operation between x and v. But before that, we are going to replicate v to make up for the correpondence ourselves and see the result"
   ]
  },
  {
   "cell_type": "code",
   "execution_count": 78,
   "metadata": {
    "colab": {
     "base_uri": "https://localhost:8080/"
    },
    "id": "Lz7vDsQr3wd3",
    "outputId": "5c8e77bc-c00f-4408-848e-b99c111a39ad"
   },
   "outputs": [
    {
     "data": {
      "text/plain": [
       "array([[1, 0, 1],\n",
       "       [1, 0, 1],\n",
       "       [1, 0, 1],\n",
       "       [1, 0, 1]])"
      ]
     },
     "execution_count": 78,
     "metadata": {},
     "output_type": "execute_result"
    }
   ],
   "source": [
    "vv = np.tile(v, (4,1))  # Stack 4 copies of v on top of each other to match the shape of array x\n",
    "vv"
   ]
  },
  {
   "cell_type": "code",
   "execution_count": 79,
   "metadata": {
    "id": "dF924DTe3wd3"
   },
   "outputs": [
    {
     "name": "stdout",
     "output_type": "stream",
     "text": [
      "[[ 1  2  3]\n",
      " [ 4  5  6]\n",
      " [ 7  8  9]\n",
      " [10 11 12]]\n",
      "~~~~~\n",
      "[[1 0 1]\n",
      " [1 0 1]\n",
      " [1 0 1]\n",
      " [1 0 1]]\n"
     ]
    },
    {
     "data": {
      "text/plain": [
       "array([[ 2,  2,  4],\n",
       "       [ 5,  5,  7],\n",
       "       [ 8,  8, 10],\n",
       "       [11, 11, 13]])"
      ]
     },
     "execution_count": 79,
     "metadata": {},
     "output_type": "execute_result"
    }
   ],
   "source": [
    "print(x)\n",
    "print(\"~~~~~\")\n",
    "print(vv)\n",
    "x + vv"
   ]
  },
  {
   "cell_type": "markdown",
   "metadata": {
    "id": "_MM4SA7I3wd4"
   },
   "source": [
    "Now lets check what would have been the result if we added just x and v\n"
   ]
  },
  {
   "cell_type": "code",
   "execution_count": 80,
   "metadata": {
    "id": "hmSdRHow3wd4"
   },
   "outputs": [
    {
     "data": {
      "text/plain": [
       "array([[ 2,  2,  4],\n",
       "       [ 5,  5,  7],\n",
       "       [ 8,  8, 10],\n",
       "       [11, 11, 13]])"
      ]
     },
     "execution_count": 80,
     "metadata": {},
     "output_type": "execute_result"
    }
   ],
   "source": [
    "x + v # produce the same result as x + vv"
   ]
  },
  {
   "cell_type": "markdown",
   "metadata": {
    "id": "Y2cOi2c23wd5"
   },
   "source": [
    "Lets see some more examples of operations between mis matching shape arrays"
   ]
  },
  {
   "cell_type": "code",
   "execution_count": 81,
   "metadata": {
    "id": "3S5Aij0u3wd6"
   },
   "outputs": [],
   "source": [
    "v = np.array([1,2,3])  # v has shape (3,)\n",
    "w = np.array([4,5])    # w has shape (2,)"
   ]
  },
  {
   "cell_type": "code",
   "execution_count": 82,
   "metadata": {
    "id": "qpXmKKzr3wd9"
   },
   "outputs": [
    {
     "data": {
      "text/plain": [
       "(2, 3)"
      ]
     },
     "execution_count": 82,
     "metadata": {},
     "output_type": "execute_result"
    }
   ],
   "source": [
    "x = np.array([[1,2,3], [4,5,6]]) # x has shape (2,3)\n",
    "x.shape"
   ]
  },
  {
   "cell_type": "code",
   "execution_count": 83,
   "metadata": {
    "id": "Cl1W6gxZ3wd-"
   },
   "outputs": [
    {
     "name": "stdout",
     "output_type": "stream",
     "text": [
      "[[1 2 3]\n",
      " [4 5 6]]\n",
      "~~~~~\n",
      "[1 2 3]\n"
     ]
    },
    {
     "data": {
      "text/plain": [
       "array([[2, 4, 6],\n",
       "       [5, 7, 9]])"
      ]
     },
     "execution_count": 83,
     "metadata": {},
     "output_type": "execute_result"
    }
   ],
   "source": [
    "print(x)\n",
    "print(\"~~~~~\")\n",
    "print(v)\n",
    "x + v"
   ]
  },
  {
   "cell_type": "markdown",
   "metadata": {
    "id": "KkFwtIw13wd-"
   },
   "source": [
    "What we see here is known as broadcasting of values. But dimensions need to be compatible for that"
   ]
  },
  {
   "cell_type": "code",
   "execution_count": 84,
   "metadata": {
    "id": "wvj5icta3wd_"
   },
   "outputs": [],
   "source": [
    "v=np.array([1,2])"
   ]
  },
  {
   "cell_type": "code",
   "execution_count": 85,
   "metadata": {
    "id": "_eVHxi1T3wd_"
   },
   "outputs": [],
   "source": [
    "# print(x+v)     # ValueError: operands could not be broadcast together with shapes (2,3) (2,)"
   ]
  },
  {
   "cell_type": "markdown",
   "metadata": {},
   "source": [
    "# Linearly Spacing Arrays: linspace()"
   ]
  },
  {
   "cell_type": "code",
   "execution_count": 86,
   "metadata": {},
   "outputs": [
    {
     "name": "stdout",
     "output_type": "stream",
     "text": [
      "Help on function linspace in module numpy:\n",
      "\n",
      "linspace(start, stop, num=50, endpoint=True, retstep=False, dtype=None, axis=0)\n",
      "    Return evenly spaced numbers over a specified interval.\n",
      "    \n",
      "    Returns `num` evenly spaced samples, calculated over the\n",
      "    interval [`start`, `stop`].\n",
      "    \n",
      "    The endpoint of the interval can optionally be excluded.\n",
      "    \n",
      "    .. versionchanged:: 1.16.0\n",
      "        Non-scalar `start` and `stop` are now supported.\n",
      "    \n",
      "    .. versionchanged:: 1.20.0\n",
      "        Values are rounded towards ``-inf`` instead of ``0`` when an\n",
      "        integer ``dtype`` is specified. The old behavior can\n",
      "        still be obtained with ``np.linspace(start, stop, num).astype(int)``\n",
      "    \n",
      "    Parameters\n",
      "    ----------\n",
      "    start : array_like\n",
      "        The starting value of the sequence.\n",
      "    stop : array_like\n",
      "        The end value of the sequence, unless `endpoint` is set to False.\n",
      "        In that case, the sequence consists of all but the last of ``num + 1``\n",
      "        evenly spaced samples, so that `stop` is excluded.  Note that the step\n",
      "        size changes when `endpoint` is False.\n",
      "    num : int, optional\n",
      "        Number of samples to generate. Default is 50. Must be non-negative.\n",
      "    endpoint : bool, optional\n",
      "        If True, `stop` is the last sample. Otherwise, it is not included.\n",
      "        Default is True.\n",
      "    retstep : bool, optional\n",
      "        If True, return (`samples`, `step`), where `step` is the spacing\n",
      "        between samples.\n",
      "    dtype : dtype, optional\n",
      "        The type of the output array.  If `dtype` is not given, the data type\n",
      "        is inferred from `start` and `stop`. The inferred dtype will never be\n",
      "        an integer; `float` is chosen even if the arguments would produce an\n",
      "        array of integers.\n",
      "    \n",
      "        .. versionadded:: 1.9.0\n",
      "    \n",
      "    axis : int, optional\n",
      "        The axis in the result to store the samples.  Relevant only if start\n",
      "        or stop are array-like.  By default (0), the samples will be along a\n",
      "        new axis inserted at the beginning. Use -1 to get an axis at the end.\n",
      "    \n",
      "        .. versionadded:: 1.16.0\n",
      "    \n",
      "    Returns\n",
      "    -------\n",
      "    samples : ndarray\n",
      "        There are `num` equally spaced samples in the closed interval\n",
      "        ``[start, stop]`` or the half-open interval ``[start, stop)``\n",
      "        (depending on whether `endpoint` is True or False).\n",
      "    step : float, optional\n",
      "        Only returned if `retstep` is True\n",
      "    \n",
      "        Size of spacing between samples.\n",
      "    \n",
      "    \n",
      "    See Also\n",
      "    --------\n",
      "    arange : Similar to `linspace`, but uses a step size (instead of the\n",
      "             number of samples).\n",
      "    geomspace : Similar to `linspace`, but with numbers spaced evenly on a log\n",
      "                scale (a geometric progression).\n",
      "    logspace : Similar to `geomspace`, but with the end points specified as\n",
      "               logarithms.\n",
      "    \n",
      "    Examples\n",
      "    --------\n",
      "    >>> np.linspace(2.0, 3.0, num=5)\n",
      "    array([2.  , 2.25, 2.5 , 2.75, 3.  ])\n",
      "    >>> np.linspace(2.0, 3.0, num=5, endpoint=False)\n",
      "    array([2. ,  2.2,  2.4,  2.6,  2.8])\n",
      "    >>> np.linspace(2.0, 3.0, num=5, retstep=True)\n",
      "    (array([2.  ,  2.25,  2.5 ,  2.75,  3.  ]), 0.25)\n",
      "    \n",
      "    Graphical illustration:\n",
      "    \n",
      "    >>> import matplotlib.pyplot as plt\n",
      "    >>> N = 8\n",
      "    >>> y = np.zeros(N)\n",
      "    >>> x1 = np.linspace(0, 10, N, endpoint=True)\n",
      "    >>> x2 = np.linspace(0, 10, N, endpoint=False)\n",
      "    >>> plt.plot(x1, y, 'o')\n",
      "    [<matplotlib.lines.Line2D object at 0x...>]\n",
      "    >>> plt.plot(x2, y + 0.5, 'o')\n",
      "    [<matplotlib.lines.Line2D object at 0x...>]\n",
      "    >>> plt.ylim([-0.5, 1])\n",
      "    (-0.5, 1)\n",
      "    >>> plt.show()\n",
      "\n"
     ]
    }
   ],
   "source": [
    "help(np.linspace)"
   ]
  },
  {
   "cell_type": "code",
   "execution_count": 87,
   "metadata": {
    "colab": {
     "base_uri": "https://localhost:8080/"
    },
    "id": "I79KV_6n3weG",
    "outputId": "f388ac2f-27f5-4dc7-96a7-8ea6799faa2c"
   },
   "outputs": [
    {
     "data": {
      "text/plain": [
       "array([ 2.        ,  2.08080808,  2.16161616,  2.24242424,  2.32323232,\n",
       "        2.4040404 ,  2.48484848,  2.56565657,  2.64646465,  2.72727273,\n",
       "        2.80808081,  2.88888889,  2.96969697,  3.05050505,  3.13131313,\n",
       "        3.21212121,  3.29292929,  3.37373737,  3.45454545,  3.53535354,\n",
       "        3.61616162,  3.6969697 ,  3.77777778,  3.85858586,  3.93939394,\n",
       "        4.02020202,  4.1010101 ,  4.18181818,  4.26262626,  4.34343434,\n",
       "        4.42424242,  4.50505051,  4.58585859,  4.66666667,  4.74747475,\n",
       "        4.82828283,  4.90909091,  4.98989899,  5.07070707,  5.15151515,\n",
       "        5.23232323,  5.31313131,  5.39393939,  5.47474747,  5.55555556,\n",
       "        5.63636364,  5.71717172,  5.7979798 ,  5.87878788,  5.95959596,\n",
       "        6.04040404,  6.12121212,  6.2020202 ,  6.28282828,  6.36363636,\n",
       "        6.44444444,  6.52525253,  6.60606061,  6.68686869,  6.76767677,\n",
       "        6.84848485,  6.92929293,  7.01010101,  7.09090909,  7.17171717,\n",
       "        7.25252525,  7.33333333,  7.41414141,  7.49494949,  7.57575758,\n",
       "        7.65656566,  7.73737374,  7.81818182,  7.8989899 ,  7.97979798,\n",
       "        8.06060606,  8.14141414,  8.22222222,  8.3030303 ,  8.38383838,\n",
       "        8.46464646,  8.54545455,  8.62626263,  8.70707071,  8.78787879,\n",
       "        8.86868687,  8.94949495,  9.03030303,  9.11111111,  9.19191919,\n",
       "        9.27272727,  9.35353535,  9.43434343,  9.51515152,  9.5959596 ,\n",
       "        9.67676768,  9.75757576,  9.83838384,  9.91919192, 10.        ])"
      ]
     },
     "execution_count": 87,
     "metadata": {},
     "output_type": "execute_result"
    }
   ],
   "source": [
    "# linspace creates equally spaced numbers between the intervals provided\n",
    "# It creates a 1d array, the length of which is decided by the parameter num\n",
    "\n",
    "np.linspace(start=2, stop=10, num=100) "
   ]
  },
  {
   "cell_type": "code",
   "execution_count": 88,
   "metadata": {},
   "outputs": [
    {
     "data": {
      "image/png": "[encoded data removed]",
      "text/plain": [
       "<Figure size 432x288 with 1 Axes>"
      ]
     },
     "metadata": {
      "needs_background": "light"
     },
     "output_type": "display_data"
    }
   ],
   "source": [
    "import matplotlib.pyplot as plt\n",
    "N = 8\n",
    "y = np.zeros(N)\n",
    "x1 = np.linspace(0, 10, N, endpoint=True)\n",
    "x2 = np.linspace(0, 10, N, endpoint=False)\n",
    "plt.plot(x1, y, 'o')\n",
    "plt.plot(x2, y + 0.5, 'o')\n",
    "plt.ylim([-0.5, 1])\n",
    "plt.show()"
   ]
  },
  {
   "cell_type": "markdown",
   "metadata": {},
   "source": [
    "# Get Unique Elements from an array"
   ]
  },
  {
   "cell_type": "code",
   "execution_count": 89,
   "metadata": {},
   "outputs": [
    {
     "name": "stdout",
     "output_type": "stream",
     "text": [
      "Help on function unique in module numpy:\n",
      "\n",
      "unique(ar, return_index=False, return_inverse=False, return_counts=False, axis=None)\n",
      "    Find the unique elements of an array.\n",
      "    \n",
      "    Returns the sorted unique elements of an array. There are three optional\n",
      "    outputs in addition to the unique elements:\n",
      "    \n",
      "    * the indices of the input array that give the unique values\n",
      "    * the indices of the unique array that reconstruct the input array\n",
      "    * the number of times each unique value comes up in the input array\n",
      "    \n",
      "    Parameters\n",
      "    ----------\n",
      "    ar : array_like\n",
      "        Input array. Unless `axis` is specified, this will be flattened if it\n",
      "        is not already 1-D.\n",
      "    return_index : bool, optional\n",
      "        If True, also return the indices of `ar` (along the specified axis,\n",
      "        if provided, or in the flattened array) that result in the unique array.\n",
      "    return_inverse : bool, optional\n",
      "        If True, also return the indices of the unique array (for the specified\n",
      "        axis, if provided) that can be used to reconstruct `ar`.\n",
      "    return_counts : bool, optional\n",
      "        If True, also return the number of times each unique item appears\n",
      "        in `ar`.\n",
      "    \n",
      "        .. versionadded:: 1.9.0\n",
      "    \n",
      "    axis : int or None, optional\n",
      "        The axis to operate on. If None, `ar` will be flattened. If an integer,\n",
      "        the subarrays indexed by the given axis will be flattened and treated\n",
      "        as the elements of a 1-D array with the dimension of the given axis,\n",
      "        see the notes for more details.  Object arrays or structured arrays\n",
      "        that contain objects are not supported if the `axis` kwarg is used. The\n",
      "        default is None.\n",
      "    \n",
      "        .. versionadded:: 1.13.0\n",
      "    \n",
      "    Returns\n",
      "    -------\n",
      "    unique : ndarray\n",
      "        The sorted unique values.\n",
      "    unique_indices : ndarray, optional\n",
      "        The indices of the first occurrences of the unique values in the\n",
      "        original array. Only provided if `return_index` is True.\n",
      "    unique_inverse : ndarray, optional\n",
      "        The indices to reconstruct the original array from the\n",
      "        unique array. Only provided if `return_inverse` is True.\n",
      "    unique_counts : ndarray, optional\n",
      "        The number of times each of the unique values comes up in the\n",
      "        original array. Only provided if `return_counts` is True.\n",
      "    \n",
      "        .. versionadded:: 1.9.0\n",
      "    \n",
      "    See Also\n",
      "    --------\n",
      "    numpy.lib.arraysetops : Module with a number of other functions for\n",
      "                            performing set operations on arrays.\n",
      "    repeat : Repeat elements of an array.\n",
      "    \n",
      "    Notes\n",
      "    -----\n",
      "    When an axis is specified the subarrays indexed by the axis are sorted.\n",
      "    This is done by making the specified axis the first dimension of the array\n",
      "    (move the axis to the first dimension to keep the order of the other axes)\n",
      "    and then flattening the subarrays in C order. The flattened subarrays are\n",
      "    then viewed as a structured type with each element given a label, with the\n",
      "    effect that we end up with a 1-D array of structured types that can be\n",
      "    treated in the same way as any other 1-D array. The result is that the\n",
      "    flattened subarrays are sorted in lexicographic order starting with the\n",
      "    first element.\n",
      "    \n",
      "    .. versionchanged: NumPy 1.21\n",
      "        If nan values are in the input array, a single nan is put\n",
      "        to the end of the sorted unique values.\n",
      "    \n",
      "        Also for complex arrays all NaN values are considered equivalent\n",
      "        (no matter whether the NaN is in the real or imaginary part).\n",
      "        As the representant for the returned array the smallest one in the\n",
      "        lexicographical order is chosen - see np.sort for how the lexicographical\n",
      "        order is defined for complex arrays.\n",
      "    \n",
      "    Examples\n",
      "    --------\n",
      "    >>> np.unique([1, 1, 2, 2, 3, 3])\n",
      "    array([1, 2, 3])\n",
      "    >>> a = np.array([[1, 1], [2, 3]])\n",
      "    >>> np.unique(a)\n",
      "    array([1, 2, 3])\n",
      "    \n",
      "    Return the unique rows of a 2D array\n",
      "    \n",
      "    >>> a = np.array([[1, 0, 0], [1, 0, 0], [2, 3, 4]])\n",
      "    >>> np.unique(a, axis=0)\n",
      "    array([[1, 0, 0], [2, 3, 4]])\n",
      "    \n",
      "    Return the indices of the original array that give the unique values:\n",
      "    \n",
      "    >>> a = np.array(['a', 'b', 'b', 'c', 'a'])\n",
      "    >>> u, indices = np.unique(a, return_index=True)\n",
      "    >>> u\n",
      "    array(['a', 'b', 'c'], dtype='<U1')\n",
      "    >>> indices\n",
      "    array([0, 1, 3])\n",
      "    >>> a[indices]\n",
      "    array(['a', 'b', 'c'], dtype='<U1')\n",
      "    \n",
      "    Reconstruct the input array from the unique values and inverse:\n",
      "    \n",
      "    >>> a = np.array([1, 2, 6, 4, 2, 3, 2])\n",
      "    >>> u, indices = np.unique(a, return_inverse=True)\n",
      "    >>> u\n",
      "    array([1, 2, 3, 4, 6])\n",
      "    >>> indices\n",
      "    array([0, 1, 4, 3, 1, 2, 1])\n",
      "    >>> u[indices]\n",
      "    array([1, 2, 6, 4, 2, 3, 2])\n",
      "    \n",
      "    Reconstruct the input values from the unique values and counts:\n",
      "    \n",
      "    >>> a = np.array([1, 2, 6, 4, 2, 3, 2])\n",
      "    >>> values, counts = np.unique(a, return_counts=True)\n",
      "    >>> values\n",
      "    array([1, 2, 3, 4, 6])\n",
      "    >>> counts\n",
      "    array([1, 3, 1, 1, 1])\n",
      "    >>> np.repeat(values, counts)\n",
      "    array([1, 2, 2, 2, 3, 4, 6])    # original order not preserved\n",
      "\n"
     ]
    }
   ],
   "source": [
    "help(np.unique)"
   ]
  },
  {
   "cell_type": "code",
   "execution_count": 90,
   "metadata": {
    "colab": {
     "base_uri": "https://localhost:8080/"
    },
    "id": "eQFvu2HG3weH",
    "outputId": "ac5bc427-ec63-4883-ea61-6f60b64be744"
   },
   "outputs": [
    {
     "name": "stdout",
     "output_type": "stream",
     "text": [
      "[['a' 'b' 'a' 'a' 'b' 'c']\n",
      " ['a' 'b' 'a' 'a' 'b' 'c']]\n",
      "\n",
      "~~~~~~~~~~~~~~~~~~~~~~~~~~~\n",
      "\n",
      "['a' 'b' 'c']\n",
      "(array(['a', 'b', 'c'], dtype='<U1'), array([6, 4, 2], dtype=int64))\n"
     ]
    }
   ],
   "source": [
    "# np.unique gives out the unique elements\n",
    "\n",
    "y = np.array([['a','b','a','a','b','c'],['a','b','a','a','b','c']])\n",
    "print(y)\n",
    "print('\\n~~~~~~~~~~~~~~~~~~~~~~~~~~~\\n')\n",
    "\n",
    "print(np.unique(y))                       # Returns 1d array with all the unique values present in y\n",
    "print(np.unique(y, return_counts=True))   # Returns the number of times each element is present in the array"
   ]
  },
  {
   "cell_type": "markdown",
   "metadata": {},
   "source": [
    "# Sort, Min, Max"
   ]
  },
  {
   "cell_type": "code",
   "execution_count": 91,
   "metadata": {
    "colab": {
     "base_uri": "https://localhost:8080/"
    },
    "id": "KdMuhR8H3weH",
    "outputId": "0c99f8ca-e32e-459a-fcb7-90228e1f266d",
    "scrolled": true
   },
   "outputs": [
    {
     "name": "stdout",
     "output_type": "stream",
     "text": [
      "Original Array\n",
      " [[23 45 12 34]\n",
      " [54 12 34 58]]\n",
      "\n",
      "~~~~~~~~~~~~~~~~~~~~~~~~~~~\n",
      "\n",
      "Axis 0 sort (Column wise Sort)\n",
      "[[23 12 12 34]\n",
      " [54 45 34 58]]\n",
      "\n",
      "~~~~~~~~~~~~~~~~~~~~~~~~~~~\n",
      "\n",
      "Axis 1 sort (Row wise Sort)\n",
      "[[12 23 34 45]\n",
      " [12 34 54 58]]\n",
      "\n",
      "~~~~~~~~~~~~~~~~~~~~~~~~~~~\n",
      "\n",
      "Transpose and Sort\n",
      "[[23 54]\n",
      " [12 45]\n",
      " [12 34]\n",
      " [34 58]]\n"
     ]
    }
   ],
   "source": [
    "# sort\n",
    "\n",
    "a = np.array([[23,45,12,34],[54,12,34,58]])\n",
    "\n",
    "print('Original Array\\n',a)\n",
    "print('\\n~~~~~~~~~~~~~~~~~~~~~~~~~~~\\n')\n",
    "\n",
    "print('Axis 0 sort (Column wise Sort)')\n",
    "print(np.sort(a, axis=0))\n",
    "print('\\n~~~~~~~~~~~~~~~~~~~~~~~~~~~\\n')\n",
    "\n",
    "print('Axis 1 sort (Row wise Sort)')\n",
    "print(np.sort(a, axis=1))\n",
    "print('\\n~~~~~~~~~~~~~~~~~~~~~~~~~~~\\n')\n",
    "\n",
    "print(\"Transpose and Sort\")\n",
    "print(np.sort(a.T,axis=1))"
   ]
  },
  {
   "cell_type": "code",
   "execution_count": 92,
   "metadata": {},
   "outputs": [
    {
     "name": "stdout",
     "output_type": "stream",
     "text": [
      "[[4 3 2 1]\n",
      " [4 3 2 1]]\n"
     ]
    }
   ],
   "source": [
    "# Sort in descending order\n",
    "\n",
    "a = np.array([[2,3,1,4],[3,1,4,2]])\n",
    "a = -1 * a\n",
    "print(-1* np.sort(a)) ## this will do an ascending sort on the negated array"
   ]
  },
  {
   "cell_type": "code",
   "execution_count": 93,
   "metadata": {
    "id": "pMwjMOKv3weI"
   },
   "outputs": [
    {
     "name": "stdout",
     "output_type": "stream",
     "text": [
      "[3 2 4 0 1 5]\n",
      "[ 0  1  2 10 12 12]\n"
     ]
    }
   ],
   "source": [
    "# argsort for 1d array: Sort the values and give the index of the sorted element in the original array\n",
    "\n",
    "a = np.array([10,12,1,0,2,12]) \n",
    "    \n",
    "x=np.argsort(a) ### similar to doing np.sort(a)\n",
    "print(x)\n",
    "print(a[x])"
   ]
  },
  {
   "cell_type": "code",
   "execution_count": 94,
   "metadata": {
    "id": "9R97PJbOjoov"
   },
   "outputs": [
    {
     "name": "stdout",
     "output_type": "stream",
     "text": [
      "[[ 1 10 12]\n",
      " [ 2 13  1]\n",
      " [ 6 15  5]]\n",
      "[[0 1 2]\n",
      " [2 0 1]\n",
      " [2 0 1]]\n"
     ]
    }
   ],
   "source": [
    "# argsort for 2d array\n",
    "\n",
    "b = np.array([[1,10,12],[2,13,1],[6,15,5]])\n",
    "print(b)\n",
    "print(np.argsort(b))"
   ]
  },
  {
   "cell_type": "code",
   "execution_count": 95,
   "metadata": {
    "colab": {
     "base_uri": "https://localhost:8080/"
    },
    "id": "-TUZqnoVgpKU",
    "outputId": "d77f0f53-33c0-48a4-e836-95329d5975a3"
   },
   "outputs": [
    {
     "name": "stdout",
     "output_type": "stream",
     "text": [
      "12\n",
      "15\n"
     ]
    }
   ],
   "source": [
    "# max: return the maximum element\n",
    "\n",
    "print(np.max(a))  \n",
    "print(np.max(b))"
   ]
  },
  {
   "cell_type": "code",
   "execution_count": 96,
   "metadata": {
    "colab": {
     "base_uri": "https://localhost:8080/"
    },
    "id": "g8gHyfAIgtQz",
    "outputId": "21bdd52d-cbc0-4c0d-cbb5-c57ae714f5a1"
   },
   "outputs": [
    {
     "name": "stdout",
     "output_type": "stream",
     "text": [
      "1\n",
      "7\n"
     ]
    }
   ],
   "source": [
    "# argmax: returns the index of the maximum element\n",
    "\n",
    "print(np.argmax(a))  \n",
    "print(np.argmax(b))"
   ]
  },
  {
   "cell_type": "code",
   "execution_count": 97,
   "metadata": {
    "id": "MbLkFSt63weJ"
   },
   "outputs": [
    {
     "name": "stdout",
     "output_type": "stream",
     "text": [
      "0\n",
      "1\n"
     ]
    }
   ],
   "source": [
    "# min: return the minimum element\n",
    "\n",
    "print(np.min(a))  \n",
    "print(np.min(b))"
   ]
  },
  {
   "cell_type": "code",
   "execution_count": 98,
   "metadata": {},
   "outputs": [
    {
     "name": "stdout",
     "output_type": "stream",
     "text": [
      "3\n",
      "0\n"
     ]
    }
   ],
   "source": [
    "# argmin: returns the index of the minimum element\n",
    "\n",
    "print(np.argmin(a))  \n",
    "print(np.argmin(b))"
   ]
  },
  {
   "cell_type": "markdown",
   "metadata": {},
   "source": [
    "# +-+-+-+-+-+-+-+-+-+-+-+-+-+-+-+-+-+-+-+-+-+-+-+-+-+-+-+-+-+-+-+-+-+-+-+-+-"
   ]
  },
  {
   "cell_type": "markdown",
   "metadata": {},
   "source": [
    "# NUMPY SUMMARY"
   ]
  },
  {
   "cell_type": "code",
   "execution_count": 99,
   "metadata": {},
   "outputs": [
    {
     "name": "stdout",
     "output_type": "stream",
     "text": [
      "Length=5x3 Integer Array filled with Zeros: \n",
      " [[0 0 0]\n",
      " [0 0 0]\n",
      " [0 0 0]\n",
      " [0 0 0]\n",
      " [0 0 0]]\n",
      "\n",
      "3x5 Float Array filled with Ones: \n",
      " [[1. 1. 1. 1. 1.]\n",
      " [1. 1. 1. 1. 1.]\n",
      " [1. 1. 1. 1. 1.]]\n",
      "\n",
      "3x5 Float Array filled with 3.14: \n",
      " [[3.14 3.14 3.14 3.14 3.14]\n",
      " [3.14 3.14 3.14 3.14 3.14]\n",
      " [3.14 3.14 3.14 3.14 3.14]]\n"
     ]
    }
   ],
   "source": [
    "# Array Creation\n",
    "\n",
    "print(\"Length=5x3 Integer Array filled with Zeros: \\n\", np.zeros((5, 3), dtype=int))\n",
    "print(\"\\n3x5 Float Array filled with Ones: \\n\", np.ones((3,5), dtype=float))\n",
    "print(\"\\n3x5 Float Array filled with 3.14: \\n\", np.full((3,5), 3.14))"
   ]
  },
  {
   "cell_type": "code",
   "execution_count": 100,
   "metadata": {},
   "outputs": [
    {
     "name": "stdout",
     "output_type": "stream",
     "text": [
      "Array filled with sequence (o to 20 step 2): \n",
      " [ 0  2  4  6  8 10 12 14 16 18]\n",
      "\n",
      "Array of 5 values evenly spaced between 0 and 1: \n",
      " [0.   0.25 0.5  0.75 1.  ]\n",
      "\n",
      "3x3 Array of uniformly distributed random values between 0 and 1: \n",
      " [[0.17758131 0.06708465 0.38087148]\n",
      " [0.80813727 0.86995969 0.58075391]\n",
      " [0.89492387 0.10042049 0.54172818]]\n",
      "\n",
      "3x3 Array of normally distributed random values with mean=0 & SD=1: \n",
      " [[-1.20925256 -1.04775856 -0.92291398]\n",
      " [ 0.14292342  0.539634    0.42199308]\n",
      " [-0.10508616  0.74636075  1.64300738]]\n"
     ]
    }
   ],
   "source": [
    "print(\"Array filled with sequence (o to 20 step 2): \\n\", np.arange(0, 20, 2))\n",
    "print(\"\\nArray of 5 values evenly spaced between 0 and 1: \\n\", np.linspace(0, 1, 5))\n",
    "print(\"\\n3x3 Array of uniformly distributed random values between 0 and 1: \\n\", np.random.random((3, 3)))\n",
    "print(\"\\n3x3 Array of normally distributed random values with mean=0 & SD=1: \\n\", np.random.normal(0, 1, (3, 3)))"
   ]
  },
  {
   "cell_type": "code",
   "execution_count": 101,
   "metadata": {},
   "outputs": [
    {
     "name": "stdout",
     "output_type": "stream",
     "text": [
      "3x3 Array of random integers in the interval 0 and 10: \n",
      " [[9 6 6]\n",
      " [7 7 4]\n",
      " [3 8 1]]\n",
      "\n",
      "3x3 Identity Matrix: \n",
      " [[1. 0. 0.]\n",
      " [0. 1. 0.]\n",
      " [0. 0. 1.]]\n",
      "\n",
      "Uninitialised array of 3 integers: \n",
      " [1. 1. 1.]\n"
     ]
    }
   ],
   "source": [
    "print(\"3x3 Array of random integers in the interval 0 and 10: \\n\", np.random.randint(0, 10, (3, 3)))\n",
    "print(\"\\n3x3 Identity Matrix: \\n\", np.eye(3))\n",
    "print(\"\\nUninitialised array of 3 integers: \\n\", np.empty(3))"
   ]
  },
  {
   "cell_type": "code",
   "execution_count": 102,
   "metadata": {},
   "outputs": [
    {
     "name": "stdout",
     "output_type": "stream",
     "text": [
      "Original Array:  [0 1 2 3 4 5 6 7 8 9]\n",
      "Slicing 1-D Array (0 to 5):  [0 1 2 3 4]\n",
      "Slicing 1-D Array (Alternate Elements):  [0 2 4 6 8]\n",
      "Slicing 1-D Array (Alternate Elements starting at 1):  [1 3 5 7 9]\n",
      "Reverse an Array:  [9 8 7 6 5 4 3 2 1 0]\n",
      "Reverse alternate elements of an array from index 5:  [5 3 1]\n"
     ]
    }
   ],
   "source": [
    "# 1-D Array\n",
    "\n",
    "x=np.arange(10)\n",
    "print(\"Original Array: \", x)\n",
    "print(\"Slicing 1-D Array (0 to 5): \", x[0:5])\n",
    "print(\"Slicing 1-D Array (Alternate Elements): \", x[::2])\n",
    "print(\"Slicing 1-D Array (Alternate Elements starting at 1): \", x[1::2])\n",
    "print(\"Reverse an Array: \", x[::-1])\n",
    "print(\"Reverse alternate elements of an array from index 5: \", x[5::-2])"
   ]
  },
  {
   "cell_type": "code",
   "execution_count": 103,
   "metadata": {},
   "outputs": [
    {
     "name": "stdout",
     "output_type": "stream",
     "text": [
      "Original Array: \n",
      " [[0 1 2]\n",
      " [1 2 3]\n",
      " [2 3 4]\n",
      " [3 4 5]\n",
      " [4 5 6]]\n",
      "\n",
      "Slicing 2-D Array 2 rows, 3 columns: \n",
      " [[0 1 2]\n",
      " [1 2 3]]\n",
      "\n",
      "Slicing 2-D Array All rows, Alternate columns: \n",
      " [[0 2]\n",
      " [1 3]\n",
      " [2 4]\n",
      " [3 5]\n",
      " [4 6]]\n",
      "\n",
      "Reverse 2-D Array: \n",
      " [[6 5 4]\n",
      " [5 4 3]\n",
      " [4 3 2]\n",
      " [3 2 1]\n",
      " [2 1 0]]\n"
     ]
    }
   ],
   "source": [
    "# 2-D Array\n",
    "\n",
    "x2=np.array([(i, i+1, i+2) for i in range(5)])\n",
    "print(\"Original Array: \\n\", x2)\n",
    "print(\"\\nSlicing 2-D Array 2 rows, 3 columns: \\n\", x2[0:2, 0:3])\n",
    "print(\"\\nSlicing 2-D Array All rows, Alternate columns: \\n\", x2[:, 0::2])\n",
    "print(\"\\nReverse 2-D Array: \\n\", x2[::-1, ::-1])"
   ]
  },
  {
   "cell_type": "code",
   "execution_count": 104,
   "metadata": {},
   "outputs": [
    {
     "name": "stdout",
     "output_type": "stream",
     "text": [
      "Second Column of 2-D Array: \n",
      " [[0]\n",
      " [1]\n",
      " [2]\n",
      " [3]\n",
      " [4]]\n",
      "\n",
      "Second Column of 2-D Array as a 1-D Array: \n",
      " [1 2 3 4 5]\n",
      "\n",
      "Third row of 2-D Array: \n",
      " [[2 3 4]]\n",
      "\n",
      "Third row of 2-D Array as a 1-D Array: \n",
      " [2 3 4]\n"
     ]
    }
   ],
   "source": [
    "print(\"Second Column of 2-D Array: \\n\", x2[:, :1])\n",
    "print(\"\\nSecond Column of 2-D Array as a 1-D Array: \\n\", x2[:, 1])\n",
    "print(\"\\nThird row of 2-D Array: \\n\", x2[2:3, :])\n",
    "print(\"\\nThird row of 2-D Array as a 1-D Array: \\n\", x2[2, :])"
   ]
  },
  {
   "cell_type": "code",
   "execution_count": 105,
   "metadata": {},
   "outputs": [
    {
     "name": "stdout",
     "output_type": "stream",
     "text": [
      "\n",
      "Reshape 5x3 matrix to 3x5 matrix: \n",
      " [[0 1 2 1 2]\n",
      " [3 2 3 4 3]\n",
      " [4 5 4 5 6]]\n",
      "\n",
      "Reshape 5x3 matrix to 1-D Array of length 15: \n",
      " [0 1 2 1 2 3 2 3 4 3 4 5 4 5 6]\n",
      "\n",
      "Reshape 5x3 matrix to 2-D matrix of size 1x15: \n",
      " [[0 1 2 1 2 3 2 3 4 3 4 5 4 5 6]]\n",
      "\n",
      "Reshape 5x3 matrix to 2-D matrix of size 15x1: \n",
      " [[0]\n",
      " [1]\n",
      " [2]\n",
      " [1]\n",
      " [2]\n",
      " [3]\n",
      " [2]\n",
      " [3]\n",
      " [4]\n",
      " [3]\n",
      " [4]\n",
      " [5]\n",
      " [4]\n",
      " [5]\n",
      " [6]]\n"
     ]
    }
   ],
   "source": [
    "# Reshape Array\n",
    "\n",
    "print(\"\\nReshape 5x3 matrix to 3x5 matrix: \\n\", x2.reshape(3,5))\n",
    "print(\"\\nReshape 5x3 matrix to 1-D Array of length 15: \\n\", x2.reshape(15))\n",
    "x3 = x2.reshape(15)\n",
    "print(\"\\nReshape 5x3 matrix to 2-D matrix of size 1x15: \\n\", x3[np.newaxis, :])\n",
    "print(\"\\nReshape 5x3 matrix to 2-D matrix of size 15x1: \\n\", x3[:, np.newaxis])"
   ]
  },
  {
   "cell_type": "code",
   "execution_count": 106,
   "metadata": {},
   "outputs": [
    {
     "name": "stdout",
     "output_type": "stream",
     "text": [
      "Array 1: \n",
      " [1 2 3 4 5]\n",
      "\n",
      "Array 2: \n",
      " [ 6  7  8  9 10]\n",
      "\n",
      "Array 3: \n",
      " [11 12 13 14 15]\n",
      "\n",
      "Concatenated Array: \n",
      " [ 1  2  3  4  5  6  7  8  9 10 11 12 13 14 15]\n"
     ]
    }
   ],
   "source": [
    "# Concatenate 1-D Arrays\n",
    "\n",
    "x=np.array([1,2,3,4,5])\n",
    "y=np.array([6,7,8,9,10])\n",
    "z=np.array([11,12,13,14,15])\n",
    "print(\"Array 1: \\n\", x)\n",
    "print(\"\\nArray 2: \\n\", y)\n",
    "print(\"\\nArray 3: \\n\", z)\n",
    "print(\"\\nConcatenated Array: \\n\", np.concatenate([x,y,z]))"
   ]
  },
  {
   "cell_type": "code",
   "execution_count": 107,
   "metadata": {},
   "outputs": [
    {
     "name": "stdout",
     "output_type": "stream",
     "text": [
      "Array 1: \n",
      " [[1 2 3]\n",
      " [4 5 6]]\n",
      "\n",
      "Array 2: \n",
      " [[ 7  8  9]\n",
      " [10 11 12]]\n",
      "\n",
      "Concatenated Array (along axis 0): \n",
      " [[ 1  2  3]\n",
      " [ 4  5  6]\n",
      " [ 7  8  9]\n",
      " [10 11 12]]\n",
      "\n",
      "Concatenated Array (along axis 1): \n",
      " [[ 1  2  3  7  8  9]\n",
      " [ 4  5  6 10 11 12]]\n"
     ]
    }
   ],
   "source": [
    "# Concatenate 2-D Arrays\n",
    "\n",
    "x=np.array([[1,2,3], [4,5,6]])\n",
    "y=np.array([[7,8,9], [10,11,12]])\n",
    "print(\"Array 1: \\n\", x)\n",
    "print(\"\\nArray 2: \\n\", y)\n",
    "print(\"\\nConcatenated Array (along axis 0): \\n\", np.concatenate([x,y]))\n",
    "print(\"\\nConcatenated Array (along axis 1): \\n\", np.concatenate([x,y], axis=1))"
   ]
  },
  {
   "cell_type": "code",
   "execution_count": 108,
   "metadata": {},
   "outputs": [
    {
     "name": "stdout",
     "output_type": "stream",
     "text": [
      "\n",
      "V-Stack: \n",
      " [[ 1  2  3  4  5]\n",
      " [ 6  7  8  9 10]\n",
      " [11 12 13 14 15]]\n",
      "\n",
      "H-Stack: \n",
      " [[ 6  7  8  9 10 99]\n",
      " [11 12 13 14 15 59]]\n",
      "\n",
      "D-Stack: \n",
      " [[[5 1]\n",
      "  [4 2]\n",
      "  [3 3]\n",
      "  [2 4]\n",
      "  [1 5]]]\n"
     ]
    }
   ],
   "source": [
    "# vstack, hstack and dstack\n",
    "\n",
    "x=np.array([1,2,3,4,5])\n",
    "x1=np.array([5,4,3,2,1])\n",
    "y=np.array([[6,7,8,9,10], [11,12,13,14,15]])\n",
    "z=np.array([[99], [59]])\n",
    "\n",
    "print(\"\\nV-Stack: \\n\", np.vstack([x,y]))\n",
    "print(\"\\nH-Stack: \\n\", np.hstack([y,z]))\n",
    "print(\"\\nD-Stack: \\n\", np.dstack([x1,x]))"
   ]
  },
  {
   "cell_type": "code",
   "execution_count": 109,
   "metadata": {},
   "outputs": [
    {
     "name": "stdout",
     "output_type": "stream",
     "text": [
      "\n",
      "Splitted Arrays: \n",
      " [1 2 3] [4 5 6] [7 8 9]\n",
      "\n",
      "~~~~~~~~~~~~~~~~~~~~~~~~~~~~~~~~~\n",
      "\n",
      "\n",
      "Original Array: \n",
      " [[ 0  1  2  3]\n",
      " [ 4  5  6  7]\n",
      " [ 8  9 10 11]\n",
      " [12 13 14 15]\n",
      " [16 17 18 19]]\n",
      "\n",
      "Splitted Arrays (vsplit): \n",
      " [[ 0  1  2  3]\n",
      " [ 4  5  6  7]\n",
      " [ 8  9 10 11]] \n",
      "\n",
      " [[12 13 14 15]\n",
      " [16 17 18 19]]\n",
      "\n",
      "Splitted Arrays (hsplit): \n",
      " [[ 0  1  2]\n",
      " [ 4  5  6]\n",
      " [ 8  9 10]\n",
      " [12 13 14]\n",
      " [16 17 18]] \n",
      "\n",
      " [[ 3]\n",
      " [ 7]\n",
      " [11]\n",
      " [15]\n",
      " [19]]\n"
     ]
    }
   ],
   "source": [
    "# Splitting of Arrays\n",
    "\n",
    "x=[1,2,3,4,5,6,7,8,9]\n",
    "x1,x2,x3=np.split(x,[3,6])     # Splits by values 3 and 6 to form 3 arrays\n",
    "print(\"\\nSplitted Arrays: \\n\", x1, x2, x3)\n",
    "print('\\n~~~~~~~~~~~~~~~~~~~~~~~~~~~~~~~~~\\n')\n",
    "\n",
    "x=np.arange(20).reshape((5,4))\n",
    "print(\"\\nOriginal Array: \\n\", x)\n",
    "x1, y1 = np.vsplit(x, [3])   # Splits the (5,4) array vertically into 2 arrays of shape (3,4) and (2,4)                       \n",
    "print(\"\\nSplitted Arrays (vsplit): \\n\", x1, \"\\n\\n\", y1)\n",
    "\n",
    "x2, y2 = np.hsplit(x, [3])   # Splits the (5,4) array horizontally into 2 arrays of shape (5,3) and (5,1)\n",
    "print(\"\\nSplitted Arrays (hsplit): \\n\", x2, \"\\n\\n\", y2)"
   ]
  },
  {
   "cell_type": "code",
   "execution_count": 110,
   "metadata": {},
   "outputs": [
    {
     "name": "stdout",
     "output_type": "stream",
     "text": [
      "\n",
      "Input Matrix:\n",
      " [1 2 3 4 5]\n",
      "\n",
      "Add and Reduce:\n",
      " 15\n",
      "\n",
      "Multiply and Reduce:\n",
      " 120\n",
      "\n",
      "Add and Accumulate:\n",
      " [ 1  3  6 10 15]\n",
      "\n",
      "Multiply and Accumulate:\n",
      " [  1   2   6  24 120]\n"
     ]
    }
   ],
   "source": [
    "# Add/multiply and reduce/accumulate\n",
    "\n",
    "x=np.arange(1,6)\n",
    "print(\"\\nInput Matrix:\\n\", x)\n",
    "print(\"\\nAdd and Reduce:\\n\", np.add.reduce(x))                     # Sums up all the elements in the array\n",
    "print(\"\\nMultiply and Reduce:\\n\", np.multiply.reduce(x))           # Multiplies all the elements in the array\n",
    "print(\"\\nAdd and Accumulate:\\n\", np.add.accumulate(x))             # Cumulative sum of all the elements\n",
    "print(\"\\nMultiply and Accumulate:\\n\", np.multiply.accumulate(x))   # Cumulative Sum of Products of all elements"
   ]
  },
  {
   "cell_type": "code",
   "execution_count": 111,
   "metadata": {},
   "outputs": [
    {
     "name": "stdout",
     "output_type": "stream",
     "text": [
      "Input Matrix: \n",
      " [1 2 3 4 5]\n",
      "\n",
      "Outer Product: \n",
      " [[ 1  2  3  4  5]\n",
      " [ 2  4  6  8 10]\n",
      " [ 3  6  9 12 15]\n",
      " [ 4  8 12 16 20]\n",
      " [ 5 10 15 20 25]]\n"
     ]
    }
   ],
   "source": [
    "# Outer Product (Matrix Multiplication)\n",
    "\n",
    "print(\"Input Matrix: \\n\", x)\n",
    "print(\"\\nOuter Product: \\n\", np.multiply.outer(x, x))"
   ]
  },
  {
   "cell_type": "code",
   "execution_count": 112,
   "metadata": {},
   "outputs": [
    {
     "name": "stdout",
     "output_type": "stream",
     "text": [
      "\n",
      "Matrix A: \n",
      " [[0]\n",
      " [1]\n",
      " [2]]\n",
      "\n",
      "Matrix B: \n",
      " [0 1 2]\n",
      "\n",
      "Sum of A and B: \n",
      " [[0 1 2]\n",
      " [1 2 3]\n",
      " [2 3 4]]\n",
      "\n",
      "Product of A and B: \n",
      " [[0 0 0]\n",
      " [0 1 2]\n",
      " [0 2 4]]\n"
     ]
    }
   ],
   "source": [
    "# Broadcasting\n",
    "\n",
    "a=np.arange(3).reshape(3,1)\n",
    "b=np.arange(3)\n",
    "print(\"\\nMatrix A: \\n\", a)\n",
    "print(\"\\nMatrix B: \\n\", b)\n",
    "print(\"\\nSum of A and B: \\n\", a+b)\n",
    "print(\"\\nProduct of A and B: \\n\", a*b)"
   ]
  },
  {
   "cell_type": "code",
   "execution_count": 113,
   "metadata": {},
   "outputs": [
    {
     "name": "stdout",
     "output_type": "stream",
     "text": [
      "[1 2 3 3 4 5]\n"
     ]
    }
   ],
   "source": [
    "# Ravel: convert one numpy array into a single column\n",
    "\n",
    "x= np.array([(1,2,3),(3,4,5)])\n",
    "print(x.ravel())"
   ]
  },
  {
   "cell_type": "code",
   "execution_count": 114,
   "metadata": {},
   "outputs": [
    {
     "name": "stdout",
     "output_type": "stream",
     "text": [
      "[[1.         1.41421356 1.73205081]\n",
      " [1.73205081 2.         2.23606798]]\n",
      "1.2909944487358056\n",
      "[[ 2  4  6]\n",
      " [ 6  8 10]]\n",
      "[[0 0 0]\n",
      " [0 0 0]]\n",
      "[[ 1  4  9]\n",
      " [ 9 16 25]]\n",
      "[[1. 1. 1.]\n",
      " [1. 1. 1.]]\n"
     ]
    }
   ],
   "source": [
    "# Mathematical functions\n",
    "a=np.array([(1,2,3),(3,4,5,)])\n",
    "print(np.sqrt(a))\n",
    "print(np.std(a))\n",
    "\n",
    "x= np.array([(1,2,3),(3,4,5)])\n",
    "y= np.array([(1,2,3),(3,4,5)])\n",
    "print(x+y)\n",
    "print(x-y)\n",
    "print(x*y)\n",
    "print(x/y)"
   ]
  },
  {
   "cell_type": "code",
   "execution_count": 115,
   "metadata": {},
   "outputs": [
    {
     "name": "stdout",
     "output_type": "stream",
     "text": [
      "1\n",
      "3\n",
      "6\n",
      "[3 4 5]\n",
      "[3 5]\n"
     ]
    }
   ],
   "source": [
    "# max/min/sum\n",
    "a= np.array([1,2,3])\n",
    "print(a.min())\n",
    "print(a.max())\n",
    "print(a.sum())\n",
    "\n",
    "a= np.array([(1,2,3),(3,4,5)])\n",
    "print(a.max(axis=0))\n",
    "print(a.max(axis=1))"
   ]
  },
  {
   "cell_type": "code",
   "execution_count": 116,
   "metadata": {},
   "outputs": [
    {
     "name": "stdout",
     "output_type": "stream",
     "text": [
      "[1.         1.22222222 1.44444444 1.66666667 1.88888889 2.11111111\n",
      " 2.33333333 2.55555556 2.77777778 3.        ]\n"
     ]
    }
   ],
   "source": [
    "# Linspace\n",
    "a=np.linspace(1,3,10)\n",
    "print(a)\n",
    "# operation in python numpy which returns evenly spaced numbers over a specified interval. "
   ]
  },
  {
   "cell_type": "markdown",
   "metadata": {},
   "source": [
    "Numpy Documentation: https://numpy.org/doc/stable/index.html"
   ]
  },
  {
   "cell_type": "code",
   "execution_count": 10,
   "metadata": {},
   "outputs": [
    {
     "name": "stdout",
     "output_type": "stream",
     "text": [
      "[0. 1. 2.] \n",
      "\n",
      "[0. 1. 2. 3. 4.] \n",
      "\n",
      "[[0. 1. 2.]\n",
      " [0. 1. 2.]\n",
      " [0. 1. 2.]\n",
      " [0. 1. 2.]\n",
      " [0. 1. 2.]] \n",
      "\n",
      "[[0. 0. 0.]\n",
      " [1. 1. 1.]\n",
      " [2. 2. 2.]\n",
      " [3. 3. 3.]\n",
      " [4. 4. 4.]] \n",
      "\n"
     ]
    }
   ],
   "source": [
    "# Meshgrid: Return coordinate matrices from coordinate vectors\n",
    "\n",
    "x = np.linspace(0, 2, 3)   # 1-D Array of length 3\n",
    "y = np.linspace(0, 4, 5)   # 1-D Array of length 5\n",
    "\n",
    "xv, yv = np.meshgrid(x, y) # xv and yv are 2-D Arrays of size (5x3)\n",
    "\n",
    "print(x, '\\n')\n",
    "print(y, '\\n')\n",
    "\n",
    "print(xv, '\\n')\n",
    "print(yv, '\\n')"
   ]
  },
  {
   "cell_type": "markdown",
   "metadata": {},
   "source": [
    "Further Reading for Data Scientists:\n",
    "https://towardsdatascience.com/20-of-numpy-functions-that-data-scientists-use-80-of-the-time-d8bd9c7d144b"
   ]
  },
  {
   "cell_type": "code",
   "execution_count": null,
   "metadata": {},
   "outputs": [],
   "source": []
  }
 ],
 "metadata": {
  "anaconda-cloud": {},
  "colab": {
   "collapsed_sections": [
    "Ey1ABrW83wdv",
    "ZAvhDT2Q3weK",
    "wL-4w7L-3wgB"
   ],
   "name": "Data_Handling_With_Python_Reading_(1) (1).ipynb",
   "provenance": []
  },
  "kernelspec": {
   "display_name": "Python 3 (ipykernel)",
   "language": "python",
   "name": "python3"
  },
  "language_info": {
   "codemirror_mode": {
    "name": "ipython",
    "version": 3
   },
   "file_extension": ".py",
   "mimetype": "text/x-python",
   "name": "python",
   "nbconvert_exporter": "python",
   "pygments_lexer": "ipython3",
   "version": "3.9.7"
  }
 },
 "nbformat": 4,
 "nbformat_minor": 1
}
