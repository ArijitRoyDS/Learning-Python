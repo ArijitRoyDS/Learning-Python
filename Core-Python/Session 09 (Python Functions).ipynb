{
 "cells": [
  {
   "cell_type": "markdown",
   "id": "b9f02432",
   "metadata": {},
   "source": [
    "# Python Functions"
   ]
  },
  {
   "cell_type": "code",
   "execution_count": 44,
   "id": "e9362851",
   "metadata": {},
   "outputs": [
    {
     "name": "stdout",
     "output_type": "stream",
     "text": [
      "Hello\n",
      "Hello\n",
      "Hello\n",
      "Hello\n",
      "Hello\n"
     ]
    }
   ],
   "source": [
    "# Why Functions?:\n",
    "# We can re-use the code if we write the code inside a function\n",
    "# Used while it is required to execute the same expressions repeatedly\n",
    "# Function should be defined before calling it\n",
    "\n",
    "def my_func():             # Function Definition\n",
    "    for i in range(5):\n",
    "        print('Hello')\n",
    "\n",
    "my_func()                  # Function Call"
   ]
  },
  {
   "cell_type": "code",
   "execution_count": 2,
   "id": "ead9faca",
   "metadata": {
    "id": "ead9faca"
   },
   "outputs": [
    {
     "ename": "SyntaxError",
     "evalue": "invalid syntax (Temp/ipykernel_16796/119599721.py, line 2)",
     "output_type": "error",
     "traceback": [
      "\u001b[1;36m  File \u001b[1;32m\"C:\\Users\\A031828\\AppData\\Local\\Temp/ipykernel_16796/119599721.py\"\u001b[1;36m, line \u001b[1;32m2\u001b[0m\n\u001b[1;33m    def func_name(param1, param2, param3..):\u001b[0m\n\u001b[1;37m                                        ^\u001b[0m\n\u001b[1;31mSyntaxError\u001b[0m\u001b[1;31m:\u001b[0m invalid syntax\n"
     ]
    }
   ],
   "source": [
    "# Function definition\n",
    "def func_name(param1, param2, param3..):\n",
    "    code1\n",
    "    code2\n",
    "    code3\n",
    "    code4\n",
    "    return stat\n",
    "\n",
    "# parameter and return statements are optional\n",
    "# If you do not write return statement then default return value is None\n",
    "\n",
    "\n",
    "# Function call\n",
    "func_name(arg1, arg2, arg3..)"
   ]
  },
  {
   "cell_type": "code",
   "execution_count": 1,
   "id": "e5aa1810",
   "metadata": {
    "ExecuteTime": {
     "end_time": "2021-09-04T03:33:05.992049Z",
     "start_time": "2021-09-04T03:33:05.976264Z"
    },
    "id": "e5aa1810",
    "outputId": "f95201b3-e576-486b-82fd-fc4feedf4238"
   },
   "outputs": [
    {
     "name": "stdout",
     "output_type": "stream",
     "text": [
      "Even\n",
      "Odd\n",
      "Even\n",
      "Even\n",
      "Odd\n"
     ]
    }
   ],
   "source": [
    "# Write a function, to check a number is even or odd?\n",
    "\n",
    "def even_odd(num):\n",
    "    if num%2 == 0:\n",
    "        print('Even')\n",
    "    else:\n",
    "        print('Odd')\n",
    "        \n",
    "even_odd(90)\n",
    "even_odd(105)\n",
    "even_odd(32)\n",
    "even_odd(20)\n",
    "even_odd(43)"
   ]
  },
  {
   "cell_type": "code",
   "execution_count": 70,
   "id": "488d6fd0",
   "metadata": {
    "ExecuteTime": {
     "end_time": "2021-09-04T03:54:29.024858Z",
     "start_time": "2021-09-04T03:54:27.546048Z"
    },
    "id": "488d6fd0",
    "outputId": "f3d5e78f-8529-4dc6-9acc-d4a1c0140c5e"
   },
   "outputs": [
    {
     "name": "stdout",
     "output_type": "stream",
     "text": [
      "Enter a number:10\n",
      "10 is not a Prime number\n",
      "Enter a number:11\n",
      "11 is a Prime Number\n",
      "Enter a number:1\n",
      "Enter the number greater than 1\n"
     ]
    }
   ],
   "source": [
    "# Write a function, to check a number is prime or not?\n",
    "       \n",
    "def isprime(a):\n",
    "    if (a > 1):\n",
    "        for i in range (2, a//2):            # a//2 returns the quotient of a/2\n",
    "            if a%i == 0:\n",
    "                print(a, \"is not a Prime number\")\n",
    "                break\n",
    "        else:\n",
    "            print(a, \"is a Prime Number\")\n",
    "    else:\n",
    "        print(\"Enter the number greater than 1\")\n",
    "    \n",
    "a = int(input(\"Enter a number:\"))        \n",
    "isprime(a)\n",
    "\n",
    "b = int(input(\"Enter a number:\"))        \n",
    "isprime(b)\n",
    "\n",
    "c = int(input(\"Enter a number:\"))        \n",
    "isprime(c)"
   ]
  },
  {
   "cell_type": "code",
   "execution_count": 2,
   "id": "e120b6fc",
   "metadata": {
    "ExecuteTime": {
     "end_time": "2021-09-04T03:59:05.784858Z",
     "start_time": "2021-09-04T03:59:05.778195Z"
    },
    "id": "e120b6fc",
    "outputId": "5ad6ab6c-c2ef-4edb-dbd8-4ed9418f8ce3"
   },
   "outputs": [
    {
     "name": "stdout",
     "output_type": "stream",
     "text": [
      "abc  -> not a palindrome\n",
      "abcba  -> palindrome\n",
      "1991  -> palindrome\n",
      "ABCdef  -> not a palindrome\n"
     ]
    }
   ],
   "source": [
    "# Write a function, which takes a list of string and checks which string is palindrome/\n",
    "# lst = ['abc', 'abcba', '1991', 'ABCdef']\n",
    "# 'abcba' -> palindrome\n",
    "# '1991' -> Palindrome\n",
    "\n",
    "\n",
    "def palindrome(lst):\n",
    "    for i in lst:\n",
    "        if(i==i[::-1]):\n",
    "            print(i, ' -> palindrome')\n",
    "        else:\n",
    "            print(i, ' -> not a palindrome')\n",
    "            \n",
    "palindrome(['abc', 'abcba', '1991', 'ABCdef'])"
   ]
  },
  {
   "cell_type": "code",
   "execution_count": 3,
   "id": "b6b4f6a8",
   "metadata": {
    "ExecuteTime": {
     "end_time": "2021-09-04T04:26:17.335531Z",
     "start_time": "2021-09-04T04:26:17.320564Z"
    },
    "id": "b6b4f6a8"
   },
   "outputs": [
    {
     "name": "stdout",
     "output_type": "stream",
     "text": [
      "[10, 12, 14, 16]\n"
     ]
    }
   ],
   "source": [
    "# Return statements\n",
    "# Return statment marks the completion of function execution\n",
    "\n",
    "# Program to print even numbers in a given list:\n",
    "def even_odd(num):\n",
    "    if num%2 == 0:\n",
    "        return True\n",
    "    else:\n",
    "        return False\n",
    "\n",
    "def my_filter(func, lst):\n",
    "    out_lst = []\n",
    "    for i in lst:\n",
    "        if func(i) == True:\n",
    "            out_lst.append(i)\n",
    "    print(out_lst)\n",
    "\n",
    "my_filter(even_odd, [10, 11, 12, 13, 14, 15, 16, 17])"
   ]
  },
  {
   "cell_type": "code",
   "execution_count": 8,
   "id": "316fb67a",
   "metadata": {},
   "outputs": [
    {
     "data": {
      "text/plain": [
       "120"
      ]
     },
     "execution_count": 8,
     "metadata": {},
     "output_type": "execute_result"
    }
   ],
   "source": [
    "#recursion - function calls itself\n",
    "\n",
    "#Finding the factorial of a number\n",
    "#fact(5) = 5*4*3*2*1\n",
    "\n",
    "def fact(num):\n",
    "    if num < 0:\n",
    "        return 'Number should be a positive value'\n",
    "    elif num == 1 or num == 0:\n",
    "        return 1\n",
    "    else:\n",
    "        return num*fact(num-1)   \n",
    "    \n",
    "fact(5)"
   ]
  },
  {
   "cell_type": "code",
   "execution_count": 42,
   "id": "66f8a86b",
   "metadata": {},
   "outputs": [
    {
     "name": "stdout",
     "output_type": "stream",
     "text": [
      "3000\n"
     ]
    }
   ],
   "source": [
    "import sys\n",
    "print(sys.getrecursionlimit())"
   ]
  },
  {
   "cell_type": "code",
   "execution_count": null,
   "id": "ed5d64e0",
   "metadata": {
    "ExecuteTime": {
     "end_time": "2021-09-04T04:23:16.450222Z",
     "start_time": "2021-09-04T04:23:16.438945Z"
    },
    "id": "ed5d64e0"
   },
   "outputs": [],
   "source": [
    "# Default recursion limit in Python is 3000.\n",
    "# However you can manually set it using the below code at the beginning of the program:\n",
    "\n",
    "import sys\n",
    "sys.setrecursionlimit(20000)"
   ]
  },
  {
   "cell_type": "code",
   "execution_count": 72,
   "id": "16dde5bf",
   "metadata": {
    "ExecuteTime": {
     "end_time": "2021-09-04T05:27:53.789719Z",
     "start_time": "2021-09-04T05:27:53.781376Z"
    },
    "id": "16dde5bf"
   },
   "outputs": [
    {
     "name": "stdout",
     "output_type": "stream",
     "text": [
      "10 20 40 30\n",
      "90000\n",
      "Abhishek\n",
      "101\n"
     ]
    },
    {
     "ename": "TypeError",
     "evalue": "emp_details() takes 3 positional arguments but 4 were given",
     "output_type": "error",
     "traceback": [
      "\u001b[1;31m---------------------------------------------------------------------------\u001b[0m",
      "\u001b[1;31mTypeError\u001b[0m                                 Traceback (most recent call last)",
      "\u001b[1;32m~\\AppData\\Local\\Temp/ipykernel_7852/3835149297.py\u001b[0m in \u001b[0;36m<module>\u001b[1;34m\u001b[0m\n\u001b[0;32m     16\u001b[0m \u001b[1;33m\u001b[0m\u001b[0m\n\u001b[0;32m     17\u001b[0m \u001b[0memp_details\u001b[0m\u001b[1;33m(\u001b[0m\u001b[1;36m101\u001b[0m\u001b[1;33m,\u001b[0m \u001b[1;36m90000\u001b[0m\u001b[1;33m,\u001b[0m \u001b[1;34m'Abhishek'\u001b[0m\u001b[1;33m)\u001b[0m                  \u001b[1;31m# Mismatch in positional arguments but no error\u001b[0m\u001b[1;33m\u001b[0m\u001b[1;33m\u001b[0m\u001b[0m\n\u001b[1;32m---> 18\u001b[1;33m \u001b[0memp_details\u001b[0m\u001b[1;33m(\u001b[0m\u001b[1;34m'Abhishek'\u001b[0m\u001b[1;33m,\u001b[0m \u001b[1;36m101\u001b[0m\u001b[1;33m,\u001b[0m \u001b[1;36m90000\u001b[0m\u001b[1;33m,\u001b[0m \u001b[1;34m'Bengaluru'\u001b[0m\u001b[1;33m)\u001b[0m     \u001b[1;31m# Type Error: emp_details() takes 3 positional arguments but 4 were given\u001b[0m\u001b[1;33m\u001b[0m\u001b[1;33m\u001b[0m\u001b[0m\n\u001b[0m",
      "\u001b[1;31mTypeError\u001b[0m: emp_details() takes 3 positional arguments but 4 were given"
     ]
    }
   ],
   "source": [
    "# Parameters and arguments\n",
    "# 1. Positional Parameters - Position matters/order matters\n",
    "# No of args and no of parameters should match\n",
    "\n",
    "# Parameters, Arguments and their position match\n",
    "def my_func(a, b, c, d):\n",
    "    print(a, b, c, d)\n",
    "    \n",
    "my_func(10, 20, 40, 30)\n",
    "\n",
    "# Parameters, Arguments and their position do not match. Hence throws Type Error\n",
    "def emp_details(emp_sal, emp_name, emp_id):\n",
    "    print(emp_name)\n",
    "    print(emp_id)\n",
    "    print(emp_sal)\n",
    "    \n",
    "emp_details(101, 90000, 'Abhishek')                  # Mismatch in positional arguments but no error\n",
    "emp_details('Abhishek', 101, 90000, 'Bengaluru')     # Type Error: emp_details() takes 3 positional arguments but 4 were given"
   ]
  },
  {
   "cell_type": "code",
   "execution_count": 12,
   "id": "316704f2",
   "metadata": {},
   "outputs": [
    {
     "name": "stdout",
     "output_type": "stream",
     "text": [
      "Abhishek\n",
      "101\n",
      "90000\n",
      "Bangalore\n",
      "Volvo\n",
      "\n",
      "\n",
      "Abhishek\n",
      "101\n",
      "90000\n",
      "Chennai\n",
      "HCL\n"
     ]
    }
   ],
   "source": [
    "# Default param - Default param should always follow the postional Param. For eg:\n",
    "\n",
    "def emp_details(emp_name, emp_id, emp_sal, emp_loc = 'Bangalore', emp_org = 'Volvo'):\n",
    "    print(emp_name)\n",
    "    print(emp_id)\n",
    "    print(emp_sal)\n",
    "    print(emp_loc)\n",
    "    print(emp_org)\n",
    "    \n",
    "emp_details('Abhishek', 101, 90000)\n",
    "print('\\n')\n",
    "emp_details('Abhishek', 101, 90000, 'Chennai', 'HCL')"
   ]
  },
  {
   "cell_type": "code",
   "execution_count": 73,
   "id": "c6ae9c08",
   "metadata": {
    "ExecuteTime": {
     "end_time": "2021-09-04T05:39:33.078530Z",
     "start_time": "2021-09-04T05:39:33.068315Z"
    },
    "id": "c6ae9c08",
    "outputId": "c9b162df-189a-4bbf-f5a5-4ff7d18a3657"
   },
   "outputs": [
    {
     "name": "stdout",
     "output_type": "stream",
     "text": [
      "\n",
      "\n",
      "12\n",
      "13\n",
      "25\n",
      "\n",
      "\n",
      "12\n",
      "13\n",
      "25\n"
     ]
    }
   ],
   "source": [
    "# Aliasing a Function\n",
    "\n",
    "def my_func(a, b):\n",
    "    print('\\n')\n",
    "    print(a)\n",
    "    print(b)\n",
    "    print(a+b)\n",
    "    \n",
    "my_func(12, 13)\n",
    "\n",
    "a = my_func\n",
    "a(12, 13)"
   ]
  },
  {
   "cell_type": "code",
   "execution_count": 48,
   "id": "6cd3eea4",
   "metadata": {},
   "outputs": [
    {
     "name": "stdout",
     "output_type": "stream",
     "text": [
      "10\n"
     ]
    }
   ],
   "source": [
    "# Annonymous function - A function without name\n",
    "# Syntax of annonymous function\n",
    "# lambda var1, var2, var3... : expr, where var1, var2, var3... are the arguments passed to the function, \n",
    "# and expr is the return value\n",
    "# Use lambda functions when an anonymous function is required for a short period of time.\n",
    "\n",
    "a = lambda num1, num2 : num1+num2   # Adds num1 and num2 and return the result\n",
    "print(a(4,6))\n",
    "\n",
    "# In lambda, return statement is not required as it returns only one value"
   ]
  },
  {
   "cell_type": "markdown",
   "id": "e4f81e15",
   "metadata": {
    "ExecuteTime": {
     "end_time": "2021-09-04T06:03:29.294665Z",
     "start_time": "2021-09-04T06:03:29.278531Z"
    },
    "id": "e166c3c3",
    "outputId": "43155e58-33c1-48e9-acc2-452ecdac4d9d"
   },
   "source": [
    "# Filter, map, reduce"
   ]
  },
  {
   "cell_type": "code",
   "execution_count": 56,
   "id": "38568d28",
   "metadata": {
    "id": "38568d28"
   },
   "outputs": [
    {
     "name": "stdout",
     "output_type": "stream",
     "text": [
      "['a', 'e', 'i', 'o']\n",
      "['a', 'e', 'i', 'o']\n"
     ]
    }
   ],
   "source": [
    "# Filter\n",
    "# filter function add the values from given sequence to filter object if expression of the function is evaluated as True\n",
    "# Syntax: filter (function_name, iterables)\n",
    "\n",
    "# Example 1:\n",
    "\n",
    "letters = ['a', 'b', 'd', 'e', 'f', 'g', 'h', 'i', 'j', 'k', 'l', 'm', 'n', 'o']\n",
    "\n",
    "def filter_vowels(letter):                        # a function that returns True if a letter is vowel\n",
    "    vowels = ['a', 'e', 'i', 'o', 'u']\n",
    "    return True if letter in vowels else False\n",
    "\n",
    "a = list(filter(filter_vowels, letters))       # Filter function\n",
    "print(a)"
   ]
  },
  {
   "cell_type": "code",
   "execution_count": 55,
   "id": "9ad1c495",
   "metadata": {},
   "outputs": [
    {
     "name": "stdout",
     "output_type": "stream",
     "text": [
      "['a', 'e', 'i', 'o']\n"
     ]
    }
   ],
   "source": [
    "# Traditional way of writing the above code:\n",
    "\n",
    "letters = ['a', 'b', 'd', 'e', 'f', 'g', 'h', 'i', 'j', 'k', 'l', 'm', 'n', 'o']\n",
    "\n",
    "def filter_vowels(letter):\n",
    "    vowels = ['a', 'e', 'i', 'o', 'u']\n",
    "    if letter in vowels:\n",
    "        return letter\n",
    "\n",
    "filtered_vowels = []\n",
    "for l in letters:\n",
    "    f = filter_vowels(l)\n",
    "    if f != None:\n",
    "        filtered_vowels.append(f) \n",
    "        \n",
    "print(filtered_vowels)       "
   ]
  },
  {
   "cell_type": "code",
   "execution_count": 75,
   "id": "3db00492",
   "metadata": {},
   "outputs": [
    {
     "name": "stdout",
     "output_type": "stream",
     "text": [
      "(30, 50, 25, 80, 70, 65, 44, 29)\n"
     ]
    }
   ],
   "source": [
    "# Example 2 (Using Lambda with Filter function):\n",
    "# Filter the list, for those visiors which are having age>18\n",
    "age_lst = [10, 30, 50, 15, 25, 80, 70, 65, 44, 29, 11, 9]\n",
    "f = tuple(filter(lambda age:age>18, age_lst))\n",
    "print(f)"
   ]
  },
  {
   "cell_type": "code",
   "execution_count": 1,
   "id": "e93c3c82",
   "metadata": {},
   "outputs": [
    {
     "name": "stdout",
     "output_type": "stream",
     "text": [
      "[30, 50, 25, 80, 70, 65, 44, 29]\n"
     ]
    }
   ],
   "source": [
    "age_lst = [10, 30, 50, 15, 25, 80, 70, 65, 44, 29, 11, 9]\n",
    "f = [i for i in age_lst if i>18]\n",
    "print(f)"
   ]
  },
  {
   "cell_type": "code",
   "execution_count": 20,
   "id": "58aed3aa",
   "metadata": {},
   "outputs": [
    {
     "name": "stdout",
     "output_type": "stream",
     "text": [
      "['krishna@yahoo.co.in', 'abhishek@rediffmail.com']\n"
     ]
    }
   ],
   "source": [
    "# Example 3 (Using Lambda with Filter function):\n",
    "# WAP which gives an output list of email ids where length of username is greater than 5\n",
    "\n",
    "lst_email = ['abc@gmail.com', 'rohit@hotmail.com', 'krishna@yahoo.co.in', 'abhishek@rediffmail.com']\n",
    "f = list(filter(lambda email : len(email[:email.index('@')])>5, lst_email))\n",
    "print(f)"
   ]
  },
  {
   "cell_type": "code",
   "execution_count": 21,
   "id": "8ecdc562",
   "metadata": {},
   "outputs": [
    {
     "name": "stdout",
     "output_type": "stream",
     "text": [
      "[2, 4, 6, 8]\n"
     ]
    }
   ],
   "source": [
    "# map() function returns a map object (which is an iterator) of the results after applying the given function \n",
    "# to each item of a given iterable (list, tuple etc.)\n",
    "# Syntax: map(func, seq) -> returns a map object\n",
    "\n",
    "# Example 1:\n",
    "# Return double of n\n",
    "def addition(n):\n",
    "    return n + n\n",
    "  \n",
    "numbers = (1, 2, 3, 4)\n",
    "result = list(map(addition, numbers))\n",
    "print(result)"
   ]
  },
  {
   "cell_type": "code",
   "execution_count": null,
   "id": "4f845a0e",
   "metadata": {},
   "outputs": [],
   "source": [
    "# Difference between Map() and Filter():\n",
    "\n",
    "# map() returns a result after evaluating the expression given in the function on each item in the iterable (list, tuple etc..)\n",
    "# filter() returns a filtered list after applying certain conditions on the input iterable (list, tuple etc..)"
   ]
  },
  {
   "cell_type": "code",
   "execution_count": 22,
   "id": "48ca0dec",
   "metadata": {},
   "outputs": [
    {
     "name": "stdout",
     "output_type": "stream",
     "text": [
      "['Abhishek Gupta', 'Krishna Kumar', 'Rahul Kashyap', 'Dhruv Shah']\n"
     ]
    }
   ],
   "source": [
    "# Example 2 (Using Lambda with Map function):\n",
    "# WAP which concatenates first and last names to give full name\n",
    "\n",
    "first_name = ['Abhishek', 'Krishna', 'Rahul', 'Dhruv']\n",
    "last_name = ['Gupta', 'Kumar', 'Kashyap', 'Shah']\n",
    "full_name = list(map(lambda f_name, l_name:f_name + ' ' + l_name, first_name, last_name))\n",
    "print(full_name)"
   ]
  },
  {
   "cell_type": "code",
   "execution_count": 77,
   "id": "ef21975c",
   "metadata": {},
   "outputs": [
    {
     "name": "stdout",
     "output_type": "stream",
     "text": [
      "[121, 144, 169, 196, 225, 256, 289, 324, 361]\n"
     ]
    }
   ],
   "source": [
    "# Example 3: (Using Lambda with Map Function)\n",
    "# map function adds the expression result of lambda function to the map object for ech value of given sequence,\n",
    "\n",
    "# WAP which gives square of each number in a given list\n",
    "lst_num = [11, 12, 13, 14, 15, 16, 17, 18, 19]\n",
    "m = list(map(lambda num:num**2, lst_num))\n",
    "print(m)"
   ]
  },
  {
   "cell_type": "code",
   "execution_count": 26,
   "id": "2ba4d4ba",
   "metadata": {},
   "outputs": [
    {
     "name": "stdout",
     "output_type": "stream",
     "text": [
      "['Access Denied', 'Access granted', 'Access granted', 'Access Denied', 'Access granted', 'Access granted', 'Access granted', 'Access granted', 'Access granted', 'Access granted', 'Access Denied', 'Access Denied']\n"
     ]
    }
   ],
   "source": [
    "# Example 4: (Using Lambda with Map Function)\n",
    "# create a list where if age is less than 18 the corresponding element will be \"Access denied\" \n",
    "# and if age is greater than 18 the corresponding element will be 'Access granted'\n",
    "# Sample Input = [10, 30, 50, 15]\n",
    "# Sample Output = ['Access Denied', 'Access granted', 'Access granted', 'Access Denied']\n",
    "\n",
    "age_lst = [10, 30, 50, 15, 25, 80, 70, 65, 44, 29, 11, 9]\n",
    "m = list(map(lambda age:'Access Denied' if age<18 else 'Access granted', age_lst))\n",
    "print(m)"
   ]
  },
  {
   "cell_type": "code",
   "execution_count": 31,
   "id": "75dbc5f5",
   "metadata": {},
   "outputs": [
    {
     "name": "stdout",
     "output_type": "stream",
     "text": [
      "450\n",
      "362880000000000\n",
      "90\n",
      "10\n"
     ]
    }
   ],
   "source": [
    "# reduce function - aggregate - sum, max, min, prod\n",
    "# Returns a single value after performing the evaluation on the iterables\n",
    "# To use the reduce function, we need to import it from functools\n",
    "\n",
    "# Steps:\n",
    "# Apply a function to the first two items in an iterable and generate a partial result.\n",
    "# Use that partial result, together with the third item in the iterable, to generate another partial result.\n",
    "# Repeat the process until the iterable is exhausted and then return a single cumulative value.\n",
    "\n",
    "from functools import reduce\n",
    "\n",
    "lst = [10, 20, 30, 40, 50, 60, 70, 80, 90]\n",
    "print(reduce(lambda num1, num2:num1+num2, lst))                     # Sum of all the numbers\n",
    "print(reduce(lambda num1, num2:num1*num2, lst))                     # Product of all the numbers\n",
    "print(reduce(lambda num1, num2:num1 if num1>num2 else num2, lst))   # Maximum of the list\n",
    "print(reduce(lambda num1, num2:num1 if num1<num2 else num2, lst))   # Minimum of the list"
   ]
  },
  {
   "cell_type": "code",
   "execution_count": 83,
   "id": "b6fcc0c0",
   "metadata": {},
   "outputs": [
    {
     "name": "stdout",
     "output_type": "stream",
     "text": [
      "['__add__', '__class__', '__contains__', '__delattr__', '__dir__', '__doc__', '__eq__', '__format__', '__ge__', '__getattribute__', '__getitem__', '__getnewargs__', '__gt__', '__hash__', '__init__', '__init_subclass__', '__iter__', '__le__', '__len__', '__lt__', '__mod__', '__mul__', '__ne__', '__new__', '__reduce__', '__reduce_ex__', '__repr__', '__rmod__', '__rmul__', '__setattr__', '__sizeof__', '__str__', '__subclasshook__', 'capitalize', 'casefold', 'center', 'count', 'encode', 'endswith', 'expandtabs', 'find', 'format', 'format_map', 'index', 'isalnum', 'isalpha', 'isascii', 'isdecimal', 'isdigit', 'isidentifier', 'islower', 'isnumeric', 'isprintable', 'isspace', 'istitle', 'isupper', 'join', 'ljust', 'lower', 'lstrip', 'maketrans', 'partition', 'removeprefix', 'removesuffix', 'replace', 'rfind', 'rindex', 'rjust', 'rpartition', 'rsplit', 'rstrip', 'split', 'splitlines', 'startswith', 'strip', 'swapcase', 'title', 'translate', 'upper', 'zfill']\n"
     ]
    }
   ],
   "source": [
    "# ITERATORS & GENERATORS\n",
    "\n",
    "# Iterable - which implements __iter__\n",
    "print(dir(str))\n",
    "# print(dir(list))\n",
    "# print(dir(int))\n",
    "# print(dir(float))"
   ]
  },
  {
   "cell_type": "code",
   "execution_count": 86,
   "id": "463d25ef",
   "metadata": {},
   "outputs": [
    {
     "name": "stdout",
     "output_type": "stream",
     "text": [
      "Help on method_descriptor:\n",
      "\n",
      "capitalize(self, /)\n",
      "    Return a capitalized version of the string.\n",
      "    \n",
      "    More specifically, make the first character have upper case and the rest lower\n",
      "    case.\n",
      "\n"
     ]
    }
   ],
   "source": [
    "help(str.capitalize)"
   ]
  },
  {
   "cell_type": "code",
   "execution_count": 38,
   "id": "10307b8e",
   "metadata": {},
   "outputs": [
    {
     "name": "stdout",
     "output_type": "stream",
     "text": [
      "str is Iterable\n",
      "list is Iterable\n",
      "tuple is Iterable\n",
      "dict is Iterable\n",
      "range is Iterable\n",
      "int is Non Iterable\n",
      "float is Non Iterable\n",
      "filter is Iterable\n"
     ]
    }
   ],
   "source": [
    "# Iterable - which implements __iter__\n",
    "print(\"str is Iterable\"    if \"__iter__\" in dir(str)    else \"str is Non Iterable\",    end = '\\n')\n",
    "print(\"list is Iterable\"   if \"__iter__\" in dir(list)   else \"list is Non Iterable\",   end = '\\n')\n",
    "print(\"tuple is Iterable\"  if \"__iter__\" in dir(tuple)  else \"tuple is Non Iterable\",  end = '\\n')\n",
    "print(\"dict is Iterable\"   if \"__iter__\" in dir(dict)   else \"dict is Non Iterable\",   end = '\\n')\n",
    "print(\"range is Iterable\"  if \"__iter__\" in dir(range)  else \"range is Non Iterable\",  end = '\\n')\n",
    "print(\"int is Iterable\"    if \"__iter__\" in dir(int)    else \"int is Non Iterable\",    end = '\\n')\n",
    "print(\"float is Iterable\"  if \"__iter__\" in dir(float)  else \"float is Non Iterable\",  end = '\\n')\n",
    "print(\"filter is Iterable\" if \"__iter__\" in dir(filter) else \"filter is Non Iterable\", end = '\\n')"
   ]
  },
  {
   "cell_type": "code",
   "execution_count": 3,
   "id": "82c2b7b0",
   "metadata": {},
   "outputs": [
    {
     "name": "stdout",
     "output_type": "stream",
     "text": [
      "<class 'filter'>\n",
      "\n",
      "30\n",
      "50\n",
      "25\n",
      "80\n",
      "70\n",
      "65\n",
      "44\n",
      "29\n"
     ]
    },
    {
     "ename": "StopIteration",
     "evalue": "",
     "output_type": "error",
     "traceback": [
      "\u001b[1;31m---------------------------------------------------------------------------\u001b[0m",
      "\u001b[1;31mStopIteration\u001b[0m                             Traceback (most recent call last)",
      "\u001b[1;32m~\\AppData\\Local\\Temp/ipykernel_21852/4233600234.py\u001b[0m in \u001b[0;36m<module>\u001b[1;34m\u001b[0m\n\u001b[0;32m     14\u001b[0m \u001b[0mprint\u001b[0m\u001b[1;33m(\u001b[0m\u001b[0mnext\u001b[0m\u001b[1;33m(\u001b[0m\u001b[0mfilter_age_lst\u001b[0m\u001b[1;33m)\u001b[0m\u001b[1;33m)\u001b[0m\u001b[1;33m\u001b[0m\u001b[1;33m\u001b[0m\u001b[0m\n\u001b[0;32m     15\u001b[0m \u001b[0mprint\u001b[0m\u001b[1;33m(\u001b[0m\u001b[0mnext\u001b[0m\u001b[1;33m(\u001b[0m\u001b[0mfilter_age_lst\u001b[0m\u001b[1;33m)\u001b[0m\u001b[1;33m)\u001b[0m\u001b[1;33m\u001b[0m\u001b[1;33m\u001b[0m\u001b[0m\n\u001b[1;32m---> 16\u001b[1;33m \u001b[0mprint\u001b[0m\u001b[1;33m(\u001b[0m\u001b[0mnext\u001b[0m\u001b[1;33m(\u001b[0m\u001b[0mfilter_age_lst\u001b[0m\u001b[1;33m)\u001b[0m\u001b[1;33m)\u001b[0m\u001b[1;33m\u001b[0m\u001b[1;33m\u001b[0m\u001b[0m\n\u001b[0m",
      "\u001b[1;31mStopIteration\u001b[0m: "
     ]
    }
   ],
   "source": [
    "# Filter() is an iterator:\n",
    "\n",
    "age_lst = [10, 30, 50, 15, 25, 80, 70, 65, 44, 29, 11, 9]\n",
    "filter_age_lst = filter(lambda age:age>18, age_lst)\n",
    "\n",
    "print(type(filter_age_lst), end = '\\n\\n')\n",
    "\n",
    "print(next(filter_age_lst))\n",
    "print(next(filter_age_lst))\n",
    "print(next(filter_age_lst))\n",
    "print(next(filter_age_lst))\n",
    "print(next(filter_age_lst))\n",
    "print(next(filter_age_lst))\n",
    "print(next(filter_age_lst))\n",
    "print(next(filter_age_lst))\n",
    "print(next(filter_age_lst))"
   ]
  },
  {
   "cell_type": "code",
   "execution_count": 37,
   "id": "d3975ac7",
   "metadata": {},
   "outputs": [
    {
     "ename": "TypeError",
     "evalue": "'list' object is not an iterator",
     "output_type": "error",
     "traceback": [
      "\u001b[1;31m---------------------------------------------------------------------------\u001b[0m",
      "\u001b[1;31mTypeError\u001b[0m                                 Traceback (most recent call last)",
      "\u001b[1;32m~\\AppData\\Local\\Temp/ipykernel_7852/4234242433.py\u001b[0m in \u001b[0;36m<module>\u001b[1;34m\u001b[0m\n\u001b[0;32m      1\u001b[0m \u001b[1;31m# next do not work for list\u001b[0m\u001b[1;33m\u001b[0m\u001b[1;33m\u001b[0m\u001b[0m\n\u001b[0;32m      2\u001b[0m \u001b[0mage_lst\u001b[0m \u001b[1;33m=\u001b[0m \u001b[1;33m[\u001b[0m\u001b[1;36m10\u001b[0m\u001b[1;33m,\u001b[0m \u001b[1;36m30\u001b[0m\u001b[1;33m,\u001b[0m \u001b[1;36m50\u001b[0m\u001b[1;33m,\u001b[0m \u001b[1;36m15\u001b[0m\u001b[1;33m,\u001b[0m \u001b[1;36m25\u001b[0m\u001b[1;33m,\u001b[0m \u001b[1;36m80\u001b[0m\u001b[1;33m,\u001b[0m \u001b[1;36m70\u001b[0m\u001b[1;33m,\u001b[0m \u001b[1;36m65\u001b[0m\u001b[1;33m,\u001b[0m \u001b[1;36m44\u001b[0m\u001b[1;33m,\u001b[0m \u001b[1;36m29\u001b[0m\u001b[1;33m,\u001b[0m \u001b[1;36m11\u001b[0m\u001b[1;33m,\u001b[0m \u001b[1;36m9\u001b[0m\u001b[1;33m]\u001b[0m\u001b[1;33m\u001b[0m\u001b[1;33m\u001b[0m\u001b[0m\n\u001b[1;32m----> 3\u001b[1;33m \u001b[0mprint\u001b[0m\u001b[1;33m(\u001b[0m\u001b[0mnext\u001b[0m\u001b[1;33m(\u001b[0m\u001b[0mage_lst\u001b[0m\u001b[1;33m)\u001b[0m\u001b[1;33m)\u001b[0m\u001b[1;33m\u001b[0m\u001b[1;33m\u001b[0m\u001b[0m\n\u001b[0m",
      "\u001b[1;31mTypeError\u001b[0m: 'list' object is not an iterator"
     ]
    }
   ],
   "source": [
    "# List is an iterable but not an iterator\n",
    "# Hence next do not work for list\n",
    "age_lst = [10, 30, 50, 15, 25, 80, 70, 65, 44, 29, 11, 9]\n",
    "print(next(age_lst))"
   ]
  },
  {
   "cell_type": "code",
   "execution_count": 39,
   "id": "d3623fea",
   "metadata": {},
   "outputs": [
    {
     "name": "stdout",
     "output_type": "stream",
     "text": [
      "10\n",
      "30\n",
      "50\n",
      "15\n",
      "25\n",
      "80\n",
      "70\n",
      "65\n",
      "44\n",
      "29\n",
      "11\n",
      "9\n"
     ]
    }
   ],
   "source": [
    "# But iteration works for list\n",
    "age_lst = [10, 30, 50, 15, 25, 80, 70, 65, 44, 29, 11, 9]\n",
    "for i in age_lst:\n",
    "    print(i)"
   ]
  },
  {
   "cell_type": "code",
   "execution_count": 41,
   "id": "eef01f3b",
   "metadata": {},
   "outputs": [
    {
     "name": "stdout",
     "output_type": "stream",
     "text": [
      "10\n",
      "30\n",
      "50\n",
      "15\n",
      "25\n",
      "80\n"
     ]
    },
    {
     "ename": "StopIteration",
     "evalue": "",
     "output_type": "error",
     "traceback": [
      "\u001b[1;31m---------------------------------------------------------------------------\u001b[0m",
      "\u001b[1;31mStopIteration\u001b[0m                             Traceback (most recent call last)",
      "\u001b[1;32m~\\AppData\\Local\\Temp/ipykernel_7852/2156668524.py\u001b[0m in \u001b[0;36m<module>\u001b[1;34m\u001b[0m\n\u001b[0;32m     10\u001b[0m \u001b[0mprint\u001b[0m\u001b[1;33m(\u001b[0m\u001b[0mnext\u001b[0m\u001b[1;33m(\u001b[0m\u001b[0mmy_iter\u001b[0m\u001b[1;33m)\u001b[0m\u001b[1;33m)\u001b[0m\u001b[1;33m\u001b[0m\u001b[1;33m\u001b[0m\u001b[0m\n\u001b[0;32m     11\u001b[0m \u001b[0mprint\u001b[0m\u001b[1;33m(\u001b[0m\u001b[0mnext\u001b[0m\u001b[1;33m(\u001b[0m\u001b[0mmy_iter\u001b[0m\u001b[1;33m)\u001b[0m\u001b[1;33m)\u001b[0m\u001b[1;33m\u001b[0m\u001b[1;33m\u001b[0m\u001b[0m\n\u001b[1;32m---> 12\u001b[1;33m \u001b[0mprint\u001b[0m\u001b[1;33m(\u001b[0m\u001b[0mnext\u001b[0m\u001b[1;33m(\u001b[0m\u001b[0mmy_iter\u001b[0m\u001b[1;33m)\u001b[0m\u001b[1;33m)\u001b[0m\u001b[1;33m\u001b[0m\u001b[1;33m\u001b[0m\u001b[0m\n\u001b[0m",
      "\u001b[1;31mStopIteration\u001b[0m: "
     ]
    }
   ],
   "source": [
    "# To convert an iterable into an iterator, we need to call iter() on the iterable object\n",
    "\n",
    "age_lst = [10, 30, 50, 15, 25, 80]\n",
    "\n",
    "my_iter = iter(age_lst)\n",
    "print(next(my_iter))\n",
    "print(next(my_iter))\n",
    "print(next(my_iter))\n",
    "print(next(my_iter))\n",
    "print(next(my_iter))\n",
    "print(next(my_iter))\n",
    "print(next(my_iter))"
   ]
  },
  {
   "cell_type": "code",
   "execution_count": 79,
   "id": "df861c46",
   "metadata": {},
   "outputs": [
    {
     "name": "stdout",
     "output_type": "stream",
     "text": [
      "[0, 1, 2, 3, 4, 5, 6, 7, 8, 9]\n"
     ]
    }
   ],
   "source": [
    "# GENERATOR - an iterator type\n",
    "# User defined seq\n",
    "\n",
    "lst = [i for i in range(10)]\n",
    "print(lst)"
   ]
  },
  {
   "cell_type": "code",
   "execution_count": 80,
   "id": "dfc4a9f4",
   "metadata": {},
   "outputs": [
    {
     "name": "stdout",
     "output_type": "stream",
     "text": [
      "0\n",
      "1\n",
      "2\n",
      "3\n",
      "4\n",
      "5\n",
      "6\n",
      "7\n",
      "8\n",
      "9\n"
     ]
    },
    {
     "ename": "StopIteration",
     "evalue": "",
     "output_type": "error",
     "traceback": [
      "\u001b[1;31m---------------------------------------------------------------------------\u001b[0m",
      "\u001b[1;31mStopIteration\u001b[0m                             Traceback (most recent call last)",
      "\u001b[1;32m~\\AppData\\Local\\Temp/ipykernel_7852/1556566892.py\u001b[0m in \u001b[0;36m<module>\u001b[1;34m\u001b[0m\n\u001b[0;32m     12\u001b[0m \u001b[0mprint\u001b[0m\u001b[1;33m(\u001b[0m\u001b[0mnext\u001b[0m\u001b[1;33m(\u001b[0m\u001b[0mtpl_gen\u001b[0m\u001b[1;33m)\u001b[0m\u001b[1;33m)\u001b[0m\u001b[1;33m\u001b[0m\u001b[1;33m\u001b[0m\u001b[0m\n\u001b[0;32m     13\u001b[0m \u001b[0mprint\u001b[0m\u001b[1;33m(\u001b[0m\u001b[0mnext\u001b[0m\u001b[1;33m(\u001b[0m\u001b[0mtpl_gen\u001b[0m\u001b[1;33m)\u001b[0m\u001b[1;33m)\u001b[0m\u001b[1;33m\u001b[0m\u001b[1;33m\u001b[0m\u001b[0m\n\u001b[1;32m---> 14\u001b[1;33m \u001b[0mprint\u001b[0m\u001b[1;33m(\u001b[0m\u001b[0mnext\u001b[0m\u001b[1;33m(\u001b[0m\u001b[0mtpl_gen\u001b[0m\u001b[1;33m)\u001b[0m\u001b[1;33m)\u001b[0m\u001b[1;33m\u001b[0m\u001b[1;33m\u001b[0m\u001b[0m\n\u001b[0m\u001b[0;32m     15\u001b[0m \u001b[0mprint\u001b[0m\u001b[1;33m(\u001b[0m\u001b[0mnext\u001b[0m\u001b[1;33m(\u001b[0m\u001b[0mtpl_gen\u001b[0m\u001b[1;33m)\u001b[0m\u001b[1;33m)\u001b[0m\u001b[1;33m\u001b[0m\u001b[1;33m\u001b[0m\u001b[0m\n",
      "\u001b[1;31mStopIteration\u001b[0m: "
     ]
    }
   ],
   "source": [
    "# Tuple comprehension gives generator object - \n",
    "tpl_gen = (i for i in range(10))\n",
    "\n",
    "print(next(tpl_gen))\n",
    "print(next(tpl_gen))\n",
    "print(next(tpl_gen))\n",
    "print(next(tpl_gen))\n",
    "print(next(tpl_gen))\n",
    "print(next(tpl_gen))\n",
    "print(next(tpl_gen))\n",
    "print(next(tpl_gen))\n",
    "print(next(tpl_gen))\n",
    "print(next(tpl_gen))\n",
    "print(next(tpl_gen))\n",
    "print(next(tpl_gen))"
   ]
  },
  {
   "cell_type": "code",
   "execution_count": 5,
   "id": "fadd937f",
   "metadata": {},
   "outputs": [
    {
     "name": "stdout",
     "output_type": "stream",
     "text": [
      "30\n",
      "Krihsna\n",
      "101\n",
      "19000.99\n",
      "None\n",
      "True\n",
      "(10+20j)\n",
      "[1, 2, 3, 4]\n",
      "(1, 2, 3, 4)\n",
      "{1: 100, 2: 200, 3: 300}\n"
     ]
    },
    {
     "ename": "StopIteration",
     "evalue": "",
     "output_type": "error",
     "traceback": [
      "\u001b[1;31m---------------------------------------------------------------------------\u001b[0m",
      "\u001b[1;31mStopIteration\u001b[0m                             Traceback (most recent call last)",
      "\u001b[1;32m~\\AppData\\Local\\Temp/ipykernel_21852/1763312196.py\u001b[0m in \u001b[0;36m<module>\u001b[1;34m\u001b[0m\n\u001b[0;32m     29\u001b[0m \u001b[0mprint\u001b[0m\u001b[1;33m(\u001b[0m\u001b[0mnext\u001b[0m\u001b[1;33m(\u001b[0m\u001b[0mg\u001b[0m\u001b[1;33m)\u001b[0m\u001b[1;33m)\u001b[0m\u001b[1;33m\u001b[0m\u001b[1;33m\u001b[0m\u001b[0m\n\u001b[0;32m     30\u001b[0m \u001b[0mprint\u001b[0m\u001b[1;33m(\u001b[0m\u001b[0mnext\u001b[0m\u001b[1;33m(\u001b[0m\u001b[0mg\u001b[0m\u001b[1;33m)\u001b[0m\u001b[1;33m)\u001b[0m\u001b[1;33m\u001b[0m\u001b[1;33m\u001b[0m\u001b[0m\n\u001b[1;32m---> 31\u001b[1;33m \u001b[0mprint\u001b[0m\u001b[1;33m(\u001b[0m\u001b[0mnext\u001b[0m\u001b[1;33m(\u001b[0m\u001b[0mg\u001b[0m\u001b[1;33m)\u001b[0m\u001b[1;33m)\u001b[0m\u001b[1;33m\u001b[0m\u001b[1;33m\u001b[0m\u001b[0m\n\u001b[0m",
      "\u001b[1;31mStopIteration\u001b[0m: "
     ]
    }
   ],
   "source": [
    "# Using syntax of function definition, we can generate the generator object\n",
    "# yield keyword makes a function defintion, a generator object\n",
    "# Yield works similar to return, but the diffenerence is return can be used once and marks the end of function call\n",
    "# whereas yield returns the value and remembers the state where it left off.\n",
    "\n",
    "def my_gen():\n",
    "    yield 10+20\n",
    "    yield 'Krihsna'\n",
    "    yield 101\n",
    "    yield 19000.99\n",
    "    yield None\n",
    "    yield True\n",
    "    yield 10+20j\n",
    "    yield [1, 2, 3, 4]\n",
    "    yield (1, 2, 3, 4)\n",
    "    yield {1:100, 2:200, 3:300}\n",
    "    \n",
    "    \n",
    "g = my_gen()\n",
    "\n",
    "print(next(g))\n",
    "print(next(g))\n",
    "print(next(g))\n",
    "print(next(g))\n",
    "print(next(g))\n",
    "print(next(g))\n",
    "print(next(g))\n",
    "print(next(g))\n",
    "print(next(g))\n",
    "print(next(g))\n",
    "print(next(g))"
   ]
  },
  {
   "cell_type": "code",
   "execution_count": 6,
   "id": "ce87df78",
   "metadata": {},
   "outputs": [],
   "source": [
    "g = my_gen()"
   ]
  },
  {
   "cell_type": "code",
   "execution_count": 7,
   "id": "8a9b441e",
   "metadata": {},
   "outputs": [
    {
     "data": {
      "text/plain": [
       "<generator object my_gen at 0x000002AD3E14D900>"
      ]
     },
     "execution_count": 7,
     "metadata": {},
     "output_type": "execute_result"
    }
   ],
   "source": [
    "g"
   ]
  },
  {
   "cell_type": "code",
   "execution_count": 8,
   "id": "ec6ad63f",
   "metadata": {},
   "outputs": [
    {
     "name": "stdout",
     "output_type": "stream",
     "text": [
      "30\n",
      "Krihsna\n",
      "101\n",
      "19000.99\n",
      "None\n",
      "True\n",
      "(10+20j)\n",
      "[1, 2, 3, 4]\n",
      "(1, 2, 3, 4)\n",
      "{1: 100, 2: 200, 3: 300}\n"
     ]
    },
    {
     "ename": "StopIteration",
     "evalue": "",
     "output_type": "error",
     "traceback": [
      "\u001b[1;31m---------------------------------------------------------------------------\u001b[0m",
      "\u001b[1;31mStopIteration\u001b[0m                             Traceback (most recent call last)",
      "\u001b[1;32m~\\AppData\\Local\\Temp/ipykernel_21852/3717148678.py\u001b[0m in \u001b[0;36m<module>\u001b[1;34m\u001b[0m\n\u001b[0;32m      9\u001b[0m \u001b[0mprint\u001b[0m\u001b[1;33m(\u001b[0m\u001b[0mnext\u001b[0m\u001b[1;33m(\u001b[0m\u001b[0mg\u001b[0m\u001b[1;33m)\u001b[0m\u001b[1;33m)\u001b[0m\u001b[1;33m\u001b[0m\u001b[1;33m\u001b[0m\u001b[0m\n\u001b[0;32m     10\u001b[0m \u001b[0mprint\u001b[0m\u001b[1;33m(\u001b[0m\u001b[0mnext\u001b[0m\u001b[1;33m(\u001b[0m\u001b[0mg\u001b[0m\u001b[1;33m)\u001b[0m\u001b[1;33m)\u001b[0m\u001b[1;33m\u001b[0m\u001b[1;33m\u001b[0m\u001b[0m\n\u001b[1;32m---> 11\u001b[1;33m \u001b[0mprint\u001b[0m\u001b[1;33m(\u001b[0m\u001b[0mnext\u001b[0m\u001b[1;33m(\u001b[0m\u001b[0mg\u001b[0m\u001b[1;33m)\u001b[0m\u001b[1;33m)\u001b[0m\u001b[1;33m\u001b[0m\u001b[1;33m\u001b[0m\u001b[0m\n\u001b[0m",
      "\u001b[1;31mStopIteration\u001b[0m: "
     ]
    }
   ],
   "source": [
    "print(next(g))\n",
    "print(next(g))\n",
    "print(next(g))\n",
    "print(next(g))\n",
    "print(next(g))\n",
    "print(next(g))\n",
    "print(next(g))\n",
    "print(next(g))\n",
    "print(next(g))\n",
    "print(next(g))\n",
    "print(next(g))"
   ]
  },
  {
   "cell_type": "code",
   "execution_count": null,
   "id": "eaffce73",
   "metadata": {},
   "outputs": [],
   "source": []
  }
 ],
 "metadata": {
  "colab": {
   "name": "Class_10_Functions_I.ipynb",
   "provenance": []
  },
  "kernelspec": {
   "display_name": "Python 3 (ipykernel)",
   "language": "python",
   "name": "python3"
  },
  "language_info": {
   "codemirror_mode": {
    "name": "ipython",
    "version": 3
   },
   "file_extension": ".py",
   "mimetype": "text/x-python",
   "name": "python",
   "nbconvert_exporter": "python",
   "pygments_lexer": "ipython3",
   "version": "3.9.7"
  }
 },
 "nbformat": 4,
 "nbformat_minor": 5
}
