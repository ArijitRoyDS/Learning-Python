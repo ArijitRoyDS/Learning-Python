{
 "cells": [
  {
   "cell_type": "code",
   "execution_count": 1,
   "metadata": {},
   "outputs": [
    {
     "name": "stdout",
     "output_type": "stream",
     "text": [
      "We mourn the broken things, chair legs\n",
      "\n",
      "wrenched from their seats, chipped plates,\n",
      "\n",
      "the threadbare clothes. We work the magic\n",
      "\n",
      "of glue, drive the nails, mend the holes.\n",
      "\n",
      "We save what we can, melt small pieces\n",
      "\n",
      "of soap, gather fallen pecans, keep neck bones\n",
      "\n",
      "for soup. Beating rugs against the house,\n",
      "\n",
      "we watch dust, lit like stars, spreading\n",
      "\n",
      "across the yard. Late afternoon, we draw\n",
      "\n",
      "the blinds to cool the rooms, drive the bugs\n",
      "\n",
      "out. My mother irons, singing, lost in reverie.\n",
      "\n",
      "I mark the pages of a mail-order catalog,\n",
      "\n",
      "listen for passing cars. All day we watch\n",
      "\n",
      "for the mail, some news from a distant place.\n"
     ]
    }
   ],
   "source": [
    "# Write a function in python to read the content from \n",
    "# a text file \"poem.txt\" line by line and display the same on screen.\n",
    "\n",
    "file = open('Sample_Files/poem.txt', 'r')\n",
    "for line in file:\n",
    "    print(line)\n",
    "file.close()"
   ]
  },
  {
   "cell_type": "code",
   "execution_count": 2,
   "metadata": {},
   "outputs": [
    {
     "name": "stdout",
     "output_type": "stream",
     "text": [
      "Number of lines not starting with the letter 'T':  1\n"
     ]
    }
   ],
   "source": [
    "# Write a function in python to count the number of lines \n",
    "# from a text file \"story.txt\" which is not starting with an alphabet \"T\". \n",
    "\n",
    "# Example: If the file \"story.txt\" contains the following lines: A boy is playing there.\n",
    "# There is a playground.\n",
    "# An aeroplane is in the sky.\n",
    "# The sky is pink.\n",
    "# Alphabets and numbers are allowed in the password.\n",
    "# The function should display the output as 3\n",
    "\n",
    "def no_of_lines(txt):\n",
    "    c = 0\n",
    "    for line in txt:\n",
    "        if line.startswith(\"T\") is False:\n",
    "            c = c + 1\n",
    "    print(\"Number of lines not starting with the letter 'T': \", c)\n",
    "    \n",
    "text = open('Sample_Files/story.txt', 'r')\n",
    "no_of_lines(text)\n",
    "text.close()"
   ]
  },
  {
   "cell_type": "code",
   "execution_count": 3,
   "metadata": {},
   "outputs": [
    {
     "name": "stdout",
     "output_type": "stream",
     "text": [
      "Number of Words:  14\n"
     ]
    }
   ],
   "source": [
    "# Write a function in Python to count and display the total number of words in a text file.\n",
    "\n",
    "def word_count(txt):\n",
    "    c = 0\n",
    "    for line in txt:\n",
    "        c = c + 1\n",
    "        for character in line:\n",
    "            if character == ' ':\n",
    "                c = c + 1\n",
    "    print('Number of Words: ', c)  \n",
    "    \n",
    "text = open('Sample_Files/story.txt', 'r')\n",
    "word_count(text)   \n",
    "text.close()"
   ]
  },
  {
   "cell_type": "code",
   "execution_count": 4,
   "metadata": {},
   "outputs": [
    {
     "name": "stdout",
     "output_type": "stream",
     "text": [
      "Number of occurances of the word 'the':  4\n"
     ]
    }
   ],
   "source": [
    "# Write a function in Python to read lines from a text file \"notes.txt\". \n",
    "# Your function should find and display the occurrence of the word \"the\".\n",
    "\n",
    "# For example: If the content of the file is:\n",
    "# \"India is the fastest-growing economy. India is looking for more investments around the globe. The whole world is looking at India as a great market. Most of the Indians can foresee the heights that India is capable of reaching.\"\n",
    "\n",
    "# The output should be 5.\n",
    "\n",
    "def the_count(txt):\n",
    "    c = 0\n",
    "    txt = txt.read()\n",
    "    txt = txt.split(' ')\n",
    "    for item in txt:\n",
    "        item = item.lower()\n",
    "        if item == 'the':\n",
    "            c = c + 1            \n",
    "    print(\"Number of occurances of the word 'the': \", c)\n",
    "    \n",
    "text = open('Sample_Files/notes.txt', 'r')\n",
    "the_count(text) \n",
    "text.close()"
   ]
  },
  {
   "cell_type": "code",
   "execution_count": 5,
   "metadata": {},
   "outputs": [
    {
     "name": "stdout",
     "output_type": "stream",
     "text": [
      "is\n",
      "a\n",
      "is\n",
      "in\n",
      "the\n",
      "sky\n",
      "is\n"
     ]
    }
   ],
   "source": [
    "# Write a function display_words() in python to read lines from a text file \"story.txt\", \n",
    "# and display those words, which are less than 4 characters.\n",
    "\n",
    "def display_words(txt):\n",
    "    txt = txt.read().split(' ')\n",
    "    for item in txt:\n",
    "        if len(item) < 4:\n",
    "            print(item)   \n",
    "            \n",
    "text = open('Sample_Files/story.txt', 'r')\n",
    "display_words(text) \n",
    "text.close()"
   ]
  },
  {
   "cell_type": "code",
   "execution_count": 6,
   "metadata": {},
   "outputs": [
    {
     "name": "stdout",
     "output_type": "stream",
     "text": [
      "Number of occurances of the word 'this':  3\n",
      "Number of occurances of the word 'these':  4\n"
     ]
    }
   ],
   "source": [
    "# Write a function in Python to count the words \"this\" and \"these\" present in a text file \"article.txt\". \n",
    "# [Note that the words \"this\" and \"these\" are complete words] \n",
    "\n",
    "def count_words(txt):\n",
    "    txt = txt.read().split(' ')\n",
    "    c1 = 0\n",
    "    c2 = 0\n",
    "    for item in txt:\n",
    "        if 'this' in item.lower():\n",
    "            c1 = c1 + 1\n",
    "        elif 'these' in item.lower():\n",
    "            c2 = c2 + 1\n",
    "            \n",
    "    print(\"Number of occurances of the word 'this': \", c1)\n",
    "    print(\"Number of occurances of the word 'these': \", c2)\n",
    "    \n",
    "text = open('Sample_Files/article.txt', 'r')\n",
    "count_words(text) \n",
    "text.close()"
   ]
  },
  {
   "cell_type": "code",
   "execution_count": 7,
   "metadata": {},
   "outputs": [
    {
     "name": "stdout",
     "output_type": "stream",
     "text": [
      "Number of words ending with 'e':  27\n"
     ]
    }
   ],
   "source": [
    "# Write a function in Python to count words in a text file those are ending with alphabet \"e\"\n",
    "\n",
    "def count_words(txt):\n",
    "    txt = txt.read().split(' ')\n",
    "    c = 0\n",
    "    for item in txt:\n",
    "        if item.endswith('e') is True or item.endswith('e,') is True or item.endswith('e.') is True:\n",
    "            c = c + 1                    \n",
    "    print(\"Number of words ending with 'e': \", c)\n",
    "        \n",
    "text = open('Sample_Files/article.txt', 'r', encoding=\"utf8\")\n",
    "count_words(text) \n",
    "text.close()"
   ]
  },
  {
   "cell_type": "code",
   "execution_count": 8,
   "metadata": {},
   "outputs": [
    {
     "name": "stdout",
     "output_type": "stream",
     "text": [
      "Number of upper case letters:  14\n"
     ]
    }
   ],
   "source": [
    "# Write a function in Python to count uppercase character in a text file.\n",
    "\n",
    "def upper_case(txt):\n",
    "    c = 0\n",
    "    for line in txt:\n",
    "        for letter in line:\n",
    "            if letter.isupper() is True:\n",
    "                c=c+1                \n",
    "    print(\"Number of upper case letters: \", c)                    \n",
    "        \n",
    "text = open('Sample_Files/article.txt', 'r', encoding=\"utf8\")\n",
    "upper_case(text) \n",
    "text.close()"
   ]
  },
  {
   "cell_type": "code",
   "execution_count": 9,
   "metadata": {},
   "outputs": [
    {
     "name": "stdout",
     "output_type": "stream",
     "text": [
      "Hash Display: \n",
      " W#e# #u#s#e# #T#h#i#s# #f#o#r# #s#o#m#e#t#h#i#n#g# #n#e#a#r# #a#n#d# #s#i#n#g#u#l#a#r#.# #\n",
      "#W#e# #u#s#e# #T#h#a#t# #f#o#r# #s#o#m#e#t#h#i#n#g# #f#a#r# #a#n#d# #s#i#n#g#u#l#a#r#.# #\n",
      "#W#e# #u#s#e# #T#h#e#s#e# #f#o#r# #s#o#m#e#t#h#i#n#g# #n#e#a#r# #a#n#d# #p#l#u#r#a#l#.# #\n",
      "#W#e# #u#s#e# #T#h#o#s#e# #f#o#r# #s#o#m#e#t#h#i#n#g# #f#a#r# #a#n#d# #p#l#u#r#a#l#.# #\n",
      "#T#h#e#s#e# #a#r#e# #t#h#e# #b#a#s#i#c#s#.#\n",
      "#\n",
      "#W#e# #u#s#e# #t#h#e# #w#o#r#d#s# #t#h#i#s#,# #t#h#a#t#,# #t#h#e#s#e#,# #a#n#d# #t#h#o#s#e# #w#h#e#n# #w#e# #w#a#n#t# #t#o# #s#h#o#w# #t#h#i#n#g#s# #t#o# #o#t#h#e#r# #p#e#o#p#l#e#.# #\n",
      "#T#h#e# #m#a#i#n# #d#i#f#f#e#r#e#n#c#e# #i#s# #i#f# #t#h#e# #t#h#i#n#g#s# #a#r#e# #s#i#n#g#u#l#a#r# #o#r# #p#l#u#r#a#l# #a#n#d# #a#l#s#o# #i#f# #t#h#e#y# #a#r#e# #n#e#a#r# #o#r# #f#a#r#.# #\n",
      "#T#h#i#s# #i#s# #E#n#g#l#i#s#h# #G#r#a#m#m#a#r# #a#n#d# #t#h#e#s#e# #a#r#e# #c#o#m#m#o#n#l#y# #u#s#e#d# #w#o#r#d#s#.#\n"
     ]
    }
   ],
   "source": [
    "# A text file named \"article.txt\" contains some text, which needs to be displayed such that \n",
    "# every next character is separated by a symbol \"#\". \n",
    "# Write a function definition for hash_display() in Python that would display \n",
    "# the entire content of the file matter.txt in the desired format.\n",
    "\n",
    "# Example :\n",
    "# If the file matter.txt has the following content stored in it :\n",
    "# THE WORLD IS ROUND\n",
    "\n",
    "# The function hash_display() should display the following content :\n",
    "# T#H#E# #W#O#R#L#D# #I#S# #R#O#U#N#D#\n",
    "\n",
    "def hash_display(txt):\n",
    "    c = ''\n",
    "    for line in txt:\n",
    "        for letter in line:\n",
    "            c = c + letter\n",
    "            c = c + '#'                \n",
    "    print(\"Hash Display: \\n\", c)                    \n",
    "        \n",
    "text = open('Sample_Files/article.txt', 'r', encoding=\"utf8\")\n",
    "hash_display(text) \n",
    "text.close()"
   ]
  },
  {
   "cell_type": "code",
   "execution_count": 10,
   "metadata": {},
   "outputs": [
    {
     "name": "stdout",
     "output_type": "stream",
     "text": [
      "Output:  WELL, THIS IS A WORD BY ITSELF. YOU COULD STRETCH THIS TO BE A SENTENCE.\n"
     ]
    }
   ],
   "source": [
    "# Aditi has used a text editing software to type some text. After saving the article as WORDS.TXT, \n",
    "# she realised that she has wrongly typed alphabet J in place of alphabet I everywhere in the article.\n",
    "# Write a function definition for JTOI() in Python that would display the corrected version of entire content \n",
    "# of the file WORDS.TXT with all the alphabets \"J\" to be displayed as an alphabet \"I\" on screen.\n",
    "\n",
    "# Note: Assuming that WORD.TXT does not contain any J alphabet otherwise.\n",
    "\n",
    "# Example:\n",
    "# If Aditi has stored the following content in the file WORDS.TXT:\n",
    "# WELL, THJS JS A WORD BY JTSELF. YOU COULD STRETCH THJS TO BE A SENTENCE\n",
    "# The function JTOI() should display the following content:\n",
    "# WELL, THIS IS A WORD BY ITSELF. YOU COULD STRETCH THIS TO BE A SENTENCE\n",
    "\n",
    "def JTOI(txt):\n",
    "    c = ''\n",
    "    for line in txt:\n",
    "        for letter in line:\n",
    "            if letter.upper() != 'J':\n",
    "                c = c + letter\n",
    "            else:\n",
    "                c = c + 'I'                \n",
    "    print(\"Output: \", c)                    \n",
    "        \n",
    "text = open('Sample_Files/words.txt', 'r')\n",
    "JTOI(text) \n",
    "text.close()"
   ]
  },
  {
   "cell_type": "code",
   "execution_count": 11,
   "metadata": {},
   "outputs": [
    {
     "name": "stdout",
     "output_type": "stream",
     "text": [
      "A or a:  5\n",
      "M or m:  0\n"
     ]
    }
   ],
   "source": [
    "# Write a function AMCount() in Python, which should read each character of a text file STORY.TXT, \n",
    "# should count and display the occurance of alphabets A and M (including small cases a and m too).\n",
    "# For Example:\n",
    "# If the file content is as follows:\n",
    "# Updated information\n",
    "# As simplified by official websites.\n",
    "# The EUCount() function should display the output as:\n",
    "# A or a:4\n",
    "# M or m :2\n",
    "\n",
    "def AMCount(txt):\n",
    "    a = 0\n",
    "    m = 0\n",
    "    for line in txt:\n",
    "        for letter in line:\n",
    "            if letter.lower() == 'a':\n",
    "                a=a+1\n",
    "            elif letter.lower() == 'm':\n",
    "                m=m+1\n",
    "                \n",
    "    print(\"A or a: \", a)\n",
    "    print(\"M or m: \", m)\n",
    "        \n",
    "text = open('Sample_Files/story.txt', 'r')\n",
    "AMCount(text) \n",
    "text.close()"
   ]
  },
  {
   "cell_type": "code",
   "execution_count": 12,
   "metadata": {},
   "outputs": [
    {
     "name": "stdout",
     "output_type": "stream",
     "text": [
      "Enter 1 for update record, 2 for search by Author Name: 2\n",
      "Enter Author Name: Arijit\n",
      "Author Name:  arijit  Number of Books:  3\n"
     ]
    }
   ],
   "source": [
    "# A binary file \"Book.dat\" has structure [BookNo, Book_Name, Author, Price].\n",
    "# i. Write a user defined function createFile() to input data for a record and add to Book.dat.\n",
    "# ii. Write a function countRec(Author) in Python which accepts the Author name as parameter \n",
    "# and count and return number of books by the given Author are stored in the binary file \"Book.dat\"\n",
    "\n",
    "def createFile(txt):\n",
    "    no = str(input(\"Enter Book No: \"))\n",
    "    name = str(input(\"Enter Book Name: \")).lower()\n",
    "    auth = str(input(\"Enter Book Author: \")).lower()\n",
    "    price = str(input(\"Enter Book Price: \"))\n",
    "    record = no + '\\t' + name + '\\t' + auth + '\\t' + price + '\\n'    \n",
    "    txt.write(record)\n",
    "    \n",
    "def countRec(author):\n",
    "    t = open('Sample_Files/book.dat', 'r')\n",
    "    c = 0\n",
    "    for line in t:\n",
    "        l = line.split('\\t')\n",
    "        if l[2] == author:\n",
    "            c = c + 1\n",
    "    print(\"Author Name: \", author, \" Number of Books: \", c)\n",
    "            \n",
    "text = open('Sample_Files/book.dat', 'a')\n",
    "option = int(input(\"Enter 1 for update record, 2 for search by Author Name: \"))\n",
    "if option == 1:\n",
    "    createFile(text) \n",
    "elif option == 2:    \n",
    "    author = str(input(\"Enter Author Name: \")).lower()\n",
    "    countRec(author)\n",
    "else:\n",
    "    print(\"Invalid Input\")\n",
    "text.close()"
   ]
  },
  {
   "cell_type": "code",
   "execution_count": 13,
   "metadata": {},
   "outputs": [
    {
     "name": "stdout",
     "output_type": "stream",
     "text": [
      "002   Ajay   82\n",
      "\n",
      "003   Sneha   91\n",
      "\n",
      "004   Karthik   87\n",
      "\n",
      "008   Roshni   79\n",
      "\n",
      "010   Ravi   76\n",
      "\n",
      "Number of students who scored above 75%:  5\n"
     ]
    }
   ],
   "source": [
    "# A binary file \"STUDENT.DAT\" has structure (admission_number, Name, Percentage). \n",
    "# Write a function count_rec() in Python that would read contents of the file \"STUDENT.DAT\" \n",
    "# and display the details of those students whose percentage is above 75. \n",
    "# Also display number of students scoring above 75%\n",
    "\n",
    "def count_rec(txt):\n",
    "    c = 0\n",
    "    for line in txt:\n",
    "        l = line.split('\\t')\n",
    "        #print(l)\n",
    "        try:\n",
    "            if int(l[2]) > 75:\n",
    "                print(l[0], ' ', l[1], ' ', l[2])\n",
    "                c = c + 1\n",
    "        except:\n",
    "            pass\n",
    "    print(\"\\nNumber of students who scored above 75%: \", c)\n",
    "    \n",
    "text = open('Sample_Files/student.dat', 'r')\n",
    "count_rec(text)\n",
    "text.close()"
   ]
  },
  {
   "cell_type": "code",
   "execution_count": 14,
   "metadata": {},
   "outputs": [
    {
     "name": "stdout",
     "output_type": "stream",
     "text": [
      "Enter 1 for append record, 2 for salary more than 30000: 2\n",
      "A123456   Vikram   45000\n",
      "\n",
      "A987654   Neha   42000\n",
      "\n",
      "A753159   Nisha   37000\n",
      "\n",
      "A231478   Rashmi   31000\n",
      "\n",
      "A452378   Raju   32000\n",
      "\n",
      "A651278   Shankar   36000\n",
      "\n",
      "\n",
      "Number of employees with salary more than 30000:  6\n"
     ]
    }
   ],
   "source": [
    "# Given a binary file employee.dat, created using dictionary object having keys: (empcode, name, and salary)\n",
    "\n",
    "# Write a python function that add one more record at the end of file.\n",
    "# Write a python function that display all employee records whose salary is more that 30000\n",
    "\n",
    "def addRecord(txt):\n",
    "    code = str(input(\"Enter Employee Code: \")).lower()\n",
    "    name = str(input(\"Enter Employee Name: \")).lower()\n",
    "    sal = str(input(\"Enter Salary: \"))\n",
    "    \n",
    "    record = '\\n' + code + '\\t' + name + '\\t' + sal    \n",
    "    txt.write(record)\n",
    "    \n",
    "def countRec():\n",
    "    t = open('Sample_Files/employee.dat', 'r')\n",
    "    c = 0\n",
    "    for line in t:\n",
    "        l = line.split('\\t')\n",
    "        try:\n",
    "            if int(l[2]) > 30000:\n",
    "                c = c + 1\n",
    "                print(l[0], ' ', l[1], ' ', l[2])\n",
    "        except:\n",
    "            pass\n",
    "    print(\"\\nNumber of employees with salary more than 30000: \", c)\n",
    "            \n",
    "text = open('Sample_Files/employee.dat', 'a')\n",
    "option = int(input(\"Enter 1 for append record, 2 for salary more than 30000: \"))\n",
    "if option == 1:\n",
    "    addRecord(text) \n",
    "elif option == 2:    \n",
    "    countRec()\n",
    "else:\n",
    "    print(\"Invalid Input\")\n",
    "text.close()"
   ]
  },
  {
   "cell_type": "code",
   "execution_count": 15,
   "metadata": {},
   "outputs": [
    {
     "name": "stdout",
     "output_type": "stream",
     "text": [
      "1005   Sunil   4   7000\n",
      "\n"
     ]
    }
   ],
   "source": [
    "# Write a function to search and display details of student whose rollno is '1005' \n",
    "# from the binary file student.dat having structure [rollno, name, class and fees].\n",
    "    \n",
    "def stuDetails(txt):\n",
    "    for line in txt:\n",
    "        l = line.split('\\t')\n",
    "        try:\n",
    "            if int(l[0]) == 1005:\n",
    "                print(l[0], ' ', l[1], ' ', l[2], ' ', l[3])\n",
    "        except:\n",
    "            pass\n",
    "            \n",
    "text = open('Sample_Files/student1.dat', 'r')  \n",
    "stuDetails(text)\n",
    "text.close()"
   ]
  },
  {
   "cell_type": "code",
   "execution_count": 16,
   "metadata": {},
   "outputs": [
    {
     "name": "stdout",
     "output_type": "stream",
     "text": [
      "Total Fees:  134000\n"
     ]
    }
   ],
   "source": [
    "# A binary file school.dat has structure(rollno, name, class, fees)\n",
    "\n",
    "# Write a definition for function total_fees( ) that reads each object of file and calculate \n",
    "# the total fees of students and display the same.\n",
    "\n",
    "def total_fees():\n",
    "    txt = open('Sample_Files/school.dat', 'r')\n",
    "    fee = 0\n",
    "    for line in txt:\n",
    "        l = line.split('\\t')\n",
    "        try:\n",
    "            fee = fee + int(l[3])\n",
    "        except:\n",
    "            pass\n",
    "    print(\"Total Fees: \", fee)\n",
    "            \n",
    "total_fees()\n",
    "text.close()"
   ]
  },
  {
   "cell_type": "code",
   "execution_count": 20,
   "metadata": {},
   "outputs": [
    {
     "name": "stdout",
     "output_type": "stream",
     "text": [
      "Enter 1 for player name starting with 'A', 2 for search by Country, 3 for adding a record: 2\n",
      "Enter Country: India\n",
      "001   Rohit   India   8000\n",
      "\n",
      "006   Sachin   India   18500\n",
      "\n",
      "008   Sehwag   India   11000\n",
      "Number of players:  3\n"
     ]
    }
   ],
   "source": [
    "# A binary file players.dat, containing records of following list format: [code, name, country and total runs]\n",
    "\n",
    "# 1. Write a python function that display all records where player name starts from 'A'\n",
    "# 2. Write a python function that accept country as an argument and count and display \n",
    "#     the number of players of that country.\n",
    "# 3. Write a python function that add one record at the end of file.\n",
    "\n",
    "def add_record(txt):\n",
    "    code = str(input(\"Enter Player Code: \"))\n",
    "    name = str(input(\"Enter Player Name: \"))\n",
    "    country = str(input(\"Enter Player Country: \"))\n",
    "    runs = str(input(\"Enter Total Runs: \"))\n",
    "    \n",
    "    record = '\\n' + code + '\\t' + name + '\\t' + country + '\\t' + runs    \n",
    "    txt.write(record)\n",
    "    \n",
    "def player():\n",
    "    t = open('Sample_Files/players.dat', 'r')\n",
    "    c = 0\n",
    "    for line in t:\n",
    "        l = line.split('\\t')\n",
    "        if l[1].startswith('A') is True:\n",
    "            print(l[0], ' ', l[1], ' ', l[2], ' ', l[3])\n",
    "    \n",
    "def player_country(country):\n",
    "    t = open('Sample_Files/players.dat', 'r')\n",
    "    c = 0\n",
    "    for line in t:\n",
    "        l = line.split('\\t')\n",
    "        if l[2] == country:\n",
    "            print(l[0], ' ', l[1], ' ', l[2], ' ', l[3])\n",
    "            c = c + 1\n",
    "    print(\"Number of players: \", c)\n",
    "            \n",
    "text = open('Sample_Files/players.dat', 'a')\n",
    "option = int(input(\"Enter 1 for player name starting with 'A', 2 for search by Country, 3 for adding a record: \"))\n",
    "if option == 1:\n",
    "    player() \n",
    "elif option == 2:    \n",
    "    country = str(input(\"Enter Country: \"))\n",
    "    player_country(country)\n",
    "elif option == 3:    \n",
    "    add_record(text)\n",
    "else:\n",
    "    print(\"Invalid Input\")\n",
    "text.close()"
   ]
  },
  {
   "cell_type": "code",
   "execution_count": 21,
   "metadata": {
    "ExecuteTime": {
     "end_time": "2021-05-29T10:46:59.140338Z",
     "start_time": "2021-05-29T10:46:59.135100Z"
    }
   },
   "outputs": [
    {
     "name": "stdout",
     "output_type": "stream",
     "text": [
      "Basket Ball\tMexico\n",
      "\n",
      "Basket Ball\tSouth Africa\n",
      "\n",
      "Basket Ball\tFrance\n",
      "\n",
      "Basket Ball\tIndia\n",
      "\n",
      "Basket Ball\tHong-Kong\n",
      "\n"
     ]
    }
   ],
   "source": [
    "# Given a binary file game.dat, containing records of following list format: [game_name, participants]\n",
    "\n",
    "# Write a function in Python that would read contents from the file game.dat and \n",
    "# creates a file named basket.dat copying only those records from game.dat where the game name is \"Basket Ball\"\n",
    "\n",
    "def copy_file(txt):\n",
    "    new_file = open('Sample_Files/basket.dat', 'a')\n",
    "    for line in txt:\n",
    "        l = line.split('\\t')\n",
    "        if l[0] == \"Basket Ball\":\n",
    "            new_file.write(line)\n",
    "            print(line)\n",
    "    new_file.close()    \n",
    "    \n",
    "text = open('Sample_Files/game.dat', 'r')  \n",
    "copy_file(text)"
   ]
  },
  {
   "cell_type": "code",
   "execution_count": null,
   "metadata": {},
   "outputs": [],
   "source": []
  }
 ],
 "metadata": {
  "kernelspec": {
   "display_name": "Python 3 (ipykernel)",
   "language": "python",
   "name": "python3"
  },
  "language_info": {
   "codemirror_mode": {
    "name": "ipython",
    "version": 3
   },
   "file_extension": ".py",
   "mimetype": "text/x-python",
   "name": "python",
   "nbconvert_exporter": "python",
   "pygments_lexer": "ipython3",
   "version": "3.9.7"
  }
 },
 "nbformat": 4,
 "nbformat_minor": 2
}
