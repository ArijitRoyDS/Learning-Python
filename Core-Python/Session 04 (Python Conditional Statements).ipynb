{
 "cells": [
  {
   "cell_type": "markdown",
   "id": "1337b6b9",
   "metadata": {},
   "source": [
    "# Conditional Statements"
   ]
  },
  {
   "cell_type": "code",
   "execution_count": 25,
   "id": "e2954871",
   "metadata": {
    "ExecuteTime": {
     "end_time": "2021-08-08T04:59:15.736172Z",
     "start_time": "2021-08-08T04:59:14.336178Z"
    },
    "id": "e2954871",
    "outputId": "8c7e05ac-96f0-4c82-8bac-ceaea8c232a3"
   },
   "outputs": [
    {
     "name": "stdout",
     "output_type": "stream",
     "text": [
      "Enter a number: 11\n",
      "If condition completed\n"
     ]
    }
   ],
   "source": [
    "# If Statement\n",
    "# Print Even if number is even else do nothing\n",
    "\n",
    "num = int(input('Enter a number: '))\n",
    "\n",
    "if num%2 == 0:\n",
    "    print(f'{num} is Even')    \n",
    "        \n",
    "print('If condition completed')\n"
   ]
  },
  {
   "cell_type": "code",
   "execution_count": 2,
   "id": "17c636ed",
   "metadata": {
    "ExecuteTime": {
     "end_time": "2021-08-08T05:00:26.395423Z",
     "start_time": "2021-08-08T05:00:17.742205Z"
    },
    "id": "17c636ed",
    "outputId": "2f74a060-0b4f-4ba8-99fe-81b88ea87a2a"
   },
   "outputs": [
    {
     "name": "stdout",
     "output_type": "stream",
     "text": [
      "Enter a number: 13\n",
      "13 is Odd\n",
      "13 is Odd\n",
      "If - Else condition completed\n"
     ]
    }
   ],
   "source": [
    "# If-Else Statement\n",
    "# Print Even if number is even else it will print odd\n",
    "\n",
    "num = int(input('Enter a number: '))\n",
    "\n",
    "if num%2 == 0:\n",
    "    print(f'{num} is Even')\n",
    "        \n",
    "else:\n",
    "    print(f'{num} is Odd')\n",
    "    print(num, \"is Odd\")\n",
    "        \n",
    "print('If - Else condition completed')\n",
    "\n",
    "# elif and else always belongs to previous if condition"
   ]
  },
  {
   "cell_type": "code",
   "execution_count": 14,
   "id": "372a6113",
   "metadata": {
    "ExecuteTime": {
     "end_time": "2021-08-08T05:02:44.563742Z",
     "start_time": "2021-08-08T05:02:38.639932Z"
    },
    "id": "372a6113",
    "outputId": "d1e5e39f-7dd9-4b86-983d-291311f0b0be"
   },
   "outputs": [
    {
     "name": "stdout",
     "output_type": "stream",
     "text": [
      "Enter your age: -6\n",
      "Some Error\n"
     ]
    }
   ],
   "source": [
    "# If - Elif - Else Statement:\n",
    "# Print Valid Age if age is between 18 and 60, Too Young if age is betwen 0 and 18, Too Old if age is more than 60, else error\n",
    "\n",
    "age = int(input('Enter your age: '))\n",
    "\n",
    "if age >=18 and age < 60:\n",
    "    print('Valid Age')\n",
    "elif age > 0 and age < 18:\n",
    "    print('Too Young')\n",
    "elif age >= 60:\n",
    "    print('Too Old')\n",
    "else:\n",
    "    print('Some Error')"
   ]
  },
  {
   "cell_type": "code",
   "execution_count": 16,
   "id": "822382bb",
   "metadata": {},
   "outputs": [
    {
     "name": "stdout",
     "output_type": "stream",
     "text": [
      "Enter your age: 45\n",
      "Valid Age\n"
     ]
    }
   ],
   "source": [
    "# The above can also be done using Ternary Operator, thereby reducing the number of lines of code:\n",
    "\n",
    "age = int(input('Enter your age: '))\n",
    "print(\"Too Young\" if age>0 and age<18 else \"Too Old\" if age>60 else \"Valid Age\" if age<=60 and age>=18 else \"Some Error!\")"
   ]
  },
  {
   "cell_type": "code",
   "execution_count": 3,
   "id": "360addf3",
   "metadata": {
    "ExecuteTime": {
     "end_time": "2021-08-08T05:07:02.785428Z",
     "start_time": "2021-08-08T05:07:01.186878Z"
    },
    "id": "360addf3",
    "outputId": "df353b06-3fd9-4419-b03c-6a83290f03e5"
   },
   "outputs": [
    {
     "name": "stdout",
     "output_type": "stream",
     "text": [
      "Enter your Marks: 75\n",
      "B+\n"
     ]
    }
   ],
   "source": [
    "# If - Elif - Else Statement:\n",
    "# Print grade based on Marks\n",
    "\n",
    "st_marks = int(input('Enter your Marks: '))\n",
    "if st_marks >90 and st_marks <= 100:\n",
    "    print('A+')\n",
    "elif st_marks >80 and st_marks <= 90:\n",
    "    print('A')\n",
    "elif st_marks >70 and st_marks <= 80:\n",
    "    print('B+')\n",
    "elif st_marks >60 and st_marks <= 70:\n",
    "    print('B')\n",
    "elif st_marks >50 and st_marks <= 60:\n",
    "    print('C')\n",
    "elif st_marks >40 and st_marks <= 50:\n",
    "    print('D')\n",
    "else:\n",
    "    print('Fail')    "
   ]
  },
  {
   "cell_type": "code",
   "execution_count": 17,
   "id": "a3e1f47d",
   "metadata": {
    "ExecuteTime": {
     "end_time": "2021-08-08T05:11:51.281104Z",
     "start_time": "2021-08-08T05:11:47.636832Z"
    },
    "id": "a3e1f47d",
    "outputId": "07c82d0c-a87d-407d-9a9a-981b7a04c47d"
   },
   "outputs": [
    {
     "name": "stdout",
     "output_type": "stream",
     "text": [
      "Enter Physics Marks: 92\n",
      "Enter maths Marks: 95\n",
      "Enter language Marks: 85\n"
     ]
    }
   ],
   "source": [
    "# Nested If-Else Statement:\n",
    "\n",
    "ph_num = int(input('Enter Physics Marks: '))\n",
    "ma_num = int(input('Enter maths Marks: '))\n",
    "la_num = int(input('Enter language Marks: '))\n",
    "if ph_num > 90:\n",
    "    if ma_num > 90:\n",
    "        if la_num > 90:\n",
    "            print('A+')\n",
    "        else:\n",
    "            print('A')\n",
    "    else:\n",
    "        print('B')\n",
    "else:\n",
    "    print('Fail')"
   ]
  },
  {
   "cell_type": "code",
   "execution_count": 9,
   "id": "79135801",
   "metadata": {
    "ExecuteTime": {
     "end_time": "2021-08-08T05:18:46.537443Z",
     "start_time": "2021-08-08T05:18:45.640644Z"
    },
    "id": "79135801",
    "outputId": "5c1c936f-bf88-48fc-8f82-52d1399f51fe"
   },
   "outputs": [],
   "source": [
    "# Write a program that prompts the user to input a number. \n",
    "# Program should display the corresponding days to the number. \n",
    "# For example if user type 1 the output should be sunday. \n",
    "# If user type 7 the output should be saturday.\n",
    "\n",
    "# Sample:\n",
    "# Enter a number: 5\n",
    "# Thursday"
   ]
  },
  {
   "cell_type": "code",
   "execution_count": 10,
   "id": "afc137a9",
   "metadata": {},
   "outputs": [
    {
     "name": "stdout",
     "output_type": "stream",
     "text": [
      "Enter a number: 5\n",
      "Thursday\n"
     ]
    }
   ],
   "source": [
    "# Answer\n",
    "\n",
    "num = int(input(\"Enter a number: \"))\n",
    "if num == 1:\n",
    "    print(\"Sunday\")\n",
    "elif num == 2:\n",
    "    print(\"Monday\")\n",
    "elif num == 3:\n",
    "    print(\"Tuesday\")\n",
    "elif num == 4:\n",
    "    print(\"Wednesday\")\n",
    "elif num == 5:\n",
    "    print(\"Thursday\")\n",
    "elif num == 6:\n",
    "    print(\"Friday\")\n",
    "elif num == 7:\n",
    "    print(\"Saturday\")\n",
    "else:\n",
    "    print(\"Invalid Entry\")"
   ]
  },
  {
   "cell_type": "code",
   "execution_count": 9,
   "id": "92f4c27d",
   "metadata": {},
   "outputs": [
    {
     "name": "stdout",
     "output_type": "stream",
     "text": [
      "Enter a number: ab\n",
      "Invalid Entry\n"
     ]
    }
   ],
   "source": [
    "# Using Ternary Operators:\n",
    "\n",
    "num = str(input(\"Enter a number: \"))\n",
    "\n",
    "print(\"Sunday\" if num == 1 else \"Monday\" if num == 2 else \"Tuesday\" if num == 3 else \"Wednesday\" if num == 4 \n",
    "      else \"Thursday\" if num == 5 else \"Friday\" if num == 6 else \"Saturday\" if num == 7 else \"Invalid Entry\")"
   ]
  },
  {
   "cell_type": "code",
   "execution_count": 11,
   "id": "060a6442",
   "metadata": {
    "ExecuteTime": {
     "end_time": "2021-08-08T05:26:55.112359Z",
     "start_time": "2021-08-08T05:26:53.242600Z"
    },
    "id": "060a6442",
    "outputId": "a35ae038-bb93-440b-e559-1c2138b72869"
   },
   "outputs": [],
   "source": [
    "# Write a program that prompts the user to input number of calls and \n",
    "# calculate the monthly telephone bills as per the following rule:\n",
    "    \n",
    "# Minimum $ 200 for up to 100 calls.\n",
    "# Plus $ 0.60 per call for next 50 calls.\n",
    "# Plus $ 0.50 per call for next 50 calls.\n",
    "# Plus $ 0.40 per call for any call beyond 200.\n",
    "\n",
    "# Sample:\n",
    "# Enter number of calls: 225\n",
    "# Please pay $ 265.0"
   ]
  },
  {
   "cell_type": "code",
   "execution_count": 20,
   "id": "83071fc8",
   "metadata": {
    "id": "83071fc8"
   },
   "outputs": [
    {
     "name": "stdout",
     "output_type": "stream",
     "text": [
      "Enter number of calls: 253\n",
      "Please pay $ 276.2\n",
      "Please pay $  276.2\n"
     ]
    }
   ],
   "source": [
    "# Answer\n",
    "\n",
    "no_of_calls = int(input('Enter number of calls: '))\n",
    "\n",
    "if no_of_calls <= 100:\n",
    "    print('Please pay $ 200.00')\n",
    "elif no_of_calls > 100 and no_of_calls <= 150:\n",
    "    print(f'Please pay $ {200 + (0.60*(no_of_calls-100))}')\n",
    "elif no_of_calls > 150 and no_of_calls <= 200:\n",
    "    print(f'Please pay $ {200 + (0.60*50) + (0.50 * (no_of_calls-150))}')\n",
    "else:\n",
    "    print(f'Please pay $ {200 + (0.60*50) + (0.50 * 50) + (0.40 * (no_of_calls-200))}')\n",
    "    print('Please pay $', (200 + (0.60*50) + (0.50 * 50) + (0.40 * (no_of_calls-200))))"
   ]
  },
  {
   "cell_type": "code",
   "execution_count": null,
   "id": "5847164d",
   "metadata": {
    "id": "5847164d"
   },
   "outputs": [],
   "source": []
  }
 ],
 "metadata": {
  "colab": {
   "name": "Class_06_Strings_Loops.ipynb",
   "provenance": []
  },
  "kernelspec": {
   "display_name": "Python 3 (ipykernel)",
   "language": "python",
   "name": "python3"
  },
  "language_info": {
   "codemirror_mode": {
    "name": "ipython",
    "version": 3
   },
   "file_extension": ".py",
   "mimetype": "text/x-python",
   "name": "python",
   "nbconvert_exporter": "python",
   "pygments_lexer": "ipython3",
   "version": "3.9.7"
  }
 },
 "nbformat": 4,
 "nbformat_minor": 5
}
