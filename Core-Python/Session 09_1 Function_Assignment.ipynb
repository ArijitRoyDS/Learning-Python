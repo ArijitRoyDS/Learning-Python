{
 "cells": [
  {
   "cell_type": "code",
   "execution_count": 1,
   "metadata": {
    "id": "1YVTYu-CuCOO"
   },
   "outputs": [
    {
     "name": "stdout",
     "output_type": "stream",
     "text": [
      "Enter a Number: 10\n",
      "Enter a Number: 12\n",
      "Sum is:  22\n"
     ]
    }
   ],
   "source": [
    "# Define a function calls addNumber(x, y) that takes in two number and returns the sum of the two numbers.\n",
    "\n",
    "def addNumber(x,y):\n",
    "    return(x+y)\n",
    "\n",
    "a = eval(input(\"Enter a Number: \"))\n",
    "b = eval(input(\"Enter a Number: \"))\n",
    "c = addNumber(a,b)\n",
    "print(\"Sum is: \", c)"
   ]
  },
  {
   "cell_type": "code",
   "execution_count": 2,
   "metadata": {
    "id": "1-gIq-Rju2i2"
   },
   "outputs": [
    {
     "name": "stdout",
     "output_type": "stream",
     "text": [
      "Enter a Number: 20\n",
      "Enter a Number: 15\n",
      "Difference is:  5\n"
     ]
    }
   ],
   "source": [
    "# Define a function calls subtractNumber(x, y) that takes in two numbers and returns the difference of the two numbers.\n",
    "\n",
    "def subtractNumber(x,y):\n",
    "    return(x-y)\n",
    "\n",
    "a = eval(input(\"Enter a Number: \"))\n",
    "b = eval(input(\"Enter a Number: \"))\n",
    "c = subtractNumber(a,b)\n",
    "print(\"Difference is: \", c)"
   ]
  },
  {
   "cell_type": "code",
   "execution_count": 3,
   "metadata": {
    "id": "kiAE0iLbviG9"
   },
   "outputs": [
    {
     "name": "stdout",
     "output_type": "stream",
     "text": [
      "Enter a Number: 30\n",
      "Enter a Number: 55\n",
      "Bigger Number is:  55\n"
     ]
    }
   ],
   "source": [
    "# Write a function getBiggerNumber(x, y) that takes in two numbers as arguments and returns the bigger number.\n",
    "\n",
    "def getBiggerNumber(x,y):\n",
    "    return(x if x>y else y)\n",
    "\n",
    "a = eval(input(\"Enter a Number: \"))\n",
    "b = eval(input(\"Enter a Number: \"))\n",
    "c = getBiggerNumber(a,b)\n",
    "print(\"Bigger Number is: \", c)"
   ]
  },
  {
   "cell_type": "code",
   "execution_count": 4,
   "metadata": {
    "id": "10B5oVcZh16d"
   },
   "outputs": [
    {
     "name": "stdout",
     "output_type": "stream",
     "text": [
      "4.0\n",
      "243.0\n",
      "28.274333882308138\n"
     ]
    }
   ],
   "source": [
    "# Python provides many built-in modules with many useful functions. \n",
    "# One such module is the math module. The math module provides many useful functions such as sqrt(x), pow(x, y), ceil(x), floor(x) etc. \n",
    "# You will need to do a \"import math\" before you are allowed to use the functions within the math module.\n",
    "\n",
    "\n",
    "from math import *\n",
    "\n",
    "# Calculate the square root of 16 and stores it in the variable a\n",
    "a = sqrt(16)\n",
    "print(a)\n",
    "\n",
    "# Calculate 3 to the power of 5 and stores it in the variable b\n",
    "b = pow(3, 5)\n",
    "print(b)\n",
    "\n",
    "\n",
    "# Calculate area of circle with radius = 3.0 by making use of the math.pi constant and store it in the variable c\n",
    "c = pi*(pow(3.0,2))\n",
    "print(c)"
   ]
  },
  {
   "cell_type": "code",
   "execution_count": 5,
   "metadata": {
    "id": "Yado0B99h2E_"
   },
   "outputs": [
    {
     "name": "stdout",
     "output_type": "stream",
     "text": [
      "Enter Temperature in Deg Celsius: 28\n",
      "Equivalent Temperature in Deg Fahrenheit:  82.4\n"
     ]
    }
   ],
   "source": [
    "# Write a function to convert temperature from Celsius to Fahrenheit scale.\n",
    "# oC to oF Conversion: Multipy by 9, then divide by 5, then add 32.\n",
    "\n",
    "# Note: Return a string of 2 decimal places.\n",
    "# In - Cel2Fah(28.0)\n",
    "# Out - '82.40'\n",
    "# In - Cel2Fah(0.00)\n",
    "# Out - '32.00'\n",
    "\n",
    "def cel_to_fah(temp_in_cel):\n",
    "    temp_in_fah = ((temp_in_cel * 9)/5) + 32\n",
    "    return(round(temp_in_fah, 2))\n",
    "\n",
    "temp = eval(input(\"Enter Temperature in Deg Celsius: \"))\n",
    "print(\"Equivalent Temperature in Deg Fahrenheit: \", cel_to_fah(temp))"
   ]
  },
  {
   "cell_type": "code",
   "execution_count": 6,
   "metadata": {
    "id": "n7lsFol9h2ID"
   },
   "outputs": [
    {
     "name": "stdout",
     "output_type": "stream",
     "text": [
      "Enter a Weight (in Kg): 63\n",
      "Enter a Height (in meters): 1.7\n",
      "BMI is:  21.8\n"
     ]
    }
   ],
   "source": [
    "# Write a function to compute the BMI of a person.\n",
    "#     BMI = weight(kg)  /  ( height(m)*height(m) )\n",
    "\n",
    "# Note: Return a string of 1 decimal place.\n",
    "# In - BMI(63, 1.7)\n",
    "# Out - '21.8'\n",
    "# In - BMI(110, 2)\n",
    "# Out - '27.5'\n",
    "\n",
    "def BMI(weight, height):\n",
    "    bmi = round((weight / (height * height)), 1)\n",
    "    return(bmi)\n",
    "\n",
    "w = eval(input(\"Enter a Weight (in Kg): \"))\n",
    "h = eval(input(\"Enter a Height (in meters): \"))\n",
    "b = BMI(w, h)\n",
    "print(\"BMI is: \", b)"
   ]
  },
  {
   "cell_type": "code",
   "execution_count": 7,
   "metadata": {
    "id": "f2tV1AU8h2LN"
   },
   "outputs": [
    {
     "name": "stdout",
     "output_type": "stream",
     "text": [
      "Enter a Number: 28\n",
      "Enter a Number: 32\n",
      "Percentage is:  87\n"
     ]
    }
   ],
   "source": [
    "# Write a function percent(value, total) that takes in two numbers as arguments, and returns the percentage value as an integer.\n",
    "# In - percent(46, 90)\n",
    "# Out - 51\n",
    "# In - percent(51, 51)\n",
    "# Out - 100\n",
    "# In - percent(63, 12)\n",
    "# Out - 525\n",
    "\n",
    "def percent(x,y):\n",
    "    return(int((x/y)*100))\n",
    "\n",
    "a = eval(input(\"Enter a Number: \"))\n",
    "b = eval(input(\"Enter a Number: \"))\n",
    "c = percent(a,b)\n",
    "print(\"Percentage is: \", c)"
   ]
  },
  {
   "cell_type": "code",
   "execution_count": 24,
   "metadata": {
    "id": "QyoWR3dQh2OZ"
   },
   "outputs": [
    {
     "name": "stdout",
     "output_type": "stream",
     "text": [
      "Enter Base of Triangle: 5\n",
      "Enter Height of Triangle: 12\n",
      "Hypotenuse is:  13\n"
     ]
    }
   ],
   "source": [
    "# Write a function to compute the hypotenuse given sides a and b of the triangle.\n",
    "# Hint: You can use math.sqrt(x) to compute the square root of x.\n",
    "# In - hypotenuse(3, 4)\n",
    "# Out - 5\n",
    "# In - hypotenuse(5, 12)\n",
    "# Out - 13\n",
    "\n",
    "from math import *\n",
    "def hypotenuse(x,y):\n",
    "    return(int(sqrt((x**2)+(y**2))))\n",
    "\n",
    "a = eval(input(\"Enter Base of Triangle: \"))\n",
    "b = eval(input(\"Enter Height of Triangle: \"))\n",
    "c = hypotenuse(a,b)\n",
    "print(\"Hypotenuse is: \", c)"
   ]
  },
  {
   "cell_type": "code",
   "execution_count": 26,
   "metadata": {
    "id": "XthPUigkh2Ro"
   },
   "outputs": [
    {
     "name": "stdout",
     "output_type": "stream",
     "text": [
      "Enter a list of positive numbers: [1,23,456]\n",
      "Sum of Last Digits is:  10\n"
     ]
    }
   ],
   "source": [
    "# Write a function getSumOfLastDigits() that takes in a list of positive numbers and returns the sum of all the last digits in the list.\n",
    "# getSumOfLastDigits([2, 3, 4])\n",
    "# 9\n",
    "# getSumOfLastDigits([1, 23, 456])\n",
    "# 10\n",
    "\n",
    "def sum_of_last_digit(x):\n",
    "    sum = 0\n",
    "    for n in x:\n",
    "        sum = sum + n%10\n",
    "    return(sum)\n",
    "\n",
    "a = eval(input(\"Enter a list of positive numbers: \"))\n",
    "c = sum_of_last_digit(a)\n",
    "print(\"Sum of Last Digits is: \", c)"
   ]
  },
  {
   "cell_type": "code",
   "execution_count": 31,
   "metadata": {
    "id": "T-uIqm9Mh2Un"
   },
   "outputs": [
    {
     "name": "stdout",
     "output_type": "stream",
     "text": [
      "My name is  Lim . I am  20  years old\n",
      "My name is  Ahmad . My age is  secret\n"
     ]
    }
   ],
   "source": [
    "# Write a function that uses a default value.\n",
    "# In - introduce('Lim', 20)\n",
    "# Out - 'My name is Lim. I am 20 years old.'\n",
    "# In - introduce('Ahmad')\n",
    "# Out - 'My name is Ahmad. My age is secret.'\n",
    "\n",
    "def introduce(name, age = 'secret'):\n",
    "    if age != \"secret\":\n",
    "        print(\"My name is \", name, \". I am \", age, \" years old\")\n",
    "    else:\n",
    "        print(\"My name is \", name, \". My age is \", age)\n",
    "    \n",
    "\n",
    "introduce('Lim', 20)\n",
    "introduce('Ahmad')"
   ]
  },
  {
   "cell_type": "code",
   "execution_count": 42,
   "metadata": {
    "id": "h0pXo5vH6wA-"
   },
   "outputs": [
    {
     "name": "stdout",
     "output_type": "stream",
     "text": [
      "Enter a Side: -3\n",
      "Enter a Side: -3\n",
      "Enter a Side: -3\n",
      "False\n"
     ]
    }
   ],
   "source": [
    "# Write a function isEquilateral(x, y, z) that accepts the 3 sides of a triangle as arguments. \n",
    "# The program should return True if it is an equilateral triangle.\n",
    "\n",
    "# In - isEquilateral(2, 4, 3)\n",
    "# False - False\n",
    "# In - isEquilateral(3, 3, 3)\n",
    "# Out - True\n",
    "# In - isEquilateral(-3, -3, -3)\n",
    "# Out - False\n",
    "\n",
    "def isEquilateral(a, b, c):   \n",
    "    print(a>0 and b>0 and c>0 and a == b and a == c)\n",
    "            \n",
    "a = eval(input(\"Enter a Side: \"))\n",
    "b = eval(input(\"Enter a Side: \"))\n",
    "c = eval(input(\"Enter a Side: \"))\n",
    "isEquilateral(a, b, c)"
   ]
  },
  {
   "cell_type": "code",
   "execution_count": 49,
   "metadata": {
    "id": "3NvcKCkn6wFy"
   },
   "outputs": [
    {
     "name": "stdout",
     "output_type": "stream",
     "text": [
      "Enter the value of A: 1\n",
      "Enter the value of B: 4\n",
      "Enter the value of C: 4\n",
      "0\n"
     ]
    }
   ],
   "source": [
    "# For a quadratic equation in the form of ax2+bx+c, the discriminant, D is b2-4ac. Write a function to compute the discriminant, D.\n",
    "# In - quadratic(1, 2, 3)\n",
    "# Out - 'The discriminant is -8.'\n",
    "# In - quadratic(1, 3, 2)\n",
    "# Out - 'The discriminant is 1.'\n",
    "# In - quadratic(1, 4, 4)\n",
    "# Out - 'The discriminant is 0.'\n",
    "\n",
    "\n",
    "a = eval(input(\"Enter the value of A: \"))\n",
    "b = eval(input(\"Enter the value of B: \"))\n",
    "c = eval(input(\"Enter the value of C: \"))\n",
    "\n",
    "dis = lambda a, b, c : (b**2) - 4*a*c\n",
    "print(dis(a, b, c))"
   ]
  },
  {
   "cell_type": "code",
   "execution_count": 56,
   "metadata": {
    "colab": {
     "base_uri": "https://localhost:8080/",
     "height": 34
    },
    "id": "ihmuttBS6wJQ",
    "outputId": "0ef031e9-dec6-4ffe-b1ea-38d836dbcdcf"
   },
   "outputs": [
    {
     "name": "stdout",
     "output_type": "stream",
     "text": [
      "5\n",
      "0\n",
      "10\n"
     ]
    }
   ],
   "source": [
    "# Define a function calls addFirstAndLast(x) that takes in a list of numbers and returns the sum of the first and last numbers.\n",
    "# In - addFirstAndLast([])\n",
    "# Out - 0\n",
    "# In - addFirstAndLast([2, 7, 3])\n",
    "# Out - 5\n",
    "# In - addFirstAndLast([10])\n",
    "# Out - 10\n",
    "\n",
    "def addFirstAndLast(lst):\n",
    "    if len(lst) == 0:\n",
    "        return(0)\n",
    "    elif len(lst) == 1:\n",
    "        return(lst[0])\n",
    "    else:\n",
    "        return(lst[0] + lst[-1])    \n",
    "\n",
    "print(addFirstAndLast([2,7,3]))\n",
    "print(addFirstAndLast([]))\n",
    "print(addFirstAndLast([10]))"
   ]
  },
  {
   "cell_type": "code",
   "execution_count": 60,
   "metadata": {
    "colab": {
     "base_uri": "https://localhost:8080/",
     "height": 34
    },
    "id": "lEt9HNPI6wM0",
    "outputId": "b07e15c3-a864-454c-aef5-1f1f0e07b39a"
   },
   "outputs": [
    {
     "data": {
      "text/plain": [
       "True"
      ]
     },
     "execution_count": 60,
     "metadata": {},
     "output_type": "execute_result"
    }
   ],
   "source": [
    "# Complete the 'lambda' expression so that it returns True if the argument is an even number, and False otherwise.\n",
    "\n",
    "(lambda num : True if num%2 == 0 else False)(6)"
   ]
  },
  {
   "cell_type": "code",
   "execution_count": null,
   "metadata": {
    "colab": {
     "base_uri": "https://localhost:8080/",
     "height": 35
    },
    "id": "JYWSZXPg6wQN",
    "outputId": "7b71e08d-573f-4d03-d5e3-e220df4c3b90"
   },
   "outputs": [
    {
     "data": {
      "application/vnd.google.colaboratory.intrinsic+json": {
       "type": "string"
      },
      "text/plain": [
       "\"'A function that computes and returns the final score.\""
      ]
     },
     "execution_count": 3,
     "metadata": {
      "tags": []
     },
     "output_type": "execute_result"
    }
   ],
   "source": [
    "\n",
    "# Get the documentation of below function\n",
    "\n",
    "def getScore():\n",
    "  ''''A function that computes and returns the final score.'''\n",
    "  pass"
   ]
  },
  {
   "cell_type": "code",
   "execution_count": 66,
   "metadata": {
    "colab": {
     "base_uri": "https://localhost:8080/",
     "height": 34
    },
    "id": "zmi81hi76wTK",
    "outputId": "232b4456-63ad-4582-d2cd-d888952dc957"
   },
   "outputs": [
    {
     "name": "stdout",
     "output_type": "stream",
     "text": [
      "25\n",
      "100\n",
      "1\n"
     ]
    }
   ],
   "source": [
    "# In Python, it is possible to pass a function as a argument to another function. \n",
    "# Write a function useFunction(func, num) that takes in a function and a number as arguments. \n",
    "# The useFunction should produce the output shown in the examples given below.\n",
    "\n",
    "# def addOne(x):\n",
    "#   return x + 1\n",
    "# useFunction(addOne, 4)\n",
    "# 25\n",
    "# useFunction(addOne, 9)\n",
    "# 100\n",
    "# useFunction(addOne, 0)\n",
    "# 1\n",
    "\n",
    "def addOne(x):\n",
    "   return x + 1\n",
    "\n",
    "def useFunction(func, num):\n",
    "    return(func(num)**2)\n",
    "\n",
    "print(useFunction(addOne, 4))\n",
    "print(useFunction(addOne, 9))\n",
    "print(useFunction(addOne, 0))"
   ]
  },
  {
   "cell_type": "code",
   "execution_count": 67,
   "metadata": {
    "id": "JJm1zFMX6wWK"
   },
   "outputs": [
    {
     "name": "stdout",
     "output_type": "stream",
     "text": [
      "Enter First Number: 55\n",
      "Enter Second Number: 92\n",
      "Enter Third Number: 10\n",
      "Largest Number is:  92\n"
     ]
    }
   ],
   "source": [
    "# Write a function find_max that accepts three numbers as arguments and returns the largest number among three. \n",
    "# Write another function main, in main() function accept three numbers from user and call find_max.\n",
    "\n",
    "def find_max(a, b, c):\n",
    "    return(max(a, b, c))\n",
    "\n",
    "def main():\n",
    "    a = eval(input(\"Enter First Number: \"))\n",
    "    b = eval(input(\"Enter Second Number: \"))\n",
    "    c = eval(input(\"Enter Third Number: \"))\n",
    "    print(\"Largest Number is: \", find_max(a, b, c))\n",
    "    \n",
    "main()"
   ]
  },
  {
   "cell_type": "code",
   "execution_count": 68,
   "metadata": {
    "colab": {
     "base_uri": "https://localhost:8080/",
     "height": 34
    },
    "id": "PBvBwg0O6waD",
    "outputId": "57768b69-c749-4d88-be06-7a9d41a98de2"
   },
   "outputs": [
    {
     "name": "stdout",
     "output_type": "stream",
     "text": [
      "Enter a string: Hello My name is Arijit\n",
      "Number of Vowels:  8\n"
     ]
    }
   ],
   "source": [
    "# Write a function, is_vowel that returns the value true if a given character is a vowel, \n",
    "# and otherwise returns false. \n",
    "# Write another function main, in main() function accept a string from user and count number \n",
    "# of vowels in that string.\n",
    "\n",
    "def is_vowel(string):\n",
    "    string = string.lower()\n",
    "    if string == 'a' or string == 'e' or string == 'i' or string == 'o' or string == 'u':\n",
    "        return(1)\n",
    "    else:\n",
    "        return(0)\n",
    "\n",
    "def main():\n",
    "    a = str(input(\"Enter a string: \"))\n",
    "    c = 0\n",
    "    for i in a:\n",
    "        c = c + is_vowel(i)\n",
    "    print(\"Number of Vowels: \", c)\n",
    "    \n",
    "main()"
   ]
  },
  {
   "cell_type": "code",
   "execution_count": 1,
   "metadata": {},
   "outputs": [
    {
     "name": "stdout",
     "output_type": "stream",
     "text": [
      "1\n",
      "2\n",
      "3\n",
      "5\n",
      "7\n",
      "11\n",
      "13\n",
      "17\n",
      "19\n",
      "23\n",
      "29\n",
      "31\n",
      "37\n",
      "41\n",
      "43\n",
      "47\n",
      "53\n",
      "59\n",
      "61\n",
      "67\n",
      "71\n",
      "73\n",
      "79\n",
      "83\n",
      "89\n",
      "97\n"
     ]
    }
   ],
   "source": [
    "# Write a function named is_prime, which takes an integer as an argument and returns true \n",
    "# if the argument is a prime number, or false otherwise. \n",
    "# Also, write the main function that displays prime numbers between 1 to 500.\n",
    "\n",
    "def is_prime(num):\n",
    "    p = 1\n",
    "    for i in range(2, int((num/2)+1)):\n",
    "        if num%i == 0:\n",
    "            p = 0\n",
    "    return(p)\n",
    "\n",
    "def main():\n",
    "    for i in range(1, 100):\n",
    "        if is_prime(i) == 1:\n",
    "            print(i)\n",
    "            \n",
    "main()            "
   ]
  },
  {
   "cell_type": "code",
   "execution_count": 83,
   "metadata": {},
   "outputs": [
    {
     "name": "stdout",
     "output_type": "stream",
     "text": [
      "Enter a List of Numbers: [1,2,3,4,5]\n",
      "Sum of Cubes:  225\n"
     ]
    }
   ],
   "source": [
    "# Write a function in python to find the sum of the cube of elements in a list. \n",
    "# The list is received as an argument to the function, in turn, the function must return the sum. \n",
    "# Write the main function which invokes the above function.\n",
    "\n",
    "def sum_of_cube(lst):\n",
    "    s = 0\n",
    "    for item in lst:\n",
    "        s = s + (item**3)\n",
    "    return(s)\n",
    "        \n",
    "def main():\n",
    "    a = eval(input(\"Enter a List of Numbers: \"))\n",
    "    print(\"Sum of Cubes: \", sum_of_cube(a))\n",
    "    \n",
    "main()"
   ]
  },
  {
   "cell_type": "code",
   "execution_count": 84,
   "metadata": {},
   "outputs": [
    {
     "name": "stdout",
     "output_type": "stream",
     "text": [
      "Enter a List of Scores: [200, 456, 300, 100, 234, 678]\n",
      "Sum of Zero Ending Scores:  600\n"
     ]
    }
   ],
   "source": [
    "# Write the definition of a function zero_ending(scores) to add all those values in the list of scores, \n",
    "# which are ending with zero and display the sum.\n",
    "# For example: If the scores contain [200, 456, 300, 100, 234, 678] The sum should be displayed as 600\n",
    "\n",
    "def zero_ending(scores):\n",
    "    s = 0\n",
    "    for item in scores:\n",
    "        if item%10 == 0:\n",
    "            s = s + item\n",
    "    return(s)\n",
    "\n",
    "a = eval(input(\"Enter a List of Scores: \"))\n",
    "print(\"Sum of Zero Ending Scores: \", zero_ending(a))"
   ]
  },
  {
   "cell_type": "code",
   "execution_count": 92,
   "metadata": {},
   "outputs": [
    {
     "name": "stdout",
     "output_type": "stream",
     "text": [
      "Enter List of Places: [\"DELHI\",\"LONDON\",\"PARIS\",\"NEW YORK\",\"DUBAI\"]\n",
      "LONDON\n",
      "NEW YORK\n"
     ]
    }
   ],
   "source": [
    "# Write a definition of a method count_now(places) to find and display those place names, \n",
    "# in which there are more than 5 characters.\n",
    "\n",
    "# For example :\n",
    "# If the list places contains\n",
    "# [\"DELHI\",\"LONDON\",\"PARIS\",\"NEW YORK\",\"DUBAI\"]\n",
    "# The following should get displayed :\n",
    "# LONDON\n",
    "# NEW YORK\n",
    "\n",
    "def count_now(places):\n",
    "    return(list(filter((lambda place:len(place)>5), places)))\n",
    "\n",
    "a = eval(input(\"Enter List of Places: \"))\n",
    "filtered_places = count_now(a)\n",
    "for place in filtered_places:\n",
    "    print(place)"
   ]
  },
  {
   "cell_type": "code",
   "execution_count": 107,
   "metadata": {},
   "outputs": [
    {
     "name": "stdout",
     "output_type": "stream",
     "text": [
      "['414141', 'DROND#', 'GIRIRAJ#', '131313', 'ZARA#']\n"
     ]
    }
   ],
   "source": [
    "# Write a method in python to display the elements of list thrice if it is a number and display \n",
    "# the element terminated with ‘#’ if it is not a number.\n",
    "\n",
    "# For example, if the content of list is as follows :\n",
    "# ThisList=[‘41’,‘DROND’,‘GIRIRAJ’, ‘13’,‘ZARA’]\n",
    "# The output should be\n",
    "\n",
    "# 414141\n",
    "# DROND#\n",
    "# GIRIRAJ#\n",
    "# 131313\n",
    "# ZARA#\n",
    "\n",
    "def list_elem(lst):\n",
    "    #return(list(filter((lambda txt:txt + txt + txt if txt.isnumeric() == True else txt + '#'), lst)))\n",
    "    i = 0\n",
    "    for item in lst:\n",
    "        if item.isnumeric() == True:\n",
    "            lst[i] = item+item+item\n",
    "        else:\n",
    "            lst[i] = item + '#'\n",
    "        i = i + 1\n",
    "    return(lst)\n",
    "\n",
    "ThisList=['41','DROND','GIRIRAJ', '13','ZARA']\n",
    "print(list_elem(ThisList))"
   ]
  },
  {
   "cell_type": "code",
   "execution_count": 26,
   "metadata": {},
   "outputs": [
    {
     "name": "stdout",
     "output_type": "stream",
     "text": [
      "Enter an array in descending order: [45,36,31,29,21,19,15,9,6,3,0]\n",
      "Enter Search Element: 9\n",
      "Element is present at index 7\n"
     ]
    }
   ],
   "source": [
    "# For a given list of values in descending order, write a method in python to search \n",
    "# for a value with the help of Binary Search method. \n",
    "# The method should return position of the value and should return -1 if the value not present in the list.\n",
    "\n",
    "def binary_search(arr, low, high, x): \n",
    "\n",
    "    if high >= low: \n",
    "        mid = (high + low) // 2 \n",
    "        if arr[mid] == x:\n",
    "            return mid \n",
    "        elif arr[mid] < x:\n",
    "            return binary_search(arr, low, mid - 1, x) \n",
    "        else:\n",
    "            return binary_search(arr, mid + 1, high, x) \n",
    "    else:\n",
    "        return -1\n",
    " \n",
    "arr = eval(input(\"Enter an array in descending order: \"))\n",
    "x = int(input(\"Enter Search Element: \"))\n",
    "\n",
    "result = binary_search(arr, 0, len(arr)-1, x)\n",
    " \n",
    "if result != -1:\n",
    "    print(\"Element is present at index\", str(result))\n",
    "else:\n",
    "    print(result, \"  Element is not present in array\")"
   ]
  },
  {
   "cell_type": "code",
   "execution_count": 49,
   "metadata": {},
   "outputs": [
    {
     "name": "stdout",
     "output_type": "stream",
     "text": [
      "Enter a list of numbers: [10,20,30,40,50,60,70]\n",
      "7\n",
      "[50, 60, 70, 40, 10, 20, 30]\n"
     ]
    }
   ],
   "source": [
    "# Write a function half_and_half that takes in a list and change the list \n",
    "# such that the elements of the second half are now in the first half.\n",
    "\n",
    "# For example, if the size of list is even and content of list is as follows :\n",
    "# my_liist = [10,20,30,40,50,60]\n",
    "# The output should be\n",
    "# [40,50,60,10,20,30]\n",
    "# if the size of list is odd and content of list is as follows :\n",
    "# my_liist = [10,20,30,40,50,60,70]\n",
    "# The output should be\n",
    "# [50,60,70,40,10,20,30]\n",
    "\n",
    "def half_and_half(arr, l):\n",
    "    print(l)\n",
    "    new_lst = [0]*l\n",
    "    if l%2 == 0:\n",
    "        ind = l//2\n",
    "        for i in range(l//2):\n",
    "            new_lst[i] = arr[ind]\n",
    "            new_lst[ind] = arr[i]\n",
    "            ind = ind + 1            \n",
    "    else:\n",
    "        ind = l//2\n",
    "        for i in range(l//2):\n",
    "            new_lst[i] = arr[ind+1]\n",
    "            new_lst[(l//2)] = arr[(l//2)]            \n",
    "            new_lst[ind+1] = arr[i]\n",
    "            ind = ind + 1  \n",
    "    return(new_lst)\n",
    "    \n",
    "lst = eval(input(\"Enter a list of numbers: \"))\n",
    "l = len(lst)\n",
    "new_lst = half_and_half(lst, l)\n",
    "print(new_lst)"
   ]
  },
  {
   "cell_type": "code",
   "execution_count": 59,
   "metadata": {
    "ExecuteTime": {
     "end_time": "2021-05-29T10:39:43.694779Z",
     "start_time": "2021-05-29T10:39:43.691446Z"
    }
   },
   "outputs": [
    {
     "name": "stdout",
     "output_type": "stream",
     "text": [
      "Enter a Dictionary: {'c': 3, 'b': 2, 'd': 2, 'a': 1}\n",
      "{}\n"
     ]
    }
   ],
   "source": [
    "# Write a function that accepts a dictionary as an argument. If the dictionary contains replicate values, \n",
    "# return an empty dictionary, otherwise, return a new dictionary whose values are now the keys and whose \n",
    "# keys are the values.\n",
    "\n",
    "def dictionary(dict):\n",
    "    rev_dict = {}\n",
    "    for k, v in dict.items():\n",
    "        rev_dict.setdefault(v, set()).add(k)      \n",
    "        result = [k for k, v in rev_dict.items() if len(v) > 1]\n",
    "\n",
    "    if len(result) >= 1:\n",
    "        return({})    \n",
    "    \n",
    "    else:\n",
    "        inv = {}\n",
    "        for k, v in dict.items():\n",
    "            inv[v] = inv.get(v, []) + [k]\n",
    "        return(inv) \n",
    "    \n",
    "dct = dict(eval(input(\"Enter a Dictionary: \")))\n",
    "d = dictionary(dct)\n",
    "print(str(d))"
   ]
  },
  {
   "cell_type": "code",
   "execution_count": null,
   "metadata": {},
   "outputs": [],
   "source": []
  }
 ],
 "metadata": {
  "colab": {
   "name": "Function_Assignment.ipynb",
   "provenance": []
  },
  "kernelspec": {
   "display_name": "Python 3 (ipykernel)",
   "language": "python",
   "name": "python3"
  },
  "language_info": {
   "codemirror_mode": {
    "name": "ipython",
    "version": 3
   },
   "file_extension": ".py",
   "mimetype": "text/x-python",
   "name": "python",
   "nbconvert_exporter": "python",
   "pygments_lexer": "ipython3",
   "version": "3.9.7"
  }
 },
 "nbformat": 4,
 "nbformat_minor": 1
}
