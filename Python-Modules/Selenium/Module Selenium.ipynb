{
 "cells": [
  {
   "cell_type": "markdown",
   "id": "5ff53777",
   "metadata": {},
   "source": [
    "# Module: Selenium"
   ]
  },
  {
   "cell_type": "markdown",
   "id": "e94afe39",
   "metadata": {},
   "source": [
    "Selenium is an open source tool which is used for automating test cases carried out on web browsers or web applications that are being tested using any web browser. Only testing of web applications is possible with Selenium. We can neither test any desktop software application nor test any mobile application using Selenium. So it’s an open source tool which supports cross browsing and automates web applications.\n",
    "\n",
    "TO Install: pip install selenium"
   ]
  },
  {
   "cell_type": "code",
   "execution_count": 20,
   "id": "04efddd4",
   "metadata": {},
   "outputs": [],
   "source": [
    "import os\n",
    "import time\n",
    "import pandas as pd\n",
    "from getpass import getpass\n",
    "from selenium import webdriver               # For Browser Automation\n",
    "import chromedriver_autoinstaller            # To Automatically detect Google Chrome version \n",
    "                                             # and download relevant version of Chromedriver\n",
    "from selenium.webdriver.common.by import By\n",
    "from selenium.webdriver.support.ui import WebDriverWait\n",
    "from selenium.webdriver.support import expected_conditions as EC\n",
    "import warnings\n",
    "warnings.filterwarnings(\"ignore\")"
   ]
  },
  {
   "cell_type": "code",
   "execution_count": 2,
   "id": "ff016614",
   "metadata": {},
   "outputs": [],
   "source": [
    "# Check if the current version of chromedriver exists. If not, download it automatically to cwd and add it to path\n",
    "chromepath = chromedriver_autoinstaller.install(cwd = True)                        "
   ]
  },
  {
   "cell_type": "code",
   "execution_count": 3,
   "id": "57889e53",
   "metadata": {},
   "outputs": [],
   "source": [
    "# Initialize the browser\n",
    "options = webdriver.ChromeOptions()\n",
    "#options.add_argument(\"--headless\")                         # Opens an invisible Browser Window in the background\n",
    "options.add_argument('--ignore-ssl-errors=yes')            # Ignore \"Connection is Not Private\" Error on VCN Network\n",
    "options.add_argument('--ignore-certificate-errors')        # Ignore \"Connection is Not Private\" Error on VCN Network\n",
    "browser = webdriver.Chrome(chromepath, options=options)"
   ]
  },
  {
   "cell_type": "code",
   "execution_count": 4,
   "id": "3bcc982e",
   "metadata": {},
   "outputs": [],
   "source": [
    "# Open the URL\n",
    "browser.get('https://sbgtools.got.volvo.net/PCGInfo/pcginfo.asp')\n",
    "time.sleep(3)"
   ]
  },
  {
   "cell_type": "code",
   "execution_count": 5,
   "id": "4541389e",
   "metadata": {},
   "outputs": [],
   "source": [
    "# Locate a TextBox and Fill it up with text\n",
    "user_id = browser.find_element(By.XPATH, \"/html/body/table/tbody/tr[1]/td[2]/big/big/font/form/table[1]/tbody/tr/td[2]/input\")\n",
    "user_id.send_keys('a031828')"
   ]
  },
  {
   "cell_type": "code",
   "execution_count": 6,
   "id": "1571e63d",
   "metadata": {},
   "outputs": [],
   "source": [
    "# Click on a button\n",
    "submit = browser.find_element(By.XPATH, \"/html/body/table/tbody/tr[1]/td[2]/big/big/font/form/table[10]/tbody/tr/td[1]/font/strong/input\")\n",
    "submit.click()"
   ]
  },
  {
   "cell_type": "code",
   "execution_count": 7,
   "id": "efe58183",
   "metadata": {},
   "outputs": [],
   "source": [
    "# Refresh the browser page\n",
    "browser.refresh()\n",
    "\n",
    "# Wait until the page loads or 30 seconds, whichever is early\n",
    "elem = WebDriverWait(browser, 30).until(EC.presence_of_element_located((By.XPATH, \"/html/body/input\")))"
   ]
  },
  {
   "cell_type": "code",
   "execution_count": 8,
   "id": "da7afb9d",
   "metadata": {},
   "outputs": [
    {
     "name": "stdout",
     "output_type": "stream",
     "text": [
      "Volvo Corporate Directory Information:\n",
      "   Name                                         : ARIJIT CHOWDHURY   \n",
      "   Department                                   : 28510   \n",
      "   GlobalDepartment                             : BF95520   \n",
      "   Costcentre                                   : 28510   \n",
      "   Geo. place                                   : GTT   \n",
      "   Location                                     : BANGALORE   \n",
      "   Country                                      : INDIA   \n",
      "   Postal code                                  : 560093   \n",
      "   Telephone number                             : +91 9986694710   \n",
      "   Mobile number                                : +91 9986694710   \n",
      "   Fax                                          :    \n",
      "   Manager                                      : A048994   \n",
      "\n",
      "   Volvo Organization                           : VOLVO GROUP   \n",
      "   GlobalOrganisation                           : GROUP TRUCKS TECHNOLOGY   \n",
      "   USAD Site                                    : BLR   \n",
      "   VCD VT CODE                                  : BLR   \n",
      "   Trading Partner                              : IN01   \n",
      "\n",
      "   HR Feed                                      : HR131   \n",
      "\n",
      "   Company                                      : VOLVO GROUP INDIA PRIVATE LTD (JC)   \n",
      "   Company short name                           :    \n",
      "   Mail-Address                                 : ARIJIT.CHOWDHURY@VOLVO.COM   \n"
     ]
    }
   ],
   "source": [
    "info = browser.find_element(By.ID, \"Volvo_Corporate_Directory_Information:\").text\n",
    "browser.close()\n",
    "print(info)"
   ]
  },
  {
   "cell_type": "code",
   "execution_count": 9,
   "id": "7145b801",
   "metadata": {},
   "outputs": [],
   "source": [
    "# Save the output as a Text File in CWD\n",
    "text = open(\"output.txt\", \"w\")\n",
    "text.write(info)\n",
    "text.close()"
   ]
  },
  {
   "cell_type": "markdown",
   "id": "adaad1d2",
   "metadata": {},
   "source": [
    "# Use Case 1"
   ]
  },
  {
   "cell_type": "markdown",
   "id": "1764bb39",
   "metadata": {},
   "source": [
    "Auto - Fill a Microsoft Form everday and Submit it"
   ]
  },
  {
   "cell_type": "code",
   "execution_count": 10,
   "id": "e51e489e",
   "metadata": {},
   "outputs": [
    {
     "name": "stderr",
     "output_type": "stream",
     "text": [
      "send: 'ehlo INBLRGTT2021067.vcn.ds.volvo.net\\r\\n'\n",
      "reply: b'250-mail-gw2.it.volvo.com\\r\\n'\n",
      "reply: b'250-8BITMIME\\r\\n'\n",
      "reply: b'250-SIZE 104857600\\r\\n'\n",
      "reply: b'250 STARTTLS\\r\\n'\n",
      "reply: retcode (250); Msg: b'mail-gw2.it.volvo.com\\n8BITMIME\\nSIZE 104857600\\nSTARTTLS'\n",
      "send: 'mail FROM:<noreply@volvo.com> size=168\\r\\n'\n",
      "reply: b'250 sender <noreply@volvo.com> ok\\r\\n'\n",
      "reply: retcode (250); Msg: b'sender <noreply@volvo.com> ok'\n",
      "send: 'rcpt TO:<arijit.chowdhury@volvo.com>\\r\\n'\n",
      "reply: b'250 recipient <arijit.chowdhury@volvo.com> ok\\r\\n'\n",
      "reply: retcode (250); Msg: b'recipient <arijit.chowdhury@volvo.com> ok'\n",
      "send: 'data\\r\\n'\n",
      "reply: b'354 go ahead\\r\\n'\n",
      "reply: retcode (354); Msg: b'go ahead'\n",
      "data: (354, b'go ahead')\n",
      "send: b'From: noreply@volvo.com\\r\\nTo: arijit.chowdhury@volvo.com\\r\\nSubject: GTT - BLR - Daily CheckIn !\\r\\n\\r\\nDaily Assesment Form for Today Has been Submitted By BOT Successfully\\r\\n.\\r\\n'\n",
      "reply: b'250 ok:  Message 271335442 accepted\\r\\n'\n",
      "reply: retcode (250); Msg: b'ok:  Message 271335442 accepted'\n",
      "data: (250, b'ok:  Message 271335442 accepted')\n",
      "send: 'quit\\r\\n'\n",
      "reply: b'221 mail-gw2.it.volvo.com\\r\\n'\n",
      "reply: retcode (221); Msg: b'mail-gw2.it.volvo.com'\n"
     ]
    },
    {
     "data": {
      "text/plain": [
       "(221, b'mail-gw2.it.volvo.com')"
      ]
     },
     "execution_count": 10,
     "metadata": {},
     "output_type": "execute_result"
    }
   ],
   "source": [
    "from selenium import webdriver \n",
    "import time\n",
    "import datetime \n",
    "import smtplib \n",
    "\n",
    "date = datetime.datetime.today().strftime('%m/%d/%Y')\n",
    "\n",
    "web = webdriver.Chrome()\n",
    "web.get('https://forms.office.com/Pages/ResponsePage.aspx?id=rpNU8pgc10GKMwvnX1_mAwucrtzwrmNKi8Ys4vsF3hNUOVQxNTc3MzhCOUpUSFlKM1kyM0ZVTDdEWi4u')\n",
    "\n",
    "time.sleep(2)\n",
    "\n",
    "# Fill in Date\n",
    "last= web.find_element(By.XPATH, '/html/body/div/div/div/div/div[1]/div/div[1]/div[2]/div[2]/div[1]/div/div[3]/div/div/input[1]')\n",
    "last.send_keys(date)\n",
    "\n",
    "# Fill in Employee No\n",
    "EmployeeNumber = \"a031828\"\n",
    "ipin= web.find_element(By.XPATH, '/html/body/div/div/div/div/div[1]/div/div[1]/div[2]/div[2]/div[2]/div/div[3]/div/div/input')\n",
    "ipin.send_keys(EmployeeNumber)\n",
    "\n",
    "# Fill in Mobile No\n",
    "MobileNumber = \"9986694710\"\n",
    "mobile= web.find_element(By.XPATH, '/html/body/div/div/div/div/div[1]/div/div[1]/div[2]/div[2]/div[3]/div/div[3]/div/div/input')\n",
    "mobile.send_keys(MobileNumber)\n",
    "\n",
    "# Fill in Current Location\n",
    "location = web.find_element(By.XPATH, '/html/body/div/div/div/div/div[1]/div/div[1]/div[2]/div[2]/div[4]/div/div[3]/div/div[1]/div/label/input')\n",
    "location.click()\n",
    "\n",
    "# Fill in Your Symptoms\n",
    "symptoms = web.find_element(By.XPATH, '/html/body/div/div/div/div/div[1]/div/div[1]/div[2]/div[2]/div[5]/div/div[3]/div/div[7]/div/label/input')\n",
    "symptoms.click()\n",
    "\n",
    "# Fill in Family Member Symptoms\n",
    "Fever = web.find_element(By.XPATH, '/html/body/div/div/div/div/div[1]/div/div[1]/div[2]/div[2]/div[6]/div/div[3]/div/div[2]/div/label/input')\n",
    "Fever.click()\n",
    "\n",
    "# Fill in Family Member Returned from Other State\n",
    "returned = web.find_element(By.XPATH, '/html/body/div/div/div/div/div[1]/div/div[1]/div[2]/div[2]/div[7]/div/div[3]/div/div[2]/div/label/input')\n",
    "returned.click()\n",
    "\n",
    "# Fill in Quarantine Status 1\n",
    "quarantine1 = web.find_element(By.XPATH, '/html/body/div/div/div/div/div[1]/div/div[1]/div[2]/div[2]/div[8]/div/div[3]/div/div[2]/div/label/input')\n",
    "quarantine1.click()\n",
    "\n",
    "# Fill in Quarantine Status 2\n",
    "quarantine2 = web.find_element(By.XPATH, '/html/body/div/div/div/div/div[1]/div/div[1]/div[2]/div[2]/div[9]/div/div[3]/div/div[2]/div/label/input')\n",
    "quarantine2.click()\n",
    "\n",
    "# Fill in Frontline Worker Status\n",
    "Warrior = web.find_element(By.XPATH, '/html/body/div/div/div/div/div[1]/div/div[1]/div[2]/div[2]/div[10]/div/div[3]/div/div[2]/div/label/input')\n",
    "Warrior.click()\n",
    "\n",
    "# Fill in Commute Details\n",
    "metro = web.find_element(By.XPATH, '/html/body/div/div/div/div/div[1]/div/div[1]/div[2]/div[2]/div[11]/div/div[3]/div/div[2]/div/label/input')\n",
    "metro.click()\n",
    "\n",
    "# Fill in Aarogya Setu App Status\n",
    "ArogyaSetu = web.find_element(By.XPATH, '/html/body/div/div/div/div/div[1]/div/div[1]/div[2]/div[2]/div[12]/div/div[3]/div/div[1]/div/label/input')\n",
    "ArogyaSetu.click()\n",
    "\n",
    "# Fill in Work Location\n",
    "workstatus = web.find_element(By.XPATH, '/html/body/div/div/div/div/div[1]/div/div[1]/div[2]/div[2]/div[13]/div/div[3]/div/div[1]/div/label/input')\n",
    "workstatus.click()\n",
    "\n",
    "# Click Submit Button\n",
    "submit = web.find_element(By.XPATH, '/html/body/div/div/div/div/div[1]/div/div[1]/div[2]/div[3]/div[1]/button/div')\n",
    "submit.click()\n",
    "\n",
    "web.close()\n",
    "\n",
    "# Sending Confirmation Mail\n",
    "\n",
    "smtpServer='mailgot.it.volvo.net'      \n",
    "FROM ='noreply@volvo.com'         \n",
    "TO =[ \"arijit.chowdhury@volvo.com\" ]     \n",
    "TEXT= 'Daily Assesment Form for Today Has been Submitted By BOT Successfully'\n",
    "SUBJECT = \"GTT - BLR - Daily CheckIn !\"\n",
    "message = \"\"\"\\\n",
    "From: %s\n",
    "To: %s\n",
    "Subject: %s\n",
    "\n",
    "%s\n",
    "\"\"\" % (FROM, \", \".join(TO), SUBJECT, TEXT)\n",
    "\n",
    "server = smtplib.SMTP(smtpServer)\n",
    "server.set_debuglevel(1)         \n",
    "server.sendmail(FROM, TO, message) \n",
    "server.quit()\n"
   ]
  },
  {
   "cell_type": "markdown",
   "id": "1c021c89",
   "metadata": {},
   "source": [
    "# Use Case 2"
   ]
  },
  {
   "cell_type": "markdown",
   "id": "ee24db73",
   "metadata": {},
   "source": [
    "Automation to extract Truck Specifications from KAX Module of EDB using a given list of Truck ID's"
   ]
  },
  {
   "cell_type": "code",
   "execution_count": 22,
   "id": "529c7ebb",
   "metadata": {},
   "outputs": [
    {
     "name": "stdout",
     "output_type": "stream",
     "text": [
      "········\n"
     ]
    }
   ],
   "source": [
    "# Read the list of Truck ID's\n",
    "df = pd.read_excel(\"Selenium/KAX_Input.xlsx\")\n",
    "\n",
    "# Provide Login Credentials for EDB\n",
    "usr = \"A031828\"\n",
    "pwd = getpass()\n",
    "\n",
    "browser = webdriver.Chrome()\n",
    "\n",
    "# Open EDB Homepage URL in Google Chrome and Maximize it\n",
    "browser.get(\"https://edb.volvo.net/login/loginForm.php\")\n",
    "browser.set_window_size(2000, 2000)\n",
    "time.sleep(2) \n",
    "\n",
    "# Locate the elements like text boxes and buttons using their xpath and auto fill / auto click them\n",
    "username = browser.find_element(By.XPATH, \"/html/body/div[4]/form/input[1]\")\n",
    "password = browser.find_element(By.XPATH, \"/html/body/div[4]/form/input[2]\")\n",
    "submit   = browser.find_element(By.XPATH, \"/html/body/div[4]/form/input[4]\")\n",
    "username.send_keys(usr)\n",
    "password.send_keys(pwd)\n",
    "submit.click()\n",
    "    \n",
    "for i in df['TruckID']:\n",
    "    # Open the URL of KAX Module\n",
    "    browser.get(\"https://edb.volvo.net/airtank/airtank21.php\")\n",
    "\n",
    "\n",
    "    # Click on Reset Button to clear previously entered fields\n",
    "    # Replace the xpath with any other KAX Tool xpath of \"Reset Button\" as needed\n",
    "    reset = browser.find_element(By.XPATH, \"/html/body/table/tbody/tr/td[1]/form/p[1]/table/tbody/tr[6]/td/input[2]\")\n",
    "    reset.click()\n",
    "\n",
    "    # Choose the database from the dropdown list\n",
    "    # Replace the xpath with any other KAX Tool xpath of the \"Database Dropdown List\" as needed\n",
    "    from_dropdown = browser.find_element(By.XPATH, \"/html/body/table/tbody/tr/td[1]/form/p[1]/table/tbody/tr[1]/td/select\")\n",
    "    from_dropdown.send_keys('PROTOM')\n",
    "\n",
    "    # Key in the truck specifications as read from the excel input file\n",
    "    # Replace the xpath with any other KAX Tool xpath of \"Truck Specification\" as needed    \n",
    "    truck = browser.find_element(By.XPATH, \"/html/body/table/tbody/tr/td[1]/form/p[1]/table/tbody/tr[1]/td/input\")\n",
    "    truck.send_keys(i)\n",
    "\n",
    "    # Click on Submit Button\n",
    "    # Replace the xpath with any other KAX Tool xpath of \"Submit Button\" as needed\n",
    "    submit = browser.find_element(By.XPATH, \"/html/body/table/tbody/tr/td[1]/form/p[1]/table/tbody/tr[6]/td/input[1]\")\n",
    "    submit.click()\n",
    "\n",
    "    # Save the Screenshot as image file with Filename Format <Screenshot DMUV PPVT701-6700-6 *****.png> in hardcoded Directory\n",
    "    # Reduce screen size to 75% to accommodate the entire screen in the screenshot\n",
    "    browser.execute_script(\"document.body.style.zoom='75%'\")\n",
    "    browser.save_screenshot(\"C:\\Temp\\KAX\\screenshot %s.png\" % i)\n",
    "    \n",
    "browser.close()"
   ]
  },
  {
   "cell_type": "code",
   "execution_count": null,
   "id": "86b239b9",
   "metadata": {},
   "outputs": [],
   "source": []
  },
  {
   "cell_type": "code",
   "execution_count": null,
   "id": "efb2e504",
   "metadata": {},
   "outputs": [],
   "source": []
  }
 ],
 "metadata": {
  "kernelspec": {
   "display_name": "Python 3 (ipykernel)",
   "language": "python",
   "name": "python3"
  },
  "language_info": {
   "codemirror_mode": {
    "name": "ipython",
    "version": 3
   },
   "file_extension": ".py",
   "mimetype": "text/x-python",
   "name": "python",
   "nbconvert_exporter": "python",
   "pygments_lexer": "ipython3",
   "version": "3.9.7"
  }
 },
 "nbformat": 4,
 "nbformat_minor": 5
}
