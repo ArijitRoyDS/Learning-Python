{
 "cells": [
  {
   "cell_type": "markdown",
   "id": "cc8a2424",
   "metadata": {},
   "source": [
    "# Module pptx"
   ]
  },
  {
   "cell_type": "code",
   "execution_count": 1,
   "id": "65e39cd6",
   "metadata": {},
   "outputs": [],
   "source": [
    "# Dependencies:\n",
    "# pip install python-pptx\n",
    "# pip install os-sys"
   ]
  },
  {
   "cell_type": "code",
   "execution_count": 2,
   "id": "3a3a87e7",
   "metadata": {},
   "outputs": [],
   "source": [
    "# Python Program to import images from a folder to a powerpoint presentation using pptx module\n",
    "# This code automatically reads all *.png files in a folder and adds them to a powerpoint presentation.\n",
    "# The code can be modified to read other image files like *.jpg, *.jpeg, *.svc etc"
   ]
  },
  {
   "cell_type": "code",
   "execution_count": 3,
   "id": "857b649a",
   "metadata": {},
   "outputs": [],
   "source": [
    "import os\n",
    "from pptx import Presentation \n",
    "from pptx.util import Inches, Pt"
   ]
  },
  {
   "cell_type": "code",
   "execution_count": 4,
   "id": "a7a87ca4",
   "metadata": {},
   "outputs": [],
   "source": [
    "#List all files and folders in a directory\n",
    "\n",
    "dir_name = \"C:\\Python\\Backup\\Projects\\Matlab to Python\\Training\\Core Python\\PPT_Sample\"\n",
    "if os.path.isdir(dir_name):                                   # Check if a directory with the given path exists\n",
    "  files = os.listdir(dir_name)                                # Lists all file and folder names in a given directory "
   ]
  },
  {
   "cell_type": "code",
   "execution_count": 5,
   "id": "7a3480c8",
   "metadata": {},
   "outputs": [],
   "source": [
    "prs = Presentation() \n",
    "prs.slide_width = 11887200                                                 # Set these constant height and width to define the slide size\n",
    "prs.slide_height = 6686550\n",
    "    \n",
    "for item in files:\n",
    "    if item.endswith(\".png\"):\n",
    "        \n",
    "        # Add the plotted images to the powerpoint presentation\n",
    "        slide = prs.slides.add_slide(prs.slide_layouts[6])\n",
    "        left = Inches(5)\n",
    "        top = width = height = Inches(0.05)\n",
    "\n",
    "        txBox = slide.shapes.add_textbox(left, top, width, height)\n",
    "        tf = txBox.text_frame\n",
    "        p = tf.add_paragraph()\n",
    "        p.text = \"Custom Heading\"\n",
    "        p.font.bold = True\n",
    "        p.font.size = Pt(16)\n",
    "\n",
    "        top = Inches(0.75)\n",
    "        left = Inches(1)\n",
    "        width = Inches(11)\n",
    "        height = Inches(3)\n",
    "        pic1 = slide.shapes.add_picture(dir_name+\"\\\\\"+item, left, top, width, height) \n",
    "        top = Inches(4)\n",
    "        pic2 = slide.shapes.add_picture(dir_name+\"\\\\\"+item, left, top, width, height) \n",
    "\n",
    "prs.save(\"C:\\Python\\Backup\\Projects\\Matlab to Python\\Training\\Core Python\\PPT_Sample\\sample.ppt\")\n",
    "        "
   ]
  },
  {
   "cell_type": "code",
   "execution_count": null,
   "id": "1c5f3353",
   "metadata": {},
   "outputs": [],
   "source": []
  },
  {
   "cell_type": "code",
   "execution_count": null,
   "id": "f4e467bf",
   "metadata": {},
   "outputs": [],
   "source": []
  }
 ],
 "metadata": {
  "kernelspec": {
   "display_name": "Python 3 (ipykernel)",
   "language": "python",
   "name": "python3"
  },
  "language_info": {
   "codemirror_mode": {
    "name": "ipython",
    "version": 3
   },
   "file_extension": ".py",
   "mimetype": "text/x-python",
   "name": "python",
   "nbconvert_exporter": "python",
   "pygments_lexer": "ipython3",
   "version": "3.9.7"
  }
 },
 "nbformat": 4,
 "nbformat_minor": 5
}
