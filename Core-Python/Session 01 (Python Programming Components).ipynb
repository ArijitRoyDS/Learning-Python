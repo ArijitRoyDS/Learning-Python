{
 "cells": [
  {
   "cell_type": "markdown",
   "id": "ee5aa106",
   "metadata": {},
   "source": [
    "# INPUT AND OUTPUT FUNCTIONS IN PYTHON"
   ]
  },
  {
   "cell_type": "code",
   "execution_count": null,
   "id": "9dbfd8bf",
   "metadata": {
    "ExecuteTime": {
     "end_time": "2021-07-31T03:41:19.847369Z",
     "start_time": "2021-07-31T03:41:11.654496Z"
    },
    "id": "9dbfd8bf",
    "outputId": "32ee99de-0a65-4cf5-a8b4-08d5682ee6ca"
   },
   "outputs": [],
   "source": [
    "# INPUT FUNCTION\n",
    "# Default datatype is String\n",
    "\n",
    "a = str(input())\n",
    "print(a)\n",
    "print(type(a))"
   ]
  },
  {
   "cell_type": "code",
   "execution_count": null,
   "id": "1f3a128a",
   "metadata": {},
   "outputs": [],
   "source": [
    "# Formatted Input (with text):\n",
    "\n",
    "emp_name = input('Enter your Name: ')\n",
    "emp_id = input('Enter your ID: ')\n",
    "emp_sal = eval(input('Enter your salary: '))\n",
    "\n",
    "print(\"Employee name is \", emp_name, ', Employee ID is ', emp_id, ' and Employee Salary is ', emp_sal)\n",
    "\n",
    "print(\"Datatype of Name: \", type(emp_name))\n",
    "print(\"Datatype of ID: \", type(emp_id))\n",
    "print(\"Datatype of Salary: \", type(emp_sal))"
   ]
  },
  {
   "cell_type": "code",
   "execution_count": null,
   "id": "fcf30af6",
   "metadata": {},
   "outputs": [],
   "source": [
    "# OUTPUT FUNCTION (PRINT)\n",
    "# 1st Use Case\n",
    "\n",
    "print(10)\n",
    "print('GTT')\n",
    "print(10, 20, 30, 40, 50, 60)\n",
    "print(10, 20, 30, 40, 50, 60, sep = ', ', end = '\\n\\n\\n\\n\\n')\n",
    "print(10, 20, 30, 40, 50, 60, sep = '-->', end = '\\n\\n')\n",
    "print(10, 20, 30, 40, 50, 60, sep = '\\t', end = '\\n\\n')\n",
    "print(10, 20, 30, 40, 50, 60, end = '\\n\\n')\n",
    "print(10, 20, 30, 40, 50, 60, sep = '\\n')"
   ]
  },
  {
   "cell_type": "code",
   "execution_count": null,
   "id": "1ea5deb8",
   "metadata": {},
   "outputs": [],
   "source": [
    "# 2nd use case\n",
    "print(5)\n",
    "print(15)\n",
    "print(10, end = '\\n')\n",
    "print(20, end = '\\n\\n')\n",
    "print(30, end = '\\n')\n",
    "print(40, end = '\\n\\n\\n')\n",
    "print(True)"
   ]
  },
  {
   "cell_type": "code",
   "execution_count": null,
   "id": "ae34e6e7",
   "metadata": {},
   "outputs": [],
   "source": [
    "# 3rd use case\n",
    "\n",
    "print('GTT', end = '\\n\\t')\n",
    "print('Python', end = '\\n\\t\\t')\n",
    "print('Class', end = '\\n\\t')\n",
    "print('Python')\n",
    "print(\"Matlab\")"
   ]
  },
  {
   "cell_type": "code",
   "execution_count": null,
   "id": "a61d08fc",
   "metadata": {},
   "outputs": [],
   "source": [
    "# 4th Use Case\n",
    "\n",
    "sub = 'Python'\n",
    "inst = 'GTT'\n",
    "loc = 'Gothenburg'\n",
    "\n",
    "print(f'This is {{sub}} class at {inst} in {loc}')\n",
    "\n",
    "print(\"This is\", sub, \"class at\", inst, \"in\", loc)"
   ]
  },
  {
   "cell_type": "code",
   "execution_count": null,
   "id": "701ba67c",
   "metadata": {},
   "outputs": [],
   "source": [
    "# 5th Use Case\n",
    "\n",
    "# without end argument. By default end is '\\n'\n",
    "print('Learnbay')\n",
    "print('Python')\n",
    "print('Class')\n",
    "print('Python')\n",
    "print(\"Learnbay\")\n",
    "\n",
    "# with end argument\n",
    "print('GTT', end = ' ')\n",
    "print('Python', end = ' ')\n",
    "print('Class', end = ' ')\n",
    "print('Python', end = ' ')\n",
    "print(\"GTT\")"
   ]
  },
  {
   "cell_type": "code",
   "execution_count": null,
   "id": "8520cdd8",
   "metadata": {},
   "outputs": [],
   "source": [
    "# 6th Use Case (Issues with escape sequence)\n",
    "# Best Practice is to use 2 Backslashes (\\\\) instead of a single Backslash (\\) or Forward slash (/) to avoid conflicts \n",
    "\n",
    "\n",
    "print('c:\\temp\\GTT\\new\\Python\\Training\\Students', end = '\\n\\n')               # Incorrect\n",
    "\n",
    "print(r'c:\\temp\\GTT\\new\\Python\\Training\\Students', end = '\\n\\n')              # Corect only for file path\n",
    "\n",
    "print('c:\\\\temp\\\\GTT\\\\new\\\\Python\\\\Training\\\\Students', end = '\\n\\n')         # Correct universally\n",
    "\n",
    "print('c:/temp/GTT/new/Python/Training/Students', end = '\\n\\n')               # Correct universally\n",
    "\n",
    "print(\"yes\\no\\maybe, yesterday\\today\\tomorrow\")                               # Incorrect\n",
    "\n",
    "print(\"yes\\\\no\\\\maybe, yesterday\\\\today\\\\tomorrow\")                           # Correct Universally"
   ]
  },
  {
   "cell_type": "markdown",
   "id": "81161b02",
   "metadata": {},
   "source": [
    "# PYTHON PROGRAMMING COMPONENTS"
   ]
  },
  {
   "cell_type": "code",
   "execution_count": null,
   "id": "693144f6",
   "metadata": {
    "id": "693144f6"
   },
   "outputs": [],
   "source": [
    "# Rules and Recommendations\n",
    "\n",
    "#     Literal, \n",
    "#     identifiers - Variables / Constants, \n",
    "#     Reserved Words, \n",
    "#     Expression \n",
    "#     Statements\n",
    "#     Blocks and Indentation in Python\n",
    "#     Comments in Python"
   ]
  },
  {
   "cell_type": "code",
   "execution_count": 4,
   "id": "ee64befa",
   "metadata": {
    "id": "ee64befa"
   },
   "outputs": [
    {
     "name": "stdout",
     "output_type": "stream",
     "text": [
      "This is GTT's Python Class\n"
     ]
    }
   ],
   "source": [
    "# Literal - Any value\n",
    "\n",
    "# int - 10, -10, 0\n",
    "# float - 10.20, -10.20, 0.0001\n",
    "# complex - 10+20j, 10-20j\n",
    "# None\n",
    "# Boolean - True, False\n",
    "# String - '...', \"...\", '''...''', \"\"\"...\"\"\", '\"...\"', \"'...'\"\n",
    "\n",
    "print(\"This is GTT's Python Class\")"
   ]
  },
  {
   "cell_type": "code",
   "execution_count": 5,
   "id": "62651ca6",
   "metadata": {
    "ExecuteTime": {
     "end_time": "2021-07-31T05:11:25.193525Z",
     "start_time": "2021-07-31T05:11:25.186312Z"
    },
    "id": "62651ca6",
    "outputId": "c7679e76-a43a-4cc1-9f76-f3a84e2d14a6"
   },
   "outputs": [
    {
     "name": "stdout",
     "output_type": "stream",
     "text": [
      "['False', 'None', 'True', '__peg_parser__', 'and', 'as', 'assert', 'async', 'await', 'break', 'class', 'continue', 'def', 'del', 'elif', 'else', 'except', 'finally', 'for', 'from', 'global', 'if', 'import', 'in', 'is', 'lambda', 'nonlocal', 'not', 'or', 'pass', 'raise', 'return', 'try', 'while', 'with', 'yield']\n"
     ]
    }
   ],
   "source": [
    "# Identifiers - Any name used in Python program\n",
    "# Name given to constants, variables, functions, class, objects etc.\n",
    "\n",
    "# Rules\n",
    "# 1. Allowed characters - A-Z, a-z, 0-9, _\n",
    "# 2. Not allowed characters - Special Characters \n",
    "# 3. Identifiers should not start with a number\n",
    "# 4. Reserved words should not be used as an identifier (Rule)\n",
    "# 5. Identifiers are case sensitive.\n",
    "\n",
    "import keyword\n",
    "print(keyword.kwlist)"
   ]
  },
  {
   "cell_type": "code",
   "execution_count": 6,
   "id": "ee33f426",
   "metadata": {},
   "outputs": [
    {
     "name": "stdout",
     "output_type": "stream",
     "text": [
      "['__abs__', '__add__', '__and__', '__bool__', '__ceil__', '__class__', '__delattr__', '__dir__', '__divmod__', '__doc__', '__eq__', '__float__', '__floor__', '__floordiv__', '__format__', '__ge__', '__getattribute__', '__getnewargs__', '__gt__', '__hash__', '__index__', '__init__', '__init_subclass__', '__int__', '__invert__', '__le__', '__lshift__', '__lt__', '__mod__', '__mul__', '__ne__', '__neg__', '__new__', '__or__', '__pos__', '__pow__', '__radd__', '__rand__', '__rdivmod__', '__reduce__', '__reduce_ex__', '__repr__', '__rfloordiv__', '__rlshift__', '__rmod__', '__rmul__', '__ror__', '__round__', '__rpow__', '__rrshift__', '__rshift__', '__rsub__', '__rtruediv__', '__rxor__', '__setattr__', '__sizeof__', '__str__', '__sub__', '__subclasshook__', '__truediv__', '__trunc__', '__xor__', 'as_integer_ratio', 'bit_length', 'conjugate', 'denominator', 'from_bytes', 'imag', 'numerator', 'real', 'to_bytes']\n",
      "11\n"
     ]
    }
   ],
   "source": [
    "# Recommendations\n",
    "# 1. Constant name should have all capital case letters (Recommendation). For eg: PI = 3.14\n",
    "# 2. Class name should follow pascalCaseNotation (Recommendation - First letter of each word capitalised)\n",
    "# 3. Avoid writing any identifier which starts and ends with __ (Recommendation, because it might clash with class names)\n",
    "\n",
    "\n",
    "# Invalid Identifiers\n",
    "# 1num = 100\n",
    "# $num = 100\n",
    "# num# = 100\n",
    "# for = 100\n",
    "# True = 100\n",
    "# or = 100\n",
    "\n",
    "# Valid Identifiers\n",
    "# emp_name = input('Enter your name: ')\n",
    "# emp_id = input('Enter your id: ')\n",
    "# emp_sal = input('Enter your salary: ')\n",
    "# EMP_ORG = 'GTT'\n",
    "# PI = 3.14\n",
    "# num = 10\n",
    "# Num = 20\n",
    "# Num1 = 30\n",
    "# Num_1 = 40\n",
    "# class FirstClass:\n",
    "\n",
    "print(dir(int))\n",
    "\n",
    "# Recommendation: Do not name a variable starting and ending with double underscore as this format is used by Python to \n",
    "# define inbuilt methods\n",
    "\n",
    "__name__ = 11\n",
    "print(__name__)"
   ]
  },
  {
   "cell_type": "code",
   "execution_count": 7,
   "id": "b5cc2a68",
   "metadata": {
    "ExecuteTime": {
     "end_time": "2021-07-31T05:29:03.858565Z",
     "start_time": "2021-07-31T05:29:03.852118Z"
    },
    "id": "b5cc2a68"
   },
   "outputs": [
    {
     "name": "stdout",
     "output_type": "stream",
     "text": [
      "30\n",
      "10\n",
      "PythonClass\n"
     ]
    }
   ],
   "source": [
    "# Expressions and Statments\n",
    "\n",
    "# Expression                                                        Statement\n",
    "# An expression evaluates to a value                                A statement executes something\n",
    "# The evaluation of a statement does not changes state              The execution of a statement changes state\n",
    "# Evaluation of an expression always Produces or returns a result   Execution of a statement may or may not produces or \n",
    "#                                                                   displays a result value, it only does whatever \n",
    "#                                                                   the statement says.\n",
    "# Every expression can’t be a statement                             Every statement can be an expression.\n",
    "#############################################################################################################################\n",
    "\n",
    "# Expression - it will always gives some result after evaluation\n",
    "print(10+20)\n",
    "print(10)\n",
    "print('Python'+'Class')"
   ]
  },
  {
   "cell_type": "code",
   "execution_count": null,
   "id": "7332b23f",
   "metadata": {},
   "outputs": [],
   "source": [
    "# Statements - Will never give any result after evaluation\n",
    "\n",
    "a = 20\n",
    "\n",
    "if 10<20:\n",
    "    pass\n",
    "\n",
    "for i in range(10):\n",
    "    pass\n",
    "\n",
    "for i in range(10):\n",
    "    print(i)"
   ]
  },
  {
   "cell_type": "code",
   "execution_count": null,
   "id": "3906a063",
   "metadata": {
    "ExecuteTime": {
     "end_time": "2021-07-31T05:33:42.180330Z",
     "start_time": "2021-07-31T05:33:42.174728Z"
    },
    "id": "3906a063"
   },
   "outputs": [],
   "source": [
    "# Blocks and Indentation\n",
    "\n",
    "# Indentation should be provided for the following methods and functions:\n",
    "# if, elif, else, for, while, def, class, with , try, except, else, finally\n",
    "\n",
    "def emp_deatils():\n",
    "    emp_name = input('Enter your name: ')\n",
    "    emp_id = input('Enter your ID: ')\n",
    "    emp_sal = input('Enter your Salary: ')\n",
    "    print(emp_name, emp_id, emp_sal)\n",
    "\n",
    "emp_deatils()"
   ]
  },
  {
   "cell_type": "code",
   "execution_count": 2,
   "id": "8843e3c3",
   "metadata": {},
   "outputs": [
    {
     "name": "stdout",
     "output_type": "stream",
     "text": [
      "0 0 0\n",
      "0 0 1\n",
      "\n",
      "0 1 0\n",
      "0 1 1\n",
      "\n",
      "0 2 0\n",
      "0 2 1\n",
      "\n",
      "\n",
      "\n",
      "1 0 0\n",
      "1 0 1\n",
      "\n",
      "1 1 0\n",
      "1 1 1\n",
      "\n",
      "1 2 0\n",
      "1 2 1\n",
      "\n",
      "\n",
      "\n",
      "End of Loop\n"
     ]
    }
   ],
   "source": [
    "# Nested Indentation:\n",
    "\n",
    "for i in range(2):\n",
    "    for j in range(3):\n",
    "        for k in range(2):\n",
    "            print(i, j, k)\n",
    "        print(end = '\\n')\n",
    "    print(end = '\\n\\n')\n",
    "print(\"End of Loop\")"
   ]
  },
  {
   "cell_type": "code",
   "execution_count": null,
   "id": "7ec1b81d",
   "metadata": {
    "ExecuteTime": {
     "end_time": "2021-07-31T05:36:29.398768Z",
     "start_time": "2021-07-31T05:36:29.394826Z"
    },
    "id": "7ec1b81d"
   },
   "outputs": [],
   "source": [
    "# Comments makes a code easy to read and understand\n",
    "# 1. To write the properly documented code so that others can read it and understand\n",
    "# 2. To avoid or not execute unneccessary piece of code in program\n",
    "\n",
    "# To comment or uncomment\n",
    "# Jupyter Notebook: ctrl + /\n",
    "# Spyder: ctrl + 1\n",
    "# Or simply add a # before the start of a line of code"
   ]
  },
  {
   "cell_type": "code",
   "execution_count": null,
   "id": "2832f227",
   "metadata": {
    "id": "2832f227"
   },
   "outputs": [],
   "source": [
    "# "
   ]
  },
  {
   "cell_type": "code",
   "execution_count": null,
   "id": "901018bb",
   "metadata": {
    "id": "901018bb"
   },
   "outputs": [],
   "source": []
  },
  {
   "cell_type": "code",
   "execution_count": null,
   "id": "be455161",
   "metadata": {},
   "outputs": [],
   "source": []
  }
 ],
 "metadata": {
  "colab": {
   "name": "Class_03_Python_Components_Operators.ipynb",
   "provenance": []
  },
  "kernelspec": {
   "display_name": "Python 3 (ipykernel)",
   "language": "python",
   "name": "python3"
  },
  "language_info": {
   "codemirror_mode": {
    "name": "ipython",
    "version": 3
   },
   "file_extension": ".py",
   "mimetype": "text/x-python",
   "name": "python",
   "nbconvert_exporter": "python",
   "pygments_lexer": "ipython3",
   "version": "3.9.7"
  }
 },
 "nbformat": 4,
 "nbformat_minor": 5
}
