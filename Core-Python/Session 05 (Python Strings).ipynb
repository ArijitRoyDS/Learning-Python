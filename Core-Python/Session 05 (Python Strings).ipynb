{
 "cells": [
  {
   "cell_type": "markdown",
   "id": "427413a3",
   "metadata": {},
   "source": [
    "# STRINGS"
   ]
  },
  {
   "cell_type": "code",
   "execution_count": null,
   "id": "c231be7a",
   "metadata": {
    "id": "c231be7a"
   },
   "outputs": [],
   "source": [
    "# Properties of string\n",
    "# String is a sequence where: \n",
    "#     1. Indexing is possible\n",
    "#     2. Slicing is possible\n",
    "#     3. Concatenation is possible\n",
    "#     4. Repetition is possible\n",
    "#     5. Length can be obtained\n",
    "#     6. Membership operator works with it"
   ]
  },
  {
   "cell_type": "code",
   "execution_count": 3,
   "id": "c6fd3ea4",
   "metadata": {
    "ExecuteTime": {
     "end_time": "2021-08-07T04:27:56.099575Z",
     "start_time": "2021-08-07T04:27:56.095360Z"
    },
    "id": "c6fd3ea4",
    "scrolled": true
   },
   "outputs": [
    {
     "name": "stdout",
     "output_type": "stream",
     "text": [
      "Python <class 'str'>\n",
      "Python's <class 'str'>\n",
      "Python <class 'str'>\n"
     ]
    }
   ],
   "source": [
    "# String must be enclosed in single or double quotes - '...', \"...\", '''...''', \"\"\"...\"\"\"\n",
    "\n",
    "a = 'Python'\n",
    "b = '''Python's'''\n",
    "c = \"\"\"Python\"\"\"\n",
    "\n",
    "print(a, type(a))\n",
    "print(b, type(b))\n",
    "print(c, type(c))"
   ]
  },
  {
   "cell_type": "code",
   "execution_count": 130,
   "id": "cd0558d4",
   "metadata": {},
   "outputs": [
    {
     "name": "stdout",
     "output_type": "stream",
     "text": [
      "This is Python's class\n",
      "This is \"Python\" class\n",
      "This is 'Python' & \"Java\" Class\n"
     ]
    }
   ],
   "source": [
    "a = \"This is Python's class\"\n",
    "b = 'This is \"Python\" class'\n",
    "c = '''This is 'Python' & \"Java\" Class'''\n",
    "\n",
    "print(a)\n",
    "print(b)\n",
    "print(c)"
   ]
  },
  {
   "cell_type": "markdown",
   "id": "57e4c3c9",
   "metadata": {},
   "source": [
    "# Triple quotation: '''....''' or \"\"\"....\"\"\""
   ]
  },
  {
   "cell_type": "code",
   "execution_count": 5,
   "id": "cc72655e",
   "metadata": {},
   "outputs": [
    {
     "name": "stdout",
     "output_type": "stream",
     "text": [
      "The combination of values, variables, operators, \n",
      "and function calls is termed as an expression. \n",
      "The Python interpreter can evaluate a valid expression.\n"
     ]
    }
   ],
   "source": [
    "# Case 1 - Multiline string\n",
    "\n",
    "a = \"\"\"The combination of values, variables, operators, \n",
    "and function calls is termed as an expression. \n",
    "The Python interpreter can evaluate a valid expression.\"\"\"\n",
    "\n",
    "print(a)"
   ]
  },
  {
   "cell_type": "code",
   "execution_count": 124,
   "id": "653cf9e7",
   "metadata": {},
   "outputs": [
    {
     "name": "stdout",
     "output_type": "stream",
     "text": [
      "Help on method_descriptor:\n",
      "\n",
      "capitalize(self, /)\n",
      "    Return a capitalized version of the string.\n",
      "    \n",
      "    More specifically, make the first character have upper case and the rest lower\n",
      "    case.\n",
      "\n",
      "----------------------------------------------------------------\n",
      "Help on method_descriptor:\n",
      "\n",
      "lower(self, /)\n",
      "    Return a copy of the string converted to lowercase.\n",
      "\n",
      "----------------------------------------------------------------\n",
      "Help on method_descriptor:\n",
      "\n",
      "upper(self, /)\n",
      "    Return a copy of the string converted to uppercase.\n",
      "\n",
      "----------------------------------------------------------------\n",
      "Help on method_descriptor:\n",
      "\n",
      "strip(self, chars=None, /)\n",
      "    Return a copy of the string with leading and trailing whitespace removed.\n",
      "    \n",
      "    If chars is given and not None, remove characters in chars instead.\n",
      "\n"
     ]
    }
   ],
   "source": [
    "help(str.capitalize)\n",
    "print('----------------------------------------------------------------')\n",
    "help(str.lower)\n",
    "print('----------------------------------------------------------------')\n",
    "help(str.upper)\n",
    "print('----------------------------------------------------------------')\n",
    "help(str.strip)"
   ]
  },
  {
   "cell_type": "code",
   "execution_count": 133,
   "id": "9ba27e23",
   "metadata": {
    "ExecuteTime": {
     "end_time": "2021-08-07T04:17:49.630155Z",
     "start_time": "2021-08-07T04:17:49.612716Z"
    },
    "id": "9ba27e23",
    "outputId": "c16d9597-07fb-4419-bad8-0e9a1be308be"
   },
   "outputs": [
    {
     "name": "stdout",
     "output_type": "stream",
     "text": [
      "Help on function email_valid in module __main__:\n",
      "\n",
      "email_valid(email)\n",
      "    Help on method_descriptor:\n",
      "    \n",
      "    email_valid(email, /)\n",
      "    Returns True if email is a valid email else returns False\n",
      "\n",
      "None\n",
      "----------------------------------------------------------------\n",
      "True\n"
     ]
    }
   ],
   "source": [
    "# Case 2 - To write the documentation\n",
    "\n",
    "def email_valid(email):\n",
    "    '''Help on method_descriptor:\n",
    "\n",
    "email_valid(email, /)\n",
    "Returns True if email is a valid email else returns False\n",
    "    '''\n",
    "    return True if '@' in email and '.' in email else False\n",
    "\n",
    "\n",
    "# Method to print the documentation:\n",
    "print(help(email_valid))\n",
    "\n",
    "print('----------------------------------------------------------------')\n",
    "\n",
    "# Output of the function:\n",
    "print(email_valid('arijit.chowdhury@volvo.com'))"
   ]
  },
  {
   "cell_type": "markdown",
   "id": "48a1adb0",
   "metadata": {},
   "source": [
    "# Memory Allocation in Strings"
   ]
  },
  {
   "cell_type": "code",
   "execution_count": 22,
   "id": "54cff853",
   "metadata": {
    "ExecuteTime": {
     "end_time": "2021-08-07T04:52:43.781810Z",
     "start_time": "2021-08-07T04:52:43.767986Z"
    },
    "id": "54cff853",
    "outputId": "a989b433-7ca8-483f-e670-435bd609062f"
   },
   "outputs": [
    {
     "name": "stdout",
     "output_type": "stream",
     "text": [
      "False\n",
      "1905394189216\n",
      "1905394192016\n"
     ]
    }
   ],
   "source": [
    "my_str1 = 'This is Python class'\n",
    "my_str2 = 'This is Python class'\n",
    "print(my_str1 is my_str2)\n",
    "print(id(my_str1))\n",
    "print(id(my_str2))\n",
    "\n",
    "# In Jupyter Notebook (ipython) Different strings will have different ID's even if their content is same\n",
    "\n",
    "# NOTE: Jupyter uses embedded ipython interpreter and spyder and pycharm uses the cpython interpreter. \n",
    "# Hence memory allocation technique is different. "
   ]
  },
  {
   "cell_type": "markdown",
   "id": "b05150f4",
   "metadata": {},
   "source": [
    "# Indexing - Accessing characters based on their position / index"
   ]
  },
  {
   "cell_type": "code",
   "execution_count": 135,
   "id": "e60c2b79",
   "metadata": {},
   "outputs": [
    {
     "name": "stdout",
     "output_type": "stream",
     "text": [
      "First Character\n",
      "T\n",
      "T\n",
      "T\n",
      "----------------------------------------------------------------\n",
      "Last Character\n",
      "s\n",
      "s\n",
      "s\n"
     ]
    }
   ],
   "source": [
    "# In Python, sequences supports both +ve and -ve index\n",
    "# +ve index starts from 0 i.e. from LHS and -ve index starts from -1 i.e. from RHS\n",
    "\n",
    "my_str = 'This is Python class'\n",
    "\n",
    "print('First Character')\n",
    "print(my_str[0])               # Positive Indexing\n",
    "print(my_str[-20])             # Negative Indexing\n",
    "print(my_str[-len(my_str)])    # Negative Indexing using Length of the string\n",
    "\n",
    "print('----------------------------------------------------------------')\n",
    "\n",
    "print('Last Character')\n",
    "print(my_str[-1])\n",
    "print(my_str[19])\n",
    "print(my_str[len(my_str)-1])"
   ]
  },
  {
   "cell_type": "code",
   "execution_count": 9,
   "id": "3af42f43",
   "metadata": {
    "ExecuteTime": {
     "end_time": "2021-08-07T05:12:35.492486Z",
     "start_time": "2021-08-07T05:12:35.483757Z"
    },
    "id": "3af42f43"
   },
   "outputs": [
    {
     "name": "stdout",
     "output_type": "stream",
     "text": [
      "P\n",
      "Python class\n",
      "Python\n",
      "Pto\n",
      " Pytho\n",
      "----------------------------------------------------------------\n",
      "ssalc nohtyP si sihT\n",
      "nohtyP\n",
      "nhy\n",
      "nohtyP\n"
     ]
    }
   ],
   "source": [
    "# Slicing - Taking a piece out of the string\n",
    "# Syntax - str_name[start_index:end_index+1:step] When step is +ve\n",
    "# Syntax - str_name[start_index:end_index-1:step] When step is -ve\n",
    "\n",
    "# Default step = +1\n",
    "\n",
    "# Example of Positive Step:\n",
    "my_str = 'This is Python class'\n",
    "print(my_str[8])                 # Returns only the character in the specified index\n",
    "print(my_str[8::])               # Returns all the characters starting from the index specified\n",
    "print(my_str[8:14])              # Returns all characters between the range specified\n",
    "print(my_str[8:14:2])            # Returns all characters in the range specified with step size 2 (i.e every 2nd character)\n",
    "print(my_str[-12:-6:1])\n",
    "# Conclusion - if Step is +ve then start index should be on left compared to your stop index\n",
    "\n",
    "print('----------------------------------------------------------------')\n",
    "\n",
    "# Example of Negative Step:\n",
    "print(my_str[::-1])              # Returns reverse of the string\n",
    "print(my_str[13:7:-1])           # Returns the characters from 7th index to 13th index in reverse\n",
    "print(my_str[13:7:-2])           # Returns the characters from 7th index to 13th index in reverse with step size -2\n",
    "print(my_str[-7:-13:-1])\n",
    "\n",
    "# Conclusion - if Step is -ve then start index should be on right compared to your stop index"
   ]
  },
  {
   "cell_type": "code",
   "execution_count": 10,
   "id": "2ba90f9f",
   "metadata": {},
   "outputs": [
    {
     "name": "stdout",
     "output_type": "stream",
     "text": [
      "[2, 4]\n"
     ]
    }
   ],
   "source": [
    "a = [1,2,3,4,5,6]\n",
    "print(a[1:5:2])"
   ]
  },
  {
   "cell_type": "code",
   "execution_count": 46,
   "id": "c3cdea1d",
   "metadata": {},
   "outputs": [
    {
     "name": "stdout",
     "output_type": "stream",
     "text": [
      "This is Python class\n",
      "This is Python class\n",
      "----------------------------------------------------------------\n",
      "ssalc nohtyP si sihT\n",
      "ssalc nohtyP si sihT\n"
     ]
    }
   ],
   "source": [
    "# Default Values:\n",
    "\n",
    "my_str = 'This is Python class'\n",
    "print(my_str[::])\n",
    "print(my_str[0:len(my_str):1])        # Default values for start and stop if step is +ve\n",
    "\n",
    "print('----------------------------------------------------------------')\n",
    "\n",
    "print(my_str[::-1])\n",
    "print(my_str[-1:-len(my_str)-1:-1])   # Default values for start and stop if step is -ve"
   ]
  },
  {
   "cell_type": "code",
   "execution_count": 14,
   "id": "a44ee407",
   "metadata": {},
   "outputs": [
    {
     "name": "stdout",
     "output_type": "stream",
     "text": [
      "Ti sPto ls\n",
      "sacnhy ish\n",
      "----------------------------------------------------------------\n",
      "Tssyocs\n",
      "slnt  h\n",
      "----------------------------------------------------------------\n",
      "Pto\n",
      "Pto\n"
     ]
    }
   ],
   "source": [
    "# Partial Default Values:\n",
    "\n",
    "my_str = 'This is Python class'\n",
    "\n",
    "print(my_str[::2])\n",
    "print(my_str[::-2])\n",
    "\n",
    "print('----------------------------------------------------------------')\n",
    "\n",
    "print(my_str[::3])\n",
    "print(my_str[::-3])\n",
    "\n",
    "print('----------------------------------------------------------------')\n",
    "\n",
    "print(my_str[8:14:2])\n",
    "print(my_str[14:8:-2])"
   ]
  },
  {
   "cell_type": "markdown",
   "id": "8d105554",
   "metadata": {},
   "source": [
    "# Concatenation using '+' and '*'"
   ]
  },
  {
   "cell_type": "code",
   "execution_count": 50,
   "id": "9f284b46",
   "metadata": {
    "ExecuteTime": {
     "end_time": "2021-08-07T05:32:38.926027Z",
     "start_time": "2021-08-07T05:32:38.918992Z"
    },
    "id": "9f284b46"
   },
   "outputs": [
    {
     "name": "stdout",
     "output_type": "stream",
     "text": [
      "Pythonclass\n",
      "Python\n",
      "class\n",
      "----------------------------------------------------------------\n",
      "PythonPythonPythonPythonPython\n"
     ]
    }
   ],
   "source": [
    "# Concatenation - +\n",
    "# String Concatenation - both opearands should be string type\n",
    "# It returns new object after concatenation, does not make any changes in the original strings\n",
    "\n",
    "my_str1 = 'Python'\n",
    "my_str2 = 'class'\n",
    "res_str = my_str1+my_str2\n",
    "print(res_str)\n",
    "print(my_str1)\n",
    "print(my_str2)\n",
    "print('----------------------------------------------------------------')\n",
    "\n",
    "# Repetition - *\n",
    "# String Repetition - one opearnd should be string type and other should be int\n",
    "my_str1 = 'Python'\n",
    "rep_fac = 5\n",
    "print(my_str1 * rep_fac)\n",
    "\n",
    "#print(my_str1 * 3.0)   # Float is not accepted"
   ]
  },
  {
   "cell_type": "code",
   "execution_count": 53,
   "id": "d1dce281",
   "metadata": {},
   "outputs": [
    {
     "name": "stdout",
     "output_type": "stream",
     "text": [
      "20\n",
      "----------------------------------------------------------------\n",
      "True\n",
      "False\n",
      "----------------------------------------------------------------\n",
      "False\n",
      "True\n",
      "----------------------------------------------------------------\n",
      "True\n",
      "False\n"
     ]
    }
   ],
   "source": [
    "# length - len\n",
    "\n",
    "my_str = 'This is Python class'\n",
    "print(len(my_str))\n",
    "\n",
    "print('----------------------------------------------------------------')\n",
    "\n",
    "# Membership - in, not in\n",
    "my_str = 'Python3.7.8'\n",
    "print('P' in my_str)\n",
    "print('P' not in my_str)\n",
    "\n",
    "print('----------------------------------------------------------------')\n",
    "\n",
    "print('p' in my_str)\n",
    "print('p' not in my_str)\n",
    "\n",
    "print('----------------------------------------------------------------')\n",
    "\n",
    "print('Py' in my_str)\n",
    "print('Pn' in my_str)"
   ]
  },
  {
   "cell_type": "markdown",
   "id": "ebbfa67e",
   "metadata": {},
   "source": [
    "# To be Continued next week"
   ]
  },
  {
   "cell_type": "markdown",
   "id": "8d3231f2",
   "metadata": {},
   "source": [
    "# Mutable vs Immutable Objects"
   ]
  },
  {
   "cell_type": "code",
   "execution_count": 28,
   "id": "34b3d707",
   "metadata": {
    "ExecuteTime": {
     "end_time": "2021-08-07T05:42:35.858408Z",
     "start_time": "2021-08-07T05:42:35.843628Z"
    },
    "id": "34b3d707",
    "outputId": "02788b3a-9568-480d-ef3a-db34208304d3"
   },
   "outputs": [
    {
     "name": "stdout",
     "output_type": "stream",
     "text": [
      "P\n",
      "y\n",
      "t\n",
      "h\n",
      "o\n",
      "n\n"
     ]
    }
   ],
   "source": [
    "# String is immutable object\n",
    "\n",
    "# Mutable - Objects which can be modified - changes will be done on same object - List, set, dictionary, bytearray etc\n",
    "# Immutable - Objects which can not be modified - string, tuple, frozenset, bytes\n",
    "\n",
    "# Item Assignment - Possible - Mutable\n",
    "#                 - Not Possible - Immutable  \n",
    "\n",
    "my_str = 'Python'\n",
    "print(my_str[0])  # P\n",
    "print(my_str[1])  # y\n",
    "print(my_str[2])  # t\n",
    "print(my_str[3])  # h\n",
    "print(my_str[4])  # o\n",
    "print(my_str[5])  # n\n",
    "# my_str[0] = 'J'                # TypeError: 'str' object does not support item assignment\n",
    "# print(my_str)"
   ]
  },
  {
   "cell_type": "code",
   "execution_count": 29,
   "id": "5f5c5dda",
   "metadata": {},
   "outputs": [
    {
     "name": "stdout",
     "output_type": "stream",
     "text": [
      "Before Replace\n",
      "Python 2866978671280\n",
      "\n",
      "After replace\n",
      "Jython 2867053776752\n"
     ]
    }
   ],
   "source": [
    "# Replace() method can replace individual items but creates a new object with a new memory ID \n",
    "\n",
    "my_str = 'Python'\n",
    "\n",
    "print('Before Replace')\n",
    "print(my_str, id(my_str))\n",
    "\n",
    "my_str = my_str.replace('P', \"J\")\n",
    "\n",
    "print('\\nAfter replace')\n",
    "print(my_str, id(my_str))\n",
    "#print(my_str1, id(my_str1))"
   ]
  },
  {
   "cell_type": "code",
   "execution_count": 28,
   "id": "f0090cc1",
   "metadata": {},
   "outputs": [
    {
     "name": "stdout",
     "output_type": "stream",
     "text": [
      "Before Operation\n",
      "[10, 20, 30, 40] 2030473638656\n",
      "\n",
      "After Operation\n",
      "[111, 20, 30, 40] 2030473638656\n"
     ]
    }
   ],
   "source": [
    "# However item assignment is possible in mutable objects like lists\n",
    "\n",
    "lst = [10,20,30,40]\n",
    "print('Before Operation')\n",
    "print(lst, id(lst))\n",
    "\n",
    "lst[0] = 111\n",
    "\n",
    "print('\\nAfter Operation')\n",
    "print(lst, id(lst))"
   ]
  },
  {
   "cell_type": "markdown",
   "id": "83845d7d",
   "metadata": {},
   "source": [
    "# Methods on strings"
   ]
  },
  {
   "cell_type": "code",
   "execution_count": 60,
   "id": "9c61233a",
   "metadata": {
    "ExecuteTime": {
     "end_time": "2021-08-07T05:43:57.543298Z",
     "start_time": "2021-08-07T05:43:57.537392Z"
    },
    "id": "9c61233a",
    "outputId": "9225fe29-cf98-46dd-c0e3-6fcf973a038a"
   },
   "outputs": [
    {
     "name": "stdout",
     "output_type": "stream",
     "text": [
      "['__add__', '__class__', '__contains__', '__delattr__', '__dir__', '__doc__', '__eq__', '__format__', '__ge__', '__getattribute__', '__getitem__', '__getnewargs__', '__gt__', '__hash__', '__init__', '__init_subclass__', '__iter__', '__le__', '__len__', '__lt__', '__mod__', '__mul__', '__ne__', '__new__', '__reduce__', '__reduce_ex__', '__repr__', '__rmod__', '__rmul__', '__setattr__', '__sizeof__', '__str__', '__subclasshook__', 'capitalize', 'casefold', 'center', 'count', 'encode', 'endswith', 'expandtabs', 'find', 'format', 'format_map', 'index', 'isalnum', 'isalpha', 'isascii', 'isdecimal', 'isdigit', 'isidentifier', 'islower', 'isnumeric', 'isprintable', 'isspace', 'istitle', 'isupper', 'join', 'ljust', 'lower', 'lstrip', 'maketrans', 'partition', 'removeprefix', 'removesuffix', 'replace', 'rfind', 'rindex', 'rjust', 'rpartition', 'rsplit', 'rstrip', 'split', 'splitlines', 'startswith', 'strip', 'swapcase', 'title', 'translate', 'upper', 'zfill']\n"
     ]
    }
   ],
   "source": [
    "print(dir(str))\n",
    "\n",
    "# 'capitalize', 'casefold', 'center', 'count', 'encode', 'endswith', 'expandtabs', 'find', 'format', \n",
    "# 'format_map', 'index', 'isalnum', 'isalpha', 'isascii', 'isdecimal', 'isdigit', 'isidentifier', \n",
    "# 'islower', 'isnumeric', 'isprintable', 'isspace', 'istitle', 'isupper', 'join', 'ljust', 'lower', \n",
    "# 'lstrip', 'maketrans', 'partition', 'replace', 'rfind', 'rindex', 'rjust', 'rpartition', 'rsplit',\n",
    "# 'rstrip', 'split', 'splitlines', 'startswith', 'strip', 'swapcase', 'title', 'translate', 'upper', 'zfill'"
   ]
  },
  {
   "cell_type": "code",
   "execution_count": 64,
   "id": "59deddce",
   "metadata": {},
   "outputs": [
    {
     "name": "stdout",
     "output_type": "stream",
     "text": [
      "Help on method_descriptor:\n",
      "\n",
      "isalnum(self, /)\n",
      "    Return True if the string is an alpha-numeric string, False otherwise.\n",
      "    \n",
      "    A string is alpha-numeric if all characters in the string are alpha-numeric and\n",
      "    there is at least one character in the string.\n",
      "\n"
     ]
    }
   ],
   "source": [
    "help(str.isalnum)"
   ]
  },
  {
   "cell_type": "code",
   "execution_count": 65,
   "id": "00a6926d",
   "metadata": {
    "ExecuteTime": {
     "end_time": "2021-08-07T06:11:19.406920Z",
     "start_time": "2021-08-07T06:11:19.401923Z"
    },
    "id": "00a6926d",
    "outputId": "acd1dcca-5a6c-4dea-efea-17167f86d683"
   },
   "outputs": [],
   "source": [
    "# 'isalnum', 'isalpha', 'isascii', 'isdecimal', 'isdigit', 'isidentifier', \n",
    "# 'islower', 'isnumeric', 'isprintable', 'isspace', 'istitle', 'isupper',\n",
    "\n",
    "# All these methods returns Boolean values:\n",
    "# isalnum      -> Returns True if the characters in string are alphanumeric else False\n",
    "# isalpha      -> Returns True if the characters in string are alphabets only else False\n",
    "# isascii      -> Returns True if all characters in string are from ASCII table else False\n",
    "# isdecimal    -> returns True if all characters are decimal numbers else False\n",
    "# isdigit      -> returns True if all characters are digits else False\n",
    "# isnumeric    -> returns True if all characters are numeric else returns False\n",
    "# isidentifier -> returns true if string is a valid identifier else False\n",
    "# islower      -> returns True if all characters are in lower case else False\n",
    "# isupper      -> returns True if all characters are in upper case else False\n",
    "# isprintable  -> returns True if all characters can be printed on output screen lese False\n",
    "# isspace      -> returns True if all characters are space characters else False\n",
    "# istitle      -> return True if all characters are in title case(First letter of each word is capital) else False"
   ]
  },
  {
   "cell_type": "code",
   "execution_count": 14,
   "id": "0769b167",
   "metadata": {},
   "outputs": [
    {
     "name": "stdout",
     "output_type": "stream",
     "text": [
      "False\n",
      "True\n",
      "False\n",
      "----------------------------------------------------------------\n",
      "True\n",
      "False\n",
      "----------------------------------------------------------------\n",
      "True\n",
      "True\n",
      "False\n",
      "False\n",
      "True\n",
      "----------------------------------------------------------------\n",
      "True\n",
      "False\n",
      "Python\n",
      "class\n",
      "True\n",
      "Python\\nclass\n"
     ]
    }
   ],
   "source": [
    "# Examples:\n",
    "\n",
    "# isalnum(), isalpha()\n",
    "print('abcd1234@#$'.isalnum()) \n",
    "print('abcd1234'.isalnum())\n",
    "print('123456'.isalpha())  \n",
    "\n",
    "print('----------------------------------------------------------------')\n",
    "# isascii ()\n",
    "print('abcdXgdfd'.isascii())  # -> X is from keyboard\n",
    "print('abcdⅩgdfd'.isascii())  # -> Ⅹ is Roman Number 10 from https://unicode-table.com/en/2169/  \n",
    "\n",
    "print('----------------------------------------------------------------')\n",
    "# isidentifier()\n",
    "print('num'.isidentifier())\n",
    "print('num1'.isidentifier())\n",
    "print('1num'.isidentifier())\n",
    "print('num&'.isidentifier())\n",
    "print('for'.isidentifier())\n",
    "# A string is considered a valid identifier if it only contains alphanumeric letters (a-z) and (0-9), \n",
    "# and/or underscores (_). A valid identifier cannot start with a number, or contain any spaces.\n",
    "# However it will not check if the identifier is a Python Keyword. That should be known to the user.\n",
    "\n",
    "print('----------------------------------------------------------------')\n",
    "# isprintable()\n",
    "print('Python\\u2169class'.isprintable())\n",
    "print('Python\\nclass'.isprintable())\n",
    "print('Python\\nclass')\n",
    "print('Python\\\\nclass'.isprintable())\n",
    "print('Python\\\\nclass')"
   ]
  },
  {
   "cell_type": "code",
   "execution_count": 17,
   "id": "7a1f0240",
   "metadata": {
    "ExecuteTime": {
     "end_time": "2021-08-07T05:52:51.685535Z",
     "start_time": "2021-08-07T05:52:51.677986Z"
    },
    "id": "7a1f0240",
    "outputId": "41849734-7421-44f2-b8f9-5679c829f80a"
   },
   "outputs": [
    {
     "name": "stdout",
     "output_type": "stream",
     "text": [
      "False\n",
      "----------------------------------------------------------------\n",
      "True\n",
      "True\n",
      "True\n",
      "----------------------------------------------------------------\n",
      "True\n",
      "False\n",
      "Decimal\n"
     ]
    }
   ],
   "source": [
    "# isspace()\n",
    "my_str1 = ' a\\n\\t   \\v\\f\\n'\n",
    "print(my_str1.isspace())\n",
    "\n",
    "print('----------------------------------------------------------------')\n",
    "# isnumeric()\n",
    "print('1020'.isnumeric())\n",
    "print('1020'.isdecimal())\n",
    "print('1020'.isdigit())\n",
    "\n",
    "print('----------------------------------------------------------------')\n",
    "# isdecimal()\n",
    "print('109'.isdecimal())\n",
    "print('0b110101'.isdecimal())\n",
    "\n",
    "if '110101'.isdecimal():\n",
    "    print(\"Decimal\")\n",
    "else:\n",
    "    print(\"Not Decimal\")"
   ]
  },
  {
   "cell_type": "code",
   "execution_count": 72,
   "id": "2e8f0196",
   "metadata": {
    "ExecuteTime": {
     "end_time": "2021-08-07T05:53:37.928730Z",
     "start_time": "2021-08-07T05:53:37.913417Z"
    },
    "id": "2e8f0196",
    "outputId": "0e5b1ac7-8b74-4e8d-b7c9-174f23b2f670"
   },
   "outputs": [],
   "source": [
    "# 'capitalize', 'casefold', 'lower', 'swapcase', 'title', 'upper'\n",
    "\n",
    "# capitalize -> First letter capitalized and all other characters lowercased. It doesn't modify the original string.\n",
    "# casefold   -> Returns lower case for all characters (ASCII as well as non ASCII)\n",
    "# lower      -> Returns lower case for ASCII characters only\n",
    "# swapcase   -> Interchanges upper and lower cases\n",
    "# title      -> convert the first character in each word to Uppercase and remaining characters to Lowercase\n",
    "# upper      -> Returns upper case for ASCII characters only"
   ]
  },
  {
   "cell_type": "code",
   "execution_count": 73,
   "id": "16497ef8",
   "metadata": {
    "id": "16497ef8"
   },
   "outputs": [
    {
     "name": "stdout",
     "output_type": "stream",
     "text": [
      "THIS IS PYTHON CLASS\n",
      "this is Python Class\n",
      "----------------------------------------------------------------\n",
      "this is python class\n",
      "this is Python Class\n",
      "----------------------------------------------------------------\n",
      "THIS IS pYTHON cLASS\n",
      "this is Python Class\n",
      "----------------------------------------------------------------\n",
      "This is python class\n",
      "this is Python Class\n"
     ]
    }
   ],
   "source": [
    "# Examples\n",
    "\n",
    "# upper()\n",
    "my_str = 'this is Python Class'\n",
    "res_str = my_str.upper()\n",
    "print(res_str)\n",
    "print(my_str)\n",
    "\n",
    "print('----------------------------------------------------------------')\n",
    "# lower()\n",
    "res_str = my_str.lower()\n",
    "print(res_str)\n",
    "print(my_str)\n",
    "\n",
    "print('----------------------------------------------------------------')\n",
    "# swapcase()\n",
    "res_str = my_str.swapcase()\n",
    "print(res_str)\n",
    "print(my_str)\n",
    "\n",
    "print('----------------------------------------------------------------')\n",
    "# capitalize()\n",
    "res_str = my_str.capitalize()\n",
    "print(res_str)\n",
    "print(my_str)"
   ]
  },
  {
   "cell_type": "code",
   "execution_count": 18,
   "id": "fa369adb",
   "metadata": {},
   "outputs": [
    {
     "name": "stdout",
     "output_type": "stream",
     "text": [
      "This Is Python Class\n",
      "----------------------------------------------------------------\n",
      "this is python class\n",
      "----------------------------------------------------------------\n",
      "flie ß en\n",
      "flie ss en\n",
      "----------------------------------------------------------------\n",
      "THIS IS PYTHON CLASS\n"
     ]
    }
   ],
   "source": [
    "my_str = 'this is Python Class'\n",
    "\n",
    "# title()\n",
    "res_str = my_str.title()\n",
    "print(res_str)\n",
    "\n",
    "print('----------------------------------------------------------------')\n",
    "# casefold()\n",
    "# This method is similar to the lower() method, but the casefold() method is stronger, more aggressive, \n",
    "# meaning that it will convert more characters into lower case (including non ASCII), and will find more matches \n",
    "# when comparing two strings when both are converted using the casefold() method.\n",
    "res_str = my_str.casefold()\n",
    "print(res_str)\n",
    "\n",
    "print('----------------------------------------------------------------')\n",
    "# lower()\n",
    "my_str1 = 'FLIe ß En'\n",
    "res_str1 = my_str1.lower()            # Returns lowr case for ASCII characters\n",
    "res_str2 = my_str1.casefold()         # Returns lower case for all characters\n",
    "print(res_str1)\n",
    "print(res_str2)\n",
    "\n",
    "print('----------------------------------------------------------------')\n",
    "# upper()\n",
    "res_str1 = my_str.upper()\n",
    "print(res_str1)"
   ]
  },
  {
   "cell_type": "code",
   "execution_count": 81,
   "id": "94f5d6fd",
   "metadata": {
    "id": "94f5d6fd"
   },
   "outputs": [
    {
     "name": "stdout",
     "output_type": "stream",
     "text": [
      "True\n",
      "False\n",
      "True\n",
      "True\n",
      "----------------------------------------------------------------\n",
      "True\n",
      "True\n",
      "False\n",
      "True\n",
      "False\n",
      "True\n"
     ]
    }
   ],
   "source": [
    "# 'startswith', 'endswith',\n",
    "# return Boolean values\n",
    "\n",
    "my_str = 'this is Python Class'\n",
    "print(my_str.startswith('th'))\n",
    "print(my_str.startswith('ih'))\n",
    "print(my_str.startswith('th', 0, 5))\n",
    "print(my_str.startswith('Pyt', 8))\n",
    "\n",
    "print('----------------------------------------------------------------')\n",
    "\n",
    "print(my_str.endswith('s'))\n",
    "print(my_str.endswith('Class'))\n",
    "print(my_str.endswith('Cls'))\n",
    "print(my_str.endswith('ss', 10, 20))\n",
    "print(my_str.endswith('ss', 10, 15))\n",
    "print(my_str.endswith('Class', 10))"
   ]
  },
  {
   "cell_type": "code",
   "execution_count": 30,
   "id": "49a8e7c6",
   "metadata": {
    "id": "49a8e7c6"
   },
   "outputs": [
    {
     "name": "stdout",
     "output_type": "stream",
     "text": [
      "0000000Python0000000\n",
      "Python********************************************\n",
      "              Python\n",
      "000000000000000000000000Python\n"
     ]
    }
   ],
   "source": [
    "# 'center', 'ljust', 'rjust', 'zfill'\n",
    "\n",
    "my_str = 'Python'\n",
    "print(my_str.center(20, '0'))\n",
    "print(my_str.ljust(50, '*'))\n",
    "print(my_str.rjust(20))\n",
    "print(my_str.zfill(30))\n",
    "\n",
    "# Center, ljust, rjust - it takes the first argument that is length of the resultant string \n",
    "# and second argument which is fillchar and is optional, default value for fillchar is a space character\n",
    "\n",
    "# zfill - it takes only one argument which is width of resultant string, and does not take fillchar. \n",
    "# So default padding will be done by 0."
   ]
  },
  {
   "cell_type": "code",
   "execution_count": 19,
   "id": "e028f30b",
   "metadata": {
    "id": "e028f30b"
   },
   "outputs": [
    {
     "name": "stdout",
     "output_type": "stream",
     "text": [
      "9\n",
      "6\n",
      "1\n",
      "1\n"
     ]
    }
   ],
   "source": [
    "# 'count'\n",
    "\n",
    "my_str = 'peter piper picked a peck of pickled peppers'\n",
    "print(my_str.count('p'))\n",
    "print(my_str.count('p',10))\n",
    "print(my_str.count('p',10, 20))\n",
    "print(my_str.count('peter'))"
   ]
  },
  {
   "cell_type": "code",
   "execution_count": 20,
   "id": "a2296ddf",
   "metadata": {
    "id": "a2296ddf"
   },
   "outputs": [
    {
     "name": "stdout",
     "output_type": "stream",
     "text": [
      "0\n",
      "0\n",
      "21\n",
      "-1\n",
      "40\n",
      "40\n",
      "40\n",
      "-1\n",
      "-1\n"
     ]
    }
   ],
   "source": [
    "# find, rfind\n",
    "\n",
    "my_str = 'peter piper picked a peck of pickled peppers'\n",
    "\n",
    "print(my_str.find('p'))        # Index of first occurrence of this character from LHS\n",
    "print(my_str.find('pe'))       # Index of first letter of first occurrence of the group of character from LHS\n",
    "print(my_str.find('pe', 10))\n",
    "print(my_str.find('pe', 10, 20)) # If match is not found then it returns -1\n",
    "\n",
    "print(my_str.rfind('p'))        # Index of last occurrence of this character from RHS\n",
    "print(my_str.rfind('pe'))       # Index of first letter of last occurrence of the group of character from RHS\n",
    "print(my_str.rfind('pe', 10))\n",
    "print(my_str.rfind('pe', 10, 20)) # If match is not found then it returns -1\n",
    "\n",
    "# Find method works with conditional statements even if a match is not found, and it returns -1\n",
    "if my_str.rfind('z'):\n",
    "    print(my_str.rfind('z'))"
   ]
  },
  {
   "cell_type": "code",
   "execution_count": 22,
   "id": "c9b6af59",
   "metadata": {
    "id": "c9b6af59"
   },
   "outputs": [
    {
     "name": "stdout",
     "output_type": "stream",
     "text": [
      "0\n",
      "0\n",
      "21\n",
      "40\n",
      "40\n",
      "40\n",
      "21\n"
     ]
    },
    {
     "ename": "ValueError",
     "evalue": "substring not found",
     "output_type": "error",
     "traceback": [
      "\u001b[1;31m---------------------------------------------------------------------------\u001b[0m",
      "\u001b[1;31mValueError\u001b[0m                                Traceback (most recent call last)",
      "\u001b[1;32m~\\AppData\\Local\\Temp/ipykernel_17300/2671048888.py\u001b[0m in \u001b[0;36m<module>\u001b[1;34m\u001b[0m\n\u001b[0;32m     15\u001b[0m \u001b[1;33m\u001b[0m\u001b[0m\n\u001b[0;32m     16\u001b[0m \u001b[1;31m# Index method works with conditional statements only if a match is found\u001b[0m\u001b[1;33m\u001b[0m\u001b[1;33m\u001b[0m\u001b[0m\n\u001b[1;32m---> 17\u001b[1;33m \u001b[1;32mif\u001b[0m \u001b[0mmy_str\u001b[0m\u001b[1;33m.\u001b[0m\u001b[0mrindex\u001b[0m\u001b[1;33m(\u001b[0m\u001b[1;34m'z'\u001b[0m\u001b[1;33m)\u001b[0m\u001b[1;33m:\u001b[0m\u001b[1;33m\u001b[0m\u001b[1;33m\u001b[0m\u001b[0m\n\u001b[0m\u001b[0;32m     18\u001b[0m     \u001b[0mprint\u001b[0m\u001b[1;33m(\u001b[0m\u001b[0mmy_str\u001b[0m\u001b[1;33m.\u001b[0m\u001b[0mrindex\u001b[0m\u001b[1;33m(\u001b[0m\u001b[1;34m'z'\u001b[0m\u001b[1;33m)\u001b[0m\u001b[1;33m)\u001b[0m\u001b[1;33m\u001b[0m\u001b[1;33m\u001b[0m\u001b[0m\n",
      "\u001b[1;31mValueError\u001b[0m: substring not found"
     ]
    }
   ],
   "source": [
    "# index, rindex\n",
    "\n",
    "my_str = 'peter piper picked a peck of pickled peppers'\n",
    "print(my_str.index('p'))        # Index of first occurrence of this character from LHS\n",
    "print(my_str.index('pe'))       # Index of first letter of first occurrence of the group of character from LHS\n",
    "print(my_str.index('pe', 10))\n",
    "# print(my_str.index('pe', 10, 20)) # If match is not found then it returns ValueError\n",
    "\n",
    "\n",
    "print(my_str.rindex('p'))        # Index of last occurrence of this character from RHS\n",
    "print(my_str.rindex('pe'))       # Index of first letter of last occurrence of the group of character from RHS\n",
    "print(my_str.rindex('pe', 10))\n",
    "print(my_str.rindex('pe', 10, 29)) \n",
    "# print(my_str.rindex('pe', 10, 20)) # If match is not found then it returns ValueError\n",
    "\n",
    "# Index method works with conditional statements only if a match is found\n",
    "if my_str.rindex('z'):\n",
    "    print(my_str.rindex('z'))"
   ]
  },
  {
   "cell_type": "code",
   "execution_count": null,
   "id": "0db1394f",
   "metadata": {},
   "outputs": [],
   "source": [
    "#  index()                                                         find()\n",
    "#-----------------------------------------------------------------------------------------------------------------------------\n",
    "# -Returns an exception if substring isn’t found                   -Returns -1 if substring isn’t found\n",
    "# -It shouldn’t be used if you are not sure about                  -It is the correct function to use when you are not sure \n",
    "#  the presence of the substring                                    about the presence of a substring\n",
    "# -This can be applied to strings, lists and tuples                -This can only be applied to strings\n",
    "# -It cannot be used with conditional statement                    -It can be used with conditional statement to \n",
    "#                                                                   execute a statement if a substring is found as well as \n",
    "#                                                                   if it is not"
   ]
  },
  {
   "cell_type": "code",
   "execution_count": 26,
   "id": "17de1c67",
   "metadata": {
    "id": "17de1c67"
   },
   "outputs": [
    {
     "name": "stdout",
     "output_type": "stream",
     "text": [
      "   This is      Python      class.          \n",
      "This is      Python      class.\n",
      "This is      Python      class.          \n",
      "   This is      Python      class.\n"
     ]
    }
   ],
   "source": [
    "# strip, lstrip, rstrip\n",
    "# Never removes the spaces from the middle of the string\n",
    "# removes the spaces only from the ends\n",
    "\n",
    "my_str = '   This is      Python      class.          '\n",
    "print(my_str)\n",
    "print(my_str.strip())           # removes spaces from both ends\n",
    "print(my_str.lstrip())          # removes spaces from left end\n",
    "print(my_str.rstrip())          # removes spaces from right end"
   ]
  },
  {
   "cell_type": "code",
   "execution_count": 35,
   "id": "87d801cb",
   "metadata": {
    "id": "87d801cb"
   },
   "outputs": [
    {
     "name": "stdout",
     "output_type": "stream",
     "text": [
      "zeter zizer zicked a zeck of zickled zezzers\n",
      "zeter ziper picked a peck of pickled peppers\n",
      "peter piper picked a peck of pickled peppers\n"
     ]
    }
   ],
   "source": [
    "# replace\n",
    "\n",
    "my_str = 'peter piper picked a peck of pickled peppers'\n",
    "print(my_str.replace('p','z'))       # By default replaces all occurrences\n",
    "print(my_str.replace('p', 'z', 2))   # replaces first five occurence\n",
    "print(my_str)                        # Original string remains unchanged"
   ]
  },
  {
   "cell_type": "code",
   "execution_count": 37,
   "id": "d18a0849",
   "metadata": {
    "id": "d18a0849"
   },
   "outputs": [
    {
     "name": "stdout",
     "output_type": "stream",
     "text": [
      "['peter', 'piper', 'picked', 'a', 'peck of pickled peppers']\n",
      "['peter', 'piper', 'picked', 'a', 'peck', 'of', 'pickled', 'peppers']\n",
      "['', 'eter ', 'i', 'er ', 'icked a ', 'eck of ', 'ickled ', 'e', '', 'ers']\n",
      "['', 'eter ', 'i', 'er picked a peck of pickled peppers']\n"
     ]
    }
   ],
   "source": [
    "# split\n",
    "\n",
    "my_str = 'peter piper picked a peck of pickled peppers'\n",
    "print(my_str.split(maxsplit = 4))    # Return type is a list object\n",
    "print(my_str.split())\n",
    "print(my_str.split('p'))\n",
    "print(my_str.split('p', 3))"
   ]
  },
  {
   "cell_type": "code",
   "execution_count": 25,
   "id": "477dd53c",
   "metadata": {
    "id": "477dd53c"
   },
   "outputs": [
    {
     "name": "stdout",
     "output_type": "stream",
     "text": [
      "p@e@t@e@r@ @p@i@p@e@r@ @p@i@c@k@e@d@ @a@ @p@e@c@k@ @o@f@ @p@i@c@k@l@e@d@ @p@e@p@p@e@r@s\n",
      "peter#piper#picked#a#peck#of#pickled#peppers\n",
      "peter#piper#picked#a#peck#of#pickled#peppers\n",
      "peter-->piper-->picked-->a-->peck-->of-->pickled-->peppers\n"
     ]
    }
   ],
   "source": [
    "# join\n",
    "\n",
    "my_str = 'peter piper picked a peck of pickled peppers'\n",
    "print('@'.join(my_str))\n",
    "print('#'.join(my_str.split()))\n",
    "\n",
    "my_lst = ['peter', 'piper', 'picked', 'a', 'peck', 'of', 'pickled', 'peppers']\n",
    "print('#'.join(my_lst))\n",
    "print('-->'.join(my_lst))"
   ]
  },
  {
   "cell_type": "code",
   "execution_count": 37,
   "id": "9762fa78",
   "metadata": {
    "id": "9762fa78"
   },
   "outputs": [
    {
     "name": "stdout",
     "output_type": "stream",
     "text": [
      "['peter piper picked a ', 'peck of pickled peppers']\n"
     ]
    }
   ],
   "source": [
    "# splitlines\n",
    "\n",
    "my_str = 'peter piper picked a \\npeck of pickled peppers'\n",
    "print(my_str.splitlines())"
   ]
  },
  {
   "cell_type": "code",
   "execution_count": 38,
   "id": "15a3c3d5",
   "metadata": {
    "id": "15a3c3d5"
   },
   "outputs": [
    {
     "data": {
      "text/plain": [
       "('peter piper picked ', 'a', ' peck of pickled peppers')"
      ]
     },
     "execution_count": 38,
     "metadata": {},
     "output_type": "execute_result"
    }
   ],
   "source": [
    "# Partition - return type is tuple\n",
    "\n",
    "my_str = 'peter piper picked a peck of pickled peppers'\n",
    "my_str.partition('a')"
   ]
  },
  {
   "cell_type": "code",
   "execution_count": 61,
   "id": "1a201945",
   "metadata": {
    "id": "1a201945"
   },
   "outputs": [],
   "source": [
    "# Question: Write a program to get the following output:\n",
    "\n",
    "# input: my_str = 'peter piper picked a peck of pickled peppers'\n",
    "\n",
    "# output1 = 'sreppep delkcip fo kcep a dekcip repip retep'\n",
    "# output2 = 'peppers pickled of peck a picked piper peter'\n",
    "# output3 = 'retep repip dekcip a kcep fo delkcip sreppep'"
   ]
  },
  {
   "cell_type": "code",
   "execution_count": 24,
   "id": "7223f04c",
   "metadata": {
    "id": "7223f04c"
   },
   "outputs": [
    {
     "name": "stdout",
     "output_type": "stream",
     "text": [
      "sreppep delkcip fo kcep a dekcip repip retep\n",
      "------------------------------------------------------\n",
      "\n",
      "['peter', 'piper', 'picked', 'a', 'peck', 'of', 'pickled', 'peppers']\n",
      "peppers pickled of peck a picked piper peter\n",
      "------------------------------------------------------\n",
      "\n",
      "['sreppep', 'delkcip', 'fo', 'kcep', 'a', 'dekcip', 'repip', 'retep']\n",
      "['retep', 'repip', 'dekcip', 'a', 'kcep', 'fo', 'delkcip', 'sreppep']\n",
      "retep repip dekcip a kcep fo delkcip sreppep\n"
     ]
    }
   ],
   "source": [
    "# Answer:\n",
    "\n",
    "my_str = 'peter piper picked a peck of pickled peppers'\n",
    "\n",
    "# output1 = 'sreppep delkcip fo kcep a dekcip repip retep'\n",
    "print(my_str[::-1])\n",
    "print(\"------------------------------------------------------\\n\")\n",
    "\n",
    "# output2 = 'peppers pickled of peck a picked piper peter'\n",
    "print(my_str.split())\n",
    "print(' '.join(my_str.split()[::-1]))\n",
    "print(\"------------------------------------------------------\\n\")\n",
    "\n",
    "# output3 = 'retep repip dekcip a kcep fo delkcip sreppep'\n",
    "print(my_str[::-1].split())\n",
    "print((my_str[::-1].split()[::-1]))\n",
    "print(' '.join(my_str[::-1].split()[::-1]))"
   ]
  },
  {
   "cell_type": "code",
   "execution_count": null,
   "id": "2cfc3ae7",
   "metadata": {},
   "outputs": [],
   "source": []
  }
 ],
 "metadata": {
  "colab": {
   "name": "Class_05_Operators_Data_Types.ipynb",
   "provenance": []
  },
  "kernelspec": {
   "display_name": "Python 3 (ipykernel)",
   "language": "python",
   "name": "python3"
  },
  "language_info": {
   "codemirror_mode": {
    "name": "ipython",
    "version": 3
   },
   "file_extension": ".py",
   "mimetype": "text/x-python",
   "name": "python",
   "nbconvert_exporter": "python",
   "pygments_lexer": "ipython3",
   "version": "3.9.7"
  }
 },
 "nbformat": 4,
 "nbformat_minor": 5
}
